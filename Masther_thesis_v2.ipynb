{
 "cells": [
  {
   "cell_type": "markdown",
   "id": "fb81f2d6",
   "metadata": {},
   "source": [
    "First we import all necessary libraries"
   ]
  },
  {
   "cell_type": "code",
   "execution_count": 15,
   "id": "cef66f59-d950-41f4-9017-c16b9b41be14",
   "metadata": {},
   "outputs": [],
   "source": [
    "import plotly.express as px\n",
    "import pandas as pd\n",
    "import plotly.graph_objs as go\n",
    "import chart_studio.plotly as py\n",
    "import dash\n",
    "from dash import dcc\n",
    "from dash import html\n",
    "from dash.dependencies import Input, Output\n",
    "from dash import Dash, Input, Output, callback, dash_table\n",
    "from plotly.subplots import make_subplots\n",
    "import dash_bootstrap_components as dbc"
   ]
  },
  {
   "cell_type": "markdown",
   "id": "103c7391",
   "metadata": {},
   "source": [
    "# Data cleaning\n",
    "As a first step the data is read in as a csv file."
   ]
  },
  {
   "cell_type": "code",
   "execution_count": 16,
   "id": "4a3373f9",
   "metadata": {},
   "outputs": [],
   "source": [
    "data = pd.read_csv(\"Example_data_masterthesis.csv\", sep = \";\")"
   ]
  },
  {
   "cell_type": "code",
   "execution_count": 17,
   "id": "025ce702",
   "metadata": {},
   "outputs": [
    {
     "data": {
      "text/html": [
       "<div>\n",
       "<style scoped>\n",
       "    .dataframe tbody tr th:only-of-type {\n",
       "        vertical-align: middle;\n",
       "    }\n",
       "\n",
       "    .dataframe tbody tr th {\n",
       "        vertical-align: top;\n",
       "    }\n",
       "\n",
       "    .dataframe thead th {\n",
       "        text-align: right;\n",
       "    }\n",
       "</style>\n",
       "<table border=\"1\" class=\"dataframe\">\n",
       "  <thead>\n",
       "    <tr style=\"text-align: right;\">\n",
       "      <th></th>\n",
       "      <th>ID</th>\n",
       "      <th>Tested_system</th>\n",
       "      <th>Software_test</th>\n",
       "      <th>Test_result</th>\n",
       "      <th>Execution_date</th>\n",
       "      <th>Test runtime</th>\n",
       "    </tr>\n",
       "  </thead>\n",
       "  <tbody>\n",
       "    <tr>\n",
       "      <th>0</th>\n",
       "      <td>1</td>\n",
       "      <td>System A</td>\n",
       "      <td>Log-in</td>\n",
       "      <td>1</td>\n",
       "      <td>03/02/2022</td>\n",
       "      <td>00:01:34</td>\n",
       "    </tr>\n",
       "    <tr>\n",
       "      <th>1</th>\n",
       "      <td>2</td>\n",
       "      <td>System A</td>\n",
       "      <td>Vertrag_a</td>\n",
       "      <td>1</td>\n",
       "      <td>03/02/2022</td>\n",
       "      <td>00:05:41</td>\n",
       "    </tr>\n",
       "    <tr>\n",
       "      <th>2</th>\n",
       "      <td>3</td>\n",
       "      <td>System A</td>\n",
       "      <td>Vertrag_b</td>\n",
       "      <td>1</td>\n",
       "      <td>03/02/2022</td>\n",
       "      <td>00:09:48</td>\n",
       "    </tr>\n",
       "    <tr>\n",
       "      <th>3</th>\n",
       "      <td>4</td>\n",
       "      <td>System A</td>\n",
       "      <td>Vertrag_c</td>\n",
       "      <td>1</td>\n",
       "      <td>03/02/2022</td>\n",
       "      <td>00:03:55</td>\n",
       "    </tr>\n",
       "    <tr>\n",
       "      <th>4</th>\n",
       "      <td>5</td>\n",
       "      <td>System A</td>\n",
       "      <td>Vertrag_d</td>\n",
       "      <td>1</td>\n",
       "      <td>03/02/2022</td>\n",
       "      <td>00:02:02</td>\n",
       "    </tr>\n",
       "  </tbody>\n",
       "</table>\n",
       "</div>"
      ],
      "text/plain": [
       "   ID Tested_system Software_test  Test_result Execution_date Test runtime\n",
       "0   1      System A        Log-in            1     03/02/2022     00:01:34\n",
       "1   2      System A     Vertrag_a            1     03/02/2022     00:05:41\n",
       "2   3      System A     Vertrag_b            1     03/02/2022     00:09:48\n",
       "3   4      System A     Vertrag_c            1     03/02/2022     00:03:55\n",
       "4   5      System A     Vertrag_d            1     03/02/2022     00:02:02"
      ]
     },
     "execution_count": 17,
     "metadata": {},
     "output_type": "execute_result"
    }
   ],
   "source": [
    "data.head()"
   ]
  },
  {
   "cell_type": "markdown",
   "id": "d01c59a8",
   "metadata": {},
   "source": [
    "As we want to be able to add various different data, we change the column names, so that we can assure they stay the same. The old name of the columns will vary from data to data and will need to be adapted. "
   ]
  },
  {
   "cell_type": "code",
   "execution_count": 18,
   "id": "9487b148",
   "metadata": {},
   "outputs": [],
   "source": [
    "data = data.rename(columns={\"Tested_system\":\"system\", \"Software_test\":\"testname\", \"Test_result\":\"result\", \"Execution_date\":\"date\", \"Test runtime\":\"runtime\"})"
   ]
  },
  {
   "cell_type": "markdown",
   "id": "0e2dbf2a",
   "metadata": {},
   "source": [
    "After the data is read in, we want to check, if all data types are set correct. As this is not the case, we set the correct types"
   ]
  },
  {
   "cell_type": "code",
   "execution_count": 19,
   "id": "8c5a718e",
   "metadata": {},
   "outputs": [
    {
     "data": {
      "text/plain": [
       "ID           int64\n",
       "system      object\n",
       "testname    object\n",
       "result       int64\n",
       "date        object\n",
       "runtime     object\n",
       "dtype: object"
      ]
     },
     "execution_count": 19,
     "metadata": {},
     "output_type": "execute_result"
    }
   ],
   "source": [
    "data.dtypes"
   ]
  },
  {
   "cell_type": "code",
   "execution_count": 20,
   "id": "5cd84bc3",
   "metadata": {},
   "outputs": [
    {
     "data": {
      "text/html": [
       "<div>\n",
       "<style scoped>\n",
       "    .dataframe tbody tr th:only-of-type {\n",
       "        vertical-align: middle;\n",
       "    }\n",
       "\n",
       "    .dataframe tbody tr th {\n",
       "        vertical-align: top;\n",
       "    }\n",
       "\n",
       "    .dataframe thead th {\n",
       "        text-align: right;\n",
       "    }\n",
       "</style>\n",
       "<table border=\"1\" class=\"dataframe\">\n",
       "  <thead>\n",
       "    <tr style=\"text-align: right;\">\n",
       "      <th></th>\n",
       "      <th>ID</th>\n",
       "      <th>system</th>\n",
       "      <th>testname</th>\n",
       "      <th>result</th>\n",
       "      <th>date</th>\n",
       "      <th>runtime</th>\n",
       "    </tr>\n",
       "  </thead>\n",
       "  <tbody>\n",
       "    <tr>\n",
       "      <th>0</th>\n",
       "      <td>1</td>\n",
       "      <td>System A</td>\n",
       "      <td>Log-in</td>\n",
       "      <td>True</td>\n",
       "      <td>2022-03-02</td>\n",
       "      <td>00:01:34</td>\n",
       "    </tr>\n",
       "    <tr>\n",
       "      <th>1</th>\n",
       "      <td>2</td>\n",
       "      <td>System A</td>\n",
       "      <td>Vertrag_a</td>\n",
       "      <td>True</td>\n",
       "      <td>2022-03-02</td>\n",
       "      <td>00:05:41</td>\n",
       "    </tr>\n",
       "    <tr>\n",
       "      <th>2</th>\n",
       "      <td>3</td>\n",
       "      <td>System A</td>\n",
       "      <td>Vertrag_b</td>\n",
       "      <td>True</td>\n",
       "      <td>2022-03-02</td>\n",
       "      <td>00:09:48</td>\n",
       "    </tr>\n",
       "    <tr>\n",
       "      <th>3</th>\n",
       "      <td>4</td>\n",
       "      <td>System A</td>\n",
       "      <td>Vertrag_c</td>\n",
       "      <td>True</td>\n",
       "      <td>2022-03-02</td>\n",
       "      <td>00:03:55</td>\n",
       "    </tr>\n",
       "    <tr>\n",
       "      <th>4</th>\n",
       "      <td>5</td>\n",
       "      <td>System A</td>\n",
       "      <td>Vertrag_d</td>\n",
       "      <td>True</td>\n",
       "      <td>2022-03-02</td>\n",
       "      <td>00:02:02</td>\n",
       "    </tr>\n",
       "  </tbody>\n",
       "</table>\n",
       "</div>"
      ],
      "text/plain": [
       "   ID    system   testname  result        date   runtime\n",
       "0   1  System A     Log-in    True  2022-03-02  00:01:34\n",
       "1   2  System A  Vertrag_a    True  2022-03-02  00:05:41\n",
       "2   3  System A  Vertrag_b    True  2022-03-02  00:09:48\n",
       "3   4  System A  Vertrag_c    True  2022-03-02  00:03:55\n",
       "4   5  System A  Vertrag_d    True  2022-03-02  00:02:02"
      ]
     },
     "execution_count": 20,
     "metadata": {},
     "output_type": "execute_result"
    }
   ],
   "source": [
    "data = data.astype({\"result\": \"bool\", \"date\":\"datetime64\"})\n",
    "#data = data.astype({\"date\":\"datetime64\"})\n",
    "data[\"runtime\"] = pd.to_datetime(data[\"runtime\"], format= \"%H:%M:%S\").dt.time\n",
    "data[\"date\"] = pd.to_datetime(data[\"date\"], format= \"%D:%M:%Y\").dt.date\n",
    "data.head()"
   ]
  },
  {
   "cell_type": "markdown",
   "id": "c97163dd",
   "metadata": {},
   "source": [
    "Now we check if there are any null values"
   ]
  },
  {
   "cell_type": "code",
   "execution_count": 21,
   "id": "6f6b9463",
   "metadata": {},
   "outputs": [
    {
     "data": {
      "text/plain": [
       "ID          False\n",
       "system      False\n",
       "testname    False\n",
       "result      False\n",
       "date        False\n",
       "runtime     False\n",
       "dtype: bool"
      ]
     },
     "execution_count": 21,
     "metadata": {},
     "output_type": "execute_result"
    }
   ],
   "source": [
    "data.isna().any()"
   ]
  },
  {
   "cell_type": "markdown",
   "id": "d5f305a1",
   "metadata": {},
   "source": [
    "Here we set a column as an id."
   ]
  },
  {
   "cell_type": "code",
   "execution_count": 22,
   "id": "f01487bc",
   "metadata": {},
   "outputs": [
    {
     "name": "stdout",
     "output_type": "stream",
     "text": [
      "Index(['ID', 'system', 'testname', 'result', 'date', 'runtime', 'id'], dtype='object')\n"
     ]
    }
   ],
   "source": [
    "data['id'] = data['ID']\n",
    "data.set_index('id', inplace=True, drop=False)\n",
    "print(data.columns)"
   ]
  },
  {
   "cell_type": "code",
   "execution_count": 23,
   "id": "f95419fb",
   "metadata": {},
   "outputs": [
    {
     "data": {
      "text/html": [
       "<div>\n",
       "<style scoped>\n",
       "    .dataframe tbody tr th:only-of-type {\n",
       "        vertical-align: middle;\n",
       "    }\n",
       "\n",
       "    .dataframe tbody tr th {\n",
       "        vertical-align: top;\n",
       "    }\n",
       "\n",
       "    .dataframe thead th {\n",
       "        text-align: right;\n",
       "    }\n",
       "</style>\n",
       "<table border=\"1\" class=\"dataframe\">\n",
       "  <thead>\n",
       "    <tr style=\"text-align: right;\">\n",
       "      <th></th>\n",
       "      <th>result</th>\n",
       "      <th>count</th>\n",
       "    </tr>\n",
       "  </thead>\n",
       "  <tbody>\n",
       "    <tr>\n",
       "      <th>0</th>\n",
       "      <td>False</td>\n",
       "      <td>5</td>\n",
       "    </tr>\n",
       "    <tr>\n",
       "      <th>1</th>\n",
       "      <td>True</td>\n",
       "      <td>15</td>\n",
       "    </tr>\n",
       "  </tbody>\n",
       "</table>\n",
       "</div>"
      ],
      "text/plain": [
       "   result  count\n",
       "0   False      5\n",
       "1    True     15"
      ]
     },
     "execution_count": 23,
     "metadata": {},
     "output_type": "execute_result"
    }
   ],
   "source": [
    "dataset=data.groupby('result').size().reset_index(name='count')\n",
    "dataset.replace(to_replace= \"1\", value = \"Passed\")\n",
    "dataset\n",
    "#fig = px.bar(dataset, x='result', y='count') \n",
    "#fig.show()"
   ]
  },
  {
   "cell_type": "code",
   "execution_count": 24,
   "id": "876a4a6d",
   "metadata": {},
   "outputs": [
    {
     "name": "stdout",
     "output_type": "stream",
     "text": [
      "['System A', 'System B']\n"
     ]
    }
   ],
   "source": [
    "#data[data['system'] == \"System B\"]\n",
    "option = []\n",
    "for i in (data[\"system\"].unique()):\n",
    "    option.append(i)\n",
    "print(option)"
   ]
  },
  {
   "cell_type": "markdown",
   "id": "5d6d6c03",
   "metadata": {},
   "source": []
  },
  {
   "cell_type": "markdown",
   "id": "a66c7cb4",
   "metadata": {},
   "source": [
    "# Dashboard creation\n",
    "Next we start building the dashboard."
   ]
  },
  {
   "cell_type": "code",
   "execution_count": 25,
   "id": "70361548",
   "metadata": {},
   "outputs": [],
   "source": [
    "app = Dash(__name__)"
   ]
  },
  {
   "cell_type": "code",
   "execution_count": 26,
   "id": "6aed67ac",
   "metadata": {},
   "outputs": [],
   "source": [
    "option = []\n",
    "        \n",
    "for i in (data[\"system\"].unique()):\n",
    "    option.append(i)\n",
    "\n",
    "app.layout = html.Div([\n",
    "\n",
    "   html.H1(\"Software test results\", style={'text-align': 'center', 'padding-left': '5%'}),\n",
    "\n",
    "    # Data table\n",
    "    html.Div([\n",
    "        dash_table.DataTable(\n",
    "            id='datatable',\n",
    "                    columns=[\n",
    "                        {\"name\": i, \"id\": i, \"deletable\": False, \"selectable\": True, \"hideable\": True}\n",
    "                        # only a few columns in our data table are hideable\n",
    "                        if i == \"ID\" or i == \"system\" or i == \"runtime\" or i == \"id\"\n",
    "                        else {\"name\": i, \"id\": i, \"deletable\": False, \"selectable\": True}\n",
    "                        for i in data.columns\n",
    "                    ],\n",
    "\n",
    "                data=data.to_dict('records'),\n",
    "                filter_action=\"native\",\n",
    "                sort_action=\"native\",\n",
    "                sort_mode=\"single\",\n",
    "                column_selectable = \"multi\", \n",
    "                fixed_rows={'headers': True},\n",
    "                row_selectable=\"multi\",     \n",
    "                row_deletable=True,        \n",
    "                selected_columns=[],       \n",
    "                selected_rows=[],           \n",
    "                page_action=\"native\",\n",
    "                fill_width=True,       \n",
    "                style_table = { 'overflowY': 'auto','height': '900px'},\n",
    "                style_cell={                \n",
    "                'minWidth': 120, 'maxWidth': 120, 'width': 120\n",
    "                  },\n",
    "                style_cell_conditional=[    \n",
    "                    {\n",
    "                        'if': {'column_id': c},\n",
    "                        'textAlign': 'left'\n",
    "                    } for c in ['testname', 'system']\n",
    "                ],\n",
    "                style_data={                \n",
    "                    'whiteSpace': 'normal',\n",
    "                    'height': 'auto'\n",
    "                },\n",
    "            ),\n",
    "        ], style={\"width\": \"50%\", 'padding-top': '1%', 'display': 'float', 'float' : 'left'}),\n",
    "\n",
    "   # Dropdown menue\n",
    "    html.Div(children=[\n",
    "        dcc.Dropdown(id='dropdown_1',\n",
    "                options=[\n",
    "                         {'label': option[0], 'value': 'system'},\n",
    "                         {'label': option[1], 'value': 'testname'},\n",
    "                         #{'label': option[2], 'value': 'testname'},\n",
    "                         #{'label': option[3], 'value': 'testname'},\n",
    "                ],\n",
    "                #value='system',\n",
    "                multi=True,\n",
    "                clearable=True,\n",
    "                #style={'display': 'inline-block'}\n",
    "            ),\n",
    "        dcc.Graph(id='linechart'), #style={'display': 'inline-block', 'margin-left': '15px', 'verticalAlign': 'middle'}\n",
    "        dcc.Graph(id='piechart') #style={'display': 'inline-block', 'padding-left': '11%', 'padding-top': '4%'}\n",
    "\n",
    "    ],style={\"width\": \"45%\", 'display': 'float', 'float' : 'right', 'padding-top': '1%','margin-left': 'auto', 'margin-right': '0'}),\n",
    "    \n",
    "    html.Br()\n",
    "], style={\"padding\": \"5px\"})\n",
    " "
   ]
  },
  {
   "cell_type": "code",
   "execution_count": 27,
   "id": "3562702f",
   "metadata": {},
   "outputs": [],
   "source": [
    "@app.callback(\n",
    "    [Output('piechart', 'figure'),\n",
    "     Output('linechart', 'figure')],\n",
    "    [Input('datatable', 'selected_rows'),\n",
    "     Input('dropdown_1', 'value')]\n",
    ")\n",
    "def update_data(dropdown_1, all_rows_data):\n",
    "\n",
    "    dff = pd.DataFrame(all_rows_data)\n",
    "    dff_sub=dff.groupby('result').size().reset_index(name='count')\n",
    "\n",
    "    pie_chart=px.pie(\n",
    "            data_frame=dff_sub,\n",
    "            names='result',\n",
    "            values='count',\n",
    "            hole=.3,\n",
    "           # labels={'countriesAndTerritories':'Countries'}\n",
    "            )\n",
    "\n",
    "    line_chart = px.line(\n",
    "            data_frame=dff,\n",
    "            x='date',\n",
    "            y='runtime',\n",
    "            color='system',\n",
    "            #labels={'countriesAndTerritories':'Countries', 'dateRep':'date'},\n",
    "            )\n",
    "    line_chart.update_layout(uirevision='foo')\n",
    "\n",
    "    return (pie_chart,line_chart)\n",
    "\n",
    "\n",
    "\n",
    "#@app.callback( \n",
    "#    [#Output(component_id='piechart', component_property='figure'),\n",
    "#    Output(component_id='linechart', component_property='figure')],\n",
    "#    [Input(component_id='dropdown_1', component_property=\"value\"),\n",
    "#    Input(component_id='datatable', component_property=\"selected_rows\")]\n",
    "#)\n",
    "#def update_data(option_slct, all_rows_data, slctd_row_indices, slct_rows_names, slctd_rows,\n",
    " #              order_of_rows_indices, order_of_rows_names, actv_cell, slctd_cell): #slctd_rows, dropdown_1\n",
    "\n",
    "   # dff = pd.DataFrame(all_rows_data)\n",
    "   # dff_sub=dff.groupby('result').size().reset_index(name='count')\n",
    "\n",
    "    # Pie chart definition\n",
    "   # pie_chart=px.pie(\n",
    "   #     data_frame=dff_sub,\n",
    "   #     values= 'count',\n",
    "   #     names= 'result',\n",
    "   # ),\n",
    "    #Line chart definition\n",
    "   # line_chart = px.line(\n",
    "   #         data_frame=dff,\n",
    "   #         x='date',\n",
    "   #         y='runtime',\n",
    "   #         color= option_slct,\n",
    "            #labels={'countriesAndTerritories':'Countries', 'dateRep':'date'},\n",
    "   #         )\n",
    "    #line_chart.update_layout(transition_duration=500)\n",
    "\n",
    "#    return line_chart      \n"
   ]
  },
  {
   "cell_type": "code",
   "execution_count": 28,
   "id": "0e10a0d0",
   "metadata": {},
   "outputs": [
    {
     "name": "stdout",
     "output_type": "stream",
     "text": [
      "Dash is running on http://127.0.0.1:8050/\n",
      "\n",
      "Dash is running on http://127.0.0.1:8050/\n",
      "\n",
      " * Serving Flask app \"__main__\" (lazy loading)\n",
      " * Environment: production\n",
      "\u001b[31m   WARNING: This is a development server. Do not use it in a production deployment.\u001b[0m\n",
      "\u001b[2m   Use a production WSGI server instead.\u001b[0m\n",
      " * Debug mode: off\n"
     ]
    },
    {
     "name": "stderr",
     "output_type": "stream",
     "text": [
      " * Running on http://127.0.0.1:8050/ (Press CTRL+C to quit)\n",
      "127.0.0.1 - - [28/Mar/2022 22:27:50] \"GET / HTTP/1.1\" 200 -\n",
      "127.0.0.1 - - [28/Mar/2022 22:27:51] \"GET /_dash-layout HTTP/1.1\" 200 -\n",
      "127.0.0.1 - - [28/Mar/2022 22:27:51] \"GET /_dash-dependencies HTTP/1.1\" 200 -\n",
      "127.0.0.1 - - [28/Mar/2022 22:27:51] \"GET /_dash-component-suites/dash/dash_table/async-highlight.js HTTP/1.1\" 304 -\n",
      "127.0.0.1 - - [28/Mar/2022 22:27:51] \"GET /_dash-component-suites/dash/dash_table/async-table.js HTTP/1.1\" 304 -\n",
      "127.0.0.1 - - [28/Mar/2022 22:27:51] \"GET /_dash-component-suites/dash/dcc/async-dropdown.js HTTP/1.1\" 304 -\n",
      "127.0.0.1 - - [28/Mar/2022 22:27:51] \"GET /_dash-component-suites/dash/dcc/async-graph.js HTTP/1.1"
     ]
    },
    {
     "name": "stdout",
     "output_type": "stream",
     "text": [
      "Exception on /_dash-update-component [POST]\n",
      "Traceback (most recent call last):\n",
      "  File \"C:\\Users\\gaert\\anaconda3\\lib\\site-packages\\flask\\app.py\", line 2447, in wsgi_app\n",
      "    response = self.full_dispatch_request()\n",
      "  File \"C:\\Users\\gaert\\anaconda3\\lib\\site-packages\\flask\\app.py\", line 1952, in full_dispatch_request\n",
      "    rv = self.handle_user_exception(e)\n",
      "  File \"C:\\Users\\gaert\\anaconda3\\lib\\site-packages\\flask\\app.py\", line 1821, in handle_user_exception\n",
      "    reraise(exc_type, exc_value, tb)\n",
      "  File \"C:\\Users\\gaert\\anaconda3\\lib\\site-packages\\flask\\_compat.py\", line 39, in reraise\n",
      "    raise value\n",
      "  File \"C:\\Users\\gaert\\anaconda3\\lib\\site-packages\\flask\\app.py\", line 1950, in full_dispatch_request\n",
      "    rv = self.dispatch_request()\n",
      "  File \"C:\\Users\\gaert\\anaconda3\\lib\\site-packages\\flask\\app.py\", line 1936, in dispatch_request\n",
      "    return self.view_functions[rule.endpoint](**req.view_args)\n",
      "  File \"C:\\Users\\gaert\\anaconda3\\lib\\site-packages\\dash\\dash.py\", line 1345, in dispatch\n",
      "    response.set_data(func(*args, outputs_list=outputs_list))\n",
      "  File \"C:\\Users\\gaert\\anaconda3\\lib\\site-packages\\dash\\_callback.py\", line 151, in add_context\n",
      "    output_value = func(*func_args, **func_kwargs)  # %% callback invoked %%\n",
      "  File \"C:\\Users\\gaert\\AppData\\Local\\Temp/ipykernel_97964/12258049.py\", line 10, in update_data\n",
      "    dff_sub=dff.groupby('result').size().reset_index(name='count')\n",
      "  File \"C:\\Users\\gaert\\anaconda3\\lib\\site-packages\\pandas\\core\\frame.py\", line 7631, in groupby\n",
      "    return DataFrameGroupBy(\n",
      "  File \"C:\\Users\\gaert\\anaconda3\\lib\\site-packages\\pandas\\core\\groupby\\groupby.py\", line 889, in __init__\n",
      "    grouper, exclusions, obj = get_grouper(\n",
      "  File \"C:\\Users\\gaert\\anaconda3\\lib\\site-packages\\pandas\\core\\groupby\\grouper.py\", line 862, in get_grouper\n",
      "    raise KeyError(gpr)\n",
      "KeyError: 'result'\n"
     ]
    },
    {
     "name": "stderr",
     "output_type": "stream",
     "text": [
      "\" 304 -\n"
     ]
    },
    {
     "name": "stdout",
     "output_type": "stream",
     "text": [
      "Exception on /_dash-update-component [POST]\n",
      "Traceback (most recent call last):\n",
      "  File \"C:\\Users\\gaert\\anaconda3\\lib\\site-packages\\flask\\app.py\", line 2447, in wsgi_app\n",
      "    response = self.full_dispatch_request()\n",
      "  File \"C:\\Users\\gaert\\anaconda3\\lib\\site-packages\\flask\\app.py\", line 1952, in full_dispatch_request\n",
      "    rv = self.handle_user_exception(e)\n",
      "  File \"C:\\Users\\gaert\\anaconda3\\lib\\site-packages\\flask\\app.py\", line 1821, in handle_user_exception\n",
      "    reraise(exc_type, exc_value, tb)\n",
      "  File \"C:\\Users\\gaert\\anaconda3\\lib\\site-packages\\flask\\_compat.py\", line 39, in reraise\n",
      "    raise value\n",
      "  File \"C:\\Users\\gaert\\anaconda3\\lib\\site-packages\\flask\\app.py\", line 1950, in full_dispatch_request\n",
      "    rv = self.dispatch_request()\n",
      "  File \"C:\\Users\\gaert\\anaconda3\\lib\\site-packages\\flask\\app.py\", line 1936, in dispatch_request\n",
      "    return self.view_functions[rule.endpoint](**req.view_args)\n",
      "  File \"C:\\Users\\gaert\\anaconda3\\lib\\site-packages\\dash\\dash.py\", line 1345, in dispatch\n",
      "    response.set_data(func(*args, outputs_list=outputs_list))\n",
      "  File \"C:\\Users\\gaert\\anaconda3\\lib\\site-packages\\dash\\_callback.py\", line 151, in add_context\n",
      "    output_value = func(*func_args, **func_kwargs)  # %% callback invoked %%\n",
      "  File \"C:\\Users\\gaert\\AppData\\Local\\Temp/ipykernel_97964/12258049.py\", line 10, in update_data\n",
      "    dff_sub=dff.groupby('result').size().reset_index(name='count')\n",
      "  File \"C:\\Users\\gaert\\anaconda3\\lib\\site-packages\\pandas\\core\\frame.py\", line 7631, in groupby\n",
      "    return DataFrameGroupBy(\n",
      "  File \"C:\\Users\\gaert\\anaconda3\\lib\\site-packages\\pandas\\core\\groupby\\groupby.py\", line 889, in __init__\n",
      "    grouper, exclusions, obj = get_grouper(\n",
      "  File \"C:\\Users\\gaert\\anaconda3\\lib\\site-packages\\pandas\\core\\groupby\\grouper.py\", line 862, in get_grouper\n",
      "    raise KeyError(gpr)\n",
      "KeyError: 'result'\n"
     ]
    },
    {
     "name": "stderr",
     "output_type": "stream",
     "text": [
      "127.0.0.1 - - [28/Mar/2022 22:27:51] \"GET /_dash-component-suites/dash/dcc/async-plotlyjs.js HTTP/1.1\" 304 -\n",
      "127.0.0.1 - - [28/Mar/2022 22:27:51] \"POST /_dash-update-component HTTP/1.1\" 500 -\n"
     ]
    }
   ],
   "source": [
    "if __name__ == '__main__':\n",
    "    app.run_server(debug=False)\n",
    "    "
   ]
  }
 ],
 "metadata": {
  "kernelspec": {
   "display_name": "Python 3 (ipykernel)",
   "language": "python",
   "name": "python3"
  },
  "language_info": {
   "codemirror_mode": {
    "name": "ipython",
    "version": 3
   },
   "file_extension": ".py",
   "mimetype": "text/x-python",
   "name": "python",
   "nbconvert_exporter": "python",
   "pygments_lexer": "ipython3",
   "version": "3.9.7"
  }
 },
 "nbformat": 4,
 "nbformat_minor": 5
}
