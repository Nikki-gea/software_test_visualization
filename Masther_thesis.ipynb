{
 "cells": [
  {
   "cell_type": "markdown",
   "id": "fb81f2d6",
   "metadata": {},
   "source": [
    "First we import all necessary libraries"
   ]
  },
  {
   "cell_type": "code",
   "execution_count": 16,
   "id": "cef66f59-d950-41f4-9017-c16b9b41be14",
   "metadata": {},
   "outputs": [],
   "source": [
    "import plotly.express as px\n",
    "import pandas as pd\n",
    "import plotly.graph_objs as go\n",
    "import chart_studio.plotly as py\n",
    "import dash\n",
    "import dash_core_components as dcc\n",
    "import dash_html_components as html\n",
    "from dash.dependencies import Input, Output\n",
    "from dash import Dash, Input, Output, callback, dash_table"
   ]
  },
  {
   "cell_type": "markdown",
   "id": "103c7391",
   "metadata": {},
   "source": [
    "# Data cleaning\n",
    "As a first step the data is read in as a csv file."
   ]
  },
  {
   "cell_type": "code",
   "execution_count": 17,
   "id": "4a3373f9",
   "metadata": {},
   "outputs": [],
   "source": [
    "data = pd.read_csv(\"Example_data_masterthesis.csv\", sep = \";\")"
   ]
  },
  {
   "cell_type": "code",
   "execution_count": 18,
   "id": "025ce702",
   "metadata": {},
   "outputs": [
    {
     "data": {
      "text/html": [
       "<div>\n",
       "<style scoped>\n",
       "    .dataframe tbody tr th:only-of-type {\n",
       "        vertical-align: middle;\n",
       "    }\n",
       "\n",
       "    .dataframe tbody tr th {\n",
       "        vertical-align: top;\n",
       "    }\n",
       "\n",
       "    .dataframe thead th {\n",
       "        text-align: right;\n",
       "    }\n",
       "</style>\n",
       "<table border=\"1\" class=\"dataframe\">\n",
       "  <thead>\n",
       "    <tr style=\"text-align: right;\">\n",
       "      <th></th>\n",
       "      <th>Tested_system</th>\n",
       "      <th>Software_test</th>\n",
       "      <th>Test_result</th>\n",
       "      <th>Execution_date</th>\n",
       "      <th>Test runtime</th>\n",
       "    </tr>\n",
       "  </thead>\n",
       "  <tbody>\n",
       "    <tr>\n",
       "      <th>0</th>\n",
       "      <td>System A</td>\n",
       "      <td>Log-in</td>\n",
       "      <td>1</td>\n",
       "      <td>2022-02-03</td>\n",
       "      <td>00:01:34</td>\n",
       "    </tr>\n",
       "    <tr>\n",
       "      <th>1</th>\n",
       "      <td>System A</td>\n",
       "      <td>Vertrag_a</td>\n",
       "      <td>1</td>\n",
       "      <td>2022-02-03</td>\n",
       "      <td>00:05:41</td>\n",
       "    </tr>\n",
       "    <tr>\n",
       "      <th>2</th>\n",
       "      <td>System A</td>\n",
       "      <td>Vertrag_b</td>\n",
       "      <td>1</td>\n",
       "      <td>2022-02-03</td>\n",
       "      <td>00:09:48</td>\n",
       "    </tr>\n",
       "    <tr>\n",
       "      <th>3</th>\n",
       "      <td>System A</td>\n",
       "      <td>Vertrag_c</td>\n",
       "      <td>1</td>\n",
       "      <td>2022-02-03</td>\n",
       "      <td>00:03:55</td>\n",
       "    </tr>\n",
       "    <tr>\n",
       "      <th>4</th>\n",
       "      <td>System A</td>\n",
       "      <td>Vertrag_d</td>\n",
       "      <td>1</td>\n",
       "      <td>2022-02-03</td>\n",
       "      <td>00:02:02</td>\n",
       "    </tr>\n",
       "  </tbody>\n",
       "</table>\n",
       "</div>"
      ],
      "text/plain": [
       "  Tested_system Software_test  Test_result Execution_date Test runtime\n",
       "0      System A        Log-in            1     2022-02-03     00:01:34\n",
       "1      System A     Vertrag_a            1     2022-02-03     00:05:41\n",
       "2      System A     Vertrag_b            1     2022-02-03     00:09:48\n",
       "3      System A     Vertrag_c            1     2022-02-03     00:03:55\n",
       "4      System A     Vertrag_d            1     2022-02-03     00:02:02"
      ]
     },
     "execution_count": 18,
     "metadata": {},
     "output_type": "execute_result"
    }
   ],
   "source": [
    "data.head()"
   ]
  },
  {
   "cell_type": "markdown",
   "id": "d01c59a8",
   "metadata": {},
   "source": [
    "As we want to be able to add various different data, we change the column names, so that we can assure they stay the same. The old name of the columns will vary from data to data and will need to be adapted. "
   ]
  },
  {
   "cell_type": "code",
   "execution_count": 19,
   "id": "9487b148",
   "metadata": {},
   "outputs": [],
   "source": [
    "data = data.rename(columns={\"Tested_system\":\"system\", \"Software_test\":\"testname\", \"Test_result\":\"result\", \"Execution_date\":\"date\", \"Test runtime\":\"runtime\"})"
   ]
  },
  {
   "cell_type": "markdown",
   "id": "0e2dbf2a",
   "metadata": {},
   "source": [
    "After the data is read in, we want to check, if all data types are set correct. As this is not the case, we set the correct types"
   ]
  },
  {
   "cell_type": "code",
   "execution_count": 20,
   "id": "8c5a718e",
   "metadata": {},
   "outputs": [
    {
     "data": {
      "text/plain": [
       "system      object\n",
       "testname    object\n",
       "result       int64\n",
       "date        object\n",
       "runtime     object\n",
       "dtype: object"
      ]
     },
     "execution_count": 20,
     "metadata": {},
     "output_type": "execute_result"
    }
   ],
   "source": [
    "data.dtypes"
   ]
  },
  {
   "cell_type": "code",
   "execution_count": 21,
   "id": "5cd84bc3",
   "metadata": {},
   "outputs": [
    {
     "data": {
      "text/html": [
       "<div>\n",
       "<style scoped>\n",
       "    .dataframe tbody tr th:only-of-type {\n",
       "        vertical-align: middle;\n",
       "    }\n",
       "\n",
       "    .dataframe tbody tr th {\n",
       "        vertical-align: top;\n",
       "    }\n",
       "\n",
       "    .dataframe thead th {\n",
       "        text-align: right;\n",
       "    }\n",
       "</style>\n",
       "<table border=\"1\" class=\"dataframe\">\n",
       "  <thead>\n",
       "    <tr style=\"text-align: right;\">\n",
       "      <th></th>\n",
       "      <th>system</th>\n",
       "      <th>testname</th>\n",
       "      <th>result</th>\n",
       "      <th>date</th>\n",
       "      <th>runtime</th>\n",
       "    </tr>\n",
       "  </thead>\n",
       "  <tbody>\n",
       "    <tr>\n",
       "      <th>0</th>\n",
       "      <td>System A</td>\n",
       "      <td>Log-in</td>\n",
       "      <td>True</td>\n",
       "      <td>2022-02-03</td>\n",
       "      <td>00:01:34</td>\n",
       "    </tr>\n",
       "    <tr>\n",
       "      <th>1</th>\n",
       "      <td>System A</td>\n",
       "      <td>Vertrag_a</td>\n",
       "      <td>True</td>\n",
       "      <td>2022-02-03</td>\n",
       "      <td>00:05:41</td>\n",
       "    </tr>\n",
       "    <tr>\n",
       "      <th>2</th>\n",
       "      <td>System A</td>\n",
       "      <td>Vertrag_b</td>\n",
       "      <td>True</td>\n",
       "      <td>2022-02-03</td>\n",
       "      <td>00:09:48</td>\n",
       "    </tr>\n",
       "    <tr>\n",
       "      <th>3</th>\n",
       "      <td>System A</td>\n",
       "      <td>Vertrag_c</td>\n",
       "      <td>True</td>\n",
       "      <td>2022-02-03</td>\n",
       "      <td>00:03:55</td>\n",
       "    </tr>\n",
       "    <tr>\n",
       "      <th>4</th>\n",
       "      <td>System A</td>\n",
       "      <td>Vertrag_d</td>\n",
       "      <td>True</td>\n",
       "      <td>2022-02-03</td>\n",
       "      <td>00:02:02</td>\n",
       "    </tr>\n",
       "  </tbody>\n",
       "</table>\n",
       "</div>"
      ],
      "text/plain": [
       "     system   testname  result        date   runtime\n",
       "0  System A     Log-in    True  2022-02-03  00:01:34\n",
       "1  System A  Vertrag_a    True  2022-02-03  00:05:41\n",
       "2  System A  Vertrag_b    True  2022-02-03  00:09:48\n",
       "3  System A  Vertrag_c    True  2022-02-03  00:03:55\n",
       "4  System A  Vertrag_d    True  2022-02-03  00:02:02"
      ]
     },
     "execution_count": 21,
     "metadata": {},
     "output_type": "execute_result"
    }
   ],
   "source": [
    "data = data.astype({\"result\": \"bool\", \"date\":\"datetime64\"})\n",
    "data[\"runtime\"] = pd.to_datetime(data[\"runtime\"], format= \"%H:%M:%S\").dt.time\n",
    "data[\"date\"] = pd.to_datetime(data[\"date\"], format= \"%D:%M:%Y\").dt.date\n",
    "data.head()"
   ]
  },
  {
   "cell_type": "markdown",
   "id": "c97163dd",
   "metadata": {},
   "source": [
    "Now we check if there are any null values"
   ]
  },
  {
   "cell_type": "code",
   "execution_count": 22,
   "id": "6f6b9463",
   "metadata": {},
   "outputs": [
    {
     "data": {
      "text/plain": [
       "system      False\n",
       "testname    False\n",
       "result      False\n",
       "date        False\n",
       "runtime     False\n",
       "dtype: bool"
      ]
     },
     "execution_count": 22,
     "metadata": {},
     "output_type": "execute_result"
    }
   ],
   "source": [
    "data.isna().any()"
   ]
  },
  {
   "cell_type": "markdown",
   "id": "a66c7cb4",
   "metadata": {},
   "source": [
    "# Dashboard creation\n",
    "Next we start building the dashboard."
   ]
  },
  {
   "cell_type": "code",
   "execution_count": 23,
   "id": "70361548",
   "metadata": {},
   "outputs": [],
   "source": [
    "app = Dash(__name__)"
   ]
  },
  {
   "cell_type": "code",
   "execution_count": 24,
   "id": "6aed67ac",
   "metadata": {},
   "outputs": [],
   "source": [
    "app.layout = dash_table.DataTable(\n",
    "\n",
    "    style_data={\n",
    "        'whiteSpace': 'normal',\n",
    "        'height': 'auto',\n",
    "    },\n",
    "    \n",
    "    data=data.to_dict('records'),\n",
    "    columns=[{'id': c, 'name': c} for c in data.columns],\n",
    "    fixed_rows={'headers': True},\n",
    "    style_table={'height': 400},\n",
    "    style_cell={'textAlign': 'left'},\n",
    "    style_header={\n",
    "        'backgroundColor': 'rgb(30, 30, 30)',\n",
    "        'color': 'white'\n",
    "    }\n",
    "\n",
    "\n",
    ")"
   ]
  },
  {
   "cell_type": "code",
   "execution_count": null,
   "id": "3562702f",
   "metadata": {},
   "outputs": [],
   "source": []
  },
  {
   "cell_type": "code",
   "execution_count": null,
   "id": "c07493af",
   "metadata": {},
   "outputs": [],
   "source": []
  },
  {
   "cell_type": "code",
   "execution_count": 25,
   "id": "0e10a0d0",
   "metadata": {},
   "outputs": [
    {
     "name": "stdout",
     "output_type": "stream",
     "text": [
      "Dash is running on http://127.0.0.1:8050/\n",
      "\n",
      "Dash is running on http://127.0.0.1:8050/\n",
      "\n",
      " * Serving Flask app \"__main__\" (lazy loading)\n",
      " * Environment: production\n",
      "\u001b[31m   WARNING: This is a development server. Do not use it in a production deployment.\u001b[0m\n",
      "\u001b[2m   Use a production WSGI server instead.\u001b[0m\n",
      " * Debug mode: off\n"
     ]
    },
    {
     "name": "stderr",
     "output_type": "stream",
     "text": [
      " * Running on http://127.0.0.1:8050/ (Press CTRL+C to quit)\n",
      "127.0.0.1 - - [24/Mar/2022 23:53:09] \"GET / HTTP/1.1\" 200 -\n",
      "127.0.0.1 - - [24/Mar/2022 23:53:09] \"GET /_dash-layout HTTP/1.1\" 200 -\n",
      "127.0.0.1 - - [24/Mar/2022 23:53:09] \"GET /_dash-dependencies HTTP/1.1\" 200 -\n",
      "127.0.0.1 - - [24/Mar/2022 23:53:09] \"GET /_favicon.ico?v=2.2.0 HTTP/1.1\" 200 -\n",
      "127.0.0.1 - - [24/Mar/2022 23:53:09] \"GET /_dash-component-suites/dash/dash_table/async-highlight.js HTTP/1.1\" 304 -\n",
      "127.0.0.1 - - [24/Mar/2022 23:53:09] \"GET /_dash-component-suites/dash/dash_table/async-table.js HTTP/1.1\" 304 -\n"
     ]
    }
   ],
   "source": [
    "if __name__ == '__main__':\n",
    "    app.run_server(debug=False)\n",
    "    "
   ]
  }
 ],
 "metadata": {
  "kernelspec": {
   "display_name": "Python 3 (ipykernel)",
   "language": "python",
   "name": "python3"
  },
  "language_info": {
   "codemirror_mode": {
    "name": "ipython",
    "version": 3
   },
   "file_extension": ".py",
   "mimetype": "text/x-python",
   "name": "python",
   "nbconvert_exporter": "python",
   "pygments_lexer": "ipython3",
   "version": "3.9.7"
  }
 },
 "nbformat": 4,
 "nbformat_minor": 5
}
