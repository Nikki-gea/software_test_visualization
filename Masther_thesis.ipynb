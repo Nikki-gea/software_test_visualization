{
 "cells": [
  {
   "cell_type": "markdown",
   "id": "fb81f2d6",
   "metadata": {},
   "source": [
    "First we import all necessary libraries"
   ]
  },
  {
   "cell_type": "code",
   "execution_count": 319,
   "id": "cef66f59-d950-41f4-9017-c16b9b41be14",
   "metadata": {},
   "outputs": [],
   "source": [
    "import plotly.express as px\n",
    "import pandas as pd\n",
    "import plotly.graph_objs as go\n",
    "import chart_studio.plotly as py\n",
    "import dash\n",
    "from dash import dcc\n",
    "from dash import html\n",
    "from dash.dependencies import Input, Output\n",
    "from dash import Dash, Input, Output, callback, dash_table\n",
    "from plotly.subplots import make_subplots"
   ]
  },
  {
   "cell_type": "markdown",
   "id": "103c7391",
   "metadata": {},
   "source": [
    "# Data cleaning\n",
    "As a first step the data is read in as a csv file."
   ]
  },
  {
   "cell_type": "code",
   "execution_count": 320,
   "id": "4a3373f9",
   "metadata": {},
   "outputs": [],
   "source": [
    "data = pd.read_csv(\"Example_data_masterthesis.csv\", sep = \";\")"
   ]
  },
  {
   "cell_type": "code",
   "execution_count": 321,
   "id": "025ce702",
   "metadata": {},
   "outputs": [
    {
     "data": {
      "text/html": [
       "<div>\n",
       "<style scoped>\n",
       "    .dataframe tbody tr th:only-of-type {\n",
       "        vertical-align: middle;\n",
       "    }\n",
       "\n",
       "    .dataframe tbody tr th {\n",
       "        vertical-align: top;\n",
       "    }\n",
       "\n",
       "    .dataframe thead th {\n",
       "        text-align: right;\n",
       "    }\n",
       "</style>\n",
       "<table border=\"1\" class=\"dataframe\">\n",
       "  <thead>\n",
       "    <tr style=\"text-align: right;\">\n",
       "      <th></th>\n",
       "      <th>ID</th>\n",
       "      <th>Tested_system</th>\n",
       "      <th>Software_test</th>\n",
       "      <th>Test_result</th>\n",
       "      <th>Execution_date</th>\n",
       "      <th>Test runtime</th>\n",
       "    </tr>\n",
       "  </thead>\n",
       "  <tbody>\n",
       "    <tr>\n",
       "      <th>0</th>\n",
       "      <td>1</td>\n",
       "      <td>System A</td>\n",
       "      <td>Log-in</td>\n",
       "      <td>1</td>\n",
       "      <td>03/02/2022</td>\n",
       "      <td>00:01:34</td>\n",
       "    </tr>\n",
       "    <tr>\n",
       "      <th>1</th>\n",
       "      <td>2</td>\n",
       "      <td>System A</td>\n",
       "      <td>Vertrag_a</td>\n",
       "      <td>1</td>\n",
       "      <td>03/02/2022</td>\n",
       "      <td>00:05:41</td>\n",
       "    </tr>\n",
       "    <tr>\n",
       "      <th>2</th>\n",
       "      <td>3</td>\n",
       "      <td>System A</td>\n",
       "      <td>Vertrag_b</td>\n",
       "      <td>1</td>\n",
       "      <td>03/02/2022</td>\n",
       "      <td>00:09:48</td>\n",
       "    </tr>\n",
       "    <tr>\n",
       "      <th>3</th>\n",
       "      <td>4</td>\n",
       "      <td>System A</td>\n",
       "      <td>Vertrag_c</td>\n",
       "      <td>1</td>\n",
       "      <td>03/02/2022</td>\n",
       "      <td>00:03:55</td>\n",
       "    </tr>\n",
       "    <tr>\n",
       "      <th>4</th>\n",
       "      <td>5</td>\n",
       "      <td>System A</td>\n",
       "      <td>Vertrag_d</td>\n",
       "      <td>1</td>\n",
       "      <td>03/02/2022</td>\n",
       "      <td>00:02:02</td>\n",
       "    </tr>\n",
       "  </tbody>\n",
       "</table>\n",
       "</div>"
      ],
      "text/plain": [
       "   ID Tested_system Software_test  Test_result Execution_date Test runtime\n",
       "0   1      System A        Log-in            1     03/02/2022     00:01:34\n",
       "1   2      System A     Vertrag_a            1     03/02/2022     00:05:41\n",
       "2   3      System A     Vertrag_b            1     03/02/2022     00:09:48\n",
       "3   4      System A     Vertrag_c            1     03/02/2022     00:03:55\n",
       "4   5      System A     Vertrag_d            1     03/02/2022     00:02:02"
      ]
     },
     "execution_count": 321,
     "metadata": {},
     "output_type": "execute_result"
    }
   ],
   "source": [
    "data.head()"
   ]
  },
  {
   "cell_type": "markdown",
   "id": "d01c59a8",
   "metadata": {},
   "source": [
    "As we want to be able to add various different data, we change the column names, so that we can assure they stay the same. The old name of the columns will vary from data to data and will need to be adapted. "
   ]
  },
  {
   "cell_type": "code",
   "execution_count": 322,
   "id": "9487b148",
   "metadata": {},
   "outputs": [],
   "source": [
    "data = data.rename(columns={\"Tested_system\":\"system\", \"Software_test\":\"testname\", \"Test_result\":\"result\", \"Execution_date\":\"date\", \"Test runtime\":\"runtime\"})"
   ]
  },
  {
   "cell_type": "markdown",
   "id": "0e2dbf2a",
   "metadata": {},
   "source": [
    "After the data is read in, we want to check, if all data types are set correct. As this is not the case, we set the correct types"
   ]
  },
  {
   "cell_type": "code",
   "execution_count": 323,
   "id": "8c5a718e",
   "metadata": {},
   "outputs": [
    {
     "data": {
      "text/plain": [
       "ID           int64\n",
       "system      object\n",
       "testname    object\n",
       "result       int64\n",
       "date        object\n",
       "runtime     object\n",
       "dtype: object"
      ]
     },
     "execution_count": 323,
     "metadata": {},
     "output_type": "execute_result"
    }
   ],
   "source": [
    "data.dtypes"
   ]
  },
  {
   "cell_type": "code",
   "execution_count": 324,
   "id": "5cd84bc3",
   "metadata": {},
   "outputs": [
    {
     "data": {
      "text/html": [
       "<div>\n",
       "<style scoped>\n",
       "    .dataframe tbody tr th:only-of-type {\n",
       "        vertical-align: middle;\n",
       "    }\n",
       "\n",
       "    .dataframe tbody tr th {\n",
       "        vertical-align: top;\n",
       "    }\n",
       "\n",
       "    .dataframe thead th {\n",
       "        text-align: right;\n",
       "    }\n",
       "</style>\n",
       "<table border=\"1\" class=\"dataframe\">\n",
       "  <thead>\n",
       "    <tr style=\"text-align: right;\">\n",
       "      <th></th>\n",
       "      <th>ID</th>\n",
       "      <th>system</th>\n",
       "      <th>testname</th>\n",
       "      <th>result</th>\n",
       "      <th>date</th>\n",
       "      <th>runtime</th>\n",
       "    </tr>\n",
       "  </thead>\n",
       "  <tbody>\n",
       "    <tr>\n",
       "      <th>0</th>\n",
       "      <td>1</td>\n",
       "      <td>System A</td>\n",
       "      <td>Log-in</td>\n",
       "      <td>True</td>\n",
       "      <td>2022-03-02</td>\n",
       "      <td>00:01:34</td>\n",
       "    </tr>\n",
       "    <tr>\n",
       "      <th>1</th>\n",
       "      <td>2</td>\n",
       "      <td>System A</td>\n",
       "      <td>Vertrag_a</td>\n",
       "      <td>True</td>\n",
       "      <td>2022-03-02</td>\n",
       "      <td>00:05:41</td>\n",
       "    </tr>\n",
       "    <tr>\n",
       "      <th>2</th>\n",
       "      <td>3</td>\n",
       "      <td>System A</td>\n",
       "      <td>Vertrag_b</td>\n",
       "      <td>True</td>\n",
       "      <td>2022-03-02</td>\n",
       "      <td>00:09:48</td>\n",
       "    </tr>\n",
       "    <tr>\n",
       "      <th>3</th>\n",
       "      <td>4</td>\n",
       "      <td>System A</td>\n",
       "      <td>Vertrag_c</td>\n",
       "      <td>True</td>\n",
       "      <td>2022-03-02</td>\n",
       "      <td>00:03:55</td>\n",
       "    </tr>\n",
       "    <tr>\n",
       "      <th>4</th>\n",
       "      <td>5</td>\n",
       "      <td>System A</td>\n",
       "      <td>Vertrag_d</td>\n",
       "      <td>True</td>\n",
       "      <td>2022-03-02</td>\n",
       "      <td>00:02:02</td>\n",
       "    </tr>\n",
       "  </tbody>\n",
       "</table>\n",
       "</div>"
      ],
      "text/plain": [
       "   ID    system   testname  result        date   runtime\n",
       "0   1  System A     Log-in    True  2022-03-02  00:01:34\n",
       "1   2  System A  Vertrag_a    True  2022-03-02  00:05:41\n",
       "2   3  System A  Vertrag_b    True  2022-03-02  00:09:48\n",
       "3   4  System A  Vertrag_c    True  2022-03-02  00:03:55\n",
       "4   5  System A  Vertrag_d    True  2022-03-02  00:02:02"
      ]
     },
     "execution_count": 324,
     "metadata": {},
     "output_type": "execute_result"
    }
   ],
   "source": [
    "data = data.astype({\"result\": \"bool\", \"date\":\"datetime64\"})\n",
    "#data = data.astype({\"date\":\"datetime64\"})\n",
    "data[\"runtime\"] = pd.to_datetime(data[\"runtime\"], format= \"%H:%M:%S\").dt.time\n",
    "data[\"date\"] = pd.to_datetime(data[\"date\"], format= \"%D:%M:%Y\").dt.date\n",
    "data.head()"
   ]
  },
  {
   "cell_type": "markdown",
   "id": "c97163dd",
   "metadata": {},
   "source": [
    "Now we check if there are any null values"
   ]
  },
  {
   "cell_type": "code",
   "execution_count": 325,
   "id": "6f6b9463",
   "metadata": {},
   "outputs": [
    {
     "data": {
      "text/plain": [
       "ID          False\n",
       "system      False\n",
       "testname    False\n",
       "result      False\n",
       "date        False\n",
       "runtime     False\n",
       "dtype: bool"
      ]
     },
     "execution_count": 325,
     "metadata": {},
     "output_type": "execute_result"
    }
   ],
   "source": [
    "data.isna().any()"
   ]
  },
  {
   "cell_type": "markdown",
   "id": "d5f305a1",
   "metadata": {},
   "source": [
    "Here we set a column as an id."
   ]
  },
  {
   "cell_type": "code",
   "execution_count": 326,
   "id": "f01487bc",
   "metadata": {},
   "outputs": [
    {
     "name": "stdout",
     "output_type": "stream",
     "text": [
      "Index(['ID', 'system', 'testname', 'result', 'date', 'runtime', 'id'], dtype='object')\n"
     ]
    }
   ],
   "source": [
    "data['id'] = data['ID']\n",
    "data.set_index('id', inplace=True, drop=False)\n",
    "print(data.columns)"
   ]
  },
  {
   "cell_type": "code",
   "execution_count": 327,
   "id": "df22051a",
   "metadata": {},
   "outputs": [
    {
     "data": {
      "text/html": [
       "<div>\n",
       "<style scoped>\n",
       "    .dataframe tbody tr th:only-of-type {\n",
       "        vertical-align: middle;\n",
       "    }\n",
       "\n",
       "    .dataframe tbody tr th {\n",
       "        vertical-align: top;\n",
       "    }\n",
       "\n",
       "    .dataframe thead th {\n",
       "        text-align: right;\n",
       "    }\n",
       "</style>\n",
       "<table border=\"1\" class=\"dataframe\">\n",
       "  <thead>\n",
       "    <tr style=\"text-align: right;\">\n",
       "      <th></th>\n",
       "      <th>result</th>\n",
       "    </tr>\n",
       "  </thead>\n",
       "  <tbody>\n",
       "    <tr>\n",
       "      <th>True</th>\n",
       "      <td>15</td>\n",
       "    </tr>\n",
       "    <tr>\n",
       "      <th>False</th>\n",
       "      <td>5</td>\n",
       "    </tr>\n",
       "  </tbody>\n",
       "</table>\n",
       "</div>"
      ],
      "text/plain": [
       "       result\n",
       "True       15\n",
       "False       5"
      ]
     },
     "execution_count": 327,
     "metadata": {},
     "output_type": "execute_result"
    }
   ],
   "source": [
    "sub_data = data [['system', 'result']]\n",
    "sub_data = sub_data['result'].value_counts().to_frame()\n",
    "#sub_data.value_counts().to_frame()\n",
    "sub_data\n",
    "#\n",
    "#(sub_data.value_counts()).plot(kind=\"pie\")"
   ]
  },
  {
   "cell_type": "code",
   "execution_count": 328,
   "id": "08df4fde",
   "metadata": {},
   "outputs": [
    {
     "data": {
      "text/plain": [
       "array([<AxesSubplot:ylabel='result'>], dtype=object)"
      ]
     },
     "execution_count": 328,
     "metadata": {},
     "output_type": "execute_result"
    },
    {
     "data": {
      "image/png": "[encoded data removed]",
      "text/plain": [
       "<Figure size 432x288 with 1 Axes>"
      ]
     },
     "metadata": {},
     "output_type": "display_data"
    }
   ],
   "source": [
    "sub_data.plot(kind=\"pie\", subplots=True)"
   ]
  },
  {
   "cell_type": "code",
   "execution_count": 329,
   "id": "f95419fb",
   "metadata": {},
   "outputs": [
    {
     "data": {
      "text/html": [
       "<div>\n",
       "<style scoped>\n",
       "    .dataframe tbody tr th:only-of-type {\n",
       "        vertical-align: middle;\n",
       "    }\n",
       "\n",
       "    .dataframe tbody tr th {\n",
       "        vertical-align: top;\n",
       "    }\n",
       "\n",
       "    .dataframe thead th {\n",
       "        text-align: right;\n",
       "    }\n",
       "</style>\n",
       "<table border=\"1\" class=\"dataframe\">\n",
       "  <thead>\n",
       "    <tr style=\"text-align: right;\">\n",
       "      <th></th>\n",
       "      <th>result</th>\n",
       "      <th>count</th>\n",
       "    </tr>\n",
       "  </thead>\n",
       "  <tbody>\n",
       "    <tr>\n",
       "      <th>0</th>\n",
       "      <td>False</td>\n",
       "      <td>5</td>\n",
       "    </tr>\n",
       "    <tr>\n",
       "      <th>1</th>\n",
       "      <td>True</td>\n",
       "      <td>15</td>\n",
       "    </tr>\n",
       "  </tbody>\n",
       "</table>\n",
       "</div>"
      ],
      "text/plain": [
       "   result  count\n",
       "0   False      5\n",
       "1    True     15"
      ]
     },
     "execution_count": 329,
     "metadata": {},
     "output_type": "execute_result"
    }
   ],
   "source": [
    "dataset=data.groupby('result').size().reset_index(name='count')\n",
    "dataset.replace(to_replace= \"1\", value = \"Passed\")\n",
    "dataset\n",
    "#fig = px.bar(dataset, x='result', y='count') \n",
    "#fig.show()"
   ]
  },
  {
   "cell_type": "code",
   "execution_count": 330,
   "id": "a1b9b795",
   "metadata": {},
   "outputs": [
    {
     "data": {
      "application/vnd.plotly.v1+json": {
       "config": {
        "plotlyServerURL": "https://plot.ly"
       },
       "data": [
        {
         "domain": {
          "x": [
           0,
           1
          ],
          "y": [
           0,
           1
          ]
         },
         "hole": 0.4,
         "hovertemplate": "label=%{label}<br>value=%{value}<extra></extra>",
         "labels": [
          true,
          false
         ],
         "legendgroup": "",
         "name": "",
         "showlegend": true,
         "type": "pie",
         "values": [
          15,
          5
         ]
        }
       ],
       "layout": {
        "legend": {
         "tracegroupgap": 0
        },
        "margin": {
         "t": 60
        },
        "template": {
         "data": {
          "bar": [
           {
            "error_x": {
             "color": "#2a3f5f"
            },
            "error_y": {
             "color": "#2a3f5f"
            },
            "marker": {
             "line": {
              "color": "#E5ECF6",
              "width": 0.5
             },
             "pattern": {
              "fillmode": "overlay",
              "size": 10,
              "solidity": 0.2
             }
            },
            "type": "bar"
           }
          ],
          "barpolar": [
           {
            "marker": {
             "line": {
              "color": "#E5ECF6",
              "width": 0.5
             },
             "pattern": {
              "fillmode": "overlay",
              "size": 10,
              "solidity": 0.2
             }
            },
            "type": "barpolar"
           }
          ],
          "carpet": [
           {
            "aaxis": {
             "endlinecolor": "#2a3f5f",
             "gridcolor": "white",
             "linecolor": "white",
             "minorgridcolor": "white",
             "startlinecolor": "#2a3f5f"
            },
            "baxis": {
             "endlinecolor": "#2a3f5f",
             "gridcolor": "white",
             "linecolor": "white",
             "minorgridcolor": "white",
             "startlinecolor": "#2a3f5f"
            },
            "type": "carpet"
           }
          ],
          "choropleth": [
           {
            "colorbar": {
             "outlinewidth": 0,
             "ticks": ""
            },
            "type": "choropleth"
           }
          ],
          "contour": [
           {
            "colorbar": {
             "outlinewidth": 0,
             "ticks": ""
            },
            "colorscale": [
             [
              0,
              "#0d0887"
             ],
             [
              0.1111111111111111,
              "#46039f"
             ],
             [
              0.2222222222222222,
              "#7201a8"
             ],
             [
              0.3333333333333333,
              "#9c179e"
             ],
             [
              0.4444444444444444,
              "#bd3786"
             ],
             [
              0.5555555555555556,
              "#d8576b"
             ],
             [
              0.6666666666666666,
              "#ed7953"
             ],
             [
              0.7777777777777778,
              "#fb9f3a"
             ],
             [
              0.8888888888888888,
              "#fdca26"
             ],
             [
              1,
              "#f0f921"
             ]
            ],
            "type": "contour"
           }
          ],
          "contourcarpet": [
           {
            "colorbar": {
             "outlinewidth": 0,
             "ticks": ""
            },
            "type": "contourcarpet"
           }
          ],
          "heatmap": [
           {
            "colorbar": {
             "outlinewidth": 0,
             "ticks": ""
            },
            "colorscale": [
             [
              0,
              "#0d0887"
             ],
             [
              0.1111111111111111,
              "#46039f"
             ],
             [
              0.2222222222222222,
              "#7201a8"
             ],
             [
              0.3333333333333333,
              "#9c179e"
             ],
             [
              0.4444444444444444,
              "#bd3786"
             ],
             [
              0.5555555555555556,
              "#d8576b"
             ],
             [
              0.6666666666666666,
              "#ed7953"
             ],
             [
              0.7777777777777778,
              "#fb9f3a"
             ],
             [
              0.8888888888888888,
              "#fdca26"
             ],
             [
              1,
              "#f0f921"
             ]
            ],
            "type": "heatmap"
           }
          ],
          "heatmapgl": [
           {
            "colorbar": {
             "outlinewidth": 0,
             "ticks": ""
            },
            "colorscale": [
             [
              0,
              "#0d0887"
             ],
             [
              0.1111111111111111,
              "#46039f"
             ],
             [
              0.2222222222222222,
              "#7201a8"
             ],
             [
              0.3333333333333333,
              "#9c179e"
             ],
             [
              0.4444444444444444,
              "#bd3786"
             ],
             [
              0.5555555555555556,
              "#d8576b"
             ],
             [
              0.6666666666666666,
              "#ed7953"
             ],
             [
              0.7777777777777778,
              "#fb9f3a"
             ],
             [
              0.8888888888888888,
              "#fdca26"
             ],
             [
              1,
              "#f0f921"
             ]
            ],
            "type": "heatmapgl"
           }
          ],
          "histogram": [
           {
            "marker": {
             "pattern": {
              "fillmode": "overlay",
              "size": 10,
              "solidity": 0.2
             }
            },
            "type": "histogram"
           }
          ],
          "histogram2d": [
           {
            "colorbar": {
             "outlinewidth": 0,
             "ticks": ""
            },
            "colorscale": [
             [
              0,
              "#0d0887"
             ],
             [
              0.1111111111111111,
              "#46039f"
             ],
             [
              0.2222222222222222,
              "#7201a8"
             ],
             [
              0.3333333333333333,
              "#9c179e"
             ],
             [
              0.4444444444444444,
              "#bd3786"
             ],
             [
              0.5555555555555556,
              "#d8576b"
             ],
             [
              0.6666666666666666,
              "#ed7953"
             ],
             [
              0.7777777777777778,
              "#fb9f3a"
             ],
             [
              0.8888888888888888,
              "#fdca26"
             ],
             [
              1,
              "#f0f921"
             ]
            ],
            "type": "histogram2d"
           }
          ],
          "histogram2dcontour": [
           {
            "colorbar": {
             "outlinewidth": 0,
             "ticks": ""
            },
            "colorscale": [
             [
              0,
              "#0d0887"
             ],
             [
              0.1111111111111111,
              "#46039f"
             ],
             [
              0.2222222222222222,
              "#7201a8"
             ],
             [
              0.3333333333333333,
              "#9c179e"
             ],
             [
              0.4444444444444444,
              "#bd3786"
             ],
             [
              0.5555555555555556,
              "#d8576b"
             ],
             [
              0.6666666666666666,
              "#ed7953"
             ],
             [
              0.7777777777777778,
              "#fb9f3a"
             ],
             [
              0.8888888888888888,
              "#fdca26"
             ],
             [
              1,
              "#f0f921"
             ]
            ],
            "type": "histogram2dcontour"
           }
          ],
          "mesh3d": [
           {
            "colorbar": {
             "outlinewidth": 0,
             "ticks": ""
            },
            "type": "mesh3d"
           }
          ],
          "parcoords": [
           {
            "line": {
             "colorbar": {
              "outlinewidth": 0,
              "ticks": ""
             }
            },
            "type": "parcoords"
           }
          ],
          "pie": [
           {
            "automargin": true,
            "type": "pie"
           }
          ],
          "scatter": [
           {
            "marker": {
             "colorbar": {
              "outlinewidth": 0,
              "ticks": ""
             }
            },
            "type": "scatter"
           }
          ],
          "scatter3d": [
           {
            "line": {
             "colorbar": {
              "outlinewidth": 0,
              "ticks": ""
             }
            },
            "marker": {
             "colorbar": {
              "outlinewidth": 0,
              "ticks": ""
             }
            },
            "type": "scatter3d"
           }
          ],
          "scattercarpet": [
           {
            "marker": {
             "colorbar": {
              "outlinewidth": 0,
              "ticks": ""
             }
            },
            "type": "scattercarpet"
           }
          ],
          "scattergeo": [
           {
            "marker": {
             "colorbar": {
              "outlinewidth": 0,
              "ticks": ""
             }
            },
            "type": "scattergeo"
           }
          ],
          "scattergl": [
           {
            "marker": {
             "colorbar": {
              "outlinewidth": 0,
              "ticks": ""
             }
            },
            "type": "scattergl"
           }
          ],
          "scattermapbox": [
           {
            "marker": {
             "colorbar": {
              "outlinewidth": 0,
              "ticks": ""
             }
            },
            "type": "scattermapbox"
           }
          ],
          "scatterpolar": [
           {
            "marker": {
             "colorbar": {
              "outlinewidth": 0,
              "ticks": ""
             }
            },
            "type": "scatterpolar"
           }
          ],
          "scatterpolargl": [
           {
            "marker": {
             "colorbar": {
              "outlinewidth": 0,
              "ticks": ""
             }
            },
            "type": "scatterpolargl"
           }
          ],
          "scatterternary": [
           {
            "marker": {
             "colorbar": {
              "outlinewidth": 0,
              "ticks": ""
             }
            },
            "type": "scatterternary"
           }
          ],
          "surface": [
           {
            "colorbar": {
             "outlinewidth": 0,
             "ticks": ""
            },
            "colorscale": [
             [
              0,
              "#0d0887"
             ],
             [
              0.1111111111111111,
              "#46039f"
             ],
             [
              0.2222222222222222,
              "#7201a8"
             ],
             [
              0.3333333333333333,
              "#9c179e"
             ],
             [
              0.4444444444444444,
              "#bd3786"
             ],
             [
              0.5555555555555556,
              "#d8576b"
             ],
             [
              0.6666666666666666,
              "#ed7953"
             ],
             [
              0.7777777777777778,
              "#fb9f3a"
             ],
             [
              0.8888888888888888,
              "#fdca26"
             ],
             [
              1,
              "#f0f921"
             ]
            ],
            "type": "surface"
           }
          ],
          "table": [
           {
            "cells": {
             "fill": {
              "color": "#EBF0F8"
             },
             "line": {
              "color": "white"
             }
            },
            "header": {
             "fill": {
              "color": "#C8D4E3"
             },
             "line": {
              "color": "white"
             }
            },
            "type": "table"
           }
          ]
         },
         "layout": {
          "annotationdefaults": {
           "arrowcolor": "#2a3f5f",
           "arrowhead": 0,
           "arrowwidth": 1
          },
          "autotypenumbers": "strict",
          "coloraxis": {
           "colorbar": {
            "outlinewidth": 0,
            "ticks": ""
           }
          },
          "colorscale": {
           "diverging": [
            [
             0,
             "#8e0152"
            ],
            [
             0.1,
             "#c51b7d"
            ],
            [
             0.2,
             "#de77ae"
            ],
            [
             0.3,
             "#f1b6da"
            ],
            [
             0.4,
             "#fde0ef"
            ],
            [
             0.5,
             "#f7f7f7"
            ],
            [
             0.6,
             "#e6f5d0"
            ],
            [
             0.7,
             "#b8e186"
            ],
            [
             0.8,
             "#7fbc41"
            ],
            [
             0.9,
             "#4d9221"
            ],
            [
             1,
             "#276419"
            ]
           ],
           "sequential": [
            [
             0,
             "#0d0887"
            ],
            [
             0.1111111111111111,
             "#46039f"
            ],
            [
             0.2222222222222222,
             "#7201a8"
            ],
            [
             0.3333333333333333,
             "#9c179e"
            ],
            [
             0.4444444444444444,
             "#bd3786"
            ],
            [
             0.5555555555555556,
             "#d8576b"
            ],
            [
             0.6666666666666666,
             "#ed7953"
            ],
            [
             0.7777777777777778,
             "#fb9f3a"
            ],
            [
             0.8888888888888888,
             "#fdca26"
            ],
            [
             1,
             "#f0f921"
            ]
           ],
           "sequentialminus": [
            [
             0,
             "#0d0887"
            ],
            [
             0.1111111111111111,
             "#46039f"
            ],
            [
             0.2222222222222222,
             "#7201a8"
            ],
            [
             0.3333333333333333,
             "#9c179e"
            ],
            [
             0.4444444444444444,
             "#bd3786"
            ],
            [
             0.5555555555555556,
             "#d8576b"
            ],
            [
             0.6666666666666666,
             "#ed7953"
            ],
            [
             0.7777777777777778,
             "#fb9f3a"
            ],
            [
             0.8888888888888888,
             "#fdca26"
            ],
            [
             1,
             "#f0f921"
            ]
           ]
          },
          "colorway": [
           "#636efa",
           "#EF553B",
           "#00cc96",
           "#ab63fa",
           "#FFA15A",
           "#19d3f3",
           "#FF6692",
           "#B6E880",
           "#FF97FF",
           "#FECB52"
          ],
          "font": {
           "color": "#2a3f5f"
          },
          "geo": {
           "bgcolor": "white",
           "lakecolor": "white",
           "landcolor": "#E5ECF6",
           "showlakes": true,
           "showland": true,
           "subunitcolor": "white"
          },
          "hoverlabel": {
           "align": "left"
          },
          "hovermode": "closest",
          "mapbox": {
           "style": "light"
          },
          "paper_bgcolor": "white",
          "plot_bgcolor": "#E5ECF6",
          "polar": {
           "angularaxis": {
            "gridcolor": "white",
            "linecolor": "white",
            "ticks": ""
           },
           "bgcolor": "#E5ECF6",
           "radialaxis": {
            "gridcolor": "white",
            "linecolor": "white",
            "ticks": ""
           }
          },
          "scene": {
           "xaxis": {
            "backgroundcolor": "#E5ECF6",
            "gridcolor": "white",
            "gridwidth": 2,
            "linecolor": "white",
            "showbackground": true,
            "ticks": "",
            "zerolinecolor": "white"
           },
           "yaxis": {
            "backgroundcolor": "#E5ECF6",
            "gridcolor": "white",
            "gridwidth": 2,
            "linecolor": "white",
            "showbackground": true,
            "ticks": "",
            "zerolinecolor": "white"
           },
           "zaxis": {
            "backgroundcolor": "#E5ECF6",
            "gridcolor": "white",
            "gridwidth": 2,
            "linecolor": "white",
            "showbackground": true,
            "ticks": "",
            "zerolinecolor": "white"
           }
          },
          "shapedefaults": {
           "line": {
            "color": "#2a3f5f"
           }
          },
          "ternary": {
           "aaxis": {
            "gridcolor": "white",
            "linecolor": "white",
            "ticks": ""
           },
           "baxis": {
            "gridcolor": "white",
            "linecolor": "white",
            "ticks": ""
           },
           "bgcolor": "#E5ECF6",
           "caxis": {
            "gridcolor": "white",
            "linecolor": "white",
            "ticks": ""
           }
          },
          "title": {
           "x": 0.05
          },
          "xaxis": {
           "automargin": true,
           "gridcolor": "white",
           "linecolor": "white",
           "ticks": "",
           "title": {
            "standoff": 15
           },
           "zerolinecolor": "white",
           "zerolinewidth": 2
          },
          "yaxis": {
           "automargin": true,
           "gridcolor": "white",
           "linecolor": "white",
           "ticks": "",
           "title": {
            "standoff": 15
           },
           "zerolinecolor": "white",
           "zerolinewidth": 2
          }
         }
        }
       }
      }
     },
     "metadata": {},
     "output_type": "display_data"
    }
   ],
   "source": [
    "fig = px.pie(\n",
    "        data,\n",
    "        names=data[\"result\"].value_counts().index,\n",
    "        values=data[\"result\"].value_counts(),\n",
    "        labels={1: \"Success\", 0: \"Unsuccess\"},\n",
    "        hole=0.4,\n",
    "    )\n",
    "fig"
   ]
  },
  {
   "cell_type": "code",
   "execution_count": 331,
   "id": "4b546b59",
   "metadata": {},
   "outputs": [
    {
     "data": {
      "application/vnd.plotly.v1+json": {
       "config": {
        "plotlyServerURL": "https://plot.ly"
       },
       "data": [
        {
         "domain": {
          "x": [
           0,
           1
          ],
          "y": [
           0,
           1
          ]
         },
         "hovertemplate": "result=%{label}<br>count=%{value}<extra></extra>",
         "labels": [
          false,
          true
         ],
         "legendgroup": "",
         "name": "",
         "showlegend": true,
         "type": "pie",
         "values": [
          5,
          15
         ]
        }
       ],
       "layout": {
        "legend": {
         "tracegroupgap": 0
        },
        "margin": {
         "t": 60
        },
        "template": {
         "data": {
          "bar": [
           {
            "error_x": {
             "color": "#2a3f5f"
            },
            "error_y": {
             "color": "#2a3f5f"
            },
            "marker": {
             "line": {
              "color": "#E5ECF6",
              "width": 0.5
             },
             "pattern": {
              "fillmode": "overlay",
              "size": 10,
              "solidity": 0.2
             }
            },
            "type": "bar"
           }
          ],
          "barpolar": [
           {
            "marker": {
             "line": {
              "color": "#E5ECF6",
              "width": 0.5
             },
             "pattern": {
              "fillmode": "overlay",
              "size": 10,
              "solidity": 0.2
             }
            },
            "type": "barpolar"
           }
          ],
          "carpet": [
           {
            "aaxis": {
             "endlinecolor": "#2a3f5f",
             "gridcolor": "white",
             "linecolor": "white",
             "minorgridcolor": "white",
             "startlinecolor": "#2a3f5f"
            },
            "baxis": {
             "endlinecolor": "#2a3f5f",
             "gridcolor": "white",
             "linecolor": "white",
             "minorgridcolor": "white",
             "startlinecolor": "#2a3f5f"
            },
            "type": "carpet"
           }
          ],
          "choropleth": [
           {
            "colorbar": {
             "outlinewidth": 0,
             "ticks": ""
            },
            "type": "choropleth"
           }
          ],
          "contour": [
           {
            "colorbar": {
             "outlinewidth": 0,
             "ticks": ""
            },
            "colorscale": [
             [
              0,
              "#0d0887"
             ],
             [
              0.1111111111111111,
              "#46039f"
             ],
             [
              0.2222222222222222,
              "#7201a8"
             ],
             [
              0.3333333333333333,
              "#9c179e"
             ],
             [
              0.4444444444444444,
              "#bd3786"
             ],
             [
              0.5555555555555556,
              "#d8576b"
             ],
             [
              0.6666666666666666,
              "#ed7953"
             ],
             [
              0.7777777777777778,
              "#fb9f3a"
             ],
             [
              0.8888888888888888,
              "#fdca26"
             ],
             [
              1,
              "#f0f921"
             ]
            ],
            "type": "contour"
           }
          ],
          "contourcarpet": [
           {
            "colorbar": {
             "outlinewidth": 0,
             "ticks": ""
            },
            "type": "contourcarpet"
           }
          ],
          "heatmap": [
           {
            "colorbar": {
             "outlinewidth": 0,
             "ticks": ""
            },
            "colorscale": [
             [
              0,
              "#0d0887"
             ],
             [
              0.1111111111111111,
              "#46039f"
             ],
             [
              0.2222222222222222,
              "#7201a8"
             ],
             [
              0.3333333333333333,
              "#9c179e"
             ],
             [
              0.4444444444444444,
              "#bd3786"
             ],
             [
              0.5555555555555556,
              "#d8576b"
             ],
             [
              0.6666666666666666,
              "#ed7953"
             ],
             [
              0.7777777777777778,
              "#fb9f3a"
             ],
             [
              0.8888888888888888,
              "#fdca26"
             ],
             [
              1,
              "#f0f921"
             ]
            ],
            "type": "heatmap"
           }
          ],
          "heatmapgl": [
           {
            "colorbar": {
             "outlinewidth": 0,
             "ticks": ""
            },
            "colorscale": [
             [
              0,
              "#0d0887"
             ],
             [
              0.1111111111111111,
              "#46039f"
             ],
             [
              0.2222222222222222,
              "#7201a8"
             ],
             [
              0.3333333333333333,
              "#9c179e"
             ],
             [
              0.4444444444444444,
              "#bd3786"
             ],
             [
              0.5555555555555556,
              "#d8576b"
             ],
             [
              0.6666666666666666,
              "#ed7953"
             ],
             [
              0.7777777777777778,
              "#fb9f3a"
             ],
             [
              0.8888888888888888,
              "#fdca26"
             ],
             [
              1,
              "#f0f921"
             ]
            ],
            "type": "heatmapgl"
           }
          ],
          "histogram": [
           {
            "marker": {
             "pattern": {
              "fillmode": "overlay",
              "size": 10,
              "solidity": 0.2
             }
            },
            "type": "histogram"
           }
          ],
          "histogram2d": [
           {
            "colorbar": {
             "outlinewidth": 0,
             "ticks": ""
            },
            "colorscale": [
             [
              0,
              "#0d0887"
             ],
             [
              0.1111111111111111,
              "#46039f"
             ],
             [
              0.2222222222222222,
              "#7201a8"
             ],
             [
              0.3333333333333333,
              "#9c179e"
             ],
             [
              0.4444444444444444,
              "#bd3786"
             ],
             [
              0.5555555555555556,
              "#d8576b"
             ],
             [
              0.6666666666666666,
              "#ed7953"
             ],
             [
              0.7777777777777778,
              "#fb9f3a"
             ],
             [
              0.8888888888888888,
              "#fdca26"
             ],
             [
              1,
              "#f0f921"
             ]
            ],
            "type": "histogram2d"
           }
          ],
          "histogram2dcontour": [
           {
            "colorbar": {
             "outlinewidth": 0,
             "ticks": ""
            },
            "colorscale": [
             [
              0,
              "#0d0887"
             ],
             [
              0.1111111111111111,
              "#46039f"
             ],
             [
              0.2222222222222222,
              "#7201a8"
             ],
             [
              0.3333333333333333,
              "#9c179e"
             ],
             [
              0.4444444444444444,
              "#bd3786"
             ],
             [
              0.5555555555555556,
              "#d8576b"
             ],
             [
              0.6666666666666666,
              "#ed7953"
             ],
             [
              0.7777777777777778,
              "#fb9f3a"
             ],
             [
              0.8888888888888888,
              "#fdca26"
             ],
             [
              1,
              "#f0f921"
             ]
            ],
            "type": "histogram2dcontour"
           }
          ],
          "mesh3d": [
           {
            "colorbar": {
             "outlinewidth": 0,
             "ticks": ""
            },
            "type": "mesh3d"
           }
          ],
          "parcoords": [
           {
            "line": {
             "colorbar": {
              "outlinewidth": 0,
              "ticks": ""
             }
            },
            "type": "parcoords"
           }
          ],
          "pie": [
           {
            "automargin": true,
            "type": "pie"
           }
          ],
          "scatter": [
           {
            "marker": {
             "colorbar": {
              "outlinewidth": 0,
              "ticks": ""
             }
            },
            "type": "scatter"
           }
          ],
          "scatter3d": [
           {
            "line": {
             "colorbar": {
              "outlinewidth": 0,
              "ticks": ""
             }
            },
            "marker": {
             "colorbar": {
              "outlinewidth": 0,
              "ticks": ""
             }
            },
            "type": "scatter3d"
           }
          ],
          "scattercarpet": [
           {
            "marker": {
             "colorbar": {
              "outlinewidth": 0,
              "ticks": ""
             }
            },
            "type": "scattercarpet"
           }
          ],
          "scattergeo": [
           {
            "marker": {
             "colorbar": {
              "outlinewidth": 0,
              "ticks": ""
             }
            },
            "type": "scattergeo"
           }
          ],
          "scattergl": [
           {
            "marker": {
             "colorbar": {
              "outlinewidth": 0,
              "ticks": ""
             }
            },
            "type": "scattergl"
           }
          ],
          "scattermapbox": [
           {
            "marker": {
             "colorbar": {
              "outlinewidth": 0,
              "ticks": ""
             }
            },
            "type": "scattermapbox"
           }
          ],
          "scatterpolar": [
           {
            "marker": {
             "colorbar": {
              "outlinewidth": 0,
              "ticks": ""
             }
            },
            "type": "scatterpolar"
           }
          ],
          "scatterpolargl": [
           {
            "marker": {
             "colorbar": {
              "outlinewidth": 0,
              "ticks": ""
             }
            },
            "type": "scatterpolargl"
           }
          ],
          "scatterternary": [
           {
            "marker": {
             "colorbar": {
              "outlinewidth": 0,
              "ticks": ""
             }
            },
            "type": "scatterternary"
           }
          ],
          "surface": [
           {
            "colorbar": {
             "outlinewidth": 0,
             "ticks": ""
            },
            "colorscale": [
             [
              0,
              "#0d0887"
             ],
             [
              0.1111111111111111,
              "#46039f"
             ],
             [
              0.2222222222222222,
              "#7201a8"
             ],
             [
              0.3333333333333333,
              "#9c179e"
             ],
             [
              0.4444444444444444,
              "#bd3786"
             ],
             [
              0.5555555555555556,
              "#d8576b"
             ],
             [
              0.6666666666666666,
              "#ed7953"
             ],
             [
              0.7777777777777778,
              "#fb9f3a"
             ],
             [
              0.8888888888888888,
              "#fdca26"
             ],
             [
              1,
              "#f0f921"
             ]
            ],
            "type": "surface"
           }
          ],
          "table": [
           {
            "cells": {
             "fill": {
              "color": "#EBF0F8"
             },
             "line": {
              "color": "white"
             }
            },
            "header": {
             "fill": {
              "color": "#C8D4E3"
             },
             "line": {
              "color": "white"
             }
            },
            "type": "table"
           }
          ]
         },
         "layout": {
          "annotationdefaults": {
           "arrowcolor": "#2a3f5f",
           "arrowhead": 0,
           "arrowwidth": 1
          },
          "autotypenumbers": "strict",
          "coloraxis": {
           "colorbar": {
            "outlinewidth": 0,
            "ticks": ""
           }
          },
          "colorscale": {
           "diverging": [
            [
             0,
             "#8e0152"
            ],
            [
             0.1,
             "#c51b7d"
            ],
            [
             0.2,
             "#de77ae"
            ],
            [
             0.3,
             "#f1b6da"
            ],
            [
             0.4,
             "#fde0ef"
            ],
            [
             0.5,
             "#f7f7f7"
            ],
            [
             0.6,
             "#e6f5d0"
            ],
            [
             0.7,
             "#b8e186"
            ],
            [
             0.8,
             "#7fbc41"
            ],
            [
             0.9,
             "#4d9221"
            ],
            [
             1,
             "#276419"
            ]
           ],
           "sequential": [
            [
             0,
             "#0d0887"
            ],
            [
             0.1111111111111111,
             "#46039f"
            ],
            [
             0.2222222222222222,
             "#7201a8"
            ],
            [
             0.3333333333333333,
             "#9c179e"
            ],
            [
             0.4444444444444444,
             "#bd3786"
            ],
            [
             0.5555555555555556,
             "#d8576b"
            ],
            [
             0.6666666666666666,
             "#ed7953"
            ],
            [
             0.7777777777777778,
             "#fb9f3a"
            ],
            [
             0.8888888888888888,
             "#fdca26"
            ],
            [
             1,
             "#f0f921"
            ]
           ],
           "sequentialminus": [
            [
             0,
             "#0d0887"
            ],
            [
             0.1111111111111111,
             "#46039f"
            ],
            [
             0.2222222222222222,
             "#7201a8"
            ],
            [
             0.3333333333333333,
             "#9c179e"
            ],
            [
             0.4444444444444444,
             "#bd3786"
            ],
            [
             0.5555555555555556,
             "#d8576b"
            ],
            [
             0.6666666666666666,
             "#ed7953"
            ],
            [
             0.7777777777777778,
             "#fb9f3a"
            ],
            [
             0.8888888888888888,
             "#fdca26"
            ],
            [
             1,
             "#f0f921"
            ]
           ]
          },
          "colorway": [
           "#636efa",
           "#EF553B",
           "#00cc96",
           "#ab63fa",
           "#FFA15A",
           "#19d3f3",
           "#FF6692",
           "#B6E880",
           "#FF97FF",
           "#FECB52"
          ],
          "font": {
           "color": "#2a3f5f"
          },
          "geo": {
           "bgcolor": "white",
           "lakecolor": "white",
           "landcolor": "#E5ECF6",
           "showlakes": true,
           "showland": true,
           "subunitcolor": "white"
          },
          "hoverlabel": {
           "align": "left"
          },
          "hovermode": "closest",
          "mapbox": {
           "style": "light"
          },
          "paper_bgcolor": "white",
          "plot_bgcolor": "#E5ECF6",
          "polar": {
           "angularaxis": {
            "gridcolor": "white",
            "linecolor": "white",
            "ticks": ""
           },
           "bgcolor": "#E5ECF6",
           "radialaxis": {
            "gridcolor": "white",
            "linecolor": "white",
            "ticks": ""
           }
          },
          "scene": {
           "xaxis": {
            "backgroundcolor": "#E5ECF6",
            "gridcolor": "white",
            "gridwidth": 2,
            "linecolor": "white",
            "showbackground": true,
            "ticks": "",
            "zerolinecolor": "white"
           },
           "yaxis": {
            "backgroundcolor": "#E5ECF6",
            "gridcolor": "white",
            "gridwidth": 2,
            "linecolor": "white",
            "showbackground": true,
            "ticks": "",
            "zerolinecolor": "white"
           },
           "zaxis": {
            "backgroundcolor": "#E5ECF6",
            "gridcolor": "white",
            "gridwidth": 2,
            "linecolor": "white",
            "showbackground": true,
            "ticks": "",
            "zerolinecolor": "white"
           }
          },
          "shapedefaults": {
           "line": {
            "color": "#2a3f5f"
           }
          },
          "ternary": {
           "aaxis": {
            "gridcolor": "white",
            "linecolor": "white",
            "ticks": ""
           },
           "baxis": {
            "gridcolor": "white",
            "linecolor": "white",
            "ticks": ""
           },
           "bgcolor": "#E5ECF6",
           "caxis": {
            "gridcolor": "white",
            "linecolor": "white",
            "ticks": ""
           }
          },
          "title": {
           "x": 0.05
          },
          "xaxis": {
           "automargin": true,
           "gridcolor": "white",
           "linecolor": "white",
           "ticks": "",
           "title": {
            "standoff": 15
           },
           "zerolinecolor": "white",
           "zerolinewidth": 2
          },
          "yaxis": {
           "automargin": true,
           "gridcolor": "white",
           "linecolor": "white",
           "ticks": "",
           "title": {
            "standoff": 15
           },
           "zerolinecolor": "white",
           "zerolinewidth": 2
          }
         }
        }
       }
      }
     },
     "metadata": {},
     "output_type": "display_data"
    }
   ],
   "source": [
    "fig = px.pie(dataset, values='count', names='result')\n",
    "fig.show()"
   ]
  },
  {
   "cell_type": "code",
   "execution_count": 332,
   "id": "876a4a6d",
   "metadata": {},
   "outputs": [
    {
     "name": "stdout",
     "output_type": "stream",
     "text": [
      "['System A', 'System B']\n"
     ]
    }
   ],
   "source": [
    "#data[data['system'] == \"System B\"]\n",
    "option = []\n",
    "for i in (data[\"system\"].unique()):\n",
    "    option.append(i)\n",
    "print(option)"
   ]
  },
  {
   "cell_type": "markdown",
   "id": "5d6d6c03",
   "metadata": {},
   "source": []
  },
  {
   "cell_type": "markdown",
   "id": "a66c7cb4",
   "metadata": {},
   "source": [
    "# Dashboard creation\n",
    "Next we start building the dashboard."
   ]
  },
  {
   "cell_type": "code",
   "execution_count": 333,
   "id": "70361548",
   "metadata": {},
   "outputs": [],
   "source": [
    "app = Dash(__name__)"
   ]
  },
  {
   "cell_type": "code",
   "execution_count": 334,
   "id": "6aed67ac",
   "metadata": {},
   "outputs": [],
   "source": [
    "#app = dash.Dash(__name__, prevent_initial_callbacks=True)\n",
    "\n",
    "option = []\n",
    "        \n",
    "for i in (data[\"system\"].unique()):\n",
    "    option.append(i)\n",
    "\n",
    "app.layout = html.Div([\n",
    "    html.Div([\n",
    "        dash_table.DataTable(\n",
    "        id='datatable-interactivity',\n",
    "            columns=[\n",
    "                {\"name\": i, \"id\": i, \"deletable\": False, \"selectable\": True, \"hideable\": True}\n",
    "                # only a few columns in our data table are hideable\n",
    "                if i == \"ID\" or i == \"system\" or i == \"runtime\" or i == \"id\"\n",
    "                else {\"name\": i, \"id\": i, \"deletable\": False, \"selectable\": True}\n",
    "                for i in data.columns\n",
    "            ],\n",
    "\n",
    "        data=data.to_dict('records'),\n",
    "        filter_action=\"native\",\n",
    "        sort_action=\"native\",\n",
    "        sort_mode=\"single\",\n",
    "        column_selectable = \"multi\", \n",
    "        fixed_rows={'headers': True},\n",
    "        row_selectable=\"multi\",     # allow users to select 'multi' or 'single' rows\n",
    "        row_deletable=True,         # choose if user can delete a row (True) or not (False)\n",
    "        selected_columns=[],        # ids of columns that user selects\n",
    "        selected_rows=[],           # indices of rows that user selects\n",
    "        page_action=\"native\",       # all data is passed to the table up-front or not ('none')\n",
    "        style_table = {'height': '300px', 'overflowY': 'auto'},\n",
    "        style_cell={                # ensure adequate header width when text is shorter than cell's text\n",
    "            'minWidth': 95, 'maxWidth': 95, 'width': 95\n",
    "        },\n",
    "        style_cell_conditional=[    # align text columns to left. By default they are aligned to right\n",
    "            {\n",
    "                'if': {'column_id': c},\n",
    "                'textAlign': 'left'\n",
    "            } for c in ['testname', 'system']\n",
    "        ],\n",
    "        style_data={                # overflow cells' content into multiple lines\n",
    "            'whiteSpace': 'normal',\n",
    "            'height': 'auto'\n",
    "        }\n",
    "    ),\n",
    "\n",
    "    ]),\n",
    "\n",
    "    html.Br(),\n",
    "    html.Br(),\n",
    "    #data[data['system'] == option[0]]\n",
    "    html.Div([\n",
    "        html.Div([\n",
    "            dcc.Dropdown(id='dropdown_1',\n",
    "                options=[\n",
    "                         {'label': option[0], 'value': 'system'},\n",
    "                         {'label': option[1], 'value': 'testname'},\n",
    "                         #{'label': option[2], 'value': 'testname'},\n",
    "                         #{'label': option[3], 'value': 'testname'},\n",
    "                ],\n",
    "                #value='system',\n",
    "                multi=True,\n",
    "                clearable=True\n",
    "            ),\n",
    "        ],className='six columns'),\n",
    "       \n",
    "        html.Div(\n",
    "             id='pie-container'\n",
    "        ),\n",
    "\n",
    "        ], className= 'row'),\n",
    "\n",
    "   # html.Br(),\n",
    "   # html.Br(),\n",
    "    \n",
    "    html.Div(id='choromap-container')\n",
    "      \n",
    "      ])"
   ]
  },
  {
   "cell_type": "code",
   "execution_count": 335,
   "id": "3562702f",
   "metadata": {},
   "outputs": [],
   "source": [
    "@app.callback( \n",
    "    Output(component_id='pie-container', component_property='children'),\n",
    "    [Input(component_id='datatable-interactivity', component_property=\"derived_virtual_data\"),\n",
    "     Input(component_id='datatable-interactivity', component_property='derived_virtual_selected_rows'),\n",
    "     Input(component_id='datatable-interactivity', component_property='derived_virtual_selected_row_ids'),\n",
    "     Input(component_id='datatable-interactivity', component_property='selected_rows'),\n",
    "     Input(component_id='datatable-interactivity', component_property='derived_virtual_indices'),\n",
    "     Input(component_id='datatable-interactivity', component_property='derived_virtual_row_ids'),\n",
    "     Input(component_id='datatable-interactivity', component_property='active_cell'),\n",
    "     Input(component_id='datatable-interactivity', component_property='selected_cells')]\n",
    ")\n",
    "def update_pie(all_rows_data, slctd_row_indices, slct_rows_names, slctd_rows,\n",
    "               order_of_rows_indices, order_of_rows_names, actv_cell, slctd_cell):\n",
    "\n",
    "    dff = pd.DataFrame(all_rows_data)\n",
    "\n",
    "    dff_sub=dff.groupby('result').size().reset_index(name='count')\n",
    "    dff_sub[\"result\"].replace([\"true\", \"false\"],[\"Passed\", \"Failed\"])\n",
    "\n",
    "    if \"result\" in dff:\n",
    "        return [\n",
    "            dcc.Graph(id='pie-chart',\n",
    "                      figure=px.pie(\n",
    "                          data_frame=dff_sub,\n",
    "                          values= \"count\",\n",
    "                          names= \"result\",\n",
    "                      )\n",
    "                    )\n",
    "        ]"
   ]
  },
  {
   "cell_type": "code",
   "execution_count": null,
   "id": "c07493af",
   "metadata": {},
   "outputs": [],
   "source": []
  },
  {
   "cell_type": "code",
   "execution_count": 336,
   "id": "13f50591",
   "metadata": {},
   "outputs": [],
   "source": [
    "#@app.callback(\n",
    "#    Output('datatable-interactivity', 'style_data_conditional'),\n",
    "#    [Input('datatable-interactivity', 'selected_columns')]\n",
    "#)\n",
    "#def update_styles(selected_columns):\n",
    "#    return [{\n",
    "#        'if': {'column_id': i},\n",
    "#        'background_color': '#D2F3FF'\n",
    "#    } for i in selected_columns]\n"
   ]
  },
  {
   "cell_type": "code",
   "execution_count": 337,
   "id": "0e10a0d0",
   "metadata": {},
   "outputs": [
    {
     "name": "stdout",
     "output_type": "stream",
     "text": [
      "Dash is running on http://127.0.0.1:8050/\n",
      "\n",
      "Dash is running on http://127.0.0.1:8050/\n",
      "\n",
      "Dash is running on http://127.0.0.1:8050/\n",
      "\n",
      "Dash is running on http://127.0.0.1:8050/\n",
      "\n",
      "Dash is running on http://127.0.0.1:8050/\n",
      "\n",
      "Dash is running on http://127.0.0.1:8050/\n",
      "\n",
      "Dash is running on http://127.0.0.1:8050/\n",
      "\n",
      "Dash is running on http://127.0.0.1:8050/\n",
      "\n",
      "Dash is running on http://127.0.0.1:8050/\n",
      "\n",
      "Dash is running on http://127.0.0.1:8050/\n",
      "\n",
      "Dash is running on http://127.0.0.1:8050/\n",
      "\n",
      "Dash is running on http://127.0.0.1:8050/\n",
      "\n",
      "Dash is running on http://127.0.0.1:8050/\n",
      "\n",
      "Dash is running on http://127.0.0.1:8050/\n",
      "\n",
      "Dash is running on http://127.0.0.1:8050/\n",
      "\n",
      "Dash is running on http://127.0.0.1:8050/\n",
      "\n",
      "Dash is running on http://127.0.0.1:8050/\n",
      "\n",
      "Dash is running on http://127.0.0.1:8050/\n",
      "\n",
      "Dash is running on http://127.0.0.1:8050/\n",
      "\n",
      "Dash is running on http://127.0.0.1:8050/\n",
      "\n",
      "Dash is running on http://127.0.0.1:8050/\n",
      "\n",
      "Dash is running on http://127.0.0.1:8050/\n",
      "\n",
      "Dash is running on http://127.0.0.1:8050/\n",
      "\n",
      "Dash is running on http://127.0.0.1:8050/\n",
      "\n",
      "Dash is running on http://127.0.0.1:8050/\n",
      "\n",
      "Dash is running on http://127.0.0.1:8050/\n",
      "\n",
      "Dash is running on http://127.0.0.1:8050/\n",
      "\n",
      "Dash is running on http://127.0.0.1:8050/\n",
      "\n",
      "Dash is running on http://127.0.0.1:8050/\n",
      "\n",
      "Dash is running on http://127.0.0.1:8050/\n",
      "\n",
      "Dash is running on http://127.0.0.1:8050/\n",
      "\n",
      "Dash is running on http://127.0.0.1:8050/\n",
      "\n",
      "Dash is running on http://127.0.0.1:8050/\n",
      "\n",
      "Dash is running on http://127.0.0.1:8050/\n",
      "\n",
      "Dash is running on http://127.0.0.1:8050/\n",
      "\n",
      "Dash is running on http://127.0.0.1:8050/\n",
      "\n",
      "Dash is running on http://127.0.0.1:8050/\n",
      "\n",
      "Dash is running on http://127.0.0.1:8050/\n",
      "\n",
      "Dash is running on http://127.0.0.1:8050/\n",
      "\n",
      "Dash is running on http://127.0.0.1:8050/\n",
      "\n",
      "Dash is running on http://127.0.0.1:8050/\n",
      "\n",
      "Dash is running on http://127.0.0.1:8050/\n",
      "\n",
      "Dash is running on http://127.0.0.1:8050/\n",
      "\n",
      "Dash is running on http://127.0.0.1:8050/\n",
      "\n",
      "Dash is running on http://127.0.0.1:8050/\n",
      "\n",
      "Dash is running on http://127.0.0.1:8050/\n",
      "\n",
      "Dash is running on http://127.0.0.1:8050/\n",
      "\n",
      "Dash is running on http://127.0.0.1:8050/\n",
      "\n",
      "Dash is running on http://127.0.0.1:8050/\n",
      "\n",
      "Dash is running on http://127.0.0.1:8050/\n",
      "\n",
      "Dash is running on http://127.0.0.1:8050/\n",
      "\n",
      " * Serving Flask app \"__main__\" (lazy loading)\n",
      " * Environment: production\n",
      "\u001b[31m   WARNING: This is a development server. Do not use it in a production deployment.\u001b[0m\n",
      "\u001b[2m   Use a production WSGI server instead.\u001b[0m\n",
      " * Debug mode: off\n"
     ]
    },
    {
     "name": "stderr",
     "output_type": "stream",
     "text": [
      " * Running on http://127.0.0.1:8050/ (Press CTRL+C to quit)\n",
      "127.0.0.1 - - [28/Mar/2022 23:18:28] \"GET / HTTP/1.1\" 200 -\n",
      "127.0.0.1 - - [28/Mar/2022 23:18:28] \"GET /_dash-component-suites/dash/deps/polyfill@7.v2_2_0m1648480726.12.1.min.js HTTP/1.1\" 200 -\n",
      "127.0.0.1 - - [28/Mar/2022 23:18:29] \"GET /_dash-layout HTTP/1.1\" 200 -\n",
      "127.0.0.1 - - [28/Mar/2022 23:18:29] \"GET /_dash-dependencies HTTP/1.1\" 200 -\n",
      "127.0.0.1 - - [28/Mar/2022 23:18:29] \"GET /_favicon.ico?v=2.2.0 HTTP/1.1\" 200 -\n",
      "127.0.0.1 - - [28/Mar/2022 23:18:29] \"GET /_dash-component-suites/dash/dash_table/async-highlight.js HTTP/1.1\" 304 -\n",
      "127.0.0.1 - - [28/Mar/2022 23:18:29] \"GET /_dash-component-suites/dash/dash_table/async-table.js HTTP/1.1\" 304 -\n",
      "127.0.0.1 - - [28/Mar/2022 23:18:29] \"GET /_dash-component-suites/dash/dcc/async-dropdown.js HTTP/1.1\" 304 -\n"
     ]
    },
    {
     "name": "stdout",
     "output_type": "stream",
     "text": [
      "Exception on /_dash-update-component [POST]\n",
      "Traceback (most recent call last):\n",
      "  File \"C:\\Users\\gaert\\anaconda3\\lib\\site-packages\\flask\\app.py\", line 2447, in wsgi_app\n",
      "    response = self.full_dispatch_request()\n",
      "  File \"C:\\Users\\gaert\\anaconda3\\lib\\site-packages\\flask\\app.py\", line 1952, in full_dispatch_request\n",
      "    rv = self.handle_user_exception(e)\n",
      "  File \"C:\\Users\\gaert\\anaconda3\\lib\\site-packages\\flask\\app.py\", line 1821, in handle_user_exception\n",
      "    reraise(exc_type, exc_value, tb)\n",
      "  File \"C:\\Users\\gaert\\anaconda3\\lib\\site-packages\\flask\\_compat.py\", line 39, in reraise\n",
      "    raise value\n",
      "  File \"C:\\Users\\gaert\\anaconda3\\lib\\site-packages\\flask\\app.py\", line 1950, in full_dispatch_request\n",
      "    rv = self.dispatch_request()\n",
      "  File \"C:\\Users\\gaert\\anaconda3\\lib\\site-packages\\flask\\app.py\", line 1936, in dispatch_request\n",
      "    return self.view_functions[rule.endpoint](**req.view_args)\n",
      "  File \"C:\\Users\\gaert\\anaconda3\\lib\\site-packages\\dash\\dash.py\", line 1344, in dispatch\n",
      "    raise KeyError(msg.format(output)) from missing_callback_function\n",
      "  File \"C:\\Users\\gaert\\anaconda3\\lib\\site-packages\\dash\\_callback.py\", line 151, in add_context\n",
      "    output_value = func(*func_args, **func_kwargs)  # %% callback invoked %%\n",
      "  File \"C:\\Users\\gaert\\AppData\\Local\\Temp/ipykernel_83244/3598560302.py\", line 17, in update_pie\n",
      "    dff_sub=dff.groupby('result').size().reset_index(name='count')\n",
      "  File \"C:\\Users\\gaert\\anaconda3\\lib\\site-packages\\pandas\\core\\frame.py\", line 7631, in groupby\n",
      "    return DataFrameGroupBy(\n",
      "  File \"C:\\Users\\gaert\\anaconda3\\lib\\site-packages\\pandas\\core\\groupby\\groupby.py\", line 889, in __init__\n",
      "    grouper, exclusions, obj = get_grouper(\n",
      "  File \"C:\\Users\\gaert\\anaconda3\\lib\\site-packages\\pandas\\core\\groupby\\grouper.py\", line 862, in get_grouper\n",
      "    raise KeyError(gpr)\n",
      "KeyError: 'result'\n",
      "Exception on /_dash-update-component [POST]\n",
      "Traceback (most recent call last):\n",
      "  File \"C:\\Users\\gaert\\anaconda3\\lib\\site-packages\\flask\\app.py\", line 2447, in wsgi_app\n",
      "    response = self.full_dispatch_request()\n",
      "  File \"C:\\Users\\gaert\\anaconda3\\lib\\site-packages\\flask\\app.py\", line 1952, in full_dispatch_request\n",
      "    rv = self.handle_user_exception(e)\n",
      "  File \"C:\\Users\\gaert\\anaconda3\\lib\\site-packages\\flask\\app.py\", line 1821, in handle_user_exception\n",
      "    reraise(exc_type, exc_value, tb)\n",
      "  File \"C:\\Users\\gaert\\anaconda3\\lib\\site-packages\\flask\\_compat.py\", line 39, in reraise\n",
      "    raise value\n",
      "  File \"C:\\Users\\gaert\\anaconda3\\lib\\site-packages\\flask\\app.py\", line 1950, in full_dispatch_request\n",
      "    rv = self.dispatch_request()\n",
      "  File \"C:\\Users\\gaert\\anaconda3\\lib\\site-packages\\flask\\app.py\", line 1936, in dispatch_request\n",
      "    return self.view_functions[rule.endpoint](**req.view_args)\n",
      "  File \"C:\\Users\\gaert\\anaconda3\\lib\\site-packages\\dash\\dash.py\", line 1344, in dispatch\n",
      "    raise KeyError(msg.format(output)) from missing_callback_function\n",
      "  File \"C:\\Users\\gaert\\anaconda3\\lib\\site-packages\\dash\\_callback.py\", line 151, in add_context\n",
      "    output_value = func(*func_args, **func_kwargs)  # %% callback invoked %%\n",
      "  File \"C:\\Users\\gaert\\AppData\\Local\\Temp/ipykernel_83244/3598560302.py\", line 17, in update_pie\n",
      "    dff_sub=dff.groupby('result').size().reset_index(name='count')\n",
      "  File \"C:\\Users\\gaert\\anaconda3\\lib\\site-packages\\pandas\\core\\frame.py\", line 7631, in groupby\n",
      "    return DataFrameGroupBy(\n",
      "  File \"C:\\Users\\gaert\\anaconda3\\lib\\site-packages\\pandas\\core\\groupby\\groupby.py\", line 889, in __init__\n",
      "    grouper, exclusions, obj = get_grouper(\n",
      "  File \"C:\\Users\\gaert\\anaconda3\\lib\\site-packages\\pandas\\core\\groupby\\grouper.py\", line 862, in get_grouper\n",
      "    raise KeyError(gpr)\n",
      "KeyError: 'result'\n",
      "Exception on /_dash-update-component [POST]\n",
      "Traceback (most recent call last):\n",
      "  File \"C:\\Users\\gaert\\anaconda3\\lib\\site-packages\\flask\\app.py\", line 2447, in wsgi_app\n",
      "    response = self.full_dispatch_request()\n",
      "  File \"C:\\Users\\gaert\\anaconda3\\lib\\site-packages\\flask\\app.py\", line 1952, in full_dispatch_request\n",
      "    rv = self.handle_user_exception(e)\n",
      "  File \"C:\\Users\\gaert\\anaconda3\\lib\\site-packages\\flask\\app.py\", line 1821, in handle_user_exception\n",
      "    reraise(exc_type, exc_value, tb)\n",
      "  File \"C:\\Users\\gaert\\anaconda3\\lib\\site-packages\\flask\\_compat.py\", line 39, in reraise\n",
      "    raise value\n",
      "  File \"C:\\Users\\gaert\\anaconda3\\lib\\site-packages\\flask\\app.py\", line 1950, in full_dispatch_request\n",
      "    rv = self.dispatch_request()\n",
      "  File \"C:\\Users\\gaert\\anaconda3\\lib\\site-packages\\flask\\app.py\", line 1936, in dispatch_request\n",
      "    return self.view_functions[rule.endpoint](**req.view_args)\n",
      "  File \"C:\\Users\\gaert\\anaconda3\\lib\\site-packages\\dash\\dash.py\", line 1344, in dispatch\n",
      "    raise KeyError(msg.format(output)) from missing_callback_function\n",
      "  File \"C:\\Users\\gaert\\anaconda3\\lib\\site-packages\\dash\\_callback.py\", line 151, in add_context\n",
      "    output_value = func(*func_args, **func_kwargs)  # %% callback invoked %%\n",
      "  File \"C:\\Users\\gaert\\AppData\\Local\\Temp/ipykernel_83244/3598560302.py\", line 17, in update_pie\n",
      "    dff_sub=dff.groupby('result').size().reset_index(name='count')\n",
      "  File \"C:\\Users\\gaert\\anaconda3\\lib\\site-packages\\pandas\\core\\frame.py\", line 7631, in groupby\n",
      "    return DataFrameGroupBy(\n",
      "  File \"C:\\Users\\gaert\\anaconda3\\lib\\site-packages\\pandas\\core\\groupby\\groupby.py\", line 889, in __init__\n",
      "    grouper, exclusions, obj = get_grouper(\n",
      "  File \"C:\\Users\\gaert\\anaconda3\\lib\\site-packages\\pandas\\core\\groupby\\grouper.py\", line 862, in get_grouper\n",
      "    raise KeyError(gpr)\n",
      "KeyError: 'result'\n",
      "Exception on /_dash-update-component [POST]\n",
      "Traceback (most recent call last):\n",
      "  File \"C:\\Users\\gaert\\anaconda3\\lib\\site-packages\\flask\\app.py\", line 2447, in wsgi_app\n",
      "    response = self.full_dispatch_request()\n",
      "  File \"C:\\Users\\gaert\\anaconda3\\lib\\site-packages\\flask\\app.py\", line 1952, in full_dispatch_request\n",
      "    rv = self.handle_user_exception(e)\n",
      "  File \"C:\\Users\\gaert\\anaconda3\\lib\\site-packages\\flask\\app.py\", line 1821, in handle_user_exception\n",
      "    reraise(exc_type, exc_value, tb)\n",
      "  File \"C:\\Users\\gaert\\anaconda3\\lib\\site-packages\\flask\\_compat.py\", line 39, in reraise\n",
      "    raise value\n",
      "  File \"C:\\Users\\gaert\\anaconda3\\lib\\site-packages\\flask\\app.py\", line 1950, in full_dispatch_request\n",
      "    rv = self.dispatch_request()\n",
      "  File \"C:\\Users\\gaert\\anaconda3\\lib\\site-packages\\flask\\app.py\", line 1936, in dispatch_request\n",
      "    return self.view_functions[rule.endpoint](**req.view_args)\n",
      "  File \"C:\\Users\\gaert\\anaconda3\\lib\\site-packages\\dash\\dash.py\", line 1344, in dispatch\n",
      "    raise KeyError(msg.format(output)) from missing_callback_function\n",
      "  File \"C:\\Users\\gaert\\anaconda3\\lib\\site-packages\\dash\\_callback.py\", line 151, in add_context\n",
      "    output_value = func(*func_args, **func_kwargs)  # %% callback invoked %%\n",
      "  File \"C:\\Users\\gaert\\AppData\\Local\\Temp/ipykernel_83244/3598560302.py\", line 17, in update_pie\n",
      "    dff_sub=dff.groupby('result').size().reset_index(name='count')\n",
      "  File \"C:\\Users\\gaert\\anaconda3\\lib\\site-packages\\pandas\\core\\frame.py\", line 7631, in groupby\n",
      "    return DataFrameGroupBy(\n",
      "  File \"C:\\Users\\gaert\\anaconda3\\lib\\site-packages\\pandas\\core\\groupby\\groupby.py\", line 889, in __init__\n",
      "    grouper, exclusions, obj = get_grouper(\n",
      "  File \"C:\\Users\\gaert\\anaconda3\\lib\\site-packages\\pandas\\core\\groupby\\grouper.py\", line 862, in get_grouper\n",
      "    raise KeyError(gpr)\n",
      "KeyError: 'result'\n",
      "Exception on /_dash-update-component [POST]\n",
      "Traceback (most recent call last):\n",
      "  File \"C:\\Users\\gaert\\anaconda3\\lib\\site-packages\\flask\\app.py\", line 2447, in wsgi_app\n",
      "    response = self.full_dispatch_request()\n",
      "  File \"C:\\Users\\gaert\\anaconda3\\lib\\site-packages\\flask\\app.py\", line 1952, in full_dispatch_request\n",
      "    rv = self.handle_user_exception(e)\n",
      "  File \"C:\\Users\\gaert\\anaconda3\\lib\\site-packages\\flask\\app.py\", line 1821, in handle_user_exception\n",
      "    reraise(exc_type, exc_value, tb)\n",
      "  File \"C:\\Users\\gaert\\anaconda3\\lib\\site-packages\\flask\\_compat.py\", line 39, in reraise\n",
      "    raise value\n",
      "  File \"C:\\Users\\gaert\\anaconda3\\lib\\site-packages\\flask\\app.py\", line 1950, in full_dispatch_request\n",
      "    rv = self.dispatch_request()\n",
      "  File \"C:\\Users\\gaert\\anaconda3\\lib\\site-packages\\flask\\app.py\", line 1936, in dispatch_request\n",
      "    return self.view_functions[rule.endpoint](**req.view_args)\n",
      "  File \"C:\\Users\\gaert\\anaconda3\\lib\\site-packages\\dash\\dash.py\", line 1344, in dispatch\n",
      "    raise KeyError(msg.format(output)) from missing_callback_function\n",
      "  File \"C:\\Users\\gaert\\anaconda3\\lib\\site-packages\\dash\\_callback.py\", line 151, in add_context\n",
      "    output_value = func(*func_args, **func_kwargs)  # %% callback invoked %%\n",
      "  File \"C:\\Users\\gaert\\AppData\\Local\\Temp/ipykernel_83244/3598560302.py\", line 17, in update_pie\n",
      "    dff_sub=dff.groupby('result').size().reset_index(name='count')\n",
      "  File \"C:\\Users\\gaert\\anaconda3\\lib\\site-packages\\pandas\\core\\frame.py\", line 7631, in groupby\n",
      "    return DataFrameGroupBy(\n",
      "  File \"C:\\Users\\gaert\\anaconda3\\lib\\site-packages\\pandas\\core\\groupby\\groupby.py\", line 889, in __init__\n",
      "    grouper, exclusions, obj = get_grouper(\n",
      "  File \"C:\\Users\\gaert\\anaconda3\\lib\\site-packages\\pandas\\core\\groupby\\grouper.py\", line 862, in get_grouper\n",
      "    raise KeyError(gpr)\n",
      "KeyError: 'result'\n",
      "Exception on /_dash-update-component [POST]\n",
      "Traceback (most recent call last):\n",
      "  File \"C:\\Users\\gaert\\anaconda3\\lib\\site-packages\\flask\\app.py\", line 2447, in wsgi_app\n",
      "    response = self.full_dispatch_request()\n",
      "  File \"C:\\Users\\gaert\\anaconda3\\lib\\site-packages\\flask\\app.py\", line 1952, in full_dispatch_request\n",
      "    rv = self.handle_user_exception(e)\n",
      "  File \"C:\\Users\\gaert\\anaconda3\\lib\\site-packages\\flask\\app.py\", line 1821, in handle_user_exception\n",
      "    reraise(exc_type, exc_value, tb)\n",
      "  File \"C:\\Users\\gaert\\anaconda3\\lib\\site-packages\\flask\\_compat.py\", line 39, in reraise\n",
      "    raise value\n",
      "  File \"C:\\Users\\gaert\\anaconda3\\lib\\site-packages\\flask\\app.py\", line 1950, in full_dispatch_request\n",
      "    rv = self.dispatch_request()\n",
      "  File \"C:\\Users\\gaert\\anaconda3\\lib\\site-packages\\flask\\app.py\", line 1936, in dispatch_request\n",
      "    return self.view_functions[rule.endpoint](**req.view_args)\n",
      "  File \"C:\\Users\\gaert\\anaconda3\\lib\\site-packages\\dash\\dash.py\", line 1344, in dispatch\n",
      "    raise KeyError(msg.format(output)) from missing_callback_function\n",
      "  File \"C:\\Users\\gaert\\anaconda3\\lib\\site-packages\\dash\\_callback.py\", line 151, in add_context\n",
      "    output_value = func(*func_args, **func_kwargs)  # %% callback invoked %%\n",
      "  File \"C:\\Users\\gaert\\AppData\\Local\\Temp/ipykernel_83244/3598560302.py\", line 17, in update_pie\n",
      "    dff_sub=dff.groupby('result').size().reset_index(name='count')\n",
      "  File \"C:\\Users\\gaert\\anaconda3\\lib\\site-packages\\pandas\\core\\frame.py\", line 7631, in groupby\n",
      "    return DataFrameGroupBy(\n",
      "  File \"C:\\Users\\gaert\\anaconda3\\lib\\site-packages\\pandas\\core\\groupby\\groupby.py\", line 889, in __init__\n",
      "    grouper, exclusions, obj = get_grouper(\n",
      "  File \"C:\\Users\\gaert\\anaconda3\\lib\\site-packages\\pandas\\core\\groupby\\grouper.py\", line 862, in get_grouper\n",
      "    raise KeyError(gpr)\n",
      "KeyError: 'result'\n",
      "Exception on /_dash-update-component [POST]\n",
      "Traceback (most recent call last):\n",
      "  File \"C:\\Users\\gaert\\anaconda3\\lib\\site-packages\\flask\\app.py\", line 2447, in wsgi_app\n",
      "    response = self.full_dispatch_request()\n",
      "  File \"C:\\Users\\gaert\\anaconda3\\lib\\site-packages\\flask\\app.py\", line 1952, in full_dispatch_request\n",
      "    rv = self.handle_user_exception(e)\n",
      "  File \"C:\\Users\\gaert\\anaconda3\\lib\\site-packages\\flask\\app.py\", line 1821, in handle_user_exception\n",
      "    reraise(exc_type, exc_value, tb)\n",
      "  File \"C:\\Users\\gaert\\anaconda3\\lib\\site-packages\\flask\\_compat.py\", line 39, in reraise\n",
      "    raise value\n",
      "  File \"C:\\Users\\gaert\\anaconda3\\lib\\site-packages\\flask\\app.py\", line 1950, in full_dispatch_request\n",
      "    rv = self.dispatch_request()\n",
      "  File \"C:\\Users\\gaert\\anaconda3\\lib\\site-packages\\flask\\app.py\", line 1936, in dispatch_request\n",
      "    return self.view_functions[rule.endpoint](**req.view_args)\n",
      "  File \"C:\\Users\\gaert\\anaconda3\\lib\\site-packages\\dash\\dash.py\", line 1344, in dispatch\n",
      "    raise KeyError(msg.format(output)) from missing_callback_function\n",
      "  File \"C:\\Users\\gaert\\anaconda3\\lib\\site-packages\\dash\\_callback.py\", line 151, in add_context\n",
      "    output_value = func(*func_args, **func_kwargs)  # %% callback invoked %%\n",
      "  File \"C:\\Users\\gaert\\AppData\\Local\\Temp/ipykernel_83244/3598560302.py\", line 17, in update_pie\n",
      "    dff_sub=dff.groupby('result').size().reset_index(name='count')\n",
      "  File \"C:\\Users\\gaert\\anaconda3\\lib\\site-packages\\pandas\\core\\frame.py\", line 7631, in groupby\n",
      "    return DataFrameGroupBy(\n",
      "  File \"C:\\Users\\gaert\\anaconda3\\lib\\site-packages\\pandas\\core\\groupby\\groupby.py\", line 889, in __init__\n",
      "    grouper, exclusions, obj = get_grouper(\n",
      "  File \"C:\\Users\\gaert\\anaconda3\\lib\\site-packages\\pandas\\core\\groupby\\grouper.py\", line 862, in get_grouper\n",
      "    raise KeyError(gpr)\n",
      "KeyError: 'result'\n",
      "Exception on /_dash-update-component [POST]\n",
      "Traceback (most recent call last):\n",
      "  File \"C:\\Users\\gaert\\anaconda3\\lib\\site-packages\\flask\\app.py\", line 2447, in wsgi_app\n",
      "    response = self.full_dispatch_request()\n",
      "  File \"C:\\Users\\gaert\\anaconda3\\lib\\site-packages\\flask\\app.py\", line 1952, in full_dispatch_request\n",
      "    rv = self.handle_user_exception(e)\n",
      "  File \"C:\\Users\\gaert\\anaconda3\\lib\\site-packages\\flask\\app.py\", line 1821, in handle_user_exception\n",
      "    reraise(exc_type, exc_value, tb)\n",
      "  File \"C:\\Users\\gaert\\anaconda3\\lib\\site-packages\\flask\\_compat.py\", line 39, in reraise\n",
      "    raise value\n",
      "  File \"C:\\Users\\gaert\\anaconda3\\lib\\site-packages\\flask\\app.py\", line 1950, in full_dispatch_request\n",
      "    rv = self.dispatch_request()\n",
      "  File \"C:\\Users\\gaert\\anaconda3\\lib\\site-packages\\flask\\app.py\", line 1936, in dispatch_request\n",
      "    return self.view_functions[rule.endpoint](**req.view_args)\n",
      "  File \"C:\\Users\\gaert\\anaconda3\\lib\\site-packages\\dash\\dash.py\", line 1344, in dispatch\n",
      "    raise KeyError(msg.format(output)) from missing_callback_function\n",
      "  File \"C:\\Users\\gaert\\anaconda3\\lib\\site-packages\\dash\\_callback.py\", line 151, in add_context\n",
      "    output_value = func(*func_args, **func_kwargs)  # %% callback invoked %%\n",
      "  File \"C:\\Users\\gaert\\AppData\\Local\\Temp/ipykernel_83244/3598560302.py\", line 17, in update_pie\n",
      "    dff_sub=dff.groupby('result').size().reset_index(name='count')\n",
      "  File \"C:\\Users\\gaert\\anaconda3\\lib\\site-packages\\pandas\\core\\frame.py\", line 7631, in groupby\n",
      "    return DataFrameGroupBy(\n",
      "  File \"C:\\Users\\gaert\\anaconda3\\lib\\site-packages\\pandas\\core\\groupby\\groupby.py\", line 889, in __init__\n",
      "    grouper, exclusions, obj = get_grouper(\n",
      "  File \"C:\\Users\\gaert\\anaconda3\\lib\\site-packages\\pandas\\core\\groupby\\grouper.py\", line 862, in get_grouper\n",
      "    raise KeyError(gpr)\n",
      "KeyError: 'result'\n",
      "Exception on /_dash-update-component [POST]\n",
      "Traceback (most recent call last):\n",
      "  File \"C:\\Users\\gaert\\anaconda3\\lib\\site-packages\\flask\\app.py\", line 2447, in wsgi_app\n",
      "    response = self.full_dispatch_request()\n",
      "  File \"C:\\Users\\gaert\\anaconda3\\lib\\site-packages\\flask\\app.py\", line 1952, in full_dispatch_request\n",
      "    rv = self.handle_user_exception(e)\n",
      "  File \"C:\\Users\\gaert\\anaconda3\\lib\\site-packages\\flask\\app.py\", line 1821, in handle_user_exception\n",
      "    reraise(exc_type, exc_value, tb)\n",
      "  File \"C:\\Users\\gaert\\anaconda3\\lib\\site-packages\\flask\\_compat.py\", line 39, in reraise\n",
      "    raise value\n",
      "  File \"C:\\Users\\gaert\\anaconda3\\lib\\site-packages\\flask\\app.py\", line 1950, in full_dispatch_request\n",
      "    rv = self.dispatch_request()\n",
      "  File \"C:\\Users\\gaert\\anaconda3\\lib\\site-packages\\flask\\app.py\", line 1936, in dispatch_request\n",
      "    return self.view_functions[rule.endpoint](**req.view_args)\n",
      "  File \"C:\\Users\\gaert\\anaconda3\\lib\\site-packages\\dash\\dash.py\", line 1344, in dispatch\n",
      "    raise KeyError(msg.format(output)) from missing_callback_function\n",
      "  File \"C:\\Users\\gaert\\anaconda3\\lib\\site-packages\\dash\\_callback.py\", line 151, in add_context\n",
      "    output_value = func(*func_args, **func_kwargs)  # %% callback invoked %%\n",
      "  File \"C:\\Users\\gaert\\AppData\\Local\\Temp/ipykernel_83244/3598560302.py\", line 17, in update_pie\n",
      "    dff_sub=dff.groupby('result').size().reset_index(name='count')\n",
      "  File \"C:\\Users\\gaert\\anaconda3\\lib\\site-packages\\pandas\\core\\frame.py\", line 7631, in groupby\n",
      "    return DataFrameGroupBy(\n",
      "  File \"C:\\Users\\gaert\\anaconda3\\lib\\site-packages\\pandas\\core\\groupby\\groupby.py\", line 889, in __init__\n",
      "    grouper, exclusions, obj = get_grouper(\n",
      "  File \"C:\\Users\\gaert\\anaconda3\\lib\\site-packages\\pandas\\core\\groupby\\grouper.py\", line 862, in get_grouper\n",
      "    raise KeyError(gpr)\n",
      "KeyError: 'result'\n",
      "Exception on /_dash-update-component [POST]\n",
      "Traceback (most recent call last):\n",
      "  File \"C:\\Users\\gaert\\anaconda3\\lib\\site-packages\\flask\\app.py\", line 2447, in wsgi_app\n",
      "    response = self.full_dispatch_request()\n",
      "  File \"C:\\Users\\gaert\\anaconda3\\lib\\site-packages\\flask\\app.py\", line 1952, in full_dispatch_request\n",
      "    rv = self.handle_user_exception(e)\n",
      "  File \"C:\\Users\\gaert\\anaconda3\\lib\\site-packages\\flask\\app.py\", line 1821, in handle_user_exception\n",
      "    reraise(exc_type, exc_value, tb)\n",
      "  File \"C:\\Users\\gaert\\anaconda3\\lib\\site-packages\\flask\\_compat.py\", line 39, in reraise\n",
      "    raise value\n",
      "  File \"C:\\Users\\gaert\\anaconda3\\lib\\site-packages\\flask\\app.py\", line 1950, in full_dispatch_request\n",
      "    rv = self.dispatch_request()\n",
      "  File \"C:\\Users\\gaert\\anaconda3\\lib\\site-packages\\flask\\app.py\", line 1936, in dispatch_request\n",
      "    return self.view_functions[rule.endpoint](**req.view_args)\n",
      "  File \"C:\\Users\\gaert\\anaconda3\\lib\\site-packages\\dash\\dash.py\", line 1344, in dispatch\n",
      "    raise KeyError(msg.format(output)) from missing_callback_function\n",
      "  File \"C:\\Users\\gaert\\anaconda3\\lib\\site-packages\\dash\\_callback.py\", line 151, in add_context\n",
      "    output_value = func(*func_args, **func_kwargs)  # %% callback invoked %%\n",
      "  File \"C:\\Users\\gaert\\AppData\\Local\\Temp/ipykernel_83244/3598560302.py\", line 17, in update_pie\n",
      "    dff_sub=dff.groupby('result').size().reset_index(name='count')\n",
      "  File \"C:\\Users\\gaert\\anaconda3\\lib\\site-packages\\pandas\\core\\frame.py\", line 7631, in groupby\n",
      "    return DataFrameGroupBy(\n",
      "  File \"C:\\Users\\gaert\\anaconda3\\lib\\site-packages\\pandas\\core\\groupby\\groupby.py\", line 889, in __init__\n",
      "    grouper, exclusions, obj = get_grouper(\n",
      "  File \"C:\\Users\\gaert\\anaconda3\\lib\\site-packages\\pandas\\core\\groupby\\grouper.py\", line 862, in get_grouper\n",
      "    raise KeyError(gpr)\n",
      "KeyError: 'result'\n",
      "Exception on /_dash-update-component [POST]\n",
      "Traceback (most recent call last):\n",
      "  File \"C:\\Users\\gaert\\anaconda3\\lib\\site-packages\\flask\\app.py\", line 2447, in wsgi_app\n",
      "    response = self.full_dispatch_request()\n",
      "  File \"C:\\Users\\gaert\\anaconda3\\lib\\site-packages\\flask\\app.py\", line 1952, in full_dispatch_request\n",
      "    rv = self.handle_user_exception(e)\n",
      "  File \"C:\\Users\\gaert\\anaconda3\\lib\\site-packages\\flask\\app.py\", line 1821, in handle_user_exception\n",
      "    reraise(exc_type, exc_value, tb)\n",
      "  File \"C:\\Users\\gaert\\anaconda3\\lib\\site-packages\\flask\\_compat.py\", line 39, in reraise\n",
      "    raise value\n",
      "  File \"C:\\Users\\gaert\\anaconda3\\lib\\site-packages\\flask\\app.py\", line 1950, in full_dispatch_request\n",
      "    rv = self.dispatch_request()\n",
      "  File \"C:\\Users\\gaert\\anaconda3\\lib\\site-packages\\flask\\app.py\", line 1936, in dispatch_request\n",
      "    return self.view_functions[rule.endpoint](**req.view_args)\n",
      "  File \"C:\\Users\\gaert\\anaconda3\\lib\\site-packages\\dash\\dash.py\", line 1344, in dispatch\n",
      "    raise KeyError(msg.format(output)) from missing_callback_function\n",
      "  File \"C:\\Users\\gaert\\anaconda3\\lib\\site-packages\\dash\\_callback.py\", line 151, in add_context\n",
      "    output_value = func(*func_args, **func_kwargs)  # %% callback invoked %%\n",
      "  File \"C:\\Users\\gaert\\AppData\\Local\\Temp/ipykernel_83244/3598560302.py\", line 17, in update_pie\n",
      "    dff_sub=dff.groupby('result').size().reset_index(name='count')\n",
      "  File \"C:\\Users\\gaert\\anaconda3\\lib\\site-packages\\pandas\\core\\frame.py\", line 7631, in groupby\n",
      "    return DataFrameGroupBy(\n",
      "  File \"C:\\Users\\gaert\\anaconda3\\lib\\site-packages\\pandas\\core\\groupby\\groupby.py\", line 889, in __init__\n",
      "    grouper, exclusions, obj = get_grouper(\n",
      "  File \"C:\\Users\\gaert\\anaconda3\\lib\\site-packages\\pandas\\core\\groupby\\grouper.py\", line 862, in get_grouper\n",
      "    raise KeyError(gpr)\n",
      "KeyError: 'result'\n",
      "Exception on /_dash-update-component [POST]\n",
      "Traceback (most recent call last):\n",
      "  File \"C:\\Users\\gaert\\anaconda3\\lib\\site-packages\\flask\\app.py\", line 2447, in wsgi_app\n",
      "    response = self.full_dispatch_request()\n",
      "  File \"C:\\Users\\gaert\\anaconda3\\lib\\site-packages\\flask\\app.py\", line 1952, in full_dispatch_request\n",
      "    rv = self.handle_user_exception(e)\n",
      "  File \"C:\\Users\\gaert\\anaconda3\\lib\\site-packages\\flask\\app.py\", line 1821, in handle_user_exception\n",
      "    reraise(exc_type, exc_value, tb)\n",
      "  File \"C:\\Users\\gaert\\anaconda3\\lib\\site-packages\\flask\\_compat.py\", line 39, in reraise\n",
      "    raise value\n",
      "  File \"C:\\Users\\gaert\\anaconda3\\lib\\site-packages\\flask\\app.py\", line 1950, in full_dispatch_request\n",
      "    rv = self.dispatch_request()\n",
      "  File \"C:\\Users\\gaert\\anaconda3\\lib\\site-packages\\flask\\app.py\", line 1936, in dispatch_request\n",
      "    return self.view_functions[rule.endpoint](**req.view_args)\n",
      "  File \"C:\\Users\\gaert\\anaconda3\\lib\\site-packages\\dash\\dash.py\", line 1344, in dispatch\n",
      "    raise KeyError(msg.format(output)) from missing_callback_function\n",
      "  File \"C:\\Users\\gaert\\anaconda3\\lib\\site-packages\\dash\\_callback.py\", line 151, in add_context\n",
      "    output_value = func(*func_args, **func_kwargs)  # %% callback invoked %%\n",
      "  File \"C:\\Users\\gaert\\AppData\\Local\\Temp/ipykernel_83244/3598560302.py\", line 17, in update_pie\n",
      "    dff_sub=dff.groupby('result').size().reset_index(name='count')\n",
      "  File \"C:\\Users\\gaert\\anaconda3\\lib\\site-packages\\pandas\\core\\frame.py\", line 7631, in groupby\n",
      "    return DataFrameGroupBy(\n",
      "  File \"C:\\Users\\gaert\\anaconda3\\lib\\site-packages\\pandas\\core\\groupby\\groupby.py\", line 889, in __init__\n",
      "    grouper, exclusions, obj = get_grouper(\n",
      "  File \"C:\\Users\\gaert\\anaconda3\\lib\\site-packages\\pandas\\core\\groupby\\grouper.py\", line 862, in get_grouper\n",
      "    raise KeyError(gpr)\n",
      "KeyError: 'result'\n",
      "Exception on /_dash-update-component [POST]\n",
      "Traceback (most recent call last):\n",
      "  File \"C:\\Users\\gaert\\anaconda3\\lib\\site-packages\\flask\\app.py\", line 2447, in wsgi_app\n",
      "    response = self.full_dispatch_request()\n",
      "  File \"C:\\Users\\gaert\\anaconda3\\lib\\site-packages\\flask\\app.py\", line 1952, in full_dispatch_request\n",
      "    rv = self.handle_user_exception(e)\n",
      "  File \"C:\\Users\\gaert\\anaconda3\\lib\\site-packages\\flask\\app.py\", line 1821, in handle_user_exception\n",
      "    reraise(exc_type, exc_value, tb)\n",
      "  File \"C:\\Users\\gaert\\anaconda3\\lib\\site-packages\\flask\\_compat.py\", line 39, in reraise\n",
      "    raise value\n",
      "  File \"C:\\Users\\gaert\\anaconda3\\lib\\site-packages\\flask\\app.py\", line 1950, in full_dispatch_request\n",
      "    rv = self.dispatch_request()\n",
      "  File \"C:\\Users\\gaert\\anaconda3\\lib\\site-packages\\flask\\app.py\", line 1936, in dispatch_request\n",
      "    return self.view_functions[rule.endpoint](**req.view_args)\n",
      "  File \"C:\\Users\\gaert\\anaconda3\\lib\\site-packages\\dash\\dash.py\", line 1344, in dispatch\n",
      "    raise KeyError(msg.format(output)) from missing_callback_function\n",
      "  File \"C:\\Users\\gaert\\anaconda3\\lib\\site-packages\\dash\\_callback.py\", line 151, in add_context\n",
      "    output_value = func(*func_args, **func_kwargs)  # %% callback invoked %%\n",
      "  File \"C:\\Users\\gaert\\AppData\\Local\\Temp/ipykernel_83244/3598560302.py\", line 17, in update_pie\n",
      "    dff_sub=dff.groupby('result').size().reset_index(name='count')\n",
      "  File \"C:\\Users\\gaert\\anaconda3\\lib\\site-packages\\pandas\\core\\frame.py\", line 7631, in groupby\n",
      "    return DataFrameGroupBy(\n",
      "  File \"C:\\Users\\gaert\\anaconda3\\lib\\site-packages\\pandas\\core\\groupby\\groupby.py\", line 889, in __init__\n",
      "    grouper, exclusions, obj = get_grouper(\n",
      "  File \"C:\\Users\\gaert\\anaconda3\\lib\\site-packages\\pandas\\core\\groupby\\grouper.py\", line 862, in get_grouper\n",
      "    raise KeyError(gpr)\n",
      "KeyError: 'result'\n",
      "Exception on /_dash-update-component [POST]\n",
      "Traceback (most recent call last):\n",
      "  File \"C:\\Users\\gaert\\anaconda3\\lib\\site-packages\\flask\\app.py\", line 2447, in wsgi_app\n",
      "    response = self.full_dispatch_request()\n",
      "  File \"C:\\Users\\gaert\\anaconda3\\lib\\site-packages\\flask\\app.py\", line 1952, in full_dispatch_request\n",
      "    rv = self.handle_user_exception(e)\n",
      "  File \"C:\\Users\\gaert\\anaconda3\\lib\\site-packages\\flask\\app.py\", line 1821, in handle_user_exception\n",
      "    reraise(exc_type, exc_value, tb)\n",
      "  File \"C:\\Users\\gaert\\anaconda3\\lib\\site-packages\\flask\\_compat.py\", line 39, in reraise\n",
      "    raise value\n",
      "  File \"C:\\Users\\gaert\\anaconda3\\lib\\site-packages\\flask\\app.py\", line 1950, in full_dispatch_request\n",
      "    rv = self.dispatch_request()\n",
      "  File \"C:\\Users\\gaert\\anaconda3\\lib\\site-packages\\flask\\app.py\", line 1936, in dispatch_request\n",
      "    return self.view_functions[rule.endpoint](**req.view_args)\n",
      "  File \"C:\\Users\\gaert\\anaconda3\\lib\\site-packages\\dash\\dash.py\", line 1344, in dispatch\n",
      "    raise KeyError(msg.format(output)) from missing_callback_function\n",
      "  File \"C:\\Users\\gaert\\anaconda3\\lib\\site-packages\\dash\\_callback.py\", line 151, in add_context\n",
      "    output_value = func(*func_args, **func_kwargs)  # %% callback invoked %%\n",
      "  File \"C:\\Users\\gaert\\AppData\\Local\\Temp/ipykernel_83244/3598560302.py\", line 17, in update_pie\n",
      "    dff_sub=dff.groupby('result').size().reset_index(name='count')\n",
      "  File \"C:\\Users\\gaert\\anaconda3\\lib\\site-packages\\pandas\\core\\frame.py\", line 7631, in groupby\n",
      "    return DataFrameGroupBy(\n",
      "  File \"C:\\Users\\gaert\\anaconda3\\lib\\site-packages\\pandas\\core\\groupby\\groupby.py\", line 889, in __init__\n",
      "    grouper, exclusions, obj = get_grouper(\n",
      "  File \"C:\\Users\\gaert\\anaconda3\\lib\\site-packages\\pandas\\core\\groupby\\grouper.py\", line 862, in get_grouper\n",
      "    raise KeyError(gpr)\n",
      "KeyError: 'result'\n",
      "Exception on /_dash-update-component [POST]\n",
      "Traceback (most recent call last):\n",
      "  File \"C:\\Users\\gaert\\anaconda3\\lib\\site-packages\\flask\\app.py\", line 2447, in wsgi_app\n",
      "    response = self.full_dispatch_request()\n",
      "  File \"C:\\Users\\gaert\\anaconda3\\lib\\site-packages\\flask\\app.py\", line 1952, in full_dispatch_request\n",
      "    rv = self.handle_user_exception(e)\n",
      "  File \"C:\\Users\\gaert\\anaconda3\\lib\\site-packages\\flask\\app.py\", line 1821, in handle_user_exception\n",
      "    reraise(exc_type, exc_value, tb)\n",
      "  File \"C:\\Users\\gaert\\anaconda3\\lib\\site-packages\\flask\\_compat.py\", line 39, in reraise\n",
      "    raise value\n",
      "  File \"C:\\Users\\gaert\\anaconda3\\lib\\site-packages\\flask\\app.py\", line 1950, in full_dispatch_request\n",
      "    rv = self.dispatch_request()\n",
      "  File \"C:\\Users\\gaert\\anaconda3\\lib\\site-packages\\flask\\app.py\", line 1936, in dispatch_request\n",
      "    return self.view_functions[rule.endpoint](**req.view_args)\n",
      "  File \"C:\\Users\\gaert\\anaconda3\\lib\\site-packages\\dash\\dash.py\", line 1344, in dispatch\n",
      "    raise KeyError(msg.format(output)) from missing_callback_function\n",
      "  File \"C:\\Users\\gaert\\anaconda3\\lib\\site-packages\\dash\\_callback.py\", line 151, in add_context\n",
      "    output_value = func(*func_args, **func_kwargs)  # %% callback invoked %%\n",
      "  File \"C:\\Users\\gaert\\AppData\\Local\\Temp/ipykernel_83244/3598560302.py\", line 17, in update_pie\n",
      "    dff_sub=dff.groupby('result').size().reset_index(name='count')\n",
      "  File \"C:\\Users\\gaert\\anaconda3\\lib\\site-packages\\pandas\\core\\frame.py\", line 7631, in groupby\n",
      "    return DataFrameGroupBy(\n",
      "  File \"C:\\Users\\gaert\\anaconda3\\lib\\site-packages\\pandas\\core\\groupby\\groupby.py\", line 889, in __init__\n",
      "    grouper, exclusions, obj = get_grouper(\n",
      "  File \"C:\\Users\\gaert\\anaconda3\\lib\\site-packages\\pandas\\core\\groupby\\grouper.py\", line 862, in get_grouper\n",
      "    raise KeyError(gpr)\n",
      "KeyError: 'result'\n",
      "Exception on /_dash-update-component [POST]\n",
      "Traceback (most recent call last):\n",
      "  File \"C:\\Users\\gaert\\anaconda3\\lib\\site-packages\\flask\\app.py\", line 2447, in wsgi_app\n",
      "    response = self.full_dispatch_request()\n",
      "  File \"C:\\Users\\gaert\\anaconda3\\lib\\site-packages\\flask\\app.py\", line 1952, in full_dispatch_request\n",
      "    rv = self.handle_user_exception(e)\n",
      "  File \"C:\\Users\\gaert\\anaconda3\\lib\\site-packages\\flask\\app.py\", line 1821, in handle_user_exception\n",
      "    reraise(exc_type, exc_value, tb)\n",
      "  File \"C:\\Users\\gaert\\anaconda3\\lib\\site-packages\\flask\\_compat.py\", line 39, in reraise\n",
      "    raise value\n",
      "  File \"C:\\Users\\gaert\\anaconda3\\lib\\site-packages\\flask\\app.py\", line 1950, in full_dispatch_request\n",
      "    rv = self.dispatch_request()\n",
      "  File \"C:\\Users\\gaert\\anaconda3\\lib\\site-packages\\flask\\app.py\", line 1936, in dispatch_request\n",
      "    return self.view_functions[rule.endpoint](**req.view_args)\n",
      "  File \"C:\\Users\\gaert\\anaconda3\\lib\\site-packages\\dash\\dash.py\", line 1344, in dispatch\n",
      "    raise KeyError(msg.format(output)) from missing_callback_function\n",
      "  File \"C:\\Users\\gaert\\anaconda3\\lib\\site-packages\\dash\\_callback.py\", line 151, in add_context\n",
      "    output_value = func(*func_args, **func_kwargs)  # %% callback invoked %%\n",
      "  File \"C:\\Users\\gaert\\AppData\\Local\\Temp/ipykernel_83244/3598560302.py\", line 17, in update_pie\n",
      "    dff_sub=dff.groupby('result').size().reset_index(name='count')\n",
      "  File \"C:\\Users\\gaert\\anaconda3\\lib\\site-packages\\pandas\\core\\frame.py\", line 7631, in groupby\n",
      "    return DataFrameGroupBy(\n",
      "  File \"C:\\Users\\gaert\\anaconda3\\lib\\site-packages\\pandas\\core\\groupby\\groupby.py\", line 889, in __init__\n",
      "    grouper, exclusions, obj = get_grouper(\n",
      "  File \"C:\\Users\\gaert\\anaconda3\\lib\\site-packages\\pandas\\core\\groupby\\grouper.py\", line 862, in get_grouper\n",
      "    raise KeyError(gpr)\n",
      "KeyError: 'result'\n",
      "Exception on /_dash-update-component [POST]\n",
      "Traceback (most recent call last):\n",
      "  File \"C:\\Users\\gaert\\anaconda3\\lib\\site-packages\\flask\\app.py\", line 2447, in wsgi_app\n",
      "    response = self.full_dispatch_request()\n",
      "  File \"C:\\Users\\gaert\\anaconda3\\lib\\site-packages\\flask\\app.py\", line 1952, in full_dispatch_request\n",
      "    rv = self.handle_user_exception(e)\n",
      "  File \"C:\\Users\\gaert\\anaconda3\\lib\\site-packages\\flask\\app.py\", line 1821, in handle_user_exception\n",
      "    reraise(exc_type, exc_value, tb)\n",
      "  File \"C:\\Users\\gaert\\anaconda3\\lib\\site-packages\\flask\\_compat.py\", line 39, in reraise\n",
      "    raise value\n",
      "  File \"C:\\Users\\gaert\\anaconda3\\lib\\site-packages\\flask\\app.py\", line 1950, in full_dispatch_request\n",
      "    rv = self.dispatch_request()\n",
      "  File \"C:\\Users\\gaert\\anaconda3\\lib\\site-packages\\flask\\app.py\", line 1936, in dispatch_request\n",
      "    return self.view_functions[rule.endpoint](**req.view_args)\n",
      "  File \"C:\\Users\\gaert\\anaconda3\\lib\\site-packages\\dash\\dash.py\", line 1344, in dispatch\n",
      "    raise KeyError(msg.format(output)) from missing_callback_function\n",
      "  File \"C:\\Users\\gaert\\anaconda3\\lib\\site-packages\\dash\\_callback.py\", line 151, in add_context\n",
      "    output_value = func(*func_args, **func_kwargs)  # %% callback invoked %%\n",
      "  File \"C:\\Users\\gaert\\AppData\\Local\\Temp/ipykernel_83244/3598560302.py\", line 17, in update_pie\n",
      "    dff_sub=dff.groupby('result').size().reset_index(name='count')\n",
      "  File \"C:\\Users\\gaert\\anaconda3\\lib\\site-packages\\pandas\\core\\frame.py\", line 7631, in groupby\n",
      "    return DataFrameGroupBy(\n",
      "  File \"C:\\Users\\gaert\\anaconda3\\lib\\site-packages\\pandas\\core\\groupby\\groupby.py\", line 889, in __init__\n",
      "    grouper, exclusions, obj = get_grouper(\n",
      "  File \"C:\\Users\\gaert\\anaconda3\\lib\\site-packages\\pandas\\core\\groupby\\grouper.py\", line 862, in get_grouper\n",
      "    raise KeyError(gpr)\n",
      "KeyError: 'result'\n",
      "Exception on /_dash-update-component [POST]\n",
      "Traceback (most recent call last):\n",
      "  File \"C:\\Users\\gaert\\anaconda3\\lib\\site-packages\\flask\\app.py\", line 2447, in wsgi_app\n",
      "    response = self.full_dispatch_request()\n",
      "  File \"C:\\Users\\gaert\\anaconda3\\lib\\site-packages\\flask\\app.py\", line 1952, in full_dispatch_request\n",
      "    rv = self.handle_user_exception(e)\n",
      "  File \"C:\\Users\\gaert\\anaconda3\\lib\\site-packages\\flask\\app.py\", line 1821, in handle_user_exception\n",
      "    reraise(exc_type, exc_value, tb)\n",
      "  File \"C:\\Users\\gaert\\anaconda3\\lib\\site-packages\\flask\\_compat.py\", line 39, in reraise\n",
      "    raise value\n",
      "  File \"C:\\Users\\gaert\\anaconda3\\lib\\site-packages\\flask\\app.py\", line 1950, in full_dispatch_request\n",
      "    rv = self.dispatch_request()\n",
      "  File \"C:\\Users\\gaert\\anaconda3\\lib\\site-packages\\flask\\app.py\", line 1936, in dispatch_request\n",
      "    return self.view_functions[rule.endpoint](**req.view_args)\n",
      "  File \"C:\\Users\\gaert\\anaconda3\\lib\\site-packages\\dash\\dash.py\", line 1344, in dispatch\n",
      "    raise KeyError(msg.format(output)) from missing_callback_function\n",
      "  File \"C:\\Users\\gaert\\anaconda3\\lib\\site-packages\\dash\\_callback.py\", line 151, in add_context\n",
      "    output_value = func(*func_args, **func_kwargs)  # %% callback invoked %%\n",
      "  File \"C:\\Users\\gaert\\AppData\\Local\\Temp/ipykernel_83244/3598560302.py\", line 17, in update_pie\n",
      "    dff_sub=dff.groupby('result').size().reset_index(name='count')\n",
      "  File \"C:\\Users\\gaert\\anaconda3\\lib\\site-packages\\pandas\\core\\frame.py\", line 7631, in groupby\n",
      "    return DataFrameGroupBy(\n",
      "  File \"C:\\Users\\gaert\\anaconda3\\lib\\site-packages\\pandas\\core\\groupby\\groupby.py\", line 889, in __init__\n",
      "    grouper, exclusions, obj = get_grouper(\n",
      "  File \"C:\\Users\\gaert\\anaconda3\\lib\\site-packages\\pandas\\core\\groupby\\grouper.py\", line 862, in get_grouper\n",
      "    raise KeyError(gpr)\n",
      "KeyError: 'result'\n",
      "Exception on /_dash-update-component [POST]\n",
      "Traceback (most recent call last):\n",
      "  File \"C:\\Users\\gaert\\anaconda3\\lib\\site-packages\\flask\\app.py\", line 2447, in wsgi_app\n",
      "    response = self.full_dispatch_request()\n",
      "  File \"C:\\Users\\gaert\\anaconda3\\lib\\site-packages\\flask\\app.py\", line 1952, in full_dispatch_request\n",
      "    rv = self.handle_user_exception(e)\n",
      "  File \"C:\\Users\\gaert\\anaconda3\\lib\\site-packages\\flask\\app.py\", line 1821, in handle_user_exception\n",
      "    reraise(exc_type, exc_value, tb)\n",
      "  File \"C:\\Users\\gaert\\anaconda3\\lib\\site-packages\\flask\\_compat.py\", line 39, in reraise\n",
      "    raise value\n",
      "  File \"C:\\Users\\gaert\\anaconda3\\lib\\site-packages\\flask\\app.py\", line 1950, in full_dispatch_request\n",
      "    rv = self.dispatch_request()\n",
      "  File \"C:\\Users\\gaert\\anaconda3\\lib\\site-packages\\flask\\app.py\", line 1936, in dispatch_request\n",
      "    return self.view_functions[rule.endpoint](**req.view_args)\n",
      "  File \"C:\\Users\\gaert\\anaconda3\\lib\\site-packages\\dash\\dash.py\", line 1344, in dispatch\n",
      "    raise KeyError(msg.format(output)) from missing_callback_function\n",
      "  File \"C:\\Users\\gaert\\anaconda3\\lib\\site-packages\\dash\\_callback.py\", line 151, in add_context\n",
      "    output_value = func(*func_args, **func_kwargs)  # %% callback invoked %%\n",
      "  File \"C:\\Users\\gaert\\AppData\\Local\\Temp/ipykernel_83244/3598560302.py\", line 17, in update_pie\n",
      "    dff_sub=dff.groupby('result').size().reset_index(name='count')\n",
      "  File \"C:\\Users\\gaert\\anaconda3\\lib\\site-packages\\pandas\\core\\frame.py\", line 7631, in groupby\n",
      "    return DataFrameGroupBy(\n",
      "  File \"C:\\Users\\gaert\\anaconda3\\lib\\site-packages\\pandas\\core\\groupby\\groupby.py\", line 889, in __init__\n",
      "    grouper, exclusions, obj = get_grouper(\n",
      "  File \"C:\\Users\\gaert\\anaconda3\\lib\\site-packages\\pandas\\core\\groupby\\grouper.py\", line 862, in get_grouper\n",
      "    raise KeyError(gpr)\n",
      "KeyError: 'result'\n",
      "Exception on /_dash-update-component [POST]\n",
      "Traceback (most recent call last):\n",
      "  File \"C:\\Users\\gaert\\anaconda3\\lib\\site-packages\\flask\\app.py\", line 2447, in wsgi_app\n",
      "    response = self.full_dispatch_request()\n",
      "  File \"C:\\Users\\gaert\\anaconda3\\lib\\site-packages\\flask\\app.py\", line 1952, in full_dispatch_request\n",
      "    rv = self.handle_user_exception(e)\n",
      "  File \"C:\\Users\\gaert\\anaconda3\\lib\\site-packages\\flask\\app.py\", line 1821, in handle_user_exception\n",
      "    reraise(exc_type, exc_value, tb)\n",
      "  File \"C:\\Users\\gaert\\anaconda3\\lib\\site-packages\\flask\\_compat.py\", line 39, in reraise\n",
      "    raise value\n",
      "  File \"C:\\Users\\gaert\\anaconda3\\lib\\site-packages\\flask\\app.py\", line 1950, in full_dispatch_request\n",
      "    rv = self.dispatch_request()\n",
      "  File \"C:\\Users\\gaert\\anaconda3\\lib\\site-packages\\flask\\app.py\", line 1936, in dispatch_request\n",
      "    return self.view_functions[rule.endpoint](**req.view_args)\n",
      "  File \"C:\\Users\\gaert\\anaconda3\\lib\\site-packages\\dash\\dash.py\", line 1344, in dispatch\n",
      "    raise KeyError(msg.format(output)) from missing_callback_function\n",
      "  File \"C:\\Users\\gaert\\anaconda3\\lib\\site-packages\\dash\\_callback.py\", line 151, in add_context\n",
      "    output_value = func(*func_args, **func_kwargs)  # %% callback invoked %%\n",
      "  File \"C:\\Users\\gaert\\AppData\\Local\\Temp/ipykernel_83244/3598560302.py\", line 17, in update_pie\n",
      "    dff_sub=dff.groupby('result').size().reset_index(name='count')\n",
      "  File \"C:\\Users\\gaert\\anaconda3\\lib\\site-packages\\pandas\\core\\frame.py\", line 7631, in groupby\n",
      "    return DataFrameGroupBy(\n",
      "  File \"C:\\Users\\gaert\\anaconda3\\lib\\site-packages\\pandas\\core\\groupby\\groupby.py\", line 889, in __init__\n",
      "    grouper, exclusions, obj = get_grouper(\n",
      "  File \"C:\\Users\\gaert\\anaconda3\\lib\\site-packages\\pandas\\core\\groupby\\grouper.py\", line 862, in get_grouper\n",
      "    raise KeyError(gpr)\n",
      "KeyError: 'result'\n",
      "Exception on /_dash-update-component [POST]\n",
      "Traceback (most recent call last):\n",
      "  File \"C:\\Users\\gaert\\anaconda3\\lib\\site-packages\\flask\\app.py\", line 2447, in wsgi_app\n",
      "    response = self.full_dispatch_request()\n",
      "  File \"C:\\Users\\gaert\\anaconda3\\lib\\site-packages\\flask\\app.py\", line 1952, in full_dispatch_request\n",
      "    rv = self.handle_user_exception(e)\n",
      "  File \"C:\\Users\\gaert\\anaconda3\\lib\\site-packages\\flask\\app.py\", line 1821, in handle_user_exception\n",
      "    reraise(exc_type, exc_value, tb)\n",
      "  File \"C:\\Users\\gaert\\anaconda3\\lib\\site-packages\\flask\\_compat.py\", line 39, in reraise\n",
      "    raise value\n",
      "  File \"C:\\Users\\gaert\\anaconda3\\lib\\site-packages\\flask\\app.py\", line 1950, in full_dispatch_request\n",
      "    rv = self.dispatch_request()\n",
      "  File \"C:\\Users\\gaert\\anaconda3\\lib\\site-packages\\flask\\app.py\", line 1936, in dispatch_request\n",
      "    return self.view_functions[rule.endpoint](**req.view_args)\n",
      "  File \"C:\\Users\\gaert\\anaconda3\\lib\\site-packages\\dash\\dash.py\", line 1344, in dispatch\n",
      "    raise KeyError(msg.format(output)) from missing_callback_function\n",
      "  File \"C:\\Users\\gaert\\anaconda3\\lib\\site-packages\\dash\\_callback.py\", line 151, in add_context\n",
      "    output_value = func(*func_args, **func_kwargs)  # %% callback invoked %%\n",
      "  File \"C:\\Users\\gaert\\AppData\\Local\\Temp/ipykernel_83244/3598560302.py\", line 17, in update_pie\n",
      "    dff_sub=dff.groupby('result').size().reset_index(name='count')\n",
      "  File \"C:\\Users\\gaert\\anaconda3\\lib\\site-packages\\pandas\\core\\frame.py\", line 7631, in groupby\n",
      "    return DataFrameGroupBy(\n",
      "  File \"C:\\Users\\gaert\\anaconda3\\lib\\site-packages\\pandas\\core\\groupby\\groupby.py\", line 889, in __init__\n",
      "    grouper, exclusions, obj = get_grouper(\n",
      "  File \"C:\\Users\\gaert\\anaconda3\\lib\\site-packages\\pandas\\core\\groupby\\grouper.py\", line 862, in get_grouper\n",
      "    raise KeyError(gpr)\n",
      "KeyError: 'result'\n",
      "Exception on /_dash-update-component [POST]\n",
      "Traceback (most recent call last):\n",
      "  File \"C:\\Users\\gaert\\anaconda3\\lib\\site-packages\\flask\\app.py\", line 2447, in wsgi_app\n",
      "    response = self.full_dispatch_request()\n",
      "  File \"C:\\Users\\gaert\\anaconda3\\lib\\site-packages\\flask\\app.py\", line 1952, in full_dispatch_request\n",
      "    rv = self.handle_user_exception(e)\n",
      "  File \"C:\\Users\\gaert\\anaconda3\\lib\\site-packages\\flask\\app.py\", line 1821, in handle_user_exception\n",
      "    reraise(exc_type, exc_value, tb)\n",
      "  File \"C:\\Users\\gaert\\anaconda3\\lib\\site-packages\\flask\\_compat.py\", line 39, in reraise\n",
      "    raise value\n",
      "  File \"C:\\Users\\gaert\\anaconda3\\lib\\site-packages\\flask\\app.py\", line 1950, in full_dispatch_request\n",
      "    rv = self.dispatch_request()\n",
      "  File \"C:\\Users\\gaert\\anaconda3\\lib\\site-packages\\flask\\app.py\", line 1936, in dispatch_request\n",
      "    return self.view_functions[rule.endpoint](**req.view_args)\n",
      "  File \"C:\\Users\\gaert\\anaconda3\\lib\\site-packages\\dash\\dash.py\", line 1344, in dispatch\n",
      "    raise KeyError(msg.format(output)) from missing_callback_function\n",
      "  File \"C:\\Users\\gaert\\anaconda3\\lib\\site-packages\\dash\\_callback.py\", line 151, in add_context\n",
      "    output_value = func(*func_args, **func_kwargs)  # %% callback invoked %%\n",
      "  File \"C:\\Users\\gaert\\AppData\\Local\\Temp/ipykernel_83244/3598560302.py\", line 17, in update_pie\n",
      "    dff_sub=dff.groupby('result').size().reset_index(name='count')\n",
      "  File \"C:\\Users\\gaert\\anaconda3\\lib\\site-packages\\pandas\\core\\frame.py\", line 7631, in groupby\n",
      "    return DataFrameGroupBy(\n",
      "  File \"C:\\Users\\gaert\\anaconda3\\lib\\site-packages\\pandas\\core\\groupby\\groupby.py\", line 889, in __init__\n",
      "    grouper, exclusions, obj = get_grouper(\n",
      "  File \"C:\\Users\\gaert\\anaconda3\\lib\\site-packages\\pandas\\core\\groupby\\grouper.py\", line 862, in get_grouper\n",
      "    raise KeyError(gpr)\n",
      "KeyError: 'result'\n",
      "Exception on /_dash-update-component [POST]\n",
      "Traceback (most recent call last):\n",
      "  File \"C:\\Users\\gaert\\anaconda3\\lib\\site-packages\\flask\\app.py\", line 2447, in wsgi_app\n",
      "    response = self.full_dispatch_request()\n",
      "  File \"C:\\Users\\gaert\\anaconda3\\lib\\site-packages\\flask\\app.py\", line 1952, in full_dispatch_request\n",
      "    rv = self.handle_user_exception(e)\n",
      "  File \"C:\\Users\\gaert\\anaconda3\\lib\\site-packages\\flask\\app.py\", line 1821, in handle_user_exception\n",
      "    reraise(exc_type, exc_value, tb)\n",
      "  File \"C:\\Users\\gaert\\anaconda3\\lib\\site-packages\\flask\\_compat.py\", line 39, in reraise\n",
      "    raise value\n",
      "  File \"C:\\Users\\gaert\\anaconda3\\lib\\site-packages\\flask\\app.py\", line 1950, in full_dispatch_request\n",
      "    rv = self.dispatch_request()\n",
      "  File \"C:\\Users\\gaert\\anaconda3\\lib\\site-packages\\flask\\app.py\", line 1936, in dispatch_request\n",
      "    return self.view_functions[rule.endpoint](**req.view_args)\n",
      "  File \"C:\\Users\\gaert\\anaconda3\\lib\\site-packages\\dash\\dash.py\", line 1344, in dispatch\n",
      "    raise KeyError(msg.format(output)) from missing_callback_function\n",
      "  File \"C:\\Users\\gaert\\anaconda3\\lib\\site-packages\\dash\\_callback.py\", line 151, in add_context\n",
      "    output_value = func(*func_args, **func_kwargs)  # %% callback invoked %%\n",
      "  File \"C:\\Users\\gaert\\AppData\\Local\\Temp/ipykernel_83244/3598560302.py\", line 17, in update_pie\n",
      "    dff_sub=dff.groupby('result').size().reset_index(name='count')\n",
      "  File \"C:\\Users\\gaert\\anaconda3\\lib\\site-packages\\pandas\\core\\frame.py\", line 7631, in groupby\n",
      "    return DataFrameGroupBy(\n",
      "  File \"C:\\Users\\gaert\\anaconda3\\lib\\site-packages\\pandas\\core\\groupby\\groupby.py\", line 889, in __init__\n",
      "    grouper, exclusions, obj = get_grouper(\n",
      "  File \"C:\\Users\\gaert\\anaconda3\\lib\\site-packages\\pandas\\core\\groupby\\grouper.py\", line 862, in get_grouper\n",
      "    raise KeyError(gpr)\n",
      "KeyError: 'result'\n",
      "Exception on /_dash-update-component [POST]\n",
      "Traceback (most recent call last):\n",
      "  File \"C:\\Users\\gaert\\anaconda3\\lib\\site-packages\\flask\\app.py\", line 2447, in wsgi_app\n",
      "    response = self.full_dispatch_request()\n",
      "  File \"C:\\Users\\gaert\\anaconda3\\lib\\site-packages\\flask\\app.py\", line 1952, in full_dispatch_request\n",
      "    rv = self.handle_user_exception(e)\n",
      "  File \"C:\\Users\\gaert\\anaconda3\\lib\\site-packages\\flask\\app.py\", line 1821, in handle_user_exception\n",
      "    reraise(exc_type, exc_value, tb)\n",
      "  File \"C:\\Users\\gaert\\anaconda3\\lib\\site-packages\\flask\\_compat.py\", line 39, in reraise\n",
      "    raise value\n",
      "  File \"C:\\Users\\gaert\\anaconda3\\lib\\site-packages\\flask\\app.py\", line 1950, in full_dispatch_request\n",
      "    rv = self.dispatch_request()\n",
      "  File \"C:\\Users\\gaert\\anaconda3\\lib\\site-packages\\flask\\app.py\", line 1936, in dispatch_request\n",
      "    return self.view_functions[rule.endpoint](**req.view_args)\n",
      "  File \"C:\\Users\\gaert\\anaconda3\\lib\\site-packages\\dash\\dash.py\", line 1344, in dispatch\n",
      "    raise KeyError(msg.format(output)) from missing_callback_function\n",
      "  File \"C:\\Users\\gaert\\anaconda3\\lib\\site-packages\\dash\\_callback.py\", line 151, in add_context\n",
      "    output_value = func(*func_args, **func_kwargs)  # %% callback invoked %%\n",
      "  File \"C:\\Users\\gaert\\AppData\\Local\\Temp/ipykernel_83244/3598560302.py\", line 17, in update_pie\n",
      "    dff_sub=dff.groupby('result').size().reset_index(name='count')\n",
      "  File \"C:\\Users\\gaert\\anaconda3\\lib\\site-packages\\pandas\\core\\frame.py\", line 7631, in groupby\n",
      "    return DataFrameGroupBy(\n",
      "  File \"C:\\Users\\gaert\\anaconda3\\lib\\site-packages\\pandas\\core\\groupby\\groupby.py\", line 889, in __init__\n",
      "    grouper, exclusions, obj = get_grouper(\n",
      "  File \"C:\\Users\\gaert\\anaconda3\\lib\\site-packages\\pandas\\core\\groupby\\grouper.py\", line 862, in get_grouper\n",
      "    raise KeyError(gpr)\n",
      "KeyError: 'result'\n",
      "Exception on /_dash-update-component [POST]\n",
      "Traceback (most recent call last):\n",
      "  File \"C:\\Users\\gaert\\anaconda3\\lib\\site-packages\\flask\\app.py\", line 2447, in wsgi_app\n",
      "    response = self.full_dispatch_request()\n",
      "  File \"C:\\Users\\gaert\\anaconda3\\lib\\site-packages\\flask\\app.py\", line 1952, in full_dispatch_request\n",
      "    rv = self.handle_user_exception(e)\n",
      "  File \"C:\\Users\\gaert\\anaconda3\\lib\\site-packages\\flask\\app.py\", line 1821, in handle_user_exception\n",
      "    reraise(exc_type, exc_value, tb)\n",
      "  File \"C:\\Users\\gaert\\anaconda3\\lib\\site-packages\\flask\\_compat.py\", line 39, in reraise\n",
      "    raise value\n",
      "  File \"C:\\Users\\gaert\\anaconda3\\lib\\site-packages\\flask\\app.py\", line 1950, in full_dispatch_request\n",
      "    rv = self.dispatch_request()\n",
      "  File \"C:\\Users\\gaert\\anaconda3\\lib\\site-packages\\flask\\app.py\", line 1936, in dispatch_request\n",
      "    return self.view_functions[rule.endpoint](**req.view_args)\n",
      "  File \"C:\\Users\\gaert\\anaconda3\\lib\\site-packages\\dash\\dash.py\", line 1344, in dispatch\n",
      "    raise KeyError(msg.format(output)) from missing_callback_function\n",
      "  File \"C:\\Users\\gaert\\anaconda3\\lib\\site-packages\\dash\\_callback.py\", line 151, in add_context\n",
      "    output_value = func(*func_args, **func_kwargs)  # %% callback invoked %%\n",
      "  File \"C:\\Users\\gaert\\AppData\\Local\\Temp/ipykernel_83244/3598560302.py\", line 17, in update_pie\n",
      "    dff_sub=dff.groupby('result').size().reset_index(name='count')\n",
      "  File \"C:\\Users\\gaert\\anaconda3\\lib\\site-packages\\pandas\\core\\frame.py\", line 7631, in groupby\n",
      "    return DataFrameGroupBy(\n",
      "  File \"C:\\Users\\gaert\\anaconda3\\lib\\site-packages\\pandas\\core\\groupby\\groupby.py\", line 889, in __init__\n",
      "    grouper, exclusions, obj = get_grouper(\n",
      "  File \"C:\\Users\\gaert\\anaconda3\\lib\\site-packages\\pandas\\core\\groupby\\grouper.py\", line 862, in get_grouper\n",
      "    raise KeyError(gpr)\n",
      "KeyError: 'result'\n",
      "Exception on /_dash-update-component [POST]\n",
      "Traceback (most recent call last):\n",
      "  File \"C:\\Users\\gaert\\anaconda3\\lib\\site-packages\\flask\\app.py\", line 2447, in wsgi_app\n",
      "    response = self.full_dispatch_request()\n",
      "  File \"C:\\Users\\gaert\\anaconda3\\lib\\site-packages\\flask\\app.py\", line 1952, in full_dispatch_request\n",
      "    rv = self.handle_user_exception(e)\n",
      "  File \"C:\\Users\\gaert\\anaconda3\\lib\\site-packages\\flask\\app.py\", line 1821, in handle_user_exception\n",
      "    reraise(exc_type, exc_value, tb)\n",
      "  File \"C:\\Users\\gaert\\anaconda3\\lib\\site-packages\\flask\\_compat.py\", line 39, in reraise\n",
      "    raise value\n",
      "  File \"C:\\Users\\gaert\\anaconda3\\lib\\site-packages\\flask\\app.py\", line 1950, in full_dispatch_request\n",
      "    rv = self.dispatch_request()\n",
      "  File \"C:\\Users\\gaert\\anaconda3\\lib\\site-packages\\flask\\app.py\", line 1936, in dispatch_request\n",
      "    return self.view_functions[rule.endpoint](**req.view_args)\n",
      "  File \"C:\\Users\\gaert\\anaconda3\\lib\\site-packages\\dash\\dash.py\", line 1344, in dispatch\n",
      "    raise KeyError(msg.format(output)) from missing_callback_function\n",
      "  File \"C:\\Users\\gaert\\anaconda3\\lib\\site-packages\\dash\\_callback.py\", line 151, in add_context\n",
      "    output_value = func(*func_args, **func_kwargs)  # %% callback invoked %%\n",
      "  File \"C:\\Users\\gaert\\AppData\\Local\\Temp/ipykernel_83244/3598560302.py\", line 17, in update_pie\n",
      "    dff_sub=dff.groupby('result').size().reset_index(name='count')\n",
      "  File \"C:\\Users\\gaert\\anaconda3\\lib\\site-packages\\pandas\\core\\frame.py\", line 7631, in groupby\n",
      "    return DataFrameGroupBy(\n",
      "  File \"C:\\Users\\gaert\\anaconda3\\lib\\site-packages\\pandas\\core\\groupby\\groupby.py\", line 889, in __init__\n",
      "    grouper, exclusions, obj = get_grouper(\n",
      "  File \"C:\\Users\\gaert\\anaconda3\\lib\\site-packages\\pandas\\core\\groupby\\grouper.py\", line 862, in get_grouper\n",
      "    raise KeyError(gpr)\n",
      "KeyError: 'result'\n",
      "Exception on /_dash-update-component [POST]\n",
      "Traceback (most recent call last):\n",
      "  File \"C:\\Users\\gaert\\anaconda3\\lib\\site-packages\\flask\\app.py\", line 2447, in wsgi_app\n",
      "    response = self.full_dispatch_request()\n",
      "  File \"C:\\Users\\gaert\\anaconda3\\lib\\site-packages\\flask\\app.py\", line 1952, in full_dispatch_request\n",
      "    rv = self.handle_user_exception(e)\n",
      "  File \"C:\\Users\\gaert\\anaconda3\\lib\\site-packages\\flask\\app.py\", line 1821, in handle_user_exception\n",
      "    reraise(exc_type, exc_value, tb)\n",
      "  File \"C:\\Users\\gaert\\anaconda3\\lib\\site-packages\\flask\\_compat.py\", line 39, in reraise\n",
      "    raise value\n",
      "  File \"C:\\Users\\gaert\\anaconda3\\lib\\site-packages\\flask\\app.py\", line 1950, in full_dispatch_request\n",
      "    rv = self.dispatch_request()\n",
      "  File \"C:\\Users\\gaert\\anaconda3\\lib\\site-packages\\flask\\app.py\", line 1936, in dispatch_request\n",
      "    return self.view_functions[rule.endpoint](**req.view_args)\n",
      "  File \"C:\\Users\\gaert\\anaconda3\\lib\\site-packages\\dash\\dash.py\", line 1344, in dispatch\n",
      "    raise KeyError(msg.format(output)) from missing_callback_function\n",
      "  File \"C:\\Users\\gaert\\anaconda3\\lib\\site-packages\\dash\\_callback.py\", line 151, in add_context\n",
      "    output_value = func(*func_args, **func_kwargs)  # %% callback invoked %%\n",
      "  File \"C:\\Users\\gaert\\AppData\\Local\\Temp/ipykernel_83244/3598560302.py\", line 17, in update_pie\n",
      "    dff_sub=dff.groupby('result').size().reset_index(name='count')\n",
      "  File \"C:\\Users\\gaert\\anaconda3\\lib\\site-packages\\pandas\\core\\frame.py\", line 7631, in groupby\n",
      "    return DataFrameGroupBy(\n",
      "  File \"C:\\Users\\gaert\\anaconda3\\lib\\site-packages\\pandas\\core\\groupby\\groupby.py\", line 889, in __init__\n",
      "    grouper, exclusions, obj = get_grouper(\n",
      "  File \"C:\\Users\\gaert\\anaconda3\\lib\\site-packages\\pandas\\core\\groupby\\grouper.py\", line 862, in get_grouper\n",
      "    raise KeyError(gpr)\n",
      "KeyError: 'result'\n",
      "Exception on /_dash-update-component [POST]\n",
      "Traceback (most recent call last):\n",
      "  File \"C:\\Users\\gaert\\anaconda3\\lib\\site-packages\\flask\\app.py\", line 2447, in wsgi_app\n",
      "    response = self.full_dispatch_request()\n",
      "  File \"C:\\Users\\gaert\\anaconda3\\lib\\site-packages\\flask\\app.py\", line 1952, in full_dispatch_request\n",
      "    rv = self.handle_user_exception(e)\n",
      "  File \"C:\\Users\\gaert\\anaconda3\\lib\\site-packages\\flask\\app.py\", line 1821, in handle_user_exception\n",
      "    reraise(exc_type, exc_value, tb)\n",
      "  File \"C:\\Users\\gaert\\anaconda3\\lib\\site-packages\\flask\\_compat.py\", line 39, in reraise\n",
      "    raise value\n",
      "  File \"C:\\Users\\gaert\\anaconda3\\lib\\site-packages\\flask\\app.py\", line 1950, in full_dispatch_request\n",
      "    rv = self.dispatch_request()\n",
      "  File \"C:\\Users\\gaert\\anaconda3\\lib\\site-packages\\flask\\app.py\", line 1936, in dispatch_request\n",
      "    return self.view_functions[rule.endpoint](**req.view_args)\n",
      "  File \"C:\\Users\\gaert\\anaconda3\\lib\\site-packages\\dash\\dash.py\", line 1344, in dispatch\n",
      "    raise KeyError(msg.format(output)) from missing_callback_function\n",
      "  File \"C:\\Users\\gaert\\anaconda3\\lib\\site-packages\\dash\\_callback.py\", line 151, in add_context\n",
      "    output_value = func(*func_args, **func_kwargs)  # %% callback invoked %%\n",
      "  File \"C:\\Users\\gaert\\AppData\\Local\\Temp/ipykernel_83244/3598560302.py\", line 17, in update_pie\n",
      "    dff_sub=dff.groupby('result').size().reset_index(name='count')\n",
      "  File \"C:\\Users\\gaert\\anaconda3\\lib\\site-packages\\pandas\\core\\frame.py\", line 7631, in groupby\n",
      "    return DataFrameGroupBy(\n",
      "  File \"C:\\Users\\gaert\\anaconda3\\lib\\site-packages\\pandas\\core\\groupby\\groupby.py\", line 889, in __init__\n",
      "    grouper, exclusions, obj = get_grouper(\n",
      "  File \"C:\\Users\\gaert\\anaconda3\\lib\\site-packages\\pandas\\core\\groupby\\grouper.py\", line 862, in get_grouper\n",
      "    raise KeyError(gpr)\n",
      "KeyError: 'result'\n",
      "Exception on /_dash-update-component [POST]\n",
      "Traceback (most recent call last):\n",
      "  File \"C:\\Users\\gaert\\anaconda3\\lib\\site-packages\\flask\\app.py\", line 2447, in wsgi_app\n",
      "    response = self.full_dispatch_request()\n",
      "  File \"C:\\Users\\gaert\\anaconda3\\lib\\site-packages\\flask\\app.py\", line 1952, in full_dispatch_request\n",
      "    rv = self.handle_user_exception(e)\n",
      "  File \"C:\\Users\\gaert\\anaconda3\\lib\\site-packages\\flask\\app.py\", line 1821, in handle_user_exception\n",
      "    reraise(exc_type, exc_value, tb)\n",
      "  File \"C:\\Users\\gaert\\anaconda3\\lib\\site-packages\\flask\\_compat.py\", line 39, in reraise\n",
      "    raise value\n",
      "  File \"C:\\Users\\gaert\\anaconda3\\lib\\site-packages\\flask\\app.py\", line 1950, in full_dispatch_request\n",
      "    rv = self.dispatch_request()\n",
      "  File \"C:\\Users\\gaert\\anaconda3\\lib\\site-packages\\flask\\app.py\", line 1936, in dispatch_request\n",
      "    return self.view_functions[rule.endpoint](**req.view_args)\n",
      "  File \"C:\\Users\\gaert\\anaconda3\\lib\\site-packages\\dash\\dash.py\", line 1344, in dispatch\n",
      "    raise KeyError(msg.format(output)) from missing_callback_function\n",
      "  File \"C:\\Users\\gaert\\anaconda3\\lib\\site-packages\\dash\\_callback.py\", line 151, in add_context\n",
      "    output_value = func(*func_args, **func_kwargs)  # %% callback invoked %%\n",
      "  File \"C:\\Users\\gaert\\AppData\\Local\\Temp/ipykernel_83244/3598560302.py\", line 17, in update_pie\n",
      "    dff_sub=dff.groupby('result').size().reset_index(name='count')\n",
      "  File \"C:\\Users\\gaert\\anaconda3\\lib\\site-packages\\pandas\\core\\frame.py\", line 7631, in groupby\n",
      "    return DataFrameGroupBy(\n",
      "  File \"C:\\Users\\gaert\\anaconda3\\lib\\site-packages\\pandas\\core\\groupby\\groupby.py\", line 889, in __init__\n",
      "    grouper, exclusions, obj = get_grouper(\n",
      "  File \"C:\\Users\\gaert\\anaconda3\\lib\\site-packages\\pandas\\core\\groupby\\grouper.py\", line 862, in get_grouper\n",
      "    raise KeyError(gpr)\n",
      "KeyError: 'result'\n",
      "Exception on /_dash-update-component [POST]\n",
      "Traceback (most recent call last):\n",
      "  File \"C:\\Users\\gaert\\anaconda3\\lib\\site-packages\\flask\\app.py\", line 2447, in wsgi_app\n",
      "    response = self.full_dispatch_request()\n",
      "  File \"C:\\Users\\gaert\\anaconda3\\lib\\site-packages\\flask\\app.py\", line 1952, in full_dispatch_request\n",
      "    rv = self.handle_user_exception(e)\n",
      "  File \"C:\\Users\\gaert\\anaconda3\\lib\\site-packages\\flask\\app.py\", line 1821, in handle_user_exception\n",
      "    reraise(exc_type, exc_value, tb)\n",
      "  File \"C:\\Users\\gaert\\anaconda3\\lib\\site-packages\\flask\\_compat.py\", line 39, in reraise\n",
      "    raise value\n",
      "  File \"C:\\Users\\gaert\\anaconda3\\lib\\site-packages\\flask\\app.py\", line 1950, in full_dispatch_request\n",
      "    rv = self.dispatch_request()\n",
      "  File \"C:\\Users\\gaert\\anaconda3\\lib\\site-packages\\flask\\app.py\", line 1936, in dispatch_request\n",
      "    return self.view_functions[rule.endpoint](**req.view_args)\n",
      "  File \"C:\\Users\\gaert\\anaconda3\\lib\\site-packages\\dash\\dash.py\", line 1344, in dispatch\n",
      "    raise KeyError(msg.format(output)) from missing_callback_function\n",
      "  File \"C:\\Users\\gaert\\anaconda3\\lib\\site-packages\\dash\\_callback.py\", line 151, in add_context\n",
      "    output_value = func(*func_args, **func_kwargs)  # %% callback invoked %%\n",
      "  File \"C:\\Users\\gaert\\AppData\\Local\\Temp/ipykernel_83244/3598560302.py\", line 17, in update_pie\n",
      "    dff_sub=dff.groupby('result').size().reset_index(name='count')\n",
      "  File \"C:\\Users\\gaert\\anaconda3\\lib\\site-packages\\pandas\\core\\frame.py\", line 7631, in groupby\n",
      "    return DataFrameGroupBy(\n",
      "  File \"C:\\Users\\gaert\\anaconda3\\lib\\site-packages\\pandas\\core\\groupby\\groupby.py\", line 889, in __init__\n",
      "    grouper, exclusions, obj = get_grouper(\n",
      "  File \"C:\\Users\\gaert\\anaconda3\\lib\\site-packages\\pandas\\core\\groupby\\grouper.py\", line 862, in get_grouper\n",
      "    raise KeyError(gpr)\n",
      "KeyError: 'result'\n",
      "Exception on /_dash-update-component [POST]\n",
      "Traceback (most recent call last):\n",
      "  File \"C:\\Users\\gaert\\anaconda3\\lib\\site-packages\\flask\\app.py\", line 2447, in wsgi_app\n",
      "    response = self.full_dispatch_request()\n",
      "  File \"C:\\Users\\gaert\\anaconda3\\lib\\site-packages\\flask\\app.py\", line 1952, in full_dispatch_request\n",
      "    rv = self.handle_user_exception(e)\n",
      "  File \"C:\\Users\\gaert\\anaconda3\\lib\\site-packages\\flask\\app.py\", line 1821, in handle_user_exception\n",
      "    reraise(exc_type, exc_value, tb)\n",
      "  File \"C:\\Users\\gaert\\anaconda3\\lib\\site-packages\\flask\\_compat.py\", line 39, in reraise\n",
      "    raise value\n",
      "  File \"C:\\Users\\gaert\\anaconda3\\lib\\site-packages\\flask\\app.py\", line 1950, in full_dispatch_request\n",
      "    rv = self.dispatch_request()\n",
      "  File \"C:\\Users\\gaert\\anaconda3\\lib\\site-packages\\flask\\app.py\", line 1936, in dispatch_request\n",
      "    return self.view_functions[rule.endpoint](**req.view_args)\n",
      "  File \"C:\\Users\\gaert\\anaconda3\\lib\\site-packages\\dash\\dash.py\", line 1344, in dispatch\n",
      "    raise KeyError(msg.format(output)) from missing_callback_function\n",
      "  File \"C:\\Users\\gaert\\anaconda3\\lib\\site-packages\\dash\\_callback.py\", line 151, in add_context\n",
      "    output_value = func(*func_args, **func_kwargs)  # %% callback invoked %%\n",
      "  File \"C:\\Users\\gaert\\AppData\\Local\\Temp/ipykernel_83244/3598560302.py\", line 17, in update_pie\n",
      "    dff_sub=dff.groupby('result').size().reset_index(name='count')\n",
      "  File \"C:\\Users\\gaert\\anaconda3\\lib\\site-packages\\pandas\\core\\frame.py\", line 7631, in groupby\n",
      "    return DataFrameGroupBy(\n",
      "  File \"C:\\Users\\gaert\\anaconda3\\lib\\site-packages\\pandas\\core\\groupby\\groupby.py\", line 889, in __init__\n",
      "    grouper, exclusions, obj = get_grouper(\n",
      "  File \"C:\\Users\\gaert\\anaconda3\\lib\\site-packages\\pandas\\core\\groupby\\grouper.py\", line 862, in get_grouper\n",
      "    raise KeyError(gpr)\n",
      "KeyError: 'result'\n",
      "Exception on /_dash-update-component [POST]\n",
      "Traceback (most recent call last):\n",
      "  File \"C:\\Users\\gaert\\anaconda3\\lib\\site-packages\\flask\\app.py\", line 2447, in wsgi_app\n",
      "    response = self.full_dispatch_request()\n",
      "  File \"C:\\Users\\gaert\\anaconda3\\lib\\site-packages\\flask\\app.py\", line 1952, in full_dispatch_request\n",
      "    rv = self.handle_user_exception(e)\n",
      "  File \"C:\\Users\\gaert\\anaconda3\\lib\\site-packages\\flask\\app.py\", line 1821, in handle_user_exception\n",
      "    reraise(exc_type, exc_value, tb)\n",
      "  File \"C:\\Users\\gaert\\anaconda3\\lib\\site-packages\\flask\\_compat.py\", line 39, in reraise\n",
      "    raise value\n",
      "  File \"C:\\Users\\gaert\\anaconda3\\lib\\site-packages\\flask\\app.py\", line 1950, in full_dispatch_request\n",
      "    rv = self.dispatch_request()\n",
      "  File \"C:\\Users\\gaert\\anaconda3\\lib\\site-packages\\flask\\app.py\", line 1936, in dispatch_request\n",
      "    return self.view_functions[rule.endpoint](**req.view_args)\n",
      "  File \"C:\\Users\\gaert\\anaconda3\\lib\\site-packages\\dash\\dash.py\", line 1344, in dispatch\n",
      "    raise KeyError(msg.format(output)) from missing_callback_function\n",
      "  File \"C:\\Users\\gaert\\anaconda3\\lib\\site-packages\\dash\\_callback.py\", line 151, in add_context\n",
      "    output_value = func(*func_args, **func_kwargs)  # %% callback invoked %%\n",
      "  File \"C:\\Users\\gaert\\AppData\\Local\\Temp/ipykernel_83244/3598560302.py\", line 17, in update_pie\n",
      "    dff_sub=dff.groupby('result').size().reset_index(name='count')\n",
      "  File \"C:\\Users\\gaert\\anaconda3\\lib\\site-packages\\pandas\\core\\frame.py\", line 7631, in groupby\n",
      "    return DataFrameGroupBy(\n",
      "  File \"C:\\Users\\gaert\\anaconda3\\lib\\site-packages\\pandas\\core\\groupby\\groupby.py\", line 889, in __init__\n",
      "    grouper, exclusions, obj = get_grouper(\n",
      "  File \"C:\\Users\\gaert\\anaconda3\\lib\\site-packages\\pandas\\core\\groupby\\grouper.py\", line 862, in get_grouper\n",
      "    raise KeyError(gpr)\n",
      "KeyError: 'result'\n",
      "Exception on /_dash-update-component [POST]\n",
      "Traceback (most recent call last):\n",
      "  File \"C:\\Users\\gaert\\anaconda3\\lib\\site-packages\\flask\\app.py\", line 2447, in wsgi_app\n",
      "    response = self.full_dispatch_request()\n",
      "  File \"C:\\Users\\gaert\\anaconda3\\lib\\site-packages\\flask\\app.py\", line 1952, in full_dispatch_request\n",
      "    rv = self.handle_user_exception(e)\n",
      "  File \"C:\\Users\\gaert\\anaconda3\\lib\\site-packages\\flask\\app.py\", line 1821, in handle_user_exception\n",
      "    reraise(exc_type, exc_value, tb)\n",
      "  File \"C:\\Users\\gaert\\anaconda3\\lib\\site-packages\\flask\\_compat.py\", line 39, in reraise\n",
      "    raise value\n",
      "  File \"C:\\Users\\gaert\\anaconda3\\lib\\site-packages\\flask\\app.py\", line 1950, in full_dispatch_request\n",
      "    rv = self.dispatch_request()\n",
      "  File \"C:\\Users\\gaert\\anaconda3\\lib\\site-packages\\flask\\app.py\", line 1936, in dispatch_request\n",
      "    return self.view_functions[rule.endpoint](**req.view_args)\n",
      "  File \"C:\\Users\\gaert\\anaconda3\\lib\\site-packages\\dash\\dash.py\", line 1344, in dispatch\n",
      "    raise KeyError(msg.format(output)) from missing_callback_function\n",
      "  File \"C:\\Users\\gaert\\anaconda3\\lib\\site-packages\\dash\\_callback.py\", line 151, in add_context\n",
      "    output_value = func(*func_args, **func_kwargs)  # %% callback invoked %%\n",
      "  File \"C:\\Users\\gaert\\AppData\\Local\\Temp/ipykernel_83244/3598560302.py\", line 17, in update_pie\n",
      "    dff_sub=dff.groupby('result').size().reset_index(name='count')\n",
      "  File \"C:\\Users\\gaert\\anaconda3\\lib\\site-packages\\pandas\\core\\frame.py\", line 7631, in groupby\n",
      "    return DataFrameGroupBy(\n",
      "  File \"C:\\Users\\gaert\\anaconda3\\lib\\site-packages\\pandas\\core\\groupby\\groupby.py\", line 889, in __init__\n",
      "    grouper, exclusions, obj = get_grouper(\n",
      "  File \"C:\\Users\\gaert\\anaconda3\\lib\\site-packages\\pandas\\core\\groupby\\grouper.py\", line 862, in get_grouper\n",
      "    raise KeyError(gpr)\n",
      "KeyError: 'result'\n",
      "Exception on /_dash-update-component [POST]\n",
      "Traceback (most recent call last):\n",
      "  File \"C:\\Users\\gaert\\anaconda3\\lib\\site-packages\\flask\\app.py\", line 2447, in wsgi_app\n",
      "    response = self.full_dispatch_request()\n",
      "  File \"C:\\Users\\gaert\\anaconda3\\lib\\site-packages\\flask\\app.py\", line 1952, in full_dispatch_request\n",
      "    rv = self.handle_user_exception(e)\n",
      "  File \"C:\\Users\\gaert\\anaconda3\\lib\\site-packages\\flask\\app.py\", line 1821, in handle_user_exception\n",
      "    reraise(exc_type, exc_value, tb)\n",
      "  File \"C:\\Users\\gaert\\anaconda3\\lib\\site-packages\\flask\\_compat.py\", line 39, in reraise\n",
      "    raise value\n",
      "  File \"C:\\Users\\gaert\\anaconda3\\lib\\site-packages\\flask\\app.py\", line 1950, in full_dispatch_request\n",
      "    rv = self.dispatch_request()\n",
      "  File \"C:\\Users\\gaert\\anaconda3\\lib\\site-packages\\flask\\app.py\", line 1936, in dispatch_request\n",
      "    return self.view_functions[rule.endpoint](**req.view_args)\n",
      "  File \"C:\\Users\\gaert\\anaconda3\\lib\\site-packages\\dash\\dash.py\", line 1344, in dispatch\n",
      "    raise KeyError(msg.format(output)) from missing_callback_function\n",
      "  File \"C:\\Users\\gaert\\anaconda3\\lib\\site-packages\\dash\\_callback.py\", line 151, in add_context\n",
      "    output_value = func(*func_args, **func_kwargs)  # %% callback invoked %%\n",
      "  File \"C:\\Users\\gaert\\AppData\\Local\\Temp/ipykernel_83244/3598560302.py\", line 17, in update_pie\n",
      "    dff_sub=dff.groupby('result').size().reset_index(name='count')\n",
      "  File \"C:\\Users\\gaert\\anaconda3\\lib\\site-packages\\pandas\\core\\frame.py\", line 7631, in groupby\n",
      "    return DataFrameGroupBy(\n",
      "  File \"C:\\Users\\gaert\\anaconda3\\lib\\site-packages\\pandas\\core\\groupby\\groupby.py\", line 889, in __init__\n",
      "    grouper, exclusions, obj = get_grouper(\n",
      "  File \"C:\\Users\\gaert\\anaconda3\\lib\\site-packages\\pandas\\core\\groupby\\grouper.py\", line 862, in get_grouper\n",
      "    raise KeyError(gpr)\n",
      "KeyError: 'result'\n",
      "Exception on /_dash-update-component [POST]\n",
      "Traceback (most recent call last):\n",
      "  File \"C:\\Users\\gaert\\anaconda3\\lib\\site-packages\\flask\\app.py\", line 2447, in wsgi_app\n",
      "    response = self.full_dispatch_request()\n",
      "  File \"C:\\Users\\gaert\\anaconda3\\lib\\site-packages\\flask\\app.py\", line 1952, in full_dispatch_request\n",
      "    rv = self.handle_user_exception(e)\n",
      "  File \"C:\\Users\\gaert\\anaconda3\\lib\\site-packages\\flask\\app.py\", line 1821, in handle_user_exception\n",
      "    reraise(exc_type, exc_value, tb)\n",
      "  File \"C:\\Users\\gaert\\anaconda3\\lib\\site-packages\\flask\\_compat.py\", line 39, in reraise\n",
      "    raise value\n",
      "  File \"C:\\Users\\gaert\\anaconda3\\lib\\site-packages\\flask\\app.py\", line 1950, in full_dispatch_request\n",
      "    rv = self.dispatch_request()\n",
      "  File \"C:\\Users\\gaert\\anaconda3\\lib\\site-packages\\flask\\app.py\", line 1936, in dispatch_request\n",
      "    return self.view_functions[rule.endpoint](**req.view_args)\n",
      "  File \"C:\\Users\\gaert\\anaconda3\\lib\\site-packages\\dash\\dash.py\", line 1344, in dispatch\n",
      "    raise KeyError(msg.format(output)) from missing_callback_function\n",
      "  File \"C:\\Users\\gaert\\anaconda3\\lib\\site-packages\\dash\\_callback.py\", line 151, in add_context\n",
      "    output_value = func(*func_args, **func_kwargs)  # %% callback invoked %%\n",
      "  File \"C:\\Users\\gaert\\AppData\\Local\\Temp/ipykernel_83244/3598560302.py\", line 17, in update_pie\n",
      "    dff_sub=dff.groupby('result').size().reset_index(name='count')\n",
      "  File \"C:\\Users\\gaert\\anaconda3\\lib\\site-packages\\pandas\\core\\frame.py\", line 7631, in groupby\n",
      "    return DataFrameGroupBy(\n",
      "  File \"C:\\Users\\gaert\\anaconda3\\lib\\site-packages\\pandas\\core\\groupby\\groupby.py\", line 889, in __init__\n",
      "    grouper, exclusions, obj = get_grouper(\n",
      "  File \"C:\\Users\\gaert\\anaconda3\\lib\\site-packages\\pandas\\core\\groupby\\grouper.py\", line 862, in get_grouper\n",
      "    raise KeyError(gpr)\n",
      "KeyError: 'result'\n",
      "Exception on /_dash-update-component [POST]\n",
      "Traceback (most recent call last):\n",
      "  File \"C:\\Users\\gaert\\anaconda3\\lib\\site-packages\\flask\\app.py\", line 2447, in wsgi_app\n",
      "    response = self.full_dispatch_request()\n",
      "  File \"C:\\Users\\gaert\\anaconda3\\lib\\site-packages\\flask\\app.py\", line 1952, in full_dispatch_request\n",
      "    rv = self.handle_user_exception(e)\n",
      "  File \"C:\\Users\\gaert\\anaconda3\\lib\\site-packages\\flask\\app.py\", line 1821, in handle_user_exception\n",
      "    reraise(exc_type, exc_value, tb)\n",
      "  File \"C:\\Users\\gaert\\anaconda3\\lib\\site-packages\\flask\\_compat.py\", line 39, in reraise\n",
      "    raise value\n",
      "  File \"C:\\Users\\gaert\\anaconda3\\lib\\site-packages\\flask\\app.py\", line 1950, in full_dispatch_request\n",
      "    rv = self.dispatch_request()\n",
      "  File \"C:\\Users\\gaert\\anaconda3\\lib\\site-packages\\flask\\app.py\", line 1936, in dispatch_request\n",
      "    return self.view_functions[rule.endpoint](**req.view_args)\n",
      "  File \"C:\\Users\\gaert\\anaconda3\\lib\\site-packages\\dash\\dash.py\", line 1344, in dispatch\n",
      "    raise KeyError(msg.format(output)) from missing_callback_function\n",
      "  File \"C:\\Users\\gaert\\anaconda3\\lib\\site-packages\\dash\\_callback.py\", line 151, in add_context\n",
      "    output_value = func(*func_args, **func_kwargs)  # %% callback invoked %%\n",
      "  File \"C:\\Users\\gaert\\AppData\\Local\\Temp/ipykernel_83244/3598560302.py\", line 17, in update_pie\n",
      "    dff_sub=dff.groupby('result').size().reset_index(name='count')\n",
      "  File \"C:\\Users\\gaert\\anaconda3\\lib\\site-packages\\pandas\\core\\frame.py\", line 7631, in groupby\n",
      "    return DataFrameGroupBy(\n",
      "  File \"C:\\Users\\gaert\\anaconda3\\lib\\site-packages\\pandas\\core\\groupby\\groupby.py\", line 889, in __init__\n",
      "    grouper, exclusions, obj = get_grouper(\n",
      "  File \"C:\\Users\\gaert\\anaconda3\\lib\\site-packages\\pandas\\core\\groupby\\grouper.py\", line 862, in get_grouper\n",
      "    raise KeyError(gpr)\n",
      "KeyError: 'result'\n",
      "Exception on /_dash-update-component [POST]\n",
      "Traceback (most recent call last):\n",
      "  File \"C:\\Users\\gaert\\anaconda3\\lib\\site-packages\\flask\\app.py\", line 2447, in wsgi_app\n",
      "    response = self.full_dispatch_request()\n",
      "  File \"C:\\Users\\gaert\\anaconda3\\lib\\site-packages\\flask\\app.py\", line 1952, in full_dispatch_request\n",
      "    rv = self.handle_user_exception(e)\n",
      "  File \"C:\\Users\\gaert\\anaconda3\\lib\\site-packages\\flask\\app.py\", line 1821, in handle_user_exception\n",
      "    reraise(exc_type, exc_value, tb)\n",
      "  File \"C:\\Users\\gaert\\anaconda3\\lib\\site-packages\\flask\\_compat.py\", line 39, in reraise\n",
      "    raise value\n",
      "  File \"C:\\Users\\gaert\\anaconda3\\lib\\site-packages\\flask\\app.py\", line 1950, in full_dispatch_request\n",
      "    rv = self.dispatch_request()\n",
      "  File \"C:\\Users\\gaert\\anaconda3\\lib\\site-packages\\flask\\app.py\", line 1936, in dispatch_request\n",
      "    return self.view_functions[rule.endpoint](**req.view_args)\n",
      "  File \"C:\\Users\\gaert\\anaconda3\\lib\\site-packages\\dash\\dash.py\", line 1344, in dispatch\n",
      "    raise KeyError(msg.format(output)) from missing_callback_function\n",
      "  File \"C:\\Users\\gaert\\anaconda3\\lib\\site-packages\\dash\\_callback.py\", line 151, in add_context\n",
      "    output_value = func(*func_args, **func_kwargs)  # %% callback invoked %%\n",
      "  File \"C:\\Users\\gaert\\AppData\\Local\\Temp/ipykernel_83244/3598560302.py\", line 17, in update_pie\n",
      "    dff_sub=dff.groupby('result').size().reset_index(name='count')\n",
      "  File \"C:\\Users\\gaert\\anaconda3\\lib\\site-packages\\pandas\\core\\frame.py\", line 7631, in groupby\n",
      "    return DataFrameGroupBy(\n",
      "  File \"C:\\Users\\gaert\\anaconda3\\lib\\site-packages\\pandas\\core\\groupby\\groupby.py\", line 889, in __init__\n",
      "    grouper, exclusions, obj = get_grouper(\n",
      "  File \"C:\\Users\\gaert\\anaconda3\\lib\\site-packages\\pandas\\core\\groupby\\grouper.py\", line 862, in get_grouper\n",
      "    raise KeyError(gpr)\n",
      "KeyError: 'result'\n",
      "Exception on /_dash-update-component [POST]\n",
      "Traceback (most recent call last):\n",
      "  File \"C:\\Users\\gaert\\anaconda3\\lib\\site-packages\\flask\\app.py\", line 2447, in wsgi_app\n",
      "    response = self.full_dispatch_request()\n",
      "  File \"C:\\Users\\gaert\\anaconda3\\lib\\site-packages\\flask\\app.py\", line 1952, in full_dispatch_request\n",
      "    rv = self.handle_user_exception(e)\n",
      "  File \"C:\\Users\\gaert\\anaconda3\\lib\\site-packages\\flask\\app.py\", line 1821, in handle_user_exception\n",
      "    reraise(exc_type, exc_value, tb)\n",
      "  File \"C:\\Users\\gaert\\anaconda3\\lib\\site-packages\\flask\\_compat.py\", line 39, in reraise\n",
      "    raise value\n",
      "  File \"C:\\Users\\gaert\\anaconda3\\lib\\site-packages\\flask\\app.py\", line 1950, in full_dispatch_request\n",
      "    rv = self.dispatch_request()\n",
      "  File \"C:\\Users\\gaert\\anaconda3\\lib\\site-packages\\flask\\app.py\", line 1936, in dispatch_request\n",
      "    return self.view_functions[rule.endpoint](**req.view_args)\n",
      "  File \"C:\\Users\\gaert\\anaconda3\\lib\\site-packages\\dash\\dash.py\", line 1344, in dispatch\n",
      "    raise KeyError(msg.format(output)) from missing_callback_function\n",
      "  File \"C:\\Users\\gaert\\anaconda3\\lib\\site-packages\\dash\\_callback.py\", line 151, in add_context\n",
      "    output_value = func(*func_args, **func_kwargs)  # %% callback invoked %%\n",
      "  File \"C:\\Users\\gaert\\AppData\\Local\\Temp/ipykernel_83244/3598560302.py\", line 17, in update_pie\n",
      "    dff_sub=dff.groupby('result').size().reset_index(name='count')\n",
      "  File \"C:\\Users\\gaert\\anaconda3\\lib\\site-packages\\pandas\\core\\frame.py\", line 7631, in groupby\n",
      "    return DataFrameGroupBy(\n",
      "  File \"C:\\Users\\gaert\\anaconda3\\lib\\site-packages\\pandas\\core\\groupby\\groupby.py\", line 889, in __init__\n",
      "    grouper, exclusions, obj = get_grouper(\n",
      "  File \"C:\\Users\\gaert\\anaconda3\\lib\\site-packages\\pandas\\core\\groupby\\grouper.py\", line 862, in get_grouper\n",
      "    raise KeyError(gpr)\n",
      "KeyError: 'result'\n",
      "Exception on /_dash-update-component [POST]\n",
      "Traceback (most recent call last):\n",
      "  File \"C:\\Users\\gaert\\anaconda3\\lib\\site-packages\\flask\\app.py\", line 2447, in wsgi_app\n",
      "    response = self.full_dispatch_request()\n",
      "  File \"C:\\Users\\gaert\\anaconda3\\lib\\site-packages\\flask\\app.py\", line 1952, in full_dispatch_request\n",
      "    rv = self.handle_user_exception(e)\n",
      "  File \"C:\\Users\\gaert\\anaconda3\\lib\\site-packages\\flask\\app.py\", line 1821, in handle_user_exception\n",
      "    reraise(exc_type, exc_value, tb)\n",
      "  File \"C:\\Users\\gaert\\anaconda3\\lib\\site-packages\\flask\\_compat.py\", line 39, in reraise\n",
      "    raise value\n",
      "  File \"C:\\Users\\gaert\\anaconda3\\lib\\site-packages\\flask\\app.py\", line 1950, in full_dispatch_request\n",
      "    rv = self.dispatch_request()\n",
      "  File \"C:\\Users\\gaert\\anaconda3\\lib\\site-packages\\flask\\app.py\", line 1936, in dispatch_request\n",
      "    return self.view_functions[rule.endpoint](**req.view_args)\n",
      "  File \"C:\\Users\\gaert\\anaconda3\\lib\\site-packages\\dash\\dash.py\", line 1344, in dispatch\n",
      "    raise KeyError(msg.format(output)) from missing_callback_function\n",
      "  File \"C:\\Users\\gaert\\anaconda3\\lib\\site-packages\\dash\\_callback.py\", line 151, in add_context\n",
      "    output_value = func(*func_args, **func_kwargs)  # %% callback invoked %%\n",
      "  File \"C:\\Users\\gaert\\AppData\\Local\\Temp/ipykernel_83244/3598560302.py\", line 17, in update_pie\n",
      "    dff_sub=dff.groupby('result').size().reset_index(name='count')\n",
      "  File \"C:\\Users\\gaert\\anaconda3\\lib\\site-packages\\pandas\\core\\frame.py\", line 7631, in groupby\n",
      "    return DataFrameGroupBy(\n",
      "  File \"C:\\Users\\gaert\\anaconda3\\lib\\site-packages\\pandas\\core\\groupby\\groupby.py\", line 889, in __init__\n",
      "    grouper, exclusions, obj = get_grouper(\n",
      "  File \"C:\\Users\\gaert\\anaconda3\\lib\\site-packages\\pandas\\core\\groupby\\grouper.py\", line 862, in get_grouper\n",
      "    raise KeyError(gpr)\n",
      "KeyError: 'result'\n",
      "Exception on /_dash-update-component [POST]\n",
      "Traceback (most recent call last):\n",
      "  File \"C:\\Users\\gaert\\anaconda3\\lib\\site-packages\\flask\\app.py\", line 2447, in wsgi_app\n",
      "    response = self.full_dispatch_request()\n",
      "  File \"C:\\Users\\gaert\\anaconda3\\lib\\site-packages\\flask\\app.py\", line 1952, in full_dispatch_request\n",
      "    rv = self.handle_user_exception(e)\n",
      "  File \"C:\\Users\\gaert\\anaconda3\\lib\\site-packages\\flask\\app.py\", line 1821, in handle_user_exception\n",
      "    reraise(exc_type, exc_value, tb)\n",
      "  File \"C:\\Users\\gaert\\anaconda3\\lib\\site-packages\\flask\\_compat.py\", line 39, in reraise\n",
      "    raise value\n",
      "  File \"C:\\Users\\gaert\\anaconda3\\lib\\site-packages\\flask\\app.py\", line 1950, in full_dispatch_request\n",
      "    rv = self.dispatch_request()\n",
      "  File \"C:\\Users\\gaert\\anaconda3\\lib\\site-packages\\flask\\app.py\", line 1936, in dispatch_request\n",
      "    return self.view_functions[rule.endpoint](**req.view_args)\n",
      "  File \"C:\\Users\\gaert\\anaconda3\\lib\\site-packages\\dash\\dash.py\", line 1344, in dispatch\n",
      "    raise KeyError(msg.format(output)) from missing_callback_function\n",
      "  File \"C:\\Users\\gaert\\anaconda3\\lib\\site-packages\\dash\\_callback.py\", line 151, in add_context\n",
      "    output_value = func(*func_args, **func_kwargs)  # %% callback invoked %%\n",
      "  File \"C:\\Users\\gaert\\AppData\\Local\\Temp/ipykernel_83244/3598560302.py\", line 17, in update_pie\n",
      "    dff_sub=dff.groupby('result').size().reset_index(name='count')\n",
      "  File \"C:\\Users\\gaert\\anaconda3\\lib\\site-packages\\pandas\\core\\frame.py\", line 7631, in groupby\n",
      "    return DataFrameGroupBy(\n",
      "  File \"C:\\Users\\gaert\\anaconda3\\lib\\site-packages\\pandas\\core\\groupby\\groupby.py\", line 889, in __init__\n",
      "    grouper, exclusions, obj = get_grouper(\n",
      "  File \"C:\\Users\\gaert\\anaconda3\\lib\\site-packages\\pandas\\core\\groupby\\grouper.py\", line 862, in get_grouper\n",
      "    raise KeyError(gpr)\n",
      "KeyError: 'result'\n",
      "Exception on /_dash-update-component [POST]\n",
      "Traceback (most recent call last):\n",
      "  File \"C:\\Users\\gaert\\anaconda3\\lib\\site-packages\\flask\\app.py\", line 2447, in wsgi_app\n",
      "    response = self.full_dispatch_request()\n",
      "  File \"C:\\Users\\gaert\\anaconda3\\lib\\site-packages\\flask\\app.py\", line 1952, in full_dispatch_request\n",
      "    rv = self.handle_user_exception(e)\n",
      "  File \"C:\\Users\\gaert\\anaconda3\\lib\\site-packages\\flask\\app.py\", line 1821, in handle_user_exception\n",
      "    reraise(exc_type, exc_value, tb)\n",
      "  File \"C:\\Users\\gaert\\anaconda3\\lib\\site-packages\\flask\\_compat.py\", line 39, in reraise\n",
      "    raise value\n",
      "  File \"C:\\Users\\gaert\\anaconda3\\lib\\site-packages\\flask\\app.py\", line 1950, in full_dispatch_request\n",
      "    rv = self.dispatch_request()\n",
      "  File \"C:\\Users\\gaert\\anaconda3\\lib\\site-packages\\flask\\app.py\", line 1936, in dispatch_request\n",
      "    return self.view_functions[rule.endpoint](**req.view_args)\n",
      "  File \"C:\\Users\\gaert\\anaconda3\\lib\\site-packages\\dash\\dash.py\", line 1344, in dispatch\n",
      "    raise KeyError(msg.format(output)) from missing_callback_function\n",
      "  File \"C:\\Users\\gaert\\anaconda3\\lib\\site-packages\\dash\\_callback.py\", line 151, in add_context\n",
      "    output_value = func(*func_args, **func_kwargs)  # %% callback invoked %%\n",
      "  File \"C:\\Users\\gaert\\AppData\\Local\\Temp/ipykernel_83244/3598560302.py\", line 17, in update_pie\n",
      "    dff_sub=dff.groupby('result').size().reset_index(name='count')\n",
      "  File \"C:\\Users\\gaert\\anaconda3\\lib\\site-packages\\pandas\\core\\frame.py\", line 7631, in groupby\n",
      "    return DataFrameGroupBy(\n",
      "  File \"C:\\Users\\gaert\\anaconda3\\lib\\site-packages\\pandas\\core\\groupby\\groupby.py\", line 889, in __init__\n",
      "    grouper, exclusions, obj = get_grouper(\n",
      "  File \"C:\\Users\\gaert\\anaconda3\\lib\\site-packages\\pandas\\core\\groupby\\grouper.py\", line 862, in get_grouper\n",
      "    raise KeyError(gpr)\n",
      "KeyError: 'result'\n",
      "Exception on /_dash-update-component [POST]\n",
      "Traceback (most recent call last):\n",
      "  File \"C:\\Users\\gaert\\anaconda3\\lib\\site-packages\\flask\\app.py\", line 2447, in wsgi_app\n",
      "    response = self.full_dispatch_request()\n",
      "  File \"C:\\Users\\gaert\\anaconda3\\lib\\site-packages\\flask\\app.py\", line 1952, in full_dispatch_request\n",
      "    rv = self.handle_user_exception(e)\n",
      "  File \"C:\\Users\\gaert\\anaconda3\\lib\\site-packages\\flask\\app.py\", line 1821, in handle_user_exception\n",
      "    reraise(exc_type, exc_value, tb)\n",
      "  File \"C:\\Users\\gaert\\anaconda3\\lib\\site-packages\\flask\\_compat.py\", line 39, in reraise\n",
      "    raise value\n",
      "  File \"C:\\Users\\gaert\\anaconda3\\lib\\site-packages\\flask\\app.py\", line 1950, in full_dispatch_request\n",
      "    rv = self.dispatch_request()\n",
      "  File \"C:\\Users\\gaert\\anaconda3\\lib\\site-packages\\flask\\app.py\", line 1936, in dispatch_request\n",
      "    return self.view_functions[rule.endpoint](**req.view_args)\n",
      "  File \"C:\\Users\\gaert\\anaconda3\\lib\\site-packages\\dash\\dash.py\", line 1344, in dispatch\n",
      "    raise KeyError(msg.format(output)) from missing_callback_function\n",
      "  File \"C:\\Users\\gaert\\anaconda3\\lib\\site-packages\\dash\\_callback.py\", line 151, in add_context\n",
      "    output_value = func(*func_args, **func_kwargs)  # %% callback invoked %%\n",
      "  File \"C:\\Users\\gaert\\AppData\\Local\\Temp/ipykernel_83244/3598560302.py\", line 17, in update_pie\n",
      "    dff_sub=dff.groupby('result').size().reset_index(name='count')\n",
      "  File \"C:\\Users\\gaert\\anaconda3\\lib\\site-packages\\pandas\\core\\frame.py\", line 7631, in groupby\n",
      "    return DataFrameGroupBy(\n",
      "  File \"C:\\Users\\gaert\\anaconda3\\lib\\site-packages\\pandas\\core\\groupby\\groupby.py\", line 889, in __init__\n",
      "    grouper, exclusions, obj = get_grouper(\n",
      "  File \"C:\\Users\\gaert\\anaconda3\\lib\\site-packages\\pandas\\core\\groupby\\grouper.py\", line 862, in get_grouper\n",
      "    raise KeyError(gpr)\n",
      "KeyError: 'result'\n",
      "Exception on /_dash-update-component [POST]\n",
      "Traceback (most recent call last):\n",
      "  File \"C:\\Users\\gaert\\anaconda3\\lib\\site-packages\\flask\\app.py\", line 2447, in wsgi_app\n",
      "    response = self.full_dispatch_request()\n",
      "  File \"C:\\Users\\gaert\\anaconda3\\lib\\site-packages\\flask\\app.py\", line 1952, in full_dispatch_request\n",
      "    rv = self.handle_user_exception(e)\n",
      "  File \"C:\\Users\\gaert\\anaconda3\\lib\\site-packages\\flask\\app.py\", line 1821, in handle_user_exception\n",
      "    reraise(exc_type, exc_value, tb)\n",
      "  File \"C:\\Users\\gaert\\anaconda3\\lib\\site-packages\\flask\\_compat.py\", line 39, in reraise\n",
      "    raise value\n",
      "  File \"C:\\Users\\gaert\\anaconda3\\lib\\site-packages\\flask\\app.py\", line 1950, in full_dispatch_request\n",
      "    rv = self.dispatch_request()\n",
      "  File \"C:\\Users\\gaert\\anaconda3\\lib\\site-packages\\flask\\app.py\", line 1936, in dispatch_request\n",
      "    return self.view_functions[rule.endpoint](**req.view_args)\n",
      "  File \"C:\\Users\\gaert\\anaconda3\\lib\\site-packages\\dash\\dash.py\", line 1344, in dispatch\n",
      "    raise KeyError(msg.format(output)) from missing_callback_function\n",
      "  File \"C:\\Users\\gaert\\anaconda3\\lib\\site-packages\\dash\\_callback.py\", line 151, in add_context\n",
      "    output_value = func(*func_args, **func_kwargs)  # %% callback invoked %%\n",
      "  File \"C:\\Users\\gaert\\AppData\\Local\\Temp/ipykernel_83244/3598560302.py\", line 17, in update_pie\n",
      "    dff_sub=dff.groupby('result').size().reset_index(name='count')\n",
      "  File \"C:\\Users\\gaert\\anaconda3\\lib\\site-packages\\pandas\\core\\frame.py\", line 7631, in groupby\n",
      "    return DataFrameGroupBy(\n",
      "  File \"C:\\Users\\gaert\\anaconda3\\lib\\site-packages\\pandas\\core\\groupby\\groupby.py\", line 889, in __init__\n",
      "    grouper, exclusions, obj = get_grouper(\n",
      "  File \"C:\\Users\\gaert\\anaconda3\\lib\\site-packages\\pandas\\core\\groupby\\grouper.py\", line 862, in get_grouper\n",
      "    raise KeyError(gpr)\n",
      "KeyError: 'result'\n",
      "Exception on /_dash-update-component [POST]\n",
      "Traceback (most recent call last):\n",
      "  File \"C:\\Users\\gaert\\anaconda3\\lib\\site-packages\\flask\\app.py\", line 2447, in wsgi_app\n",
      "    response = self.full_dispatch_request()\n",
      "  File \"C:\\Users\\gaert\\anaconda3\\lib\\site-packages\\flask\\app.py\", line 1952, in full_dispatch_request\n",
      "    rv = self.handle_user_exception(e)\n",
      "  File \"C:\\Users\\gaert\\anaconda3\\lib\\site-packages\\flask\\app.py\", line 1821, in handle_user_exception\n",
      "    reraise(exc_type, exc_value, tb)\n",
      "  File \"C:\\Users\\gaert\\anaconda3\\lib\\site-packages\\flask\\_compat.py\", line 39, in reraise\n",
      "    raise value\n",
      "  File \"C:\\Users\\gaert\\anaconda3\\lib\\site-packages\\flask\\app.py\", line 1950, in full_dispatch_request\n",
      "    rv = self.dispatch_request()\n",
      "  File \"C:\\Users\\gaert\\anaconda3\\lib\\site-packages\\flask\\app.py\", line 1936, in dispatch_request\n",
      "    return self.view_functions[rule.endpoint](**req.view_args)\n",
      "  File \"C:\\Users\\gaert\\anaconda3\\lib\\site-packages\\dash\\dash.py\", line 1344, in dispatch\n",
      "    raise KeyError(msg.format(output)) from missing_callback_function\n",
      "  File \"C:\\Users\\gaert\\anaconda3\\lib\\site-packages\\dash\\_callback.py\", line 151, in add_context\n",
      "    output_value = func(*func_args, **func_kwargs)  # %% callback invoked %%\n",
      "  File \"C:\\Users\\gaert\\AppData\\Local\\Temp/ipykernel_83244/3598560302.py\", line 17, in update_pie\n",
      "    dff_sub=dff.groupby('result').size().reset_index(name='count')\n",
      "  File \"C:\\Users\\gaert\\anaconda3\\lib\\site-packages\\pandas\\core\\frame.py\", line 7631, in groupby\n",
      "    return DataFrameGroupBy(\n",
      "  File \"C:\\Users\\gaert\\anaconda3\\lib\\site-packages\\pandas\\core\\groupby\\groupby.py\", line 889, in __init__\n",
      "    grouper, exclusions, obj = get_grouper(\n",
      "  File \"C:\\Users\\gaert\\anaconda3\\lib\\site-packages\\pandas\\core\\groupby\\grouper.py\", line 862, in get_grouper\n",
      "    raise KeyError(gpr)\n",
      "KeyError: 'result'\n",
      "Exception on /_dash-update-component [POST]\n",
      "Traceback (most recent call last):\n",
      "  File \"C:\\Users\\gaert\\anaconda3\\lib\\site-packages\\flask\\app.py\", line 2447, in wsgi_app\n",
      "    response = self.full_dispatch_request()\n",
      "  File \"C:\\Users\\gaert\\anaconda3\\lib\\site-packages\\flask\\app.py\", line 1952, in full_dispatch_request\n",
      "    rv = self.handle_user_exception(e)\n",
      "  File \"C:\\Users\\gaert\\anaconda3\\lib\\site-packages\\flask\\app.py\", line 1821, in handle_user_exception\n",
      "    reraise(exc_type, exc_value, tb)\n",
      "  File \"C:\\Users\\gaert\\anaconda3\\lib\\site-packages\\flask\\_compat.py\", line 39, in reraise\n",
      "    raise value\n",
      "  File \"C:\\Users\\gaert\\anaconda3\\lib\\site-packages\\flask\\app.py\", line 1950, in full_dispatch_request\n",
      "    rv = self.dispatch_request()\n",
      "  File \"C:\\Users\\gaert\\anaconda3\\lib\\site-packages\\flask\\app.py\", line 1936, in dispatch_request\n",
      "    return self.view_functions[rule.endpoint](**req.view_args)\n",
      "  File \"C:\\Users\\gaert\\anaconda3\\lib\\site-packages\\dash\\dash.py\", line 1344, in dispatch\n",
      "    raise KeyError(msg.format(output)) from missing_callback_function\n",
      "  File \"C:\\Users\\gaert\\anaconda3\\lib\\site-packages\\dash\\_callback.py\", line 151, in add_context\n",
      "    output_value = func(*func_args, **func_kwargs)  # %% callback invoked %%\n",
      "  File \"C:\\Users\\gaert\\AppData\\Local\\Temp/ipykernel_83244/3598560302.py\", line 17, in update_pie\n",
      "    dff_sub=dff.groupby('result').size().reset_index(name='count')\n",
      "  File \"C:\\Users\\gaert\\anaconda3\\lib\\site-packages\\pandas\\core\\frame.py\", line 7631, in groupby\n",
      "    return DataFrameGroupBy(\n",
      "  File \"C:\\Users\\gaert\\anaconda3\\lib\\site-packages\\pandas\\core\\groupby\\groupby.py\", line 889, in __init__\n",
      "    grouper, exclusions, obj = get_grouper(\n",
      "  File \"C:\\Users\\gaert\\anaconda3\\lib\\site-packages\\pandas\\core\\groupby\\grouper.py\", line 862, in get_grouper\n",
      "    raise KeyError(gpr)\n",
      "KeyError: 'result'\n",
      "Exception on /_dash-update-component [POST]\n",
      "Traceback (most recent call last):\n",
      "  File \"C:\\Users\\gaert\\anaconda3\\lib\\site-packages\\flask\\app.py\", line 2447, in wsgi_app\n",
      "    response = self.full_dispatch_request()\n",
      "  File \"C:\\Users\\gaert\\anaconda3\\lib\\site-packages\\flask\\app.py\", line 1952, in full_dispatch_request\n",
      "    rv = self.handle_user_exception(e)\n",
      "  File \"C:\\Users\\gaert\\anaconda3\\lib\\site-packages\\flask\\app.py\", line 1821, in handle_user_exception\n",
      "    reraise(exc_type, exc_value, tb)\n",
      "  File \"C:\\Users\\gaert\\anaconda3\\lib\\site-packages\\flask\\_compat.py\", line 39, in reraise\n",
      "    raise value\n",
      "  File \"C:\\Users\\gaert\\anaconda3\\lib\\site-packages\\flask\\app.py\", line 1950, in full_dispatch_request\n",
      "    rv = self.dispatch_request()\n",
      "  File \"C:\\Users\\gaert\\anaconda3\\lib\\site-packages\\flask\\app.py\", line 1936, in dispatch_request\n",
      "    return self.view_functions[rule.endpoint](**req.view_args)\n",
      "  File \"C:\\Users\\gaert\\anaconda3\\lib\\site-packages\\dash\\dash.py\", line 1344, in dispatch\n",
      "    raise KeyError(msg.format(output)) from missing_callback_function\n",
      "  File \"C:\\Users\\gaert\\anaconda3\\lib\\site-packages\\dash\\_callback.py\", line 151, in add_context\n",
      "    output_value = func(*func_args, **func_kwargs)  # %% callback invoked %%\n",
      "  File \"C:\\Users\\gaert\\AppData\\Local\\Temp/ipykernel_83244/3598560302.py\", line 17, in update_pie\n",
      "    dff_sub=dff.groupby('result').size().reset_index(name='count')\n",
      "  File \"C:\\Users\\gaert\\anaconda3\\lib\\site-packages\\pandas\\core\\frame.py\", line 7631, in groupby\n",
      "    return DataFrameGroupBy(\n",
      "  File \"C:\\Users\\gaert\\anaconda3\\lib\\site-packages\\pandas\\core\\groupby\\groupby.py\", line 889, in __init__\n",
      "    grouper, exclusions, obj = get_grouper(\n",
      "  File \"C:\\Users\\gaert\\anaconda3\\lib\\site-packages\\pandas\\core\\groupby\\grouper.py\", line 862, in get_grouper\n",
      "    raise KeyError(gpr)\n",
      "KeyError: 'result'\n",
      "Exception on /_dash-update-component [POST]\n",
      "Traceback (most recent call last):\n",
      "  File \"C:\\Users\\gaert\\anaconda3\\lib\\site-packages\\flask\\app.py\", line 2447, in wsgi_app\n",
      "    response = self.full_dispatch_request()\n",
      "  File \"C:\\Users\\gaert\\anaconda3\\lib\\site-packages\\flask\\app.py\", line 1952, in full_dispatch_request\n",
      "    rv = self.handle_user_exception(e)\n",
      "  File \"C:\\Users\\gaert\\anaconda3\\lib\\site-packages\\flask\\app.py\", line 1821, in handle_user_exception\n",
      "    reraise(exc_type, exc_value, tb)\n",
      "  File \"C:\\Users\\gaert\\anaconda3\\lib\\site-packages\\flask\\_compat.py\", line 39, in reraise\n",
      "    raise value\n",
      "  File \"C:\\Users\\gaert\\anaconda3\\lib\\site-packages\\flask\\app.py\", line 1950, in full_dispatch_request\n",
      "    rv = self.dispatch_request()\n",
      "  File \"C:\\Users\\gaert\\anaconda3\\lib\\site-packages\\flask\\app.py\", line 1936, in dispatch_request\n",
      "    return self.view_functions[rule.endpoint](**req.view_args)\n",
      "  File \"C:\\Users\\gaert\\anaconda3\\lib\\site-packages\\dash\\dash.py\", line 1344, in dispatch\n",
      "    raise KeyError(msg.format(output)) from missing_callback_function\n",
      "  File \"C:\\Users\\gaert\\anaconda3\\lib\\site-packages\\dash\\_callback.py\", line 151, in add_context\n",
      "    output_value = func(*func_args, **func_kwargs)  # %% callback invoked %%\n",
      "  File \"C:\\Users\\gaert\\AppData\\Local\\Temp/ipykernel_83244/3598560302.py\", line 17, in update_pie\n",
      "    dff_sub=dff.groupby('result').size().reset_index(name='count')\n",
      "  File \"C:\\Users\\gaert\\anaconda3\\lib\\site-packages\\pandas\\core\\frame.py\", line 7631, in groupby\n",
      "    return DataFrameGroupBy(\n",
      "  File \"C:\\Users\\gaert\\anaconda3\\lib\\site-packages\\pandas\\core\\groupby\\groupby.py\", line 889, in __init__\n",
      "    grouper, exclusions, obj = get_grouper(\n",
      "  File \"C:\\Users\\gaert\\anaconda3\\lib\\site-packages\\pandas\\core\\groupby\\grouper.py\", line 862, in get_grouper\n",
      "    raise KeyError(gpr)\n",
      "KeyError: 'result'\n",
      "Exception on /_dash-update-component [POST]\n",
      "Traceback (most recent call last):\n",
      "  File \"C:\\Users\\gaert\\anaconda3\\lib\\site-packages\\flask\\app.py\", line 2447, in wsgi_app\n",
      "    response = self.full_dispatch_request()\n",
      "  File \"C:\\Users\\gaert\\anaconda3\\lib\\site-packages\\flask\\app.py\", line 1952, in full_dispatch_request\n",
      "    rv = self.handle_user_exception(e)\n",
      "  File \"C:\\Users\\gaert\\anaconda3\\lib\\site-packages\\flask\\app.py\", line 1821, in handle_user_exception\n",
      "    reraise(exc_type, exc_value, tb)\n",
      "  File \"C:\\Users\\gaert\\anaconda3\\lib\\site-packages\\flask\\_compat.py\", line 39, in reraise\n",
      "    raise value\n",
      "  File \"C:\\Users\\gaert\\anaconda3\\lib\\site-packages\\flask\\app.py\", line 1950, in full_dispatch_request\n",
      "    rv = self.dispatch_request()\n",
      "  File \"C:\\Users\\gaert\\anaconda3\\lib\\site-packages\\flask\\app.py\", line 1936, in dispatch_request\n",
      "    return self.view_functions[rule.endpoint](**req.view_args)\n",
      "  File \"C:\\Users\\gaert\\anaconda3\\lib\\site-packages\\dash\\dash.py\", line 1344, in dispatch\n",
      "    raise KeyError(msg.format(output)) from missing_callback_function\n",
      "  File \"C:\\Users\\gaert\\anaconda3\\lib\\site-packages\\dash\\_callback.py\", line 151, in add_context\n",
      "    output_value = func(*func_args, **func_kwargs)  # %% callback invoked %%\n",
      "  File \"C:\\Users\\gaert\\AppData\\Local\\Temp/ipykernel_83244/3598560302.py\", line 17, in update_pie\n",
      "    dff_sub=dff.groupby('result').size().reset_index(name='count')\n",
      "  File \"C:\\Users\\gaert\\anaconda3\\lib\\site-packages\\pandas\\core\\frame.py\", line 7631, in groupby\n",
      "    return DataFrameGroupBy(\n",
      "  File \"C:\\Users\\gaert\\anaconda3\\lib\\site-packages\\pandas\\core\\groupby\\groupby.py\", line 889, in __init__\n",
      "    grouper, exclusions, obj = get_grouper(\n",
      "  File \"C:\\Users\\gaert\\anaconda3\\lib\\site-packages\\pandas\\core\\groupby\\grouper.py\", line 862, in get_grouper\n",
      "    raise KeyError(gpr)\n",
      "KeyError: 'result'\n",
      "Exception on /_dash-update-component [POST]\n",
      "Traceback (most recent call last):\n",
      "  File \"C:\\Users\\gaert\\anaconda3\\lib\\site-packages\\flask\\app.py\", line 2447, in wsgi_app\n",
      "    response = self.full_dispatch_request()\n",
      "  File \"C:\\Users\\gaert\\anaconda3\\lib\\site-packages\\flask\\app.py\", line 1952, in full_dispatch_request\n",
      "    rv = self.handle_user_exception(e)\n",
      "  File \"C:\\Users\\gaert\\anaconda3\\lib\\site-packages\\flask\\app.py\", line 1821, in handle_user_exception\n",
      "    reraise(exc_type, exc_value, tb)\n",
      "  File \"C:\\Users\\gaert\\anaconda3\\lib\\site-packages\\flask\\_compat.py\", line 39, in reraise\n",
      "    raise value\n",
      "  File \"C:\\Users\\gaert\\anaconda3\\lib\\site-packages\\flask\\app.py\", line 1950, in full_dispatch_request\n",
      "    rv = self.dispatch_request()\n",
      "  File \"C:\\Users\\gaert\\anaconda3\\lib\\site-packages\\flask\\app.py\", line 1936, in dispatch_request\n",
      "    return self.view_functions[rule.endpoint](**req.view_args)\n",
      "  File \"C:\\Users\\gaert\\anaconda3\\lib\\site-packages\\dash\\dash.py\", line 1344, in dispatch\n",
      "    raise KeyError(msg.format(output)) from missing_callback_function\n",
      "  File \"C:\\Users\\gaert\\anaconda3\\lib\\site-packages\\dash\\_callback.py\", line 151, in add_context\n",
      "    output_value = func(*func_args, **func_kwargs)  # %% callback invoked %%\n",
      "  File \"C:\\Users\\gaert\\AppData\\Local\\Temp/ipykernel_83244/3598560302.py\", line 17, in update_pie\n",
      "    dff_sub=dff.groupby('result').size().reset_index(name='count')\n",
      "  File \"C:\\Users\\gaert\\anaconda3\\lib\\site-packages\\pandas\\core\\frame.py\", line 7631, in groupby\n",
      "    return DataFrameGroupBy(\n",
      "  File \"C:\\Users\\gaert\\anaconda3\\lib\\site-packages\\pandas\\core\\groupby\\groupby.py\", line 889, in __init__\n",
      "    grouper, exclusions, obj = get_grouper(\n",
      "  File \"C:\\Users\\gaert\\anaconda3\\lib\\site-packages\\pandas\\core\\groupby\\grouper.py\", line 862, in get_grouper\n",
      "    raise KeyError(gpr)\n",
      "KeyError: 'result'\n",
      "Exception on /_dash-update-component [POST]\n",
      "Traceback (most recent call last):\n",
      "  File \"C:\\Users\\gaert\\anaconda3\\lib\\site-packages\\flask\\app.py\", line 2447, in wsgi_app\n",
      "    response = self.full_dispatch_request()\n",
      "  File \"C:\\Users\\gaert\\anaconda3\\lib\\site-packages\\flask\\app.py\", line 1952, in full_dispatch_request\n",
      "    rv = self.handle_user_exception(e)\n",
      "  File \"C:\\Users\\gaert\\anaconda3\\lib\\site-packages\\flask\\app.py\", line 1821, in handle_user_exception\n",
      "    reraise(exc_type, exc_value, tb)\n",
      "  File \"C:\\Users\\gaert\\anaconda3\\lib\\site-packages\\flask\\_compat.py\", line 39, in reraise\n",
      "    raise value\n",
      "  File \"C:\\Users\\gaert\\anaconda3\\lib\\site-packages\\flask\\app.py\", line 1950, in full_dispatch_request\n",
      "    rv = self.dispatch_request()\n",
      "  File \"C:\\Users\\gaert\\anaconda3\\lib\\site-packages\\flask\\app.py\", line 1936, in dispatch_request\n",
      "    return self.view_functions[rule.endpoint](**req.view_args)\n",
      "  File \"C:\\Users\\gaert\\anaconda3\\lib\\site-packages\\dash\\dash.py\", line 1344, in dispatch\n",
      "    raise KeyError(msg.format(output)) from missing_callback_function\n",
      "  File \"C:\\Users\\gaert\\anaconda3\\lib\\site-packages\\dash\\_callback.py\", line 151, in add_context\n",
      "    output_value = func(*func_args, **func_kwargs)  # %% callback invoked %%\n",
      "  File \"C:\\Users\\gaert\\AppData\\Local\\Temp/ipykernel_83244/3598560302.py\", line 17, in update_pie\n",
      "    dff_sub=dff.groupby('result').size().reset_index(name='count')\n",
      "  File \"C:\\Users\\gaert\\anaconda3\\lib\\site-packages\\pandas\\core\\frame.py\", line 7631, in groupby\n",
      "    return DataFrameGroupBy(\n",
      "  File \"C:\\Users\\gaert\\anaconda3\\lib\\site-packages\\pandas\\core\\groupby\\groupby.py\", line 889, in __init__\n",
      "    grouper, exclusions, obj = get_grouper(\n",
      "  File \"C:\\Users\\gaert\\anaconda3\\lib\\site-packages\\pandas\\core\\groupby\\grouper.py\", line 862, in get_grouper\n",
      "    raise KeyError(gpr)\n",
      "KeyError: 'result'\n",
      "Exception on /_dash-update-component [POST]\n",
      "Traceback (most recent call last):\n",
      "  File \"C:\\Users\\gaert\\anaconda3\\lib\\site-packages\\flask\\app.py\", line 2447, in wsgi_app\n",
      "    response = self.full_dispatch_request()\n",
      "  File \"C:\\Users\\gaert\\anaconda3\\lib\\site-packages\\flask\\app.py\", line 1952, in full_dispatch_request\n",
      "    rv = self.handle_user_exception(e)\n",
      "  File \"C:\\Users\\gaert\\anaconda3\\lib\\site-packages\\flask\\app.py\", line 1821, in handle_user_exception\n",
      "    reraise(exc_type, exc_value, tb)\n",
      "  File \"C:\\Users\\gaert\\anaconda3\\lib\\site-packages\\flask\\_compat.py\", line 39, in reraise\n",
      "    raise value\n",
      "  File \"C:\\Users\\gaert\\anaconda3\\lib\\site-packages\\flask\\app.py\", line 1950, in full_dispatch_request\n",
      "    rv = self.dispatch_request()\n",
      "  File \"C:\\Users\\gaert\\anaconda3\\lib\\site-packages\\flask\\app.py\", line 1936, in dispatch_request\n",
      "    return self.view_functions[rule.endpoint](**req.view_args)\n",
      "  File \"C:\\Users\\gaert\\anaconda3\\lib\\site-packages\\dash\\dash.py\", line 1344, in dispatch\n",
      "    raise KeyError(msg.format(output)) from missing_callback_function\n",
      "  File \"C:\\Users\\gaert\\anaconda3\\lib\\site-packages\\dash\\_callback.py\", line 151, in add_context\n",
      "    output_value = func(*func_args, **func_kwargs)  # %% callback invoked %%\n",
      "  File \"C:\\Users\\gaert\\AppData\\Local\\Temp/ipykernel_83244/3598560302.py\", line 17, in update_pie\n",
      "    dff_sub=dff.groupby('result').size().reset_index(name='count')\n",
      "  File \"C:\\Users\\gaert\\anaconda3\\lib\\site-packages\\pandas\\core\\frame.py\", line 7631, in groupby\n",
      "    return DataFrameGroupBy(\n",
      "  File \"C:\\Users\\gaert\\anaconda3\\lib\\site-packages\\pandas\\core\\groupby\\groupby.py\", line 889, in __init__\n",
      "    grouper, exclusions, obj = get_grouper(\n",
      "  File \"C:\\Users\\gaert\\anaconda3\\lib\\site-packages\\pandas\\core\\groupby\\grouper.py\", line 862, in get_grouper\n",
      "    raise KeyError(gpr)\n",
      "KeyError: 'result'\n"
     ]
    },
    {
     "name": "stderr",
     "output_type": "stream",
     "text": [
      "127.0.0.1 - - [28/Mar/2022 23:18:29] \"POST /_dash-update-component HTTP/1.1\" 500 -\n",
      "127.0.0.1 - - [28/Mar/2022 23:18:29] \"POST /_dash-update-component HTTP/1.1\" 200 -\n",
      "127.0.0.1 - - [28/Mar/2022 23:18:29] \"GET /_dash-component-suites/dash/dcc/async-graph.js HTTP/1.1\" 304 -\n",
      "127.0.0.1 - - [28/Mar/2022 23:18:29] \"GET /_dash-component-suites/dash/dcc/async-plotlyjs.js HTTP/1.1\" 304 -\n",
      "127.0.0.1 - - [28/Mar/2022 23:18:33] \"POST /_dash-update-component HTTP/1.1\" 200 -\n",
      "127.0.0.1 - - [28/Mar/2022 23:18:33] \"POST /_dash-update-component HTTP/1.1\" 200 -\n",
      "127.0.0.1 - - [28/Mar/2022 23:18:45] \"GET / HTTP/1.1\" 200 -\n",
      "127.0.0.1 - - [28/Mar/2022 23:18:45] \"GET /_dash-layout HTTP/1.1\" 200 -\n",
      "127.0.0.1 - - [28/Mar/2022 23:18:45] \"GET /_dash-dependencies HTTP/1.1\" 200 -\n",
      "127.0.0.1 - - [28/Mar/2022 23:18:45] \"GET /_favicon.ico?v=2.2.0 HTTP/1.1\" 200 -\n",
      "127.0.0.1 - - [28/Mar/2022 23:18:45] \"GET /_dash-component-suites/dash/dash_table/async-highlight.js HTTP/1.1\" 304 -\n",
      "127.0.0.1 - - [28/Mar/2022 23:18:45] \"GET /_dash-component-suites/dash/dash_table/async-table.js HTTP/1.1\" 304 -\n",
      "127.0.0.1 - - [28/Mar/2022 23:18:45] \"GET /_dash-component-suites/dash/dcc/async-dropdown.js HTTP/1.1\" 304 -\n"
     ]
    },
    {
     "name": "stdout",
     "output_type": "stream",
     "text": [
      "Exception on /_dash-update-component [POST]\n",
      "Traceback (most recent call last):\n",
      "  File \"C:\\Users\\gaert\\anaconda3\\lib\\site-packages\\flask\\app.py\", line 2447, in wsgi_app\n",
      "    response = self.full_dispatch_request()\n",
      "  File \"C:\\Users\\gaert\\anaconda3\\lib\\site-packages\\flask\\app.py\", line 1952, in full_dispatch_request\n",
      "    rv = self.handle_user_exception(e)\n",
      "  File \"C:\\Users\\gaert\\anaconda3\\lib\\site-packages\\flask\\app.py\", line 1821, in handle_user_exception\n",
      "    reraise(exc_type, exc_value, tb)\n",
      "  File \"C:\\Users\\gaert\\anaconda3\\lib\\site-packages\\flask\\_compat.py\", line 39, in reraise\n",
      "    raise value\n",
      "  File \"C:\\Users\\gaert\\anaconda3\\lib\\site-packages\\flask\\app.py\", line 1950, in full_dispatch_request\n",
      "    rv = self.dispatch_request()\n",
      "  File \"C:\\Users\\gaert\\anaconda3\\lib\\site-packages\\flask\\app.py\", line 1936, in dispatch_request\n",
      "    return self.view_functions[rule.endpoint](**req.view_args)\n",
      "  File \"C:\\Users\\gaert\\anaconda3\\lib\\site-packages\\dash\\dash.py\", line 1344, in dispatch\n",
      "    raise KeyError(msg.format(output)) from missing_callback_function\n",
      "  File \"C:\\Users\\gaert\\anaconda3\\lib\\site-packages\\dash\\_callback.py\", line 151, in add_context\n",
      "    output_value = func(*func_args, **func_kwargs)  # %% callback invoked %%\n",
      "  File \"C:\\Users\\gaert\\AppData\\Local\\Temp/ipykernel_83244/3598560302.py\", line 17, in update_pie\n",
      "    dff_sub=dff.groupby('result').size().reset_index(name='count')\n",
      "  File \"C:\\Users\\gaert\\anaconda3\\lib\\site-packages\\pandas\\core\\frame.py\", line 7631, in groupby\n",
      "    return DataFrameGroupBy(\n",
      "  File \"C:\\Users\\gaert\\anaconda3\\lib\\site-packages\\pandas\\core\\groupby\\groupby.py\", line 889, in __init__\n",
      "    grouper, exclusions, obj = get_grouper(\n",
      "  File \"C:\\Users\\gaert\\anaconda3\\lib\\site-packages\\pandas\\core\\groupby\\grouper.py\", line 862, in get_grouper\n",
      "    raise KeyError(gpr)\n",
      "KeyError: 'result'\n",
      "Exception on /_dash-update-component [POST]\n",
      "Traceback (most recent call last):\n",
      "  File \"C:\\Users\\gaert\\anaconda3\\lib\\site-packages\\flask\\app.py\", line 2447, in wsgi_app\n",
      "    response = self.full_dispatch_request()\n",
      "  File \"C:\\Users\\gaert\\anaconda3\\lib\\site-packages\\flask\\app.py\", line 1952, in full_dispatch_request\n",
      "    rv = self.handle_user_exception(e)\n",
      "  File \"C:\\Users\\gaert\\anaconda3\\lib\\site-packages\\flask\\app.py\", line 1821, in handle_user_exception\n",
      "    reraise(exc_type, exc_value, tb)\n",
      "  File \"C:\\Users\\gaert\\anaconda3\\lib\\site-packages\\flask\\_compat.py\", line 39, in reraise\n",
      "    raise value\n",
      "  File \"C:\\Users\\gaert\\anaconda3\\lib\\site-packages\\flask\\app.py\", line 1950, in full_dispatch_request\n",
      "    rv = self.dispatch_request()\n",
      "  File \"C:\\Users\\gaert\\anaconda3\\lib\\site-packages\\flask\\app.py\", line 1936, in dispatch_request\n",
      "    return self.view_functions[rule.endpoint](**req.view_args)\n",
      "  File \"C:\\Users\\gaert\\anaconda3\\lib\\site-packages\\dash\\dash.py\", line 1344, in dispatch\n",
      "    raise KeyError(msg.format(output)) from missing_callback_function\n",
      "  File \"C:\\Users\\gaert\\anaconda3\\lib\\site-packages\\dash\\_callback.py\", line 151, in add_context\n",
      "    output_value = func(*func_args, **func_kwargs)  # %% callback invoked %%\n",
      "  File \"C:\\Users\\gaert\\AppData\\Local\\Temp/ipykernel_83244/3598560302.py\", line 17, in update_pie\n",
      "    dff_sub=dff.groupby('result').size().reset_index(name='count')\n",
      "  File \"C:\\Users\\gaert\\anaconda3\\lib\\site-packages\\pandas\\core\\frame.py\", line 7631, in groupby\n",
      "    return DataFrameGroupBy(\n",
      "  File \"C:\\Users\\gaert\\anaconda3\\lib\\site-packages\\pandas\\core\\groupby\\groupby.py\", line 889, in __init__\n",
      "    grouper, exclusions, obj = get_grouper(\n",
      "  File \"C:\\Users\\gaert\\anaconda3\\lib\\site-packages\\pandas\\core\\groupby\\grouper.py\", line 862, in get_grouper\n",
      "    raise KeyError(gpr)\n",
      "KeyError: 'result'\n",
      "Exception on /_dash-update-component [POST]\n",
      "Traceback (most recent call last):\n",
      "  File \"C:\\Users\\gaert\\anaconda3\\lib\\site-packages\\flask\\app.py\", line 2447, in wsgi_app\n",
      "    response = self.full_dispatch_request()\n",
      "  File \"C:\\Users\\gaert\\anaconda3\\lib\\site-packages\\flask\\app.py\", line 1952, in full_dispatch_request\n",
      "    rv = self.handle_user_exception(e)\n",
      "  File \"C:\\Users\\gaert\\anaconda3\\lib\\site-packages\\flask\\app.py\", line 1821, in handle_user_exception\n",
      "    reraise(exc_type, exc_value, tb)\n",
      "  File \"C:\\Users\\gaert\\anaconda3\\lib\\site-packages\\flask\\_compat.py\", line 39, in reraise\n",
      "    raise value\n",
      "  File \"C:\\Users\\gaert\\anaconda3\\lib\\site-packages\\flask\\app.py\", line 1950, in full_dispatch_request\n",
      "    rv = self.dispatch_request()\n",
      "  File \"C:\\Users\\gaert\\anaconda3\\lib\\site-packages\\flask\\app.py\", line 1936, in dispatch_request\n",
      "    return self.view_functions[rule.endpoint](**req.view_args)\n",
      "  File \"C:\\Users\\gaert\\anaconda3\\lib\\site-packages\\dash\\dash.py\", line 1344, in dispatch\n",
      "    raise KeyError(msg.format(output)) from missing_callback_function\n",
      "  File \"C:\\Users\\gaert\\anaconda3\\lib\\site-packages\\dash\\_callback.py\", line 151, in add_context\n",
      "    output_value = func(*func_args, **func_kwargs)  # %% callback invoked %%\n",
      "  File \"C:\\Users\\gaert\\AppData\\Local\\Temp/ipykernel_83244/3598560302.py\", line 17, in update_pie\n",
      "    dff_sub=dff.groupby('result').size().reset_index(name='count')\n",
      "  File \"C:\\Users\\gaert\\anaconda3\\lib\\site-packages\\pandas\\core\\frame.py\", line 7631, in groupby\n",
      "    return DataFrameGroupBy(\n",
      "  File \"C:\\Users\\gaert\\anaconda3\\lib\\site-packages\\pandas\\core\\groupby\\groupby.py\", line 889, in __init__\n",
      "    grouper, exclusions, obj = get_grouper(\n",
      "  File \"C:\\Users\\gaert\\anaconda3\\lib\\site-packages\\pandas\\core\\groupby\\grouper.py\", line 862, in get_grouper\n",
      "    raise KeyError(gpr)\n",
      "KeyError: 'result'\n",
      "Exception on /_dash-update-component [POST]\n",
      "Traceback (most recent call last):\n",
      "  File \"C:\\Users\\gaert\\anaconda3\\lib\\site-packages\\flask\\app.py\", line 2447, in wsgi_app\n",
      "    response = self.full_dispatch_request()\n",
      "  File \"C:\\Users\\gaert\\anaconda3\\lib\\site-packages\\flask\\app.py\", line 1952, in full_dispatch_request\n",
      "    rv = self.handle_user_exception(e)\n",
      "  File \"C:\\Users\\gaert\\anaconda3\\lib\\site-packages\\flask\\app.py\", line 1821, in handle_user_exception\n",
      "    reraise(exc_type, exc_value, tb)\n",
      "  File \"C:\\Users\\gaert\\anaconda3\\lib\\site-packages\\flask\\_compat.py\", line 39, in reraise\n",
      "    raise value\n",
      "  File \"C:\\Users\\gaert\\anaconda3\\lib\\site-packages\\flask\\app.py\", line 1950, in full_dispatch_request\n",
      "    rv = self.dispatch_request()\n",
      "  File \"C:\\Users\\gaert\\anaconda3\\lib\\site-packages\\flask\\app.py\", line 1936, in dispatch_request\n",
      "    return self.view_functions[rule.endpoint](**req.view_args)\n",
      "  File \"C:\\Users\\gaert\\anaconda3\\lib\\site-packages\\dash\\dash.py\", line 1344, in dispatch\n",
      "    raise KeyError(msg.format(output)) from missing_callback_function\n",
      "  File \"C:\\Users\\gaert\\anaconda3\\lib\\site-packages\\dash\\_callback.py\", line 151, in add_context\n",
      "    output_value = func(*func_args, **func_kwargs)  # %% callback invoked %%\n",
      "  File \"C:\\Users\\gaert\\AppData\\Local\\Temp/ipykernel_83244/3598560302.py\", line 17, in update_pie\n",
      "    dff_sub=dff.groupby('result').size().reset_index(name='count')\n",
      "  File \"C:\\Users\\gaert\\anaconda3\\lib\\site-packages\\pandas\\core\\frame.py\", line 7631, in groupby\n",
      "    return DataFrameGroupBy(\n",
      "  File \"C:\\Users\\gaert\\anaconda3\\lib\\site-packages\\pandas\\core\\groupby\\groupby.py\", line 889, in __init__\n",
      "    grouper, exclusions, obj = get_grouper(\n",
      "  File \"C:\\Users\\gaert\\anaconda3\\lib\\site-packages\\pandas\\core\\groupby\\grouper.py\", line 862, in get_grouper\n",
      "    raise KeyError(gpr)\n",
      "KeyError: 'result'\n",
      "Exception on /_dash-update-component [POST]\n",
      "Traceback (most recent call last):\n",
      "  File \"C:\\Users\\gaert\\anaconda3\\lib\\site-packages\\flask\\app.py\", line 2447, in wsgi_app\n",
      "    response = self.full_dispatch_request()\n",
      "  File \"C:\\Users\\gaert\\anaconda3\\lib\\site-packages\\flask\\app.py\", line 1952, in full_dispatch_request\n",
      "    rv = self.handle_user_exception(e)\n",
      "  File \"C:\\Users\\gaert\\anaconda3\\lib\\site-packages\\flask\\app.py\", line 1821, in handle_user_exception\n",
      "    reraise(exc_type, exc_value, tb)\n",
      "  File \"C:\\Users\\gaert\\anaconda3\\lib\\site-packages\\flask\\_compat.py\", line 39, in reraise\n",
      "    raise value\n",
      "  File \"C:\\Users\\gaert\\anaconda3\\lib\\site-packages\\flask\\app.py\", line 1950, in full_dispatch_request\n",
      "    rv = self.dispatch_request()\n",
      "  File \"C:\\Users\\gaert\\anaconda3\\lib\\site-packages\\flask\\app.py\", line 1936, in dispatch_request\n",
      "    return self.view_functions[rule.endpoint](**req.view_args)\n",
      "  File \"C:\\Users\\gaert\\anaconda3\\lib\\site-packages\\dash\\dash.py\", line 1344, in dispatch\n",
      "    raise KeyError(msg.format(output)) from missing_callback_function\n",
      "  File \"C:\\Users\\gaert\\anaconda3\\lib\\site-packages\\dash\\_callback.py\", line 151, in add_context\n",
      "    output_value = func(*func_args, **func_kwargs)  # %% callback invoked %%\n",
      "  File \"C:\\Users\\gaert\\AppData\\Local\\Temp/ipykernel_83244/3598560302.py\", line 17, in update_pie\n",
      "    dff_sub=dff.groupby('result').size().reset_index(name='count')\n",
      "  File \"C:\\Users\\gaert\\anaconda3\\lib\\site-packages\\pandas\\core\\frame.py\", line 7631, in groupby\n",
      "    return DataFrameGroupBy(\n",
      "  File \"C:\\Users\\gaert\\anaconda3\\lib\\site-packages\\pandas\\core\\groupby\\groupby.py\", line 889, in __init__\n",
      "    grouper, exclusions, obj = get_grouper(\n",
      "  File \"C:\\Users\\gaert\\anaconda3\\lib\\site-packages\\pandas\\core\\groupby\\grouper.py\", line 862, in get_grouper\n",
      "    raise KeyError(gpr)\n",
      "KeyError: 'result'\n",
      "Exception on /_dash-update-component [POST]\n",
      "Traceback (most recent call last):\n",
      "  File \"C:\\Users\\gaert\\anaconda3\\lib\\site-packages\\flask\\app.py\", line 2447, in wsgi_app\n",
      "    response = self.full_dispatch_request()\n",
      "  File \"C:\\Users\\gaert\\anaconda3\\lib\\site-packages\\flask\\app.py\", line 1952, in full_dispatch_request\n",
      "    rv = self.handle_user_exception(e)\n",
      "  File \"C:\\Users\\gaert\\anaconda3\\lib\\site-packages\\flask\\app.py\", line 1821, in handle_user_exception\n",
      "    reraise(exc_type, exc_value, tb)\n",
      "  File \"C:\\Users\\gaert\\anaconda3\\lib\\site-packages\\flask\\_compat.py\", line 39, in reraise\n",
      "    raise value\n",
      "  File \"C:\\Users\\gaert\\anaconda3\\lib\\site-packages\\flask\\app.py\", line 1950, in full_dispatch_request\n",
      "    rv = self.dispatch_request()\n",
      "  File \"C:\\Users\\gaert\\anaconda3\\lib\\site-packages\\flask\\app.py\", line 1936, in dispatch_request\n",
      "    return self.view_functions[rule.endpoint](**req.view_args)\n",
      "  File \"C:\\Users\\gaert\\anaconda3\\lib\\site-packages\\dash\\dash.py\", line 1344, in dispatch\n",
      "    raise KeyError(msg.format(output)) from missing_callback_function\n",
      "  File \"C:\\Users\\gaert\\anaconda3\\lib\\site-packages\\dash\\_callback.py\", line 151, in add_context\n",
      "    output_value = func(*func_args, **func_kwargs)  # %% callback invoked %%\n",
      "  File \"C:\\Users\\gaert\\AppData\\Local\\Temp/ipykernel_83244/3598560302.py\", line 17, in update_pie\n",
      "    dff_sub=dff.groupby('result').size().reset_index(name='count')\n",
      "  File \"C:\\Users\\gaert\\anaconda3\\lib\\site-packages\\pandas\\core\\frame.py\", line 7631, in groupby\n",
      "    return DataFrameGroupBy(\n",
      "  File \"C:\\Users\\gaert\\anaconda3\\lib\\site-packages\\pandas\\core\\groupby\\groupby.py\", line 889, in __init__\n",
      "    grouper, exclusions, obj = get_grouper(\n",
      "  File \"C:\\Users\\gaert\\anaconda3\\lib\\site-packages\\pandas\\core\\groupby\\grouper.py\", line 862, in get_grouper\n",
      "    raise KeyError(gpr)\n",
      "KeyError: 'result'\n",
      "Exception on /_dash-update-component [POST]\n",
      "Traceback (most recent call last):\n",
      "  File \"C:\\Users\\gaert\\anaconda3\\lib\\site-packages\\flask\\app.py\", line 2447, in wsgi_app\n",
      "    response = self.full_dispatch_request()\n",
      "  File \"C:\\Users\\gaert\\anaconda3\\lib\\site-packages\\flask\\app.py\", line 1952, in full_dispatch_request\n",
      "    rv = self.handle_user_exception(e)\n",
      "  File \"C:\\Users\\gaert\\anaconda3\\lib\\site-packages\\flask\\app.py\", line 1821, in handle_user_exception\n",
      "    reraise(exc_type, exc_value, tb)\n",
      "  File \"C:\\Users\\gaert\\anaconda3\\lib\\site-packages\\flask\\_compat.py\", line 39, in reraise\n",
      "    raise value\n",
      "  File \"C:\\Users\\gaert\\anaconda3\\lib\\site-packages\\flask\\app.py\", line 1950, in full_dispatch_request\n",
      "    rv = self.dispatch_request()\n",
      "  File \"C:\\Users\\gaert\\anaconda3\\lib\\site-packages\\flask\\app.py\", line 1936, in dispatch_request\n",
      "    return self.view_functions[rule.endpoint](**req.view_args)\n",
      "  File \"C:\\Users\\gaert\\anaconda3\\lib\\site-packages\\dash\\dash.py\", line 1344, in dispatch\n",
      "    raise KeyError(msg.format(output)) from missing_callback_function\n",
      "  File \"C:\\Users\\gaert\\anaconda3\\lib\\site-packages\\dash\\_callback.py\", line 151, in add_context\n",
      "    output_value = func(*func_args, **func_kwargs)  # %% callback invoked %%\n",
      "  File \"C:\\Users\\gaert\\AppData\\Local\\Temp/ipykernel_83244/3598560302.py\", line 17, in update_pie\n",
      "    dff_sub=dff.groupby('result').size().reset_index(name='count')\n",
      "  File \"C:\\Users\\gaert\\anaconda3\\lib\\site-packages\\pandas\\core\\frame.py\", line 7631, in groupby\n",
      "    return DataFrameGroupBy(\n",
      "  File \"C:\\Users\\gaert\\anaconda3\\lib\\site-packages\\pandas\\core\\groupby\\groupby.py\", line 889, in __init__\n",
      "    grouper, exclusions, obj = get_grouper(\n",
      "  File \"C:\\Users\\gaert\\anaconda3\\lib\\site-packages\\pandas\\core\\groupby\\grouper.py\", line 862, in get_grouper\n",
      "    raise KeyError(gpr)\n",
      "KeyError: 'result'\n",
      "Exception on /_dash-update-component [POST]\n",
      "Traceback (most recent call last):\n",
      "  File \"C:\\Users\\gaert\\anaconda3\\lib\\site-packages\\flask\\app.py\", line 2447, in wsgi_app\n",
      "    response = self.full_dispatch_request()\n",
      "  File \"C:\\Users\\gaert\\anaconda3\\lib\\site-packages\\flask\\app.py\", line 1952, in full_dispatch_request\n",
      "    rv = self.handle_user_exception(e)\n",
      "  File \"C:\\Users\\gaert\\anaconda3\\lib\\site-packages\\flask\\app.py\", line 1821, in handle_user_exception\n",
      "    reraise(exc_type, exc_value, tb)\n",
      "  File \"C:\\Users\\gaert\\anaconda3\\lib\\site-packages\\flask\\_compat.py\", line 39, in reraise\n",
      "    raise value\n",
      "  File \"C:\\Users\\gaert\\anaconda3\\lib\\site-packages\\flask\\app.py\", line 1950, in full_dispatch_request\n",
      "    rv = self.dispatch_request()\n",
      "  File \"C:\\Users\\gaert\\anaconda3\\lib\\site-packages\\flask\\app.py\", line 1936, in dispatch_request\n",
      "    return self.view_functions[rule.endpoint](**req.view_args)\n",
      "  File \"C:\\Users\\gaert\\anaconda3\\lib\\site-packages\\dash\\dash.py\", line 1344, in dispatch\n",
      "    raise KeyError(msg.format(output)) from missing_callback_function\n",
      "  File \"C:\\Users\\gaert\\anaconda3\\lib\\site-packages\\dash\\_callback.py\", line 151, in add_context\n",
      "    output_value = func(*func_args, **func_kwargs)  # %% callback invoked %%\n",
      "  File \"C:\\Users\\gaert\\AppData\\Local\\Temp/ipykernel_83244/3598560302.py\", line 17, in update_pie\n",
      "    dff_sub=dff.groupby('result').size().reset_index(name='count')\n",
      "  File \"C:\\Users\\gaert\\anaconda3\\lib\\site-packages\\pandas\\core\\frame.py\", line 7631, in groupby\n",
      "    return DataFrameGroupBy(\n",
      "  File \"C:\\Users\\gaert\\anaconda3\\lib\\site-packages\\pandas\\core\\groupby\\groupby.py\", line 889, in __init__\n",
      "    grouper, exclusions, obj = get_grouper(\n",
      "  File \"C:\\Users\\gaert\\anaconda3\\lib\\site-packages\\pandas\\core\\groupby\\grouper.py\", line 862, in get_grouper\n",
      "    raise KeyError(gpr)\n",
      "KeyError: 'result'\n",
      "Exception on /_dash-update-component [POST]\n",
      "Traceback (most recent call last):\n",
      "  File \"C:\\Users\\gaert\\anaconda3\\lib\\site-packages\\flask\\app.py\", line 2447, in wsgi_app\n",
      "    response = self.full_dispatch_request()\n",
      "  File \"C:\\Users\\gaert\\anaconda3\\lib\\site-packages\\flask\\app.py\", line 1952, in full_dispatch_request\n",
      "    rv = self.handle_user_exception(e)\n",
      "  File \"C:\\Users\\gaert\\anaconda3\\lib\\site-packages\\flask\\app.py\", line 1821, in handle_user_exception\n",
      "    reraise(exc_type, exc_value, tb)\n",
      "  File \"C:\\Users\\gaert\\anaconda3\\lib\\site-packages\\flask\\_compat.py\", line 39, in reraise\n",
      "    raise value\n",
      "  File \"C:\\Users\\gaert\\anaconda3\\lib\\site-packages\\flask\\app.py\", line 1950, in full_dispatch_request\n",
      "    rv = self.dispatch_request()\n",
      "  File \"C:\\Users\\gaert\\anaconda3\\lib\\site-packages\\flask\\app.py\", line 1936, in dispatch_request\n",
      "    return self.view_functions[rule.endpoint](**req.view_args)\n",
      "  File \"C:\\Users\\gaert\\anaconda3\\lib\\site-packages\\dash\\dash.py\", line 1344, in dispatch\n",
      "    raise KeyError(msg.format(output)) from missing_callback_function\n",
      "  File \"C:\\Users\\gaert\\anaconda3\\lib\\site-packages\\dash\\_callback.py\", line 151, in add_context\n",
      "    output_value = func(*func_args, **func_kwargs)  # %% callback invoked %%\n",
      "  File \"C:\\Users\\gaert\\AppData\\Local\\Temp/ipykernel_83244/3598560302.py\", line 17, in update_pie\n",
      "    dff_sub=dff.groupby('result').size().reset_index(name='count')\n",
      "  File \"C:\\Users\\gaert\\anaconda3\\lib\\site-packages\\pandas\\core\\frame.py\", line 7631, in groupby\n",
      "    return DataFrameGroupBy(\n",
      "  File \"C:\\Users\\gaert\\anaconda3\\lib\\site-packages\\pandas\\core\\groupby\\groupby.py\", line 889, in __init__\n",
      "    grouper, exclusions, obj = get_grouper(\n",
      "  File \"C:\\Users\\gaert\\anaconda3\\lib\\site-packages\\pandas\\core\\groupby\\grouper.py\", line 862, in get_grouper\n",
      "    raise KeyError(gpr)\n",
      "KeyError: 'result'\n",
      "Exception on /_dash-update-component [POST]\n",
      "Traceback (most recent call last):\n",
      "  File \"C:\\Users\\gaert\\anaconda3\\lib\\site-packages\\flask\\app.py\", line 2447, in wsgi_app\n",
      "    response = self.full_dispatch_request()\n",
      "  File \"C:\\Users\\gaert\\anaconda3\\lib\\site-packages\\flask\\app.py\", line 1952, in full_dispatch_request\n",
      "    rv = self.handle_user_exception(e)\n",
      "  File \"C:\\Users\\gaert\\anaconda3\\lib\\site-packages\\flask\\app.py\", line 1821, in handle_user_exception\n",
      "    reraise(exc_type, exc_value, tb)\n",
      "  File \"C:\\Users\\gaert\\anaconda3\\lib\\site-packages\\flask\\_compat.py\", line 39, in reraise\n",
      "    raise value\n",
      "  File \"C:\\Users\\gaert\\anaconda3\\lib\\site-packages\\flask\\app.py\", line 1950, in full_dispatch_request\n",
      "    rv = self.dispatch_request()\n",
      "  File \"C:\\Users\\gaert\\anaconda3\\lib\\site-packages\\flask\\app.py\", line 1936, in dispatch_request\n",
      "    return self.view_functions[rule.endpoint](**req.view_args)\n",
      "  File \"C:\\Users\\gaert\\anaconda3\\lib\\site-packages\\dash\\dash.py\", line 1344, in dispatch\n",
      "    raise KeyError(msg.format(output)) from missing_callback_function\n",
      "  File \"C:\\Users\\gaert\\anaconda3\\lib\\site-packages\\dash\\_callback.py\", line 151, in add_context\n",
      "    output_value = func(*func_args, **func_kwargs)  # %% callback invoked %%\n",
      "  File \"C:\\Users\\gaert\\AppData\\Local\\Temp/ipykernel_83244/3598560302.py\", line 17, in update_pie\n",
      "    dff_sub=dff.groupby('result').size().reset_index(name='count')\n",
      "  File \"C:\\Users\\gaert\\anaconda3\\lib\\site-packages\\pandas\\core\\frame.py\", line 7631, in groupby\n",
      "    return DataFrameGroupBy(\n",
      "  File \"C:\\Users\\gaert\\anaconda3\\lib\\site-packages\\pandas\\core\\groupby\\groupby.py\", line 889, in __init__\n",
      "    grouper, exclusions, obj = get_grouper(\n",
      "  File \"C:\\Users\\gaert\\anaconda3\\lib\\site-packages\\pandas\\core\\groupby\\grouper.py\", line 862, in get_grouper\n",
      "    raise KeyError(gpr)\n",
      "KeyError: 'result'\n",
      "Exception on /_dash-update-component [POST]\n",
      "Traceback (most recent call last):\n",
      "  File \"C:\\Users\\gaert\\anaconda3\\lib\\site-packages\\flask\\app.py\", line 2447, in wsgi_app\n",
      "    response = self.full_dispatch_request()\n",
      "  File \"C:\\Users\\gaert\\anaconda3\\lib\\site-packages\\flask\\app.py\", line 1952, in full_dispatch_request\n",
      "    rv = self.handle_user_exception(e)\n",
      "  File \"C:\\Users\\gaert\\anaconda3\\lib\\site-packages\\flask\\app.py\", line 1821, in handle_user_exception\n",
      "    reraise(exc_type, exc_value, tb)\n",
      "  File \"C:\\Users\\gaert\\anaconda3\\lib\\site-packages\\flask\\_compat.py\", line 39, in reraise\n",
      "    raise value\n",
      "  File \"C:\\Users\\gaert\\anaconda3\\lib\\site-packages\\flask\\app.py\", line 1950, in full_dispatch_request\n",
      "    rv = self.dispatch_request()\n",
      "  File \"C:\\Users\\gaert\\anaconda3\\lib\\site-packages\\flask\\app.py\", line 1936, in dispatch_request\n",
      "    return self.view_functions[rule.endpoint](**req.view_args)\n",
      "  File \"C:\\Users\\gaert\\anaconda3\\lib\\site-packages\\dash\\dash.py\", line 1344, in dispatch\n",
      "    raise KeyError(msg.format(output)) from missing_callback_function\n",
      "  File \"C:\\Users\\gaert\\anaconda3\\lib\\site-packages\\dash\\_callback.py\", line 151, in add_context\n",
      "    output_value = func(*func_args, **func_kwargs)  # %% callback invoked %%\n",
      "  File \"C:\\Users\\gaert\\AppData\\Local\\Temp/ipykernel_83244/3598560302.py\", line 17, in update_pie\n",
      "    dff_sub=dff.groupby('result').size().reset_index(name='count')\n",
      "  File \"C:\\Users\\gaert\\anaconda3\\lib\\site-packages\\pandas\\core\\frame.py\", line 7631, in groupby\n",
      "    return DataFrameGroupBy(\n",
      "  File \"C:\\Users\\gaert\\anaconda3\\lib\\site-packages\\pandas\\core\\groupby\\groupby.py\", line 889, in __init__\n",
      "    grouper, exclusions, obj = get_grouper(\n",
      "  File \"C:\\Users\\gaert\\anaconda3\\lib\\site-packages\\pandas\\core\\groupby\\grouper.py\", line 862, in get_grouper\n",
      "    raise KeyError(gpr)\n",
      "KeyError: 'result'\n",
      "Exception on /_dash-update-component [POST]\n",
      "Traceback (most recent call last):\n",
      "  File \"C:\\Users\\gaert\\anaconda3\\lib\\site-packages\\flask\\app.py\", line 2447, in wsgi_app\n",
      "    response = self.full_dispatch_request()\n",
      "  File \"C:\\Users\\gaert\\anaconda3\\lib\\site-packages\\flask\\app.py\", line 1952, in full_dispatch_request\n",
      "    rv = self.handle_user_exception(e)\n",
      "  File \"C:\\Users\\gaert\\anaconda3\\lib\\site-packages\\flask\\app.py\", line 1821, in handle_user_exception\n",
      "    reraise(exc_type, exc_value, tb)\n",
      "  File \"C:\\Users\\gaert\\anaconda3\\lib\\site-packages\\flask\\_compat.py\", line 39, in reraise\n",
      "    raise value\n",
      "  File \"C:\\Users\\gaert\\anaconda3\\lib\\site-packages\\flask\\app.py\", line 1950, in full_dispatch_request\n",
      "    rv = self.dispatch_request()\n",
      "  File \"C:\\Users\\gaert\\anaconda3\\lib\\site-packages\\flask\\app.py\", line 1936, in dispatch_request\n",
      "    return self.view_functions[rule.endpoint](**req.view_args)\n",
      "  File \"C:\\Users\\gaert\\anaconda3\\lib\\site-packages\\dash\\dash.py\", line 1344, in dispatch\n",
      "    raise KeyError(msg.format(output)) from missing_callback_function\n",
      "  File \"C:\\Users\\gaert\\anaconda3\\lib\\site-packages\\dash\\_callback.py\", line 151, in add_context\n",
      "    output_value = func(*func_args, **func_kwargs)  # %% callback invoked %%\n",
      "  File \"C:\\Users\\gaert\\AppData\\Local\\Temp/ipykernel_83244/3598560302.py\", line 17, in update_pie\n",
      "    dff_sub=dff.groupby('result').size().reset_index(name='count')\n",
      "  File \"C:\\Users\\gaert\\anaconda3\\lib\\site-packages\\pandas\\core\\frame.py\", line 7631, in groupby\n",
      "    return DataFrameGroupBy(\n",
      "  File \"C:\\Users\\gaert\\anaconda3\\lib\\site-packages\\pandas\\core\\groupby\\groupby.py\", line 889, in __init__\n",
      "    grouper, exclusions, obj = get_grouper(\n",
      "  File \"C:\\Users\\gaert\\anaconda3\\lib\\site-packages\\pandas\\core\\groupby\\grouper.py\", line 862, in get_grouper\n",
      "    raise KeyError(gpr)\n",
      "KeyError: 'result'\n",
      "Exception on /_dash-update-component [POST]\n",
      "Traceback (most recent call last):\n",
      "  File \"C:\\Users\\gaert\\anaconda3\\lib\\site-packages\\flask\\app.py\", line 2447, in wsgi_app\n",
      "    response = self.full_dispatch_request()\n",
      "  File \"C:\\Users\\gaert\\anaconda3\\lib\\site-packages\\flask\\app.py\", line 1952, in full_dispatch_request\n",
      "    rv = self.handle_user_exception(e)\n",
      "  File \"C:\\Users\\gaert\\anaconda3\\lib\\site-packages\\flask\\app.py\", line 1821, in handle_user_exception\n",
      "    reraise(exc_type, exc_value, tb)\n",
      "  File \"C:\\Users\\gaert\\anaconda3\\lib\\site-packages\\flask\\_compat.py\", line 39, in reraise\n",
      "    raise value\n",
      "  File \"C:\\Users\\gaert\\anaconda3\\lib\\site-packages\\flask\\app.py\", line 1950, in full_dispatch_request\n",
      "    rv = self.dispatch_request()\n",
      "  File \"C:\\Users\\gaert\\anaconda3\\lib\\site-packages\\flask\\app.py\", line 1936, in dispatch_request\n",
      "    return self.view_functions[rule.endpoint](**req.view_args)\n",
      "  File \"C:\\Users\\gaert\\anaconda3\\lib\\site-packages\\dash\\dash.py\", line 1344, in dispatch\n",
      "    raise KeyError(msg.format(output)) from missing_callback_function\n",
      "  File \"C:\\Users\\gaert\\anaconda3\\lib\\site-packages\\dash\\_callback.py\", line 151, in add_context\n",
      "    output_value = func(*func_args, **func_kwargs)  # %% callback invoked %%\n",
      "  File \"C:\\Users\\gaert\\AppData\\Local\\Temp/ipykernel_83244/3598560302.py\", line 17, in update_pie\n",
      "    dff_sub=dff.groupby('result').size().reset_index(name='count')\n",
      "  File \"C:\\Users\\gaert\\anaconda3\\lib\\site-packages\\pandas\\core\\frame.py\", line 7631, in groupby\n",
      "    return DataFrameGroupBy(\n",
      "  File \"C:\\Users\\gaert\\anaconda3\\lib\\site-packages\\pandas\\core\\groupby\\groupby.py\", line 889, in __init__\n",
      "    grouper, exclusions, obj = get_grouper(\n",
      "  File \"C:\\Users\\gaert\\anaconda3\\lib\\site-packages\\pandas\\core\\groupby\\grouper.py\", line 862, in get_grouper\n",
      "    raise KeyError(gpr)\n",
      "KeyError: 'result'\n",
      "Exception on /_dash-update-component [POST]\n",
      "Traceback (most recent call last):\n",
      "  File \"C:\\Users\\gaert\\anaconda3\\lib\\site-packages\\flask\\app.py\", line 2447, in wsgi_app\n",
      "    response = self.full_dispatch_request()\n",
      "  File \"C:\\Users\\gaert\\anaconda3\\lib\\site-packages\\flask\\app.py\", line 1952, in full_dispatch_request\n",
      "    rv = self.handle_user_exception(e)\n",
      "  File \"C:\\Users\\gaert\\anaconda3\\lib\\site-packages\\flask\\app.py\", line 1821, in handle_user_exception\n",
      "    reraise(exc_type, exc_value, tb)\n",
      "  File \"C:\\Users\\gaert\\anaconda3\\lib\\site-packages\\flask\\_compat.py\", line 39, in reraise\n",
      "    raise value\n",
      "  File \"C:\\Users\\gaert\\anaconda3\\lib\\site-packages\\flask\\app.py\", line 1950, in full_dispatch_request\n",
      "    rv = self.dispatch_request()\n",
      "  File \"C:\\Users\\gaert\\anaconda3\\lib\\site-packages\\flask\\app.py\", line 1936, in dispatch_request\n",
      "    return self.view_functions[rule.endpoint](**req.view_args)\n",
      "  File \"C:\\Users\\gaert\\anaconda3\\lib\\site-packages\\dash\\dash.py\", line 1344, in dispatch\n",
      "    raise KeyError(msg.format(output)) from missing_callback_function\n",
      "  File \"C:\\Users\\gaert\\anaconda3\\lib\\site-packages\\dash\\_callback.py\", line 151, in add_context\n",
      "    output_value = func(*func_args, **func_kwargs)  # %% callback invoked %%\n",
      "  File \"C:\\Users\\gaert\\AppData\\Local\\Temp/ipykernel_83244/3598560302.py\", line 17, in update_pie\n",
      "    dff_sub=dff.groupby('result').size().reset_index(name='count')\n",
      "  File \"C:\\Users\\gaert\\anaconda3\\lib\\site-packages\\pandas\\core\\frame.py\", line 7631, in groupby\n",
      "    return DataFrameGroupBy(\n",
      "  File \"C:\\Users\\gaert\\anaconda3\\lib\\site-packages\\pandas\\core\\groupby\\groupby.py\", line 889, in __init__\n",
      "    grouper, exclusions, obj = get_grouper(\n",
      "  File \"C:\\Users\\gaert\\anaconda3\\lib\\site-packages\\pandas\\core\\groupby\\grouper.py\", line 862, in get_grouper\n",
      "    raise KeyError(gpr)\n",
      "KeyError: 'result'\n",
      "Exception on /_dash-update-component [POST]\n",
      "Traceback (most recent call last):\n",
      "  File \"C:\\Users\\gaert\\anaconda3\\lib\\site-packages\\flask\\app.py\", line 2447, in wsgi_app\n",
      "    response = self.full_dispatch_request()\n",
      "  File \"C:\\Users\\gaert\\anaconda3\\lib\\site-packages\\flask\\app.py\", line 1952, in full_dispatch_request\n",
      "    rv = self.handle_user_exception(e)\n",
      "  File \"C:\\Users\\gaert\\anaconda3\\lib\\site-packages\\flask\\app.py\", line 1821, in handle_user_exception\n",
      "    reraise(exc_type, exc_value, tb)\n",
      "  File \"C:\\Users\\gaert\\anaconda3\\lib\\site-packages\\flask\\_compat.py\", line 39, in reraise\n",
      "    raise value\n",
      "  File \"C:\\Users\\gaert\\anaconda3\\lib\\site-packages\\flask\\app.py\", line 1950, in full_dispatch_request\n",
      "    rv = self.dispatch_request()\n",
      "  File \"C:\\Users\\gaert\\anaconda3\\lib\\site-packages\\flask\\app.py\", line 1936, in dispatch_request\n",
      "    return self.view_functions[rule.endpoint](**req.view_args)\n",
      "  File \"C:\\Users\\gaert\\anaconda3\\lib\\site-packages\\dash\\dash.py\", line 1344, in dispatch\n",
      "    raise KeyError(msg.format(output)) from missing_callback_function\n",
      "  File \"C:\\Users\\gaert\\anaconda3\\lib\\site-packages\\dash\\_callback.py\", line 151, in add_context\n",
      "    output_value = func(*func_args, **func_kwargs)  # %% callback invoked %%\n",
      "  File \"C:\\Users\\gaert\\AppData\\Local\\Temp/ipykernel_83244/3598560302.py\", line 17, in update_pie\n",
      "    dff_sub=dff.groupby('result').size().reset_index(name='count')\n",
      "  File \"C:\\Users\\gaert\\anaconda3\\lib\\site-packages\\pandas\\core\\frame.py\", line 7631, in groupby\n",
      "    return DataFrameGroupBy(\n",
      "  File \"C:\\Users\\gaert\\anaconda3\\lib\\site-packages\\pandas\\core\\groupby\\groupby.py\", line 889, in __init__\n",
      "    grouper, exclusions, obj = get_grouper(\n",
      "  File \"C:\\Users\\gaert\\anaconda3\\lib\\site-packages\\pandas\\core\\groupby\\grouper.py\", line 862, in get_grouper\n",
      "    raise KeyError(gpr)\n",
      "KeyError: 'result'\n",
      "Exception on /_dash-update-component [POST]\n",
      "Traceback (most recent call last):\n",
      "  File \"C:\\Users\\gaert\\anaconda3\\lib\\site-packages\\flask\\app.py\", line 2447, in wsgi_app\n",
      "    response = self.full_dispatch_request()\n",
      "  File \"C:\\Users\\gaert\\anaconda3\\lib\\site-packages\\flask\\app.py\", line 1952, in full_dispatch_request\n",
      "    rv = self.handle_user_exception(e)\n",
      "  File \"C:\\Users\\gaert\\anaconda3\\lib\\site-packages\\flask\\app.py\", line 1821, in handle_user_exception\n",
      "    reraise(exc_type, exc_value, tb)\n",
      "  File \"C:\\Users\\gaert\\anaconda3\\lib\\site-packages\\flask\\_compat.py\", line 39, in reraise\n",
      "    raise value\n",
      "  File \"C:\\Users\\gaert\\anaconda3\\lib\\site-packages\\flask\\app.py\", line 1950, in full_dispatch_request\n",
      "    rv = self.dispatch_request()\n",
      "  File \"C:\\Users\\gaert\\anaconda3\\lib\\site-packages\\flask\\app.py\", line 1936, in dispatch_request\n",
      "    return self.view_functions[rule.endpoint](**req.view_args)\n",
      "  File \"C:\\Users\\gaert\\anaconda3\\lib\\site-packages\\dash\\dash.py\", line 1344, in dispatch\n",
      "    raise KeyError(msg.format(output)) from missing_callback_function\n",
      "  File \"C:\\Users\\gaert\\anaconda3\\lib\\site-packages\\dash\\_callback.py\", line 151, in add_context\n",
      "    output_value = func(*func_args, **func_kwargs)  # %% callback invoked %%\n",
      "  File \"C:\\Users\\gaert\\AppData\\Local\\Temp/ipykernel_83244/3598560302.py\", line 17, in update_pie\n",
      "    dff_sub=dff.groupby('result').size().reset_index(name='count')\n",
      "  File \"C:\\Users\\gaert\\anaconda3\\lib\\site-packages\\pandas\\core\\frame.py\", line 7631, in groupby\n",
      "    return DataFrameGroupBy(\n",
      "  File \"C:\\Users\\gaert\\anaconda3\\lib\\site-packages\\pandas\\core\\groupby\\groupby.py\", line 889, in __init__\n",
      "    grouper, exclusions, obj = get_grouper(\n",
      "  File \"C:\\Users\\gaert\\anaconda3\\lib\\site-packages\\pandas\\core\\groupby\\grouper.py\", line 862, in get_grouper\n",
      "    raise KeyError(gpr)\n",
      "KeyError: 'result'\n",
      "Exception on /_dash-update-component [POST]\n",
      "Traceback (most recent call last):\n",
      "  File \"C:\\Users\\gaert\\anaconda3\\lib\\site-packages\\flask\\app.py\", line 2447, in wsgi_app\n",
      "    response = self.full_dispatch_request()\n",
      "  File \"C:\\Users\\gaert\\anaconda3\\lib\\site-packages\\flask\\app.py\", line 1952, in full_dispatch_request\n",
      "    rv = self.handle_user_exception(e)\n",
      "  File \"C:\\Users\\gaert\\anaconda3\\lib\\site-packages\\flask\\app.py\", line 1821, in handle_user_exception\n",
      "    reraise(exc_type, exc_value, tb)\n",
      "  File \"C:\\Users\\gaert\\anaconda3\\lib\\site-packages\\flask\\_compat.py\", line 39, in reraise\n",
      "    raise value\n",
      "  File \"C:\\Users\\gaert\\anaconda3\\lib\\site-packages\\flask\\app.py\", line 1950, in full_dispatch_request\n",
      "    rv = self.dispatch_request()\n",
      "  File \"C:\\Users\\gaert\\anaconda3\\lib\\site-packages\\flask\\app.py\", line 1936, in dispatch_request\n",
      "    return self.view_functions[rule.endpoint](**req.view_args)\n",
      "  File \"C:\\Users\\gaert\\anaconda3\\lib\\site-packages\\dash\\dash.py\", line 1344, in dispatch\n",
      "    raise KeyError(msg.format(output)) from missing_callback_function\n",
      "  File \"C:\\Users\\gaert\\anaconda3\\lib\\site-packages\\dash\\_callback.py\", line 151, in add_context\n",
      "    output_value = func(*func_args, **func_kwargs)  # %% callback invoked %%\n",
      "  File \"C:\\Users\\gaert\\AppData\\Local\\Temp/ipykernel_83244/3598560302.py\", line 17, in update_pie\n",
      "    dff_sub=dff.groupby('result').size().reset_index(name='count')\n",
      "  File \"C:\\Users\\gaert\\anaconda3\\lib\\site-packages\\pandas\\core\\frame.py\", line 7631, in groupby\n",
      "    return DataFrameGroupBy(\n",
      "  File \"C:\\Users\\gaert\\anaconda3\\lib\\site-packages\\pandas\\core\\groupby\\groupby.py\", line 889, in __init__\n",
      "    grouper, exclusions, obj = get_grouper(\n",
      "  File \"C:\\Users\\gaert\\anaconda3\\lib\\site-packages\\pandas\\core\\groupby\\grouper.py\", line 862, in get_grouper\n",
      "    raise KeyError(gpr)\n",
      "KeyError: 'result'\n",
      "Exception on /_dash-update-component [POST]\n",
      "Traceback (most recent call last):\n",
      "  File \"C:\\Users\\gaert\\anaconda3\\lib\\site-packages\\flask\\app.py\", line 2447, in wsgi_app\n",
      "    response = self.full_dispatch_request()\n",
      "  File \"C:\\Users\\gaert\\anaconda3\\lib\\site-packages\\flask\\app.py\", line 1952, in full_dispatch_request\n",
      "    rv = self.handle_user_exception(e)\n",
      "  File \"C:\\Users\\gaert\\anaconda3\\lib\\site-packages\\flask\\app.py\", line 1821, in handle_user_exception\n",
      "    reraise(exc_type, exc_value, tb)\n",
      "  File \"C:\\Users\\gaert\\anaconda3\\lib\\site-packages\\flask\\_compat.py\", line 39, in reraise\n",
      "    raise value\n",
      "  File \"C:\\Users\\gaert\\anaconda3\\lib\\site-packages\\flask\\app.py\", line 1950, in full_dispatch_request\n",
      "    rv = self.dispatch_request()\n",
      "  File \"C:\\Users\\gaert\\anaconda3\\lib\\site-packages\\flask\\app.py\", line 1936, in dispatch_request\n",
      "    return self.view_functions[rule.endpoint](**req.view_args)\n",
      "  File \"C:\\Users\\gaert\\anaconda3\\lib\\site-packages\\dash\\dash.py\", line 1344, in dispatch\n",
      "    raise KeyError(msg.format(output)) from missing_callback_function\n",
      "  File \"C:\\Users\\gaert\\anaconda3\\lib\\site-packages\\dash\\_callback.py\", line 151, in add_context\n",
      "    output_value = func(*func_args, **func_kwargs)  # %% callback invoked %%\n",
      "  File \"C:\\Users\\gaert\\AppData\\Local\\Temp/ipykernel_83244/3598560302.py\", line 17, in update_pie\n",
      "    dff_sub=dff.groupby('result').size().reset_index(name='count')\n",
      "  File \"C:\\Users\\gaert\\anaconda3\\lib\\site-packages\\pandas\\core\\frame.py\", line 7631, in groupby\n",
      "    return DataFrameGroupBy(\n",
      "  File \"C:\\Users\\gaert\\anaconda3\\lib\\site-packages\\pandas\\core\\groupby\\groupby.py\", line 889, in __init__\n",
      "    grouper, exclusions, obj = get_grouper(\n",
      "  File \"C:\\Users\\gaert\\anaconda3\\lib\\site-packages\\pandas\\core\\groupby\\grouper.py\", line 862, in get_grouper\n",
      "    raise KeyError(gpr)\n",
      "KeyError: 'result'\n",
      "Exception on /_dash-update-component [POST]\n",
      "Traceback (most recent call last):\n",
      "  File \"C:\\Users\\gaert\\anaconda3\\lib\\site-packages\\flask\\app.py\", line 2447, in wsgi_app\n",
      "    response = self.full_dispatch_request()\n",
      "  File \"C:\\Users\\gaert\\anaconda3\\lib\\site-packages\\flask\\app.py\", line 1952, in full_dispatch_request\n",
      "    rv = self.handle_user_exception(e)\n",
      "  File \"C:\\Users\\gaert\\anaconda3\\lib\\site-packages\\flask\\app.py\", line 1821, in handle_user_exception\n",
      "    reraise(exc_type, exc_value, tb)\n",
      "  File \"C:\\Users\\gaert\\anaconda3\\lib\\site-packages\\flask\\_compat.py\", line 39, in reraise\n",
      "    raise value\n",
      "  File \"C:\\Users\\gaert\\anaconda3\\lib\\site-packages\\flask\\app.py\", line 1950, in full_dispatch_request\n",
      "    rv = self.dispatch_request()\n",
      "  File \"C:\\Users\\gaert\\anaconda3\\lib\\site-packages\\flask\\app.py\", line 1936, in dispatch_request\n",
      "    return self.view_functions[rule.endpoint](**req.view_args)\n",
      "  File \"C:\\Users\\gaert\\anaconda3\\lib\\site-packages\\dash\\dash.py\", line 1344, in dispatch\n",
      "    raise KeyError(msg.format(output)) from missing_callback_function\n",
      "  File \"C:\\Users\\gaert\\anaconda3\\lib\\site-packages\\dash\\_callback.py\", line 151, in add_context\n",
      "    output_value = func(*func_args, **func_kwargs)  # %% callback invoked %%\n",
      "  File \"C:\\Users\\gaert\\AppData\\Local\\Temp/ipykernel_83244/3598560302.py\", line 17, in update_pie\n",
      "    dff_sub=dff.groupby('result').size().reset_index(name='count')\n",
      "  File \"C:\\Users\\gaert\\anaconda3\\lib\\site-packages\\pandas\\core\\frame.py\", line 7631, in groupby\n",
      "    return DataFrameGroupBy(\n",
      "  File \"C:\\Users\\gaert\\anaconda3\\lib\\site-packages\\pandas\\core\\groupby\\groupby.py\", line 889, in __init__\n",
      "    grouper, exclusions, obj = get_grouper(\n",
      "  File \"C:\\Users\\gaert\\anaconda3\\lib\\site-packages\\pandas\\core\\groupby\\grouper.py\", line 862, in get_grouper\n",
      "    raise KeyError(gpr)\n",
      "KeyError: 'result'\n",
      "Exception on /_dash-update-component [POST]\n",
      "Traceback (most recent call last):\n",
      "  File \"C:\\Users\\gaert\\anaconda3\\lib\\site-packages\\flask\\app.py\", line 2447, in wsgi_app\n",
      "    response = self.full_dispatch_request()\n",
      "  File \"C:\\Users\\gaert\\anaconda3\\lib\\site-packages\\flask\\app.py\", line 1952, in full_dispatch_request\n",
      "    rv = self.handle_user_exception(e)\n",
      "  File \"C:\\Users\\gaert\\anaconda3\\lib\\site-packages\\flask\\app.py\", line 1821, in handle_user_exception\n",
      "    reraise(exc_type, exc_value, tb)\n",
      "  File \"C:\\Users\\gaert\\anaconda3\\lib\\site-packages\\flask\\_compat.py\", line 39, in reraise\n",
      "    raise value\n",
      "  File \"C:\\Users\\gaert\\anaconda3\\lib\\site-packages\\flask\\app.py\", line 1950, in full_dispatch_request\n",
      "    rv = self.dispatch_request()\n",
      "  File \"C:\\Users\\gaert\\anaconda3\\lib\\site-packages\\flask\\app.py\", line 1936, in dispatch_request\n",
      "    return self.view_functions[rule.endpoint](**req.view_args)\n",
      "  File \"C:\\Users\\gaert\\anaconda3\\lib\\site-packages\\dash\\dash.py\", line 1344, in dispatch\n",
      "    raise KeyError(msg.format(output)) from missing_callback_function\n",
      "  File \"C:\\Users\\gaert\\anaconda3\\lib\\site-packages\\dash\\_callback.py\", line 151, in add_context\n",
      "    output_value = func(*func_args, **func_kwargs)  # %% callback invoked %%\n",
      "  File \"C:\\Users\\gaert\\AppData\\Local\\Temp/ipykernel_83244/3598560302.py\", line 17, in update_pie\n",
      "    dff_sub=dff.groupby('result').size().reset_index(name='count')\n",
      "  File \"C:\\Users\\gaert\\anaconda3\\lib\\site-packages\\pandas\\core\\frame.py\", line 7631, in groupby\n",
      "    return DataFrameGroupBy(\n",
      "  File \"C:\\Users\\gaert\\anaconda3\\lib\\site-packages\\pandas\\core\\groupby\\groupby.py\", line 889, in __init__\n",
      "    grouper, exclusions, obj = get_grouper(\n",
      "  File \"C:\\Users\\gaert\\anaconda3\\lib\\site-packages\\pandas\\core\\groupby\\grouper.py\", line 862, in get_grouper\n",
      "    raise KeyError(gpr)\n",
      "KeyError: 'result'\n",
      "Exception on /_dash-update-component [POST]\n",
      "Traceback (most recent call last):\n",
      "  File \"C:\\Users\\gaert\\anaconda3\\lib\\site-packages\\flask\\app.py\", line 2447, in wsgi_app\n",
      "    response = self.full_dispatch_request()\n",
      "  File \"C:\\Users\\gaert\\anaconda3\\lib\\site-packages\\flask\\app.py\", line 1952, in full_dispatch_request\n",
      "    rv = self.handle_user_exception(e)\n",
      "  File \"C:\\Users\\gaert\\anaconda3\\lib\\site-packages\\flask\\app.py\", line 1821, in handle_user_exception\n",
      "    reraise(exc_type, exc_value, tb)\n",
      "  File \"C:\\Users\\gaert\\anaconda3\\lib\\site-packages\\flask\\_compat.py\", line 39, in reraise\n",
      "    raise value\n",
      "  File \"C:\\Users\\gaert\\anaconda3\\lib\\site-packages\\flask\\app.py\", line 1950, in full_dispatch_request\n",
      "    rv = self.dispatch_request()\n",
      "  File \"C:\\Users\\gaert\\anaconda3\\lib\\site-packages\\flask\\app.py\", line 1936, in dispatch_request\n",
      "    return self.view_functions[rule.endpoint](**req.view_args)\n",
      "  File \"C:\\Users\\gaert\\anaconda3\\lib\\site-packages\\dash\\dash.py\", line 1344, in dispatch\n",
      "    raise KeyError(msg.format(output)) from missing_callback_function\n",
      "  File \"C:\\Users\\gaert\\anaconda3\\lib\\site-packages\\dash\\_callback.py\", line 151, in add_context\n",
      "    output_value = func(*func_args, **func_kwargs)  # %% callback invoked %%\n",
      "  File \"C:\\Users\\gaert\\AppData\\Local\\Temp/ipykernel_83244/3598560302.py\", line 17, in update_pie\n",
      "    dff_sub=dff.groupby('result').size().reset_index(name='count')\n",
      "  File \"C:\\Users\\gaert\\anaconda3\\lib\\site-packages\\pandas\\core\\frame.py\", line 7631, in groupby\n",
      "    return DataFrameGroupBy(\n",
      "  File \"C:\\Users\\gaert\\anaconda3\\lib\\site-packages\\pandas\\core\\groupby\\groupby.py\", line 889, in __init__\n",
      "    grouper, exclusions, obj = get_grouper(\n",
      "  File \"C:\\Users\\gaert\\anaconda3\\lib\\site-packages\\pandas\\core\\groupby\\grouper.py\", line 862, in get_grouper\n",
      "    raise KeyError(gpr)\n",
      "KeyError: 'result'\n",
      "Exception on /_dash-update-component [POST]\n",
      "Traceback (most recent call last):\n",
      "  File \"C:\\Users\\gaert\\anaconda3\\lib\\site-packages\\flask\\app.py\", line 2447, in wsgi_app\n",
      "    response = self.full_dispatch_request()\n",
      "  File \"C:\\Users\\gaert\\anaconda3\\lib\\site-packages\\flask\\app.py\", line 1952, in full_dispatch_request\n",
      "    rv = self.handle_user_exception(e)\n",
      "  File \"C:\\Users\\gaert\\anaconda3\\lib\\site-packages\\flask\\app.py\", line 1821, in handle_user_exception\n",
      "    reraise(exc_type, exc_value, tb)\n",
      "  File \"C:\\Users\\gaert\\anaconda3\\lib\\site-packages\\flask\\_compat.py\", line 39, in reraise\n",
      "    raise value\n",
      "  File \"C:\\Users\\gaert\\anaconda3\\lib\\site-packages\\flask\\app.py\", line 1950, in full_dispatch_request\n",
      "    rv = self.dispatch_request()\n",
      "  File \"C:\\Users\\gaert\\anaconda3\\lib\\site-packages\\flask\\app.py\", line 1936, in dispatch_request\n",
      "    return self.view_functions[rule.endpoint](**req.view_args)\n",
      "  File \"C:\\Users\\gaert\\anaconda3\\lib\\site-packages\\dash\\dash.py\", line 1344, in dispatch\n",
      "    raise KeyError(msg.format(output)) from missing_callback_function\n",
      "  File \"C:\\Users\\gaert\\anaconda3\\lib\\site-packages\\dash\\_callback.py\", line 151, in add_context\n",
      "    output_value = func(*func_args, **func_kwargs)  # %% callback invoked %%\n",
      "  File \"C:\\Users\\gaert\\AppData\\Local\\Temp/ipykernel_83244/3598560302.py\", line 17, in update_pie\n",
      "    dff_sub=dff.groupby('result').size().reset_index(name='count')\n",
      "  File \"C:\\Users\\gaert\\anaconda3\\lib\\site-packages\\pandas\\core\\frame.py\", line 7631, in groupby\n",
      "    return DataFrameGroupBy(\n",
      "  File \"C:\\Users\\gaert\\anaconda3\\lib\\site-packages\\pandas\\core\\groupby\\groupby.py\", line 889, in __init__\n",
      "    grouper, exclusions, obj = get_grouper(\n",
      "  File \"C:\\Users\\gaert\\anaconda3\\lib\\site-packages\\pandas\\core\\groupby\\grouper.py\", line 862, in get_grouper\n",
      "    raise KeyError(gpr)\n",
      "KeyError: 'result'\n",
      "Exception on /_dash-update-component [POST]\n",
      "Traceback (most recent call last):\n",
      "  File \"C:\\Users\\gaert\\anaconda3\\lib\\site-packages\\flask\\app.py\", line 2447, in wsgi_app\n",
      "    response = self.full_dispatch_request()\n",
      "  File \"C:\\Users\\gaert\\anaconda3\\lib\\site-packages\\flask\\app.py\", line 1952, in full_dispatch_request\n",
      "    rv = self.handle_user_exception(e)\n",
      "  File \"C:\\Users\\gaert\\anaconda3\\lib\\site-packages\\flask\\app.py\", line 1821, in handle_user_exception\n",
      "    reraise(exc_type, exc_value, tb)\n",
      "  File \"C:\\Users\\gaert\\anaconda3\\lib\\site-packages\\flask\\_compat.py\", line 39, in reraise\n",
      "    raise value\n",
      "  File \"C:\\Users\\gaert\\anaconda3\\lib\\site-packages\\flask\\app.py\", line 1950, in full_dispatch_request\n",
      "    rv = self.dispatch_request()\n",
      "  File \"C:\\Users\\gaert\\anaconda3\\lib\\site-packages\\flask\\app.py\", line 1936, in dispatch_request\n",
      "    return self.view_functions[rule.endpoint](**req.view_args)\n",
      "  File \"C:\\Users\\gaert\\anaconda3\\lib\\site-packages\\dash\\dash.py\", line 1344, in dispatch\n",
      "    raise KeyError(msg.format(output)) from missing_callback_function\n",
      "  File \"C:\\Users\\gaert\\anaconda3\\lib\\site-packages\\dash\\_callback.py\", line 151, in add_context\n",
      "    output_value = func(*func_args, **func_kwargs)  # %% callback invoked %%\n",
      "  File \"C:\\Users\\gaert\\AppData\\Local\\Temp/ipykernel_83244/3598560302.py\", line 17, in update_pie\n",
      "    dff_sub=dff.groupby('result').size().reset_index(name='count')\n",
      "  File \"C:\\Users\\gaert\\anaconda3\\lib\\site-packages\\pandas\\core\\frame.py\", line 7631, in groupby\n",
      "    return DataFrameGroupBy(\n",
      "  File \"C:\\Users\\gaert\\anaconda3\\lib\\site-packages\\pandas\\core\\groupby\\groupby.py\", line 889, in __init__\n",
      "    grouper, exclusions, obj = get_grouper(\n",
      "  File \"C:\\Users\\gaert\\anaconda3\\lib\\site-packages\\pandas\\core\\groupby\\grouper.py\", line 862, in get_grouper\n",
      "    raise KeyError(gpr)\n",
      "KeyError: 'result'\n",
      "Exception on /_dash-update-component [POST]\n",
      "Traceback (most recent call last):\n",
      "  File \"C:\\Users\\gaert\\anaconda3\\lib\\site-packages\\flask\\app.py\", line 2447, in wsgi_app\n",
      "    response = self.full_dispatch_request()\n",
      "  File \"C:\\Users\\gaert\\anaconda3\\lib\\site-packages\\flask\\app.py\", line 1952, in full_dispatch_request\n",
      "    rv = self.handle_user_exception(e)\n",
      "  File \"C:\\Users\\gaert\\anaconda3\\lib\\site-packages\\flask\\app.py\", line 1821, in handle_user_exception\n",
      "    reraise(exc_type, exc_value, tb)\n",
      "  File \"C:\\Users\\gaert\\anaconda3\\lib\\site-packages\\flask\\_compat.py\", line 39, in reraise\n",
      "    raise value\n",
      "  File \"C:\\Users\\gaert\\anaconda3\\lib\\site-packages\\flask\\app.py\", line 1950, in full_dispatch_request\n",
      "    rv = self.dispatch_request()\n",
      "  File \"C:\\Users\\gaert\\anaconda3\\lib\\site-packages\\flask\\app.py\", line 1936, in dispatch_request\n",
      "    return self.view_functions[rule.endpoint](**req.view_args)\n",
      "  File \"C:\\Users\\gaert\\anaconda3\\lib\\site-packages\\dash\\dash.py\", line 1344, in dispatch\n",
      "    raise KeyError(msg.format(output)) from missing_callback_function\n",
      "  File \"C:\\Users\\gaert\\anaconda3\\lib\\site-packages\\dash\\_callback.py\", line 151, in add_context\n",
      "    output_value = func(*func_args, **func_kwargs)  # %% callback invoked %%\n",
      "  File \"C:\\Users\\gaert\\AppData\\Local\\Temp/ipykernel_83244/3598560302.py\", line 17, in update_pie\n",
      "    dff_sub=dff.groupby('result').size().reset_index(name='count')\n",
      "  File \"C:\\Users\\gaert\\anaconda3\\lib\\site-packages\\pandas\\core\\frame.py\", line 7631, in groupby\n",
      "    return DataFrameGroupBy(\n",
      "  File \"C:\\Users\\gaert\\anaconda3\\lib\\site-packages\\pandas\\core\\groupby\\groupby.py\", line 889, in __init__\n",
      "    grouper, exclusions, obj = get_grouper(\n",
      "  File \"C:\\Users\\gaert\\anaconda3\\lib\\site-packages\\pandas\\core\\groupby\\grouper.py\", line 862, in get_grouper\n",
      "    raise KeyError(gpr)\n",
      "KeyError: 'result'\n",
      "Exception on /_dash-update-component [POST]\n",
      "Traceback (most recent call last):\n",
      "  File \"C:\\Users\\gaert\\anaconda3\\lib\\site-packages\\flask\\app.py\", line 2447, in wsgi_app\n",
      "    response = self.full_dispatch_request()\n",
      "  File \"C:\\Users\\gaert\\anaconda3\\lib\\site-packages\\flask\\app.py\", line 1952, in full_dispatch_request\n",
      "    rv = self.handle_user_exception(e)\n",
      "  File \"C:\\Users\\gaert\\anaconda3\\lib\\site-packages\\flask\\app.py\", line 1821, in handle_user_exception\n",
      "    reraise(exc_type, exc_value, tb)\n",
      "  File \"C:\\Users\\gaert\\anaconda3\\lib\\site-packages\\flask\\_compat.py\", line 39, in reraise\n",
      "    raise value\n",
      "  File \"C:\\Users\\gaert\\anaconda3\\lib\\site-packages\\flask\\app.py\", line 1950, in full_dispatch_request\n",
      "    rv = self.dispatch_request()\n",
      "  File \"C:\\Users\\gaert\\anaconda3\\lib\\site-packages\\flask\\app.py\", line 1936, in dispatch_request\n",
      "    return self.view_functions[rule.endpoint](**req.view_args)\n",
      "  File \"C:\\Users\\gaert\\anaconda3\\lib\\site-packages\\dash\\dash.py\", line 1344, in dispatch\n",
      "    raise KeyError(msg.format(output)) from missing_callback_function\n",
      "  File \"C:\\Users\\gaert\\anaconda3\\lib\\site-packages\\dash\\_callback.py\", line 151, in add_context\n",
      "    output_value = func(*func_args, **func_kwargs)  # %% callback invoked %%\n",
      "  File \"C:\\Users\\gaert\\AppData\\Local\\Temp/ipykernel_83244/3598560302.py\", line 17, in update_pie\n",
      "    dff_sub=dff.groupby('result').size().reset_index(name='count')\n",
      "  File \"C:\\Users\\gaert\\anaconda3\\lib\\site-packages\\pandas\\core\\frame.py\", line 7631, in groupby\n",
      "    return DataFrameGroupBy(\n",
      "  File \"C:\\Users\\gaert\\anaconda3\\lib\\site-packages\\pandas\\core\\groupby\\groupby.py\", line 889, in __init__\n",
      "    grouper, exclusions, obj = get_grouper(\n",
      "  File \"C:\\Users\\gaert\\anaconda3\\lib\\site-packages\\pandas\\core\\groupby\\grouper.py\", line 862, in get_grouper\n",
      "    raise KeyError(gpr)\n",
      "KeyError: 'result'\n",
      "Exception on /_dash-update-component [POST]\n",
      "Traceback (most recent call last):\n",
      "  File \"C:\\Users\\gaert\\anaconda3\\lib\\site-packages\\flask\\app.py\", line 2447, in wsgi_app\n",
      "    response = self.full_dispatch_request()\n",
      "  File \"C:\\Users\\gaert\\anaconda3\\lib\\site-packages\\flask\\app.py\", line 1952, in full_dispatch_request\n",
      "    rv = self.handle_user_exception(e)\n",
      "  File \"C:\\Users\\gaert\\anaconda3\\lib\\site-packages\\flask\\app.py\", line 1821, in handle_user_exception\n",
      "    reraise(exc_type, exc_value, tb)\n",
      "  File \"C:\\Users\\gaert\\anaconda3\\lib\\site-packages\\flask\\_compat.py\", line 39, in reraise\n",
      "    raise value\n",
      "  File \"C:\\Users\\gaert\\anaconda3\\lib\\site-packages\\flask\\app.py\", line 1950, in full_dispatch_request\n",
      "    rv = self.dispatch_request()\n",
      "  File \"C:\\Users\\gaert\\anaconda3\\lib\\site-packages\\flask\\app.py\", line 1936, in dispatch_request\n",
      "    return self.view_functions[rule.endpoint](**req.view_args)\n",
      "  File \"C:\\Users\\gaert\\anaconda3\\lib\\site-packages\\dash\\dash.py\", line 1344, in dispatch\n",
      "    raise KeyError(msg.format(output)) from missing_callback_function\n",
      "  File \"C:\\Users\\gaert\\anaconda3\\lib\\site-packages\\dash\\_callback.py\", line 151, in add_context\n",
      "    output_value = func(*func_args, **func_kwargs)  # %% callback invoked %%\n",
      "  File \"C:\\Users\\gaert\\AppData\\Local\\Temp/ipykernel_83244/3598560302.py\", line 17, in update_pie\n",
      "    dff_sub=dff.groupby('result').size().reset_index(name='count')\n",
      "  File \"C:\\Users\\gaert\\anaconda3\\lib\\site-packages\\pandas\\core\\frame.py\", line 7631, in groupby\n",
      "    return DataFrameGroupBy(\n",
      "  File \"C:\\Users\\gaert\\anaconda3\\lib\\site-packages\\pandas\\core\\groupby\\groupby.py\", line 889, in __init__\n",
      "    grouper, exclusions, obj = get_grouper(\n",
      "  File \"C:\\Users\\gaert\\anaconda3\\lib\\site-packages\\pandas\\core\\groupby\\grouper.py\", line 862, in get_grouper\n",
      "    raise KeyError(gpr)\n",
      "KeyError: 'result'\n",
      "Exception on /_dash-update-component [POST]\n",
      "Traceback (most recent call last):\n",
      "  File \"C:\\Users\\gaert\\anaconda3\\lib\\site-packages\\flask\\app.py\", line 2447, in wsgi_app\n",
      "    response = self.full_dispatch_request()\n",
      "  File \"C:\\Users\\gaert\\anaconda3\\lib\\site-packages\\flask\\app.py\", line 1952, in full_dispatch_request\n",
      "    rv = self.handle_user_exception(e)\n",
      "  File \"C:\\Users\\gaert\\anaconda3\\lib\\site-packages\\flask\\app.py\", line 1821, in handle_user_exception\n",
      "    reraise(exc_type, exc_value, tb)\n",
      "  File \"C:\\Users\\gaert\\anaconda3\\lib\\site-packages\\flask\\_compat.py\", line 39, in reraise\n",
      "    raise value\n",
      "  File \"C:\\Users\\gaert\\anaconda3\\lib\\site-packages\\flask\\app.py\", line 1950, in full_dispatch_request\n",
      "    rv = self.dispatch_request()\n",
      "  File \"C:\\Users\\gaert\\anaconda3\\lib\\site-packages\\flask\\app.py\", line 1936, in dispatch_request\n",
      "    return self.view_functions[rule.endpoint](**req.view_args)\n",
      "  File \"C:\\Users\\gaert\\anaconda3\\lib\\site-packages\\dash\\dash.py\", line 1344, in dispatch\n",
      "    raise KeyError(msg.format(output)) from missing_callback_function\n",
      "  File \"C:\\Users\\gaert\\anaconda3\\lib\\site-packages\\dash\\_callback.py\", line 151, in add_context\n",
      "    output_value = func(*func_args, **func_kwargs)  # %% callback invoked %%\n",
      "  File \"C:\\Users\\gaert\\AppData\\Local\\Temp/ipykernel_83244/3598560302.py\", line 17, in update_pie\n",
      "    dff_sub=dff.groupby('result').size().reset_index(name='count')\n",
      "  File \"C:\\Users\\gaert\\anaconda3\\lib\\site-packages\\pandas\\core\\frame.py\", line 7631, in groupby\n",
      "    return DataFrameGroupBy(\n",
      "  File \"C:\\Users\\gaert\\anaconda3\\lib\\site-packages\\pandas\\core\\groupby\\groupby.py\", line 889, in __init__\n",
      "    grouper, exclusions, obj = get_grouper(\n",
      "  File \"C:\\Users\\gaert\\anaconda3\\lib\\site-packages\\pandas\\core\\groupby\\grouper.py\", line 862, in get_grouper\n",
      "    raise KeyError(gpr)\n",
      "KeyError: 'result'\n",
      "Exception on /_dash-update-component [POST]\n",
      "Traceback (most recent call last):\n",
      "  File \"C:\\Users\\gaert\\anaconda3\\lib\\site-packages\\flask\\app.py\", line 2447, in wsgi_app\n",
      "    response = self.full_dispatch_request()\n",
      "  File \"C:\\Users\\gaert\\anaconda3\\lib\\site-packages\\flask\\app.py\", line 1952, in full_dispatch_request\n",
      "    rv = self.handle_user_exception(e)\n",
      "  File \"C:\\Users\\gaert\\anaconda3\\lib\\site-packages\\flask\\app.py\", line 1821, in handle_user_exception\n",
      "    reraise(exc_type, exc_value, tb)\n",
      "  File \"C:\\Users\\gaert\\anaconda3\\lib\\site-packages\\flask\\_compat.py\", line 39, in reraise\n",
      "    raise value\n",
      "  File \"C:\\Users\\gaert\\anaconda3\\lib\\site-packages\\flask\\app.py\", line 1950, in full_dispatch_request\n",
      "    rv = self.dispatch_request()\n",
      "  File \"C:\\Users\\gaert\\anaconda3\\lib\\site-packages\\flask\\app.py\", line 1936, in dispatch_request\n",
      "    return self.view_functions[rule.endpoint](**req.view_args)\n",
      "  File \"C:\\Users\\gaert\\anaconda3\\lib\\site-packages\\dash\\dash.py\", line 1344, in dispatch\n",
      "    raise KeyError(msg.format(output)) from missing_callback_function\n",
      "  File \"C:\\Users\\gaert\\anaconda3\\lib\\site-packages\\dash\\_callback.py\", line 151, in add_context\n",
      "    output_value = func(*func_args, **func_kwargs)  # %% callback invoked %%\n",
      "  File \"C:\\Users\\gaert\\AppData\\Local\\Temp/ipykernel_83244/3598560302.py\", line 17, in update_pie\n",
      "    dff_sub=dff.groupby('result').size().reset_index(name='count')\n",
      "  File \"C:\\Users\\gaert\\anaconda3\\lib\\site-packages\\pandas\\core\\frame.py\", line 7631, in groupby\n",
      "    return DataFrameGroupBy(\n",
      "  File \"C:\\Users\\gaert\\anaconda3\\lib\\site-packages\\pandas\\core\\groupby\\groupby.py\", line 889, in __init__\n",
      "    grouper, exclusions, obj = get_grouper(\n",
      "  File \"C:\\Users\\gaert\\anaconda3\\lib\\site-packages\\pandas\\core\\groupby\\grouper.py\", line 862, in get_grouper\n",
      "    raise KeyError(gpr)\n",
      "KeyError: 'result'\n",
      "Exception on /_dash-update-component [POST]\n",
      "Traceback (most recent call last):\n",
      "  File \"C:\\Users\\gaert\\anaconda3\\lib\\site-packages\\flask\\app.py\", line 2447, in wsgi_app\n",
      "    response = self.full_dispatch_request()\n",
      "  File \"C:\\Users\\gaert\\anaconda3\\lib\\site-packages\\flask\\app.py\", line 1952, in full_dispatch_request\n",
      "    rv = self.handle_user_exception(e)\n",
      "  File \"C:\\Users\\gaert\\anaconda3\\lib\\site-packages\\flask\\app.py\", line 1821, in handle_user_exception\n",
      "    reraise(exc_type, exc_value, tb)\n",
      "  File \"C:\\Users\\gaert\\anaconda3\\lib\\site-packages\\flask\\_compat.py\", line 39, in reraise\n",
      "    raise value\n",
      "  File \"C:\\Users\\gaert\\anaconda3\\lib\\site-packages\\flask\\app.py\", line 1950, in full_dispatch_request\n",
      "    rv = self.dispatch_request()\n",
      "  File \"C:\\Users\\gaert\\anaconda3\\lib\\site-packages\\flask\\app.py\", line 1936, in dispatch_request\n",
      "    return self.view_functions[rule.endpoint](**req.view_args)\n",
      "  File \"C:\\Users\\gaert\\anaconda3\\lib\\site-packages\\dash\\dash.py\", line 1344, in dispatch\n",
      "    raise KeyError(msg.format(output)) from missing_callback_function\n",
      "  File \"C:\\Users\\gaert\\anaconda3\\lib\\site-packages\\dash\\_callback.py\", line 151, in add_context\n",
      "    output_value = func(*func_args, **func_kwargs)  # %% callback invoked %%\n",
      "  File \"C:\\Users\\gaert\\AppData\\Local\\Temp/ipykernel_83244/3598560302.py\", line 17, in update_pie\n",
      "    dff_sub=dff.groupby('result').size().reset_index(name='count')\n",
      "  File \"C:\\Users\\gaert\\anaconda3\\lib\\site-packages\\pandas\\core\\frame.py\", line 7631, in groupby\n",
      "    return DataFrameGroupBy(\n",
      "  File \"C:\\Users\\gaert\\anaconda3\\lib\\site-packages\\pandas\\core\\groupby\\groupby.py\", line 889, in __init__\n",
      "    grouper, exclusions, obj = get_grouper(\n",
      "  File \"C:\\Users\\gaert\\anaconda3\\lib\\site-packages\\pandas\\core\\groupby\\grouper.py\", line 862, in get_grouper\n",
      "    raise KeyError(gpr)\n",
      "KeyError: 'result'\n",
      "Exception on /_dash-update-component [POST]\n",
      "Traceback (most recent call last):\n",
      "  File \"C:\\Users\\gaert\\anaconda3\\lib\\site-packages\\flask\\app.py\", line 2447, in wsgi_app\n",
      "    response = self.full_dispatch_request()\n",
      "  File \"C:\\Users\\gaert\\anaconda3\\lib\\site-packages\\flask\\app.py\", line 1952, in full_dispatch_request\n",
      "    rv = self.handle_user_exception(e)\n",
      "  File \"C:\\Users\\gaert\\anaconda3\\lib\\site-packages\\flask\\app.py\", line 1821, in handle_user_exception\n",
      "    reraise(exc_type, exc_value, tb)\n",
      "  File \"C:\\Users\\gaert\\anaconda3\\lib\\site-packages\\flask\\_compat.py\", line 39, in reraise\n",
      "    raise value\n",
      "  File \"C:\\Users\\gaert\\anaconda3\\lib\\site-packages\\flask\\app.py\", line 1950, in full_dispatch_request\n",
      "    rv = self.dispatch_request()\n",
      "  File \"C:\\Users\\gaert\\anaconda3\\lib\\site-packages\\flask\\app.py\", line 1936, in dispatch_request\n",
      "    return self.view_functions[rule.endpoint](**req.view_args)\n",
      "  File \"C:\\Users\\gaert\\anaconda3\\lib\\site-packages\\dash\\dash.py\", line 1344, in dispatch\n",
      "    raise KeyError(msg.format(output)) from missing_callback_function\n",
      "  File \"C:\\Users\\gaert\\anaconda3\\lib\\site-packages\\dash\\_callback.py\", line 151, in add_context\n",
      "    output_value = func(*func_args, **func_kwargs)  # %% callback invoked %%\n",
      "  File \"C:\\Users\\gaert\\AppData\\Local\\Temp/ipykernel_83244/3598560302.py\", line 17, in update_pie\n",
      "    dff_sub=dff.groupby('result').size().reset_index(name='count')\n",
      "  File \"C:\\Users\\gaert\\anaconda3\\lib\\site-packages\\pandas\\core\\frame.py\", line 7631, in groupby\n",
      "    return DataFrameGroupBy(\n",
      "  File \"C:\\Users\\gaert\\anaconda3\\lib\\site-packages\\pandas\\core\\groupby\\groupby.py\", line 889, in __init__\n",
      "    grouper, exclusions, obj = get_grouper(\n",
      "  File \"C:\\Users\\gaert\\anaconda3\\lib\\site-packages\\pandas\\core\\groupby\\grouper.py\", line 862, in get_grouper\n",
      "    raise KeyError(gpr)\n",
      "KeyError: 'result'\n",
      "Exception on /_dash-update-component [POST]\n",
      "Traceback (most recent call last):\n",
      "  File \"C:\\Users\\gaert\\anaconda3\\lib\\site-packages\\flask\\app.py\", line 2447, in wsgi_app\n",
      "    response = self.full_dispatch_request()\n",
      "  File \"C:\\Users\\gaert\\anaconda3\\lib\\site-packages\\flask\\app.py\", line 1952, in full_dispatch_request\n",
      "    rv = self.handle_user_exception(e)\n",
      "  File \"C:\\Users\\gaert\\anaconda3\\lib\\site-packages\\flask\\app.py\", line 1821, in handle_user_exception\n",
      "    reraise(exc_type, exc_value, tb)\n",
      "  File \"C:\\Users\\gaert\\anaconda3\\lib\\site-packages\\flask\\_compat.py\", line 39, in reraise\n",
      "    raise value\n",
      "  File \"C:\\Users\\gaert\\anaconda3\\lib\\site-packages\\flask\\app.py\", line 1950, in full_dispatch_request\n",
      "    rv = self.dispatch_request()\n",
      "  File \"C:\\Users\\gaert\\anaconda3\\lib\\site-packages\\flask\\app.py\", line 1936, in dispatch_request\n",
      "    return self.view_functions[rule.endpoint](**req.view_args)\n",
      "  File \"C:\\Users\\gaert\\anaconda3\\lib\\site-packages\\dash\\dash.py\", line 1344, in dispatch\n",
      "    raise KeyError(msg.format(output)) from missing_callback_function\n",
      "  File \"C:\\Users\\gaert\\anaconda3\\lib\\site-packages\\dash\\_callback.py\", line 151, in add_context\n",
      "    output_value = func(*func_args, **func_kwargs)  # %% callback invoked %%\n",
      "  File \"C:\\Users\\gaert\\AppData\\Local\\Temp/ipykernel_83244/3598560302.py\", line 17, in update_pie\n",
      "    dff_sub=dff.groupby('result').size().reset_index(name='count')\n",
      "  File \"C:\\Users\\gaert\\anaconda3\\lib\\site-packages\\pandas\\core\\frame.py\", line 7631, in groupby\n",
      "    return DataFrameGroupBy(\n",
      "  File \"C:\\Users\\gaert\\anaconda3\\lib\\site-packages\\pandas\\core\\groupby\\groupby.py\", line 889, in __init__\n",
      "    grouper, exclusions, obj = get_grouper(\n",
      "  File \"C:\\Users\\gaert\\anaconda3\\lib\\site-packages\\pandas\\core\\groupby\\grouper.py\", line 862, in get_grouper\n",
      "    raise KeyError(gpr)\n",
      "KeyError: 'result'\n",
      "Exception on /_dash-update-component [POST]\n",
      "Traceback (most recent call last):\n",
      "  File \"C:\\Users\\gaert\\anaconda3\\lib\\site-packages\\flask\\app.py\", line 2447, in wsgi_app\n",
      "    response = self.full_dispatch_request()\n",
      "  File \"C:\\Users\\gaert\\anaconda3\\lib\\site-packages\\flask\\app.py\", line 1952, in full_dispatch_request\n",
      "    rv = self.handle_user_exception(e)\n",
      "  File \"C:\\Users\\gaert\\anaconda3\\lib\\site-packages\\flask\\app.py\", line 1821, in handle_user_exception\n",
      "    reraise(exc_type, exc_value, tb)\n",
      "  File \"C:\\Users\\gaert\\anaconda3\\lib\\site-packages\\flask\\_compat.py\", line 39, in reraise\n",
      "    raise value\n",
      "  File \"C:\\Users\\gaert\\anaconda3\\lib\\site-packages\\flask\\app.py\", line 1950, in full_dispatch_request\n",
      "    rv = self.dispatch_request()\n",
      "  File \"C:\\Users\\gaert\\anaconda3\\lib\\site-packages\\flask\\app.py\", line 1936, in dispatch_request\n",
      "    return self.view_functions[rule.endpoint](**req.view_args)\n",
      "  File \"C:\\Users\\gaert\\anaconda3\\lib\\site-packages\\dash\\dash.py\", line 1344, in dispatch\n",
      "    raise KeyError(msg.format(output)) from missing_callback_function\n",
      "  File \"C:\\Users\\gaert\\anaconda3\\lib\\site-packages\\dash\\_callback.py\", line 151, in add_context\n",
      "    output_value = func(*func_args, **func_kwargs)  # %% callback invoked %%\n",
      "  File \"C:\\Users\\gaert\\AppData\\Local\\Temp/ipykernel_83244/3598560302.py\", line 17, in update_pie\n",
      "    dff_sub=dff.groupby('result').size().reset_index(name='count')\n",
      "  File \"C:\\Users\\gaert\\anaconda3\\lib\\site-packages\\pandas\\core\\frame.py\", line 7631, in groupby\n",
      "    return DataFrameGroupBy(\n",
      "  File \"C:\\Users\\gaert\\anaconda3\\lib\\site-packages\\pandas\\core\\groupby\\groupby.py\", line 889, in __init__\n",
      "    grouper, exclusions, obj = get_grouper(\n",
      "  File \"C:\\Users\\gaert\\anaconda3\\lib\\site-packages\\pandas\\core\\groupby\\grouper.py\", line 862, in get_grouper\n",
      "    raise KeyError(gpr)\n",
      "KeyError: 'result'\n",
      "Exception on /_dash-update-component [POST]\n",
      "Traceback (most recent call last):\n",
      "  File \"C:\\Users\\gaert\\anaconda3\\lib\\site-packages\\flask\\app.py\", line 2447, in wsgi_app\n",
      "    response = self.full_dispatch_request()\n",
      "  File \"C:\\Users\\gaert\\anaconda3\\lib\\site-packages\\flask\\app.py\", line 1952, in full_dispatch_request\n",
      "    rv = self.handle_user_exception(e)\n",
      "  File \"C:\\Users\\gaert\\anaconda3\\lib\\site-packages\\flask\\app.py\", line 1821, in handle_user_exception\n",
      "    reraise(exc_type, exc_value, tb)\n",
      "  File \"C:\\Users\\gaert\\anaconda3\\lib\\site-packages\\flask\\_compat.py\", line 39, in reraise\n",
      "    raise value\n",
      "  File \"C:\\Users\\gaert\\anaconda3\\lib\\site-packages\\flask\\app.py\", line 1950, in full_dispatch_request\n",
      "    rv = self.dispatch_request()\n",
      "  File \"C:\\Users\\gaert\\anaconda3\\lib\\site-packages\\flask\\app.py\", line 1936, in dispatch_request\n",
      "    return self.view_functions[rule.endpoint](**req.view_args)\n",
      "  File \"C:\\Users\\gaert\\anaconda3\\lib\\site-packages\\dash\\dash.py\", line 1344, in dispatch\n",
      "    raise KeyError(msg.format(output)) from missing_callback_function\n",
      "  File \"C:\\Users\\gaert\\anaconda3\\lib\\site-packages\\dash\\_callback.py\", line 151, in add_context\n",
      "    output_value = func(*func_args, **func_kwargs)  # %% callback invoked %%\n",
      "  File \"C:\\Users\\gaert\\AppData\\Local\\Temp/ipykernel_83244/3598560302.py\", line 17, in update_pie\n",
      "    dff_sub=dff.groupby('result').size().reset_index(name='count')\n",
      "  File \"C:\\Users\\gaert\\anaconda3\\lib\\site-packages\\pandas\\core\\frame.py\", line 7631, in groupby\n",
      "    return DataFrameGroupBy(\n",
      "  File \"C:\\Users\\gaert\\anaconda3\\lib\\site-packages\\pandas\\core\\groupby\\groupby.py\", line 889, in __init__\n",
      "    grouper, exclusions, obj = get_grouper(\n",
      "  File \"C:\\Users\\gaert\\anaconda3\\lib\\site-packages\\pandas\\core\\groupby\\grouper.py\", line 862, in get_grouper\n",
      "    raise KeyError(gpr)\n",
      "KeyError: 'result'\n",
      "Exception on /_dash-update-component [POST]\n",
      "Traceback (most recent call last):\n",
      "  File \"C:\\Users\\gaert\\anaconda3\\lib\\site-packages\\flask\\app.py\", line 2447, in wsgi_app\n",
      "    response = self.full_dispatch_request()\n",
      "  File \"C:\\Users\\gaert\\anaconda3\\lib\\site-packages\\flask\\app.py\", line 1952, in full_dispatch_request\n",
      "    rv = self.handle_user_exception(e)\n",
      "  File \"C:\\Users\\gaert\\anaconda3\\lib\\site-packages\\flask\\app.py\", line 1821, in handle_user_exception\n",
      "    reraise(exc_type, exc_value, tb)\n",
      "  File \"C:\\Users\\gaert\\anaconda3\\lib\\site-packages\\flask\\_compat.py\", line 39, in reraise\n",
      "    raise value\n",
      "  File \"C:\\Users\\gaert\\anaconda3\\lib\\site-packages\\flask\\app.py\", line 1950, in full_dispatch_request\n",
      "    rv = self.dispatch_request()\n",
      "  File \"C:\\Users\\gaert\\anaconda3\\lib\\site-packages\\flask\\app.py\", line 1936, in dispatch_request\n",
      "    return self.view_functions[rule.endpoint](**req.view_args)\n",
      "  File \"C:\\Users\\gaert\\anaconda3\\lib\\site-packages\\dash\\dash.py\", line 1344, in dispatch\n",
      "    raise KeyError(msg.format(output)) from missing_callback_function\n",
      "  File \"C:\\Users\\gaert\\anaconda3\\lib\\site-packages\\dash\\_callback.py\", line 151, in add_context\n",
      "    output_value = func(*func_args, **func_kwargs)  # %% callback invoked %%\n",
      "  File \"C:\\Users\\gaert\\AppData\\Local\\Temp/ipykernel_83244/3598560302.py\", line 17, in update_pie\n",
      "    dff_sub=dff.groupby('result').size().reset_index(name='count')\n",
      "  File \"C:\\Users\\gaert\\anaconda3\\lib\\site-packages\\pandas\\core\\frame.py\", line 7631, in groupby\n",
      "    return DataFrameGroupBy(\n",
      "  File \"C:\\Users\\gaert\\anaconda3\\lib\\site-packages\\pandas\\core\\groupby\\groupby.py\", line 889, in __init__\n",
      "    grouper, exclusions, obj = get_grouper(\n",
      "  File \"C:\\Users\\gaert\\anaconda3\\lib\\site-packages\\pandas\\core\\groupby\\grouper.py\", line 862, in get_grouper\n",
      "    raise KeyError(gpr)\n",
      "KeyError: 'result'\n",
      "Exception on /_dash-update-component [POST]\n",
      "Traceback (most recent call last):\n",
      "  File \"C:\\Users\\gaert\\anaconda3\\lib\\site-packages\\flask\\app.py\", line 2447, in wsgi_app\n",
      "    response = self.full_dispatch_request()\n",
      "  File \"C:\\Users\\gaert\\anaconda3\\lib\\site-packages\\flask\\app.py\", line 1952, in full_dispatch_request\n",
      "    rv = self.handle_user_exception(e)\n",
      "  File \"C:\\Users\\gaert\\anaconda3\\lib\\site-packages\\flask\\app.py\", line 1821, in handle_user_exception\n",
      "    reraise(exc_type, exc_value, tb)\n",
      "  File \"C:\\Users\\gaert\\anaconda3\\lib\\site-packages\\flask\\_compat.py\", line 39, in reraise\n",
      "    raise value\n",
      "  File \"C:\\Users\\gaert\\anaconda3\\lib\\site-packages\\flask\\app.py\", line 1950, in full_dispatch_request\n",
      "    rv = self.dispatch_request()\n",
      "  File \"C:\\Users\\gaert\\anaconda3\\lib\\site-packages\\flask\\app.py\", line 1936, in dispatch_request\n",
      "    return self.view_functions[rule.endpoint](**req.view_args)\n",
      "  File \"C:\\Users\\gaert\\anaconda3\\lib\\site-packages\\dash\\dash.py\", line 1344, in dispatch\n",
      "    raise KeyError(msg.format(output)) from missing_callback_function\n",
      "  File \"C:\\Users\\gaert\\anaconda3\\lib\\site-packages\\dash\\_callback.py\", line 151, in add_context\n",
      "    output_value = func(*func_args, **func_kwargs)  # %% callback invoked %%\n",
      "  File \"C:\\Users\\gaert\\AppData\\Local\\Temp/ipykernel_83244/3598560302.py\", line 17, in update_pie\n",
      "    dff_sub=dff.groupby('result').size().reset_index(name='count')\n",
      "  File \"C:\\Users\\gaert\\anaconda3\\lib\\site-packages\\pandas\\core\\frame.py\", line 7631, in groupby\n",
      "    return DataFrameGroupBy(\n",
      "  File \"C:\\Users\\gaert\\anaconda3\\lib\\site-packages\\pandas\\core\\groupby\\groupby.py\", line 889, in __init__\n",
      "    grouper, exclusions, obj = get_grouper(\n",
      "  File \"C:\\Users\\gaert\\anaconda3\\lib\\site-packages\\pandas\\core\\groupby\\grouper.py\", line 862, in get_grouper\n",
      "    raise KeyError(gpr)\n",
      "KeyError: 'result'\n",
      "Exception on /_dash-update-component [POST]\n",
      "Traceback (most recent call last):\n",
      "  File \"C:\\Users\\gaert\\anaconda3\\lib\\site-packages\\flask\\app.py\", line 2447, in wsgi_app\n",
      "    response = self.full_dispatch_request()\n",
      "  File \"C:\\Users\\gaert\\anaconda3\\lib\\site-packages\\flask\\app.py\", line 1952, in full_dispatch_request\n",
      "    rv = self.handle_user_exception(e)\n",
      "  File \"C:\\Users\\gaert\\anaconda3\\lib\\site-packages\\flask\\app.py\", line 1821, in handle_user_exception\n",
      "    reraise(exc_type, exc_value, tb)\n",
      "  File \"C:\\Users\\gaert\\anaconda3\\lib\\site-packages\\flask\\_compat.py\", line 39, in reraise\n",
      "    raise value\n",
      "  File \"C:\\Users\\gaert\\anaconda3\\lib\\site-packages\\flask\\app.py\", line 1950, in full_dispatch_request\n",
      "    rv = self.dispatch_request()\n",
      "  File \"C:\\Users\\gaert\\anaconda3\\lib\\site-packages\\flask\\app.py\", line 1936, in dispatch_request\n",
      "    return self.view_functions[rule.endpoint](**req.view_args)\n",
      "  File \"C:\\Users\\gaert\\anaconda3\\lib\\site-packages\\dash\\dash.py\", line 1344, in dispatch\n",
      "    raise KeyError(msg.format(output)) from missing_callback_function\n",
      "  File \"C:\\Users\\gaert\\anaconda3\\lib\\site-packages\\dash\\_callback.py\", line 151, in add_context\n",
      "    output_value = func(*func_args, **func_kwargs)  # %% callback invoked %%\n",
      "  File \"C:\\Users\\gaert\\AppData\\Local\\Temp/ipykernel_83244/3598560302.py\", line 17, in update_pie\n",
      "    dff_sub=dff.groupby('result').size().reset_index(name='count')\n",
      "  File \"C:\\Users\\gaert\\anaconda3\\lib\\site-packages\\pandas\\core\\frame.py\", line 7631, in groupby\n",
      "    return DataFrameGroupBy(\n",
      "  File \"C:\\Users\\gaert\\anaconda3\\lib\\site-packages\\pandas\\core\\groupby\\groupby.py\", line 889, in __init__\n",
      "    grouper, exclusions, obj = get_grouper(\n",
      "  File \"C:\\Users\\gaert\\anaconda3\\lib\\site-packages\\pandas\\core\\groupby\\grouper.py\", line 862, in get_grouper\n",
      "    raise KeyError(gpr)\n",
      "KeyError: 'result'\n",
      "Exception on /_dash-update-component [POST]\n",
      "Traceback (most recent call last):\n",
      "  File \"C:\\Users\\gaert\\anaconda3\\lib\\site-packages\\flask\\app.py\", line 2447, in wsgi_app\n",
      "    response = self.full_dispatch_request()\n",
      "  File \"C:\\Users\\gaert\\anaconda3\\lib\\site-packages\\flask\\app.py\", line 1952, in full_dispatch_request\n",
      "    rv = self.handle_user_exception(e)\n",
      "  File \"C:\\Users\\gaert\\anaconda3\\lib\\site-packages\\flask\\app.py\", line 1821, in handle_user_exception\n",
      "    reraise(exc_type, exc_value, tb)\n",
      "  File \"C:\\Users\\gaert\\anaconda3\\lib\\site-packages\\flask\\_compat.py\", line 39, in reraise\n",
      "    raise value\n",
      "  File \"C:\\Users\\gaert\\anaconda3\\lib\\site-packages\\flask\\app.py\", line 1950, in full_dispatch_request\n",
      "    rv = self.dispatch_request()\n",
      "  File \"C:\\Users\\gaert\\anaconda3\\lib\\site-packages\\flask\\app.py\", line 1936, in dispatch_request\n",
      "    return self.view_functions[rule.endpoint](**req.view_args)\n",
      "  File \"C:\\Users\\gaert\\anaconda3\\lib\\site-packages\\dash\\dash.py\", line 1344, in dispatch\n",
      "    raise KeyError(msg.format(output)) from missing_callback_function\n",
      "  File \"C:\\Users\\gaert\\anaconda3\\lib\\site-packages\\dash\\_callback.py\", line 151, in add_context\n",
      "    output_value = func(*func_args, **func_kwargs)  # %% callback invoked %%\n",
      "  File \"C:\\Users\\gaert\\AppData\\Local\\Temp/ipykernel_83244/3598560302.py\", line 17, in update_pie\n",
      "    dff_sub=dff.groupby('result').size().reset_index(name='count')\n",
      "  File \"C:\\Users\\gaert\\anaconda3\\lib\\site-packages\\pandas\\core\\frame.py\", line 7631, in groupby\n",
      "    return DataFrameGroupBy(\n",
      "  File \"C:\\Users\\gaert\\anaconda3\\lib\\site-packages\\pandas\\core\\groupby\\groupby.py\", line 889, in __init__\n",
      "    grouper, exclusions, obj = get_grouper(\n",
      "  File \"C:\\Users\\gaert\\anaconda3\\lib\\site-packages\\pandas\\core\\groupby\\grouper.py\", line 862, in get_grouper\n",
      "    raise KeyError(gpr)\n",
      "KeyError: 'result'\n",
      "Exception on /_dash-update-component [POST]\n",
      "Traceback (most recent call last):\n",
      "  File \"C:\\Users\\gaert\\anaconda3\\lib\\site-packages\\flask\\app.py\", line 2447, in wsgi_app\n",
      "    response = self.full_dispatch_request()\n",
      "  File \"C:\\Users\\gaert\\anaconda3\\lib\\site-packages\\flask\\app.py\", line 1952, in full_dispatch_request\n",
      "    rv = self.handle_user_exception(e)\n",
      "  File \"C:\\Users\\gaert\\anaconda3\\lib\\site-packages\\flask\\app.py\", line 1821, in handle_user_exception\n",
      "    reraise(exc_type, exc_value, tb)\n",
      "  File \"C:\\Users\\gaert\\anaconda3\\lib\\site-packages\\flask\\_compat.py\", line 39, in reraise\n",
      "    raise value\n",
      "  File \"C:\\Users\\gaert\\anaconda3\\lib\\site-packages\\flask\\app.py\", line 1950, in full_dispatch_request\n",
      "    rv = self.dispatch_request()\n",
      "  File \"C:\\Users\\gaert\\anaconda3\\lib\\site-packages\\flask\\app.py\", line 1936, in dispatch_request\n",
      "    return self.view_functions[rule.endpoint](**req.view_args)\n",
      "  File \"C:\\Users\\gaert\\anaconda3\\lib\\site-packages\\dash\\dash.py\", line 1344, in dispatch\n",
      "    raise KeyError(msg.format(output)) from missing_callback_function\n",
      "  File \"C:\\Users\\gaert\\anaconda3\\lib\\site-packages\\dash\\_callback.py\", line 151, in add_context\n",
      "    output_value = func(*func_args, **func_kwargs)  # %% callback invoked %%\n",
      "  File \"C:\\Users\\gaert\\AppData\\Local\\Temp/ipykernel_83244/3598560302.py\", line 17, in update_pie\n",
      "    dff_sub=dff.groupby('result').size().reset_index(name='count')\n",
      "  File \"C:\\Users\\gaert\\anaconda3\\lib\\site-packages\\pandas\\core\\frame.py\", line 7631, in groupby\n",
      "    return DataFrameGroupBy(\n",
      "  File \"C:\\Users\\gaert\\anaconda3\\lib\\site-packages\\pandas\\core\\groupby\\groupby.py\", line 889, in __init__\n",
      "    grouper, exclusions, obj = get_grouper(\n",
      "  File \"C:\\Users\\gaert\\anaconda3\\lib\\site-packages\\pandas\\core\\groupby\\grouper.py\", line 862, in get_grouper\n",
      "    raise KeyError(gpr)\n",
      "KeyError: 'result'\n",
      "Exception on /_dash-update-component [POST]\n",
      "Traceback (most recent call last):\n",
      "  File \"C:\\Users\\gaert\\anaconda3\\lib\\site-packages\\flask\\app.py\", line 2447, in wsgi_app\n",
      "    response = self.full_dispatch_request()\n",
      "  File \"C:\\Users\\gaert\\anaconda3\\lib\\site-packages\\flask\\app.py\", line 1952, in full_dispatch_request\n",
      "    rv = self.handle_user_exception(e)\n",
      "  File \"C:\\Users\\gaert\\anaconda3\\lib\\site-packages\\flask\\app.py\", line 1821, in handle_user_exception\n",
      "    reraise(exc_type, exc_value, tb)\n",
      "  File \"C:\\Users\\gaert\\anaconda3\\lib\\site-packages\\flask\\_compat.py\", line 39, in reraise\n",
      "    raise value\n",
      "  File \"C:\\Users\\gaert\\anaconda3\\lib\\site-packages\\flask\\app.py\", line 1950, in full_dispatch_request\n",
      "    rv = self.dispatch_request()\n",
      "  File \"C:\\Users\\gaert\\anaconda3\\lib\\site-packages\\flask\\app.py\", line 1936, in dispatch_request\n",
      "    return self.view_functions[rule.endpoint](**req.view_args)\n",
      "  File \"C:\\Users\\gaert\\anaconda3\\lib\\site-packages\\dash\\dash.py\", line 1344, in dispatch\n",
      "    raise KeyError(msg.format(output)) from missing_callback_function\n",
      "  File \"C:\\Users\\gaert\\anaconda3\\lib\\site-packages\\dash\\_callback.py\", line 151, in add_context\n",
      "    output_value = func(*func_args, **func_kwargs)  # %% callback invoked %%\n",
      "  File \"C:\\Users\\gaert\\AppData\\Local\\Temp/ipykernel_83244/3598560302.py\", line 17, in update_pie\n",
      "    dff_sub=dff.groupby('result').size().reset_index(name='count')\n",
      "  File \"C:\\Users\\gaert\\anaconda3\\lib\\site-packages\\pandas\\core\\frame.py\", line 7631, in groupby\n",
      "    return DataFrameGroupBy(\n",
      "  File \"C:\\Users\\gaert\\anaconda3\\lib\\site-packages\\pandas\\core\\groupby\\groupby.py\", line 889, in __init__\n",
      "    grouper, exclusions, obj = get_grouper(\n",
      "  File \"C:\\Users\\gaert\\anaconda3\\lib\\site-packages\\pandas\\core\\groupby\\grouper.py\", line 862, in get_grouper\n",
      "    raise KeyError(gpr)\n",
      "KeyError: 'result'\n",
      "Exception on /_dash-update-component [POST]\n",
      "Traceback (most recent call last):\n",
      "  File \"C:\\Users\\gaert\\anaconda3\\lib\\site-packages\\flask\\app.py\", line 2447, in wsgi_app\n",
      "    response = self.full_dispatch_request()\n",
      "  File \"C:\\Users\\gaert\\anaconda3\\lib\\site-packages\\flask\\app.py\", line 1952, in full_dispatch_request\n",
      "    rv = self.handle_user_exception(e)\n",
      "  File \"C:\\Users\\gaert\\anaconda3\\lib\\site-packages\\flask\\app.py\", line 1821, in handle_user_exception\n",
      "    reraise(exc_type, exc_value, tb)\n",
      "  File \"C:\\Users\\gaert\\anaconda3\\lib\\site-packages\\flask\\_compat.py\", line 39, in reraise\n",
      "    raise value\n",
      "  File \"C:\\Users\\gaert\\anaconda3\\lib\\site-packages\\flask\\app.py\", line 1950, in full_dispatch_request\n",
      "    rv = self.dispatch_request()\n",
      "  File \"C:\\Users\\gaert\\anaconda3\\lib\\site-packages\\flask\\app.py\", line 1936, in dispatch_request\n",
      "    return self.view_functions[rule.endpoint](**req.view_args)\n",
      "  File \"C:\\Users\\gaert\\anaconda3\\lib\\site-packages\\dash\\dash.py\", line 1344, in dispatch\n",
      "    raise KeyError(msg.format(output)) from missing_callback_function\n",
      "  File \"C:\\Users\\gaert\\anaconda3\\lib\\site-packages\\dash\\_callback.py\", line 151, in add_context\n",
      "    output_value = func(*func_args, **func_kwargs)  # %% callback invoked %%\n",
      "  File \"C:\\Users\\gaert\\AppData\\Local\\Temp/ipykernel_83244/3598560302.py\", line 17, in update_pie\n",
      "    dff_sub=dff.groupby('result').size().reset_index(name='count')\n",
      "  File \"C:\\Users\\gaert\\anaconda3\\lib\\site-packages\\pandas\\core\\frame.py\", line 7631, in groupby\n",
      "    return DataFrameGroupBy(\n",
      "  File \"C:\\Users\\gaert\\anaconda3\\lib\\site-packages\\pandas\\core\\groupby\\groupby.py\", line 889, in __init__\n",
      "    grouper, exclusions, obj = get_grouper(\n",
      "  File \"C:\\Users\\gaert\\anaconda3\\lib\\site-packages\\pandas\\core\\groupby\\grouper.py\", line 862, in get_grouper\n",
      "    raise KeyError(gpr)\n",
      "KeyError: 'result'\n",
      "Exception on /_dash-update-component [POST]\n",
      "Traceback (most recent call last):\n",
      "  File \"C:\\Users\\gaert\\anaconda3\\lib\\site-packages\\flask\\app.py\", line 2447, in wsgi_app\n",
      "    response = self.full_dispatch_request()\n",
      "  File \"C:\\Users\\gaert\\anaconda3\\lib\\site-packages\\flask\\app.py\", line 1952, in full_dispatch_request\n",
      "    rv = self.handle_user_exception(e)\n",
      "  File \"C:\\Users\\gaert\\anaconda3\\lib\\site-packages\\flask\\app.py\", line 1821, in handle_user_exception\n",
      "    reraise(exc_type, exc_value, tb)\n",
      "  File \"C:\\Users\\gaert\\anaconda3\\lib\\site-packages\\flask\\_compat.py\", line 39, in reraise\n",
      "    raise value\n",
      "  File \"C:\\Users\\gaert\\anaconda3\\lib\\site-packages\\flask\\app.py\", line 1950, in full_dispatch_request\n",
      "    rv = self.dispatch_request()\n",
      "  File \"C:\\Users\\gaert\\anaconda3\\lib\\site-packages\\flask\\app.py\", line 1936, in dispatch_request\n",
      "    return self.view_functions[rule.endpoint](**req.view_args)\n",
      "  File \"C:\\Users\\gaert\\anaconda3\\lib\\site-packages\\dash\\dash.py\", line 1344, in dispatch\n",
      "    raise KeyError(msg.format(output)) from missing_callback_function\n",
      "  File \"C:\\Users\\gaert\\anaconda3\\lib\\site-packages\\dash\\_callback.py\", line 151, in add_context\n",
      "    output_value = func(*func_args, **func_kwargs)  # %% callback invoked %%\n",
      "  File \"C:\\Users\\gaert\\AppData\\Local\\Temp/ipykernel_83244/3598560302.py\", line 17, in update_pie\n",
      "    dff_sub=dff.groupby('result').size().reset_index(name='count')\n",
      "  File \"C:\\Users\\gaert\\anaconda3\\lib\\site-packages\\pandas\\core\\frame.py\", line 7631, in groupby\n",
      "    return DataFrameGroupBy(\n",
      "  File \"C:\\Users\\gaert\\anaconda3\\lib\\site-packages\\pandas\\core\\groupby\\groupby.py\", line 889, in __init__\n",
      "    grouper, exclusions, obj = get_grouper(\n",
      "  File \"C:\\Users\\gaert\\anaconda3\\lib\\site-packages\\pandas\\core\\groupby\\grouper.py\", line 862, in get_grouper\n",
      "    raise KeyError(gpr)\n",
      "KeyError: 'result'\n",
      "Exception on /_dash-update-component [POST]\n",
      "Traceback (most recent call last):\n",
      "  File \"C:\\Users\\gaert\\anaconda3\\lib\\site-packages\\flask\\app.py\", line 2447, in wsgi_app\n",
      "    response = self.full_dispatch_request()\n",
      "  File \"C:\\Users\\gaert\\anaconda3\\lib\\site-packages\\flask\\app.py\", line 1952, in full_dispatch_request\n",
      "    rv = self.handle_user_exception(e)\n",
      "  File \"C:\\Users\\gaert\\anaconda3\\lib\\site-packages\\flask\\app.py\", line 1821, in handle_user_exception\n",
      "    reraise(exc_type, exc_value, tb)\n",
      "  File \"C:\\Users\\gaert\\anaconda3\\lib\\site-packages\\flask\\_compat.py\", line 39, in reraise\n",
      "    raise value\n",
      "  File \"C:\\Users\\gaert\\anaconda3\\lib\\site-packages\\flask\\app.py\", line 1950, in full_dispatch_request\n",
      "    rv = self.dispatch_request()\n",
      "  File \"C:\\Users\\gaert\\anaconda3\\lib\\site-packages\\flask\\app.py\", line 1936, in dispatch_request\n",
      "    return self.view_functions[rule.endpoint](**req.view_args)\n",
      "  File \"C:\\Users\\gaert\\anaconda3\\lib\\site-packages\\dash\\dash.py\", line 1344, in dispatch\n",
      "    raise KeyError(msg.format(output)) from missing_callback_function\n",
      "  File \"C:\\Users\\gaert\\anaconda3\\lib\\site-packages\\dash\\_callback.py\", line 151, in add_context\n",
      "    output_value = func(*func_args, **func_kwargs)  # %% callback invoked %%\n",
      "  File \"C:\\Users\\gaert\\AppData\\Local\\Temp/ipykernel_83244/3598560302.py\", line 17, in update_pie\n",
      "    dff_sub=dff.groupby('result').size().reset_index(name='count')\n",
      "  File \"C:\\Users\\gaert\\anaconda3\\lib\\site-packages\\pandas\\core\\frame.py\", line 7631, in groupby\n",
      "    return DataFrameGroupBy(\n",
      "  File \"C:\\Users\\gaert\\anaconda3\\lib\\site-packages\\pandas\\core\\groupby\\groupby.py\", line 889, in __init__\n",
      "    grouper, exclusions, obj = get_grouper(\n",
      "  File \"C:\\Users\\gaert\\anaconda3\\lib\\site-packages\\pandas\\core\\groupby\\grouper.py\", line 862, in get_grouper\n",
      "    raise KeyError(gpr)\n",
      "KeyError: 'result'\n",
      "Exception on /_dash-update-component [POST]\n",
      "Traceback (most recent call last):\n",
      "  File \"C:\\Users\\gaert\\anaconda3\\lib\\site-packages\\flask\\app.py\", line 2447, in wsgi_app\n",
      "    response = self.full_dispatch_request()\n",
      "  File \"C:\\Users\\gaert\\anaconda3\\lib\\site-packages\\flask\\app.py\", line 1952, in full_dispatch_request\n",
      "    rv = self.handle_user_exception(e)\n",
      "  File \"C:\\Users\\gaert\\anaconda3\\lib\\site-packages\\flask\\app.py\", line 1821, in handle_user_exception\n",
      "    reraise(exc_type, exc_value, tb)\n",
      "  File \"C:\\Users\\gaert\\anaconda3\\lib\\site-packages\\flask\\_compat.py\", line 39, in reraise\n",
      "    raise value\n",
      "  File \"C:\\Users\\gaert\\anaconda3\\lib\\site-packages\\flask\\app.py\", line 1950, in full_dispatch_request\n",
      "    rv = self.dispatch_request()\n",
      "  File \"C:\\Users\\gaert\\anaconda3\\lib\\site-packages\\flask\\app.py\", line 1936, in dispatch_request\n",
      "    return self.view_functions[rule.endpoint](**req.view_args)\n",
      "  File \"C:\\Users\\gaert\\anaconda3\\lib\\site-packages\\dash\\dash.py\", line 1344, in dispatch\n",
      "    raise KeyError(msg.format(output)) from missing_callback_function\n",
      "  File \"C:\\Users\\gaert\\anaconda3\\lib\\site-packages\\dash\\_callback.py\", line 151, in add_context\n",
      "    output_value = func(*func_args, **func_kwargs)  # %% callback invoked %%\n",
      "  File \"C:\\Users\\gaert\\AppData\\Local\\Temp/ipykernel_83244/3598560302.py\", line 17, in update_pie\n",
      "    dff_sub=dff.groupby('result').size().reset_index(name='count')\n",
      "  File \"C:\\Users\\gaert\\anaconda3\\lib\\site-packages\\pandas\\core\\frame.py\", line 7631, in groupby\n",
      "    return DataFrameGroupBy(\n",
      "  File \"C:\\Users\\gaert\\anaconda3\\lib\\site-packages\\pandas\\core\\groupby\\groupby.py\", line 889, in __init__\n",
      "    grouper, exclusions, obj = get_grouper(\n",
      "  File \"C:\\Users\\gaert\\anaconda3\\lib\\site-packages\\pandas\\core\\groupby\\grouper.py\", line 862, in get_grouper\n",
      "    raise KeyError(gpr)\n",
      "KeyError: 'result'\n",
      "Exception on /_dash-update-component [POST]\n",
      "Traceback (most recent call last):\n",
      "  File \"C:\\Users\\gaert\\anaconda3\\lib\\site-packages\\flask\\app.py\", line 2447, in wsgi_app\n",
      "    response = self.full_dispatch_request()\n",
      "  File \"C:\\Users\\gaert\\anaconda3\\lib\\site-packages\\flask\\app.py\", line 1952, in full_dispatch_request\n",
      "    rv = self.handle_user_exception(e)\n",
      "  File \"C:\\Users\\gaert\\anaconda3\\lib\\site-packages\\flask\\app.py\", line 1821, in handle_user_exception\n",
      "    reraise(exc_type, exc_value, tb)\n",
      "  File \"C:\\Users\\gaert\\anaconda3\\lib\\site-packages\\flask\\_compat.py\", line 39, in reraise\n",
      "    raise value\n",
      "  File \"C:\\Users\\gaert\\anaconda3\\lib\\site-packages\\flask\\app.py\", line 1950, in full_dispatch_request\n",
      "    rv = self.dispatch_request()\n",
      "  File \"C:\\Users\\gaert\\anaconda3\\lib\\site-packages\\flask\\app.py\", line 1936, in dispatch_request\n",
      "    return self.view_functions[rule.endpoint](**req.view_args)\n",
      "  File \"C:\\Users\\gaert\\anaconda3\\lib\\site-packages\\dash\\dash.py\", line 1344, in dispatch\n",
      "    raise KeyError(msg.format(output)) from missing_callback_function\n",
      "  File \"C:\\Users\\gaert\\anaconda3\\lib\\site-packages\\dash\\_callback.py\", line 151, in add_context\n",
      "    output_value = func(*func_args, **func_kwargs)  # %% callback invoked %%\n",
      "  File \"C:\\Users\\gaert\\AppData\\Local\\Temp/ipykernel_83244/3598560302.py\", line 17, in update_pie\n",
      "    dff_sub=dff.groupby('result').size().reset_index(name='count')\n",
      "  File \"C:\\Users\\gaert\\anaconda3\\lib\\site-packages\\pandas\\core\\frame.py\", line 7631, in groupby\n",
      "    return DataFrameGroupBy(\n",
      "  File \"C:\\Users\\gaert\\anaconda3\\lib\\site-packages\\pandas\\core\\groupby\\groupby.py\", line 889, in __init__\n",
      "    grouper, exclusions, obj = get_grouper(\n",
      "  File \"C:\\Users\\gaert\\anaconda3\\lib\\site-packages\\pandas\\core\\groupby\\grouper.py\", line 862, in get_grouper\n",
      "    raise KeyError(gpr)\n",
      "KeyError: 'result'\n",
      "Exception on /_dash-update-component [POST]\n",
      "Traceback (most recent call last):\n",
      "  File \"C:\\Users\\gaert\\anaconda3\\lib\\site-packages\\flask\\app.py\", line 2447, in wsgi_app\n",
      "    response = self.full_dispatch_request()\n",
      "  File \"C:\\Users\\gaert\\anaconda3\\lib\\site-packages\\flask\\app.py\", line 1952, in full_dispatch_request\n",
      "    rv = self.handle_user_exception(e)\n",
      "  File \"C:\\Users\\gaert\\anaconda3\\lib\\site-packages\\flask\\app.py\", line 1821, in handle_user_exception\n",
      "    reraise(exc_type, exc_value, tb)\n",
      "  File \"C:\\Users\\gaert\\anaconda3\\lib\\site-packages\\flask\\_compat.py\", line 39, in reraise\n",
      "    raise value\n",
      "  File \"C:\\Users\\gaert\\anaconda3\\lib\\site-packages\\flask\\app.py\", line 1950, in full_dispatch_request\n",
      "    rv = self.dispatch_request()\n",
      "  File \"C:\\Users\\gaert\\anaconda3\\lib\\site-packages\\flask\\app.py\", line 1936, in dispatch_request\n",
      "    return self.view_functions[rule.endpoint](**req.view_args)\n",
      "  File \"C:\\Users\\gaert\\anaconda3\\lib\\site-packages\\dash\\dash.py\", line 1344, in dispatch\n",
      "    raise KeyError(msg.format(output)) from missing_callback_function\n",
      "  File \"C:\\Users\\gaert\\anaconda3\\lib\\site-packages\\dash\\_callback.py\", line 151, in add_context\n",
      "    output_value = func(*func_args, **func_kwargs)  # %% callback invoked %%\n",
      "  File \"C:\\Users\\gaert\\AppData\\Local\\Temp/ipykernel_83244/3598560302.py\", line 17, in update_pie\n",
      "    dff_sub=dff.groupby('result').size().reset_index(name='count')\n",
      "  File \"C:\\Users\\gaert\\anaconda3\\lib\\site-packages\\pandas\\core\\frame.py\", line 7631, in groupby\n",
      "    return DataFrameGroupBy(\n",
      "  File \"C:\\Users\\gaert\\anaconda3\\lib\\site-packages\\pandas\\core\\groupby\\groupby.py\", line 889, in __init__\n",
      "    grouper, exclusions, obj = get_grouper(\n",
      "  File \"C:\\Users\\gaert\\anaconda3\\lib\\site-packages\\pandas\\core\\groupby\\grouper.py\", line 862, in get_grouper\n",
      "    raise KeyError(gpr)\n",
      "KeyError: 'result'\n",
      "Exception on /_dash-update-component [POST]\n",
      "Traceback (most recent call last):\n",
      "  File \"C:\\Users\\gaert\\anaconda3\\lib\\site-packages\\flask\\app.py\", line 2447, in wsgi_app\n",
      "    response = self.full_dispatch_request()\n",
      "  File \"C:\\Users\\gaert\\anaconda3\\lib\\site-packages\\flask\\app.py\", line 1952, in full_dispatch_request\n",
      "    rv = self.handle_user_exception(e)\n",
      "  File \"C:\\Users\\gaert\\anaconda3\\lib\\site-packages\\flask\\app.py\", line 1821, in handle_user_exception\n",
      "    reraise(exc_type, exc_value, tb)\n",
      "  File \"C:\\Users\\gaert\\anaconda3\\lib\\site-packages\\flask\\_compat.py\", line 39, in reraise\n",
      "    raise value\n",
      "  File \"C:\\Users\\gaert\\anaconda3\\lib\\site-packages\\flask\\app.py\", line 1950, in full_dispatch_request\n",
      "    rv = self.dispatch_request()\n",
      "  File \"C:\\Users\\gaert\\anaconda3\\lib\\site-packages\\flask\\app.py\", line 1936, in dispatch_request\n",
      "    return self.view_functions[rule.endpoint](**req.view_args)\n",
      "  File \"C:\\Users\\gaert\\anaconda3\\lib\\site-packages\\dash\\dash.py\", line 1344, in dispatch\n",
      "    raise KeyError(msg.format(output)) from missing_callback_function\n",
      "  File \"C:\\Users\\gaert\\anaconda3\\lib\\site-packages\\dash\\_callback.py\", line 151, in add_context\n",
      "    output_value = func(*func_args, **func_kwargs)  # %% callback invoked %%\n",
      "  File \"C:\\Users\\gaert\\AppData\\Local\\Temp/ipykernel_83244/3598560302.py\", line 17, in update_pie\n",
      "    dff_sub=dff.groupby('result').size().reset_index(name='count')\n",
      "  File \"C:\\Users\\gaert\\anaconda3\\lib\\site-packages\\pandas\\core\\frame.py\", line 7631, in groupby\n",
      "    return DataFrameGroupBy(\n",
      "  File \"C:\\Users\\gaert\\anaconda3\\lib\\site-packages\\pandas\\core\\groupby\\groupby.py\", line 889, in __init__\n",
      "    grouper, exclusions, obj = get_grouper(\n",
      "  File \"C:\\Users\\gaert\\anaconda3\\lib\\site-packages\\pandas\\core\\groupby\\grouper.py\", line 862, in get_grouper\n",
      "    raise KeyError(gpr)\n",
      "KeyError: 'result'\n",
      "Exception on /_dash-update-component [POST]\n",
      "Traceback (most recent call last):\n",
      "  File \"C:\\Users\\gaert\\anaconda3\\lib\\site-packages\\flask\\app.py\", line 2447, in wsgi_app\n",
      "    response = self.full_dispatch_request()\n",
      "  File \"C:\\Users\\gaert\\anaconda3\\lib\\site-packages\\flask\\app.py\", line 1952, in full_dispatch_request\n",
      "    rv = self.handle_user_exception(e)\n",
      "  File \"C:\\Users\\gaert\\anaconda3\\lib\\site-packages\\flask\\app.py\", line 1821, in handle_user_exception\n",
      "    reraise(exc_type, exc_value, tb)\n",
      "  File \"C:\\Users\\gaert\\anaconda3\\lib\\site-packages\\flask\\_compat.py\", line 39, in reraise\n",
      "    raise value\n",
      "  File \"C:\\Users\\gaert\\anaconda3\\lib\\site-packages\\flask\\app.py\", line 1950, in full_dispatch_request\n",
      "    rv = self.dispatch_request()\n",
      "  File \"C:\\Users\\gaert\\anaconda3\\lib\\site-packages\\flask\\app.py\", line 1936, in dispatch_request\n",
      "    return self.view_functions[rule.endpoint](**req.view_args)\n",
      "  File \"C:\\Users\\gaert\\anaconda3\\lib\\site-packages\\dash\\dash.py\", line 1344, in dispatch\n",
      "    raise KeyError(msg.format(output)) from missing_callback_function\n",
      "  File \"C:\\Users\\gaert\\anaconda3\\lib\\site-packages\\dash\\_callback.py\", line 151, in add_context\n",
      "    output_value = func(*func_args, **func_kwargs)  # %% callback invoked %%\n",
      "  File \"C:\\Users\\gaert\\AppData\\Local\\Temp/ipykernel_83244/3598560302.py\", line 17, in update_pie\n",
      "    dff_sub=dff.groupby('result').size().reset_index(name='count')\n",
      "  File \"C:\\Users\\gaert\\anaconda3\\lib\\site-packages\\pandas\\core\\frame.py\", line 7631, in groupby\n",
      "    return DataFrameGroupBy(\n",
      "  File \"C:\\Users\\gaert\\anaconda3\\lib\\site-packages\\pandas\\core\\groupby\\groupby.py\", line 889, in __init__\n",
      "    grouper, exclusions, obj = get_grouper(\n",
      "  File \"C:\\Users\\gaert\\anaconda3\\lib\\site-packages\\pandas\\core\\groupby\\grouper.py\", line 862, in get_grouper\n",
      "    raise KeyError(gpr)\n",
      "KeyError: 'result'\n",
      "Exception on /_dash-update-component [POST]\n",
      "Traceback (most recent call last):\n",
      "  File \"C:\\Users\\gaert\\anaconda3\\lib\\site-packages\\flask\\app.py\", line 2447, in wsgi_app\n",
      "    response = self.full_dispatch_request()\n",
      "  File \"C:\\Users\\gaert\\anaconda3\\lib\\site-packages\\flask\\app.py\", line 1952, in full_dispatch_request\n",
      "    rv = self.handle_user_exception(e)\n",
      "  File \"C:\\Users\\gaert\\anaconda3\\lib\\site-packages\\flask\\app.py\", line 1821, in handle_user_exception\n",
      "    reraise(exc_type, exc_value, tb)\n",
      "  File \"C:\\Users\\gaert\\anaconda3\\lib\\site-packages\\flask\\_compat.py\", line 39, in reraise\n",
      "    raise value\n",
      "  File \"C:\\Users\\gaert\\anaconda3\\lib\\site-packages\\flask\\app.py\", line 1950, in full_dispatch_request\n",
      "    rv = self.dispatch_request()\n",
      "  File \"C:\\Users\\gaert\\anaconda3\\lib\\site-packages\\flask\\app.py\", line 1936, in dispatch_request\n",
      "    return self.view_functions[rule.endpoint](**req.view_args)\n",
      "  File \"C:\\Users\\gaert\\anaconda3\\lib\\site-packages\\dash\\dash.py\", line 1344, in dispatch\n",
      "    raise KeyError(msg.format(output)) from missing_callback_function\n",
      "  File \"C:\\Users\\gaert\\anaconda3\\lib\\site-packages\\dash\\_callback.py\", line 151, in add_context\n",
      "    output_value = func(*func_args, **func_kwargs)  # %% callback invoked %%\n",
      "  File \"C:\\Users\\gaert\\AppData\\Local\\Temp/ipykernel_83244/3598560302.py\", line 17, in update_pie\n",
      "    dff_sub=dff.groupby('result').size().reset_index(name='count')\n",
      "  File \"C:\\Users\\gaert\\anaconda3\\lib\\site-packages\\pandas\\core\\frame.py\", line 7631, in groupby\n",
      "    return DataFrameGroupBy(\n",
      "  File \"C:\\Users\\gaert\\anaconda3\\lib\\site-packages\\pandas\\core\\groupby\\groupby.py\", line 889, in __init__\n",
      "    grouper, exclusions, obj = get_grouper(\n",
      "  File \"C:\\Users\\gaert\\anaconda3\\lib\\site-packages\\pandas\\core\\groupby\\grouper.py\", line 862, in get_grouper\n",
      "    raise KeyError(gpr)\n",
      "KeyError: 'result'\n",
      "Exception on /_dash-update-component [POST]\n",
      "Traceback (most recent call last):\n",
      "  File \"C:\\Users\\gaert\\anaconda3\\lib\\site-packages\\flask\\app.py\", line 2447, in wsgi_app\n",
      "    response = self.full_dispatch_request()\n",
      "  File \"C:\\Users\\gaert\\anaconda3\\lib\\site-packages\\flask\\app.py\", line 1952, in full_dispatch_request\n",
      "    rv = self.handle_user_exception(e)\n",
      "  File \"C:\\Users\\gaert\\anaconda3\\lib\\site-packages\\flask\\app.py\", line 1821, in handle_user_exception\n",
      "    reraise(exc_type, exc_value, tb)\n",
      "  File \"C:\\Users\\gaert\\anaconda3\\lib\\site-packages\\flask\\_compat.py\", line 39, in reraise\n",
      "    raise value\n",
      "  File \"C:\\Users\\gaert\\anaconda3\\lib\\site-packages\\flask\\app.py\", line 1950, in full_dispatch_request\n",
      "    rv = self.dispatch_request()\n",
      "  File \"C:\\Users\\gaert\\anaconda3\\lib\\site-packages\\flask\\app.py\", line 1936, in dispatch_request\n",
      "    return self.view_functions[rule.endpoint](**req.view_args)\n",
      "  File \"C:\\Users\\gaert\\anaconda3\\lib\\site-packages\\dash\\dash.py\", line 1344, in dispatch\n",
      "    raise KeyError(msg.format(output)) from missing_callback_function\n",
      "  File \"C:\\Users\\gaert\\anaconda3\\lib\\site-packages\\dash\\_callback.py\", line 151, in add_context\n",
      "    output_value = func(*func_args, **func_kwargs)  # %% callback invoked %%\n",
      "  File \"C:\\Users\\gaert\\AppData\\Local\\Temp/ipykernel_83244/3598560302.py\", line 17, in update_pie\n",
      "    dff_sub=dff.groupby('result').size().reset_index(name='count')\n",
      "  File \"C:\\Users\\gaert\\anaconda3\\lib\\site-packages\\pandas\\core\\frame.py\", line 7631, in groupby\n",
      "    return DataFrameGroupBy(\n",
      "  File \"C:\\Users\\gaert\\anaconda3\\lib\\site-packages\\pandas\\core\\groupby\\groupby.py\", line 889, in __init__\n",
      "    grouper, exclusions, obj = get_grouper(\n",
      "  File \"C:\\Users\\gaert\\anaconda3\\lib\\site-packages\\pandas\\core\\groupby\\grouper.py\", line 862, in get_grouper\n",
      "    raise KeyError(gpr)\n",
      "KeyError: 'result'\n",
      "Exception on /_dash-update-component [POST]\n",
      "Traceback (most recent call last):\n",
      "  File \"C:\\Users\\gaert\\anaconda3\\lib\\site-packages\\flask\\app.py\", line 2447, in wsgi_app\n",
      "    response = self.full_dispatch_request()\n",
      "  File \"C:\\Users\\gaert\\anaconda3\\lib\\site-packages\\flask\\app.py\", line 1952, in full_dispatch_request\n",
      "    rv = self.handle_user_exception(e)\n",
      "  File \"C:\\Users\\gaert\\anaconda3\\lib\\site-packages\\flask\\app.py\", line 1821, in handle_user_exception\n",
      "    reraise(exc_type, exc_value, tb)\n",
      "  File \"C:\\Users\\gaert\\anaconda3\\lib\\site-packages\\flask\\_compat.py\", line 39, in reraise\n",
      "    raise value\n",
      "  File \"C:\\Users\\gaert\\anaconda3\\lib\\site-packages\\flask\\app.py\", line 1950, in full_dispatch_request\n",
      "    rv = self.dispatch_request()\n",
      "  File \"C:\\Users\\gaert\\anaconda3\\lib\\site-packages\\flask\\app.py\", line 1936, in dispatch_request\n",
      "    return self.view_functions[rule.endpoint](**req.view_args)\n",
      "  File \"C:\\Users\\gaert\\anaconda3\\lib\\site-packages\\dash\\dash.py\", line 1344, in dispatch\n",
      "    raise KeyError(msg.format(output)) from missing_callback_function\n",
      "  File \"C:\\Users\\gaert\\anaconda3\\lib\\site-packages\\dash\\_callback.py\", line 151, in add_context\n",
      "    output_value = func(*func_args, **func_kwargs)  # %% callback invoked %%\n",
      "  File \"C:\\Users\\gaert\\AppData\\Local\\Temp/ipykernel_83244/3598560302.py\", line 17, in update_pie\n",
      "    dff_sub=dff.groupby('result').size().reset_index(name='count')\n",
      "  File \"C:\\Users\\gaert\\anaconda3\\lib\\site-packages\\pandas\\core\\frame.py\", line 7631, in groupby\n",
      "    return DataFrameGroupBy(\n",
      "  File \"C:\\Users\\gaert\\anaconda3\\lib\\site-packages\\pandas\\core\\groupby\\groupby.py\", line 889, in __init__\n",
      "    grouper, exclusions, obj = get_grouper(\n",
      "  File \"C:\\Users\\gaert\\anaconda3\\lib\\site-packages\\pandas\\core\\groupby\\grouper.py\", line 862, in get_grouper\n",
      "    raise KeyError(gpr)\n",
      "KeyError: 'result'\n",
      "Exception on /_dash-update-component [POST]\n",
      "Traceback (most recent call last):\n",
      "  File \"C:\\Users\\gaert\\anaconda3\\lib\\site-packages\\flask\\app.py\", line 2447, in wsgi_app\n",
      "    response = self.full_dispatch_request()\n",
      "  File \"C:\\Users\\gaert\\anaconda3\\lib\\site-packages\\flask\\app.py\", line 1952, in full_dispatch_request\n",
      "    rv = self.handle_user_exception(e)\n",
      "  File \"C:\\Users\\gaert\\anaconda3\\lib\\site-packages\\flask\\app.py\", line 1821, in handle_user_exception\n",
      "    reraise(exc_type, exc_value, tb)\n",
      "  File \"C:\\Users\\gaert\\anaconda3\\lib\\site-packages\\flask\\_compat.py\", line 39, in reraise\n",
      "    raise value\n",
      "  File \"C:\\Users\\gaert\\anaconda3\\lib\\site-packages\\flask\\app.py\", line 1950, in full_dispatch_request\n",
      "    rv = self.dispatch_request()\n",
      "  File \"C:\\Users\\gaert\\anaconda3\\lib\\site-packages\\flask\\app.py\", line 1936, in dispatch_request\n",
      "    return self.view_functions[rule.endpoint](**req.view_args)\n",
      "  File \"C:\\Users\\gaert\\anaconda3\\lib\\site-packages\\dash\\dash.py\", line 1344, in dispatch\n",
      "    raise KeyError(msg.format(output)) from missing_callback_function\n",
      "  File \"C:\\Users\\gaert\\anaconda3\\lib\\site-packages\\dash\\_callback.py\", line 151, in add_context\n",
      "    output_value = func(*func_args, **func_kwargs)  # %% callback invoked %%\n",
      "  File \"C:\\Users\\gaert\\AppData\\Local\\Temp/ipykernel_83244/3598560302.py\", line 17, in update_pie\n",
      "    dff_sub=dff.groupby('result').size().reset_index(name='count')\n",
      "  File \"C:\\Users\\gaert\\anaconda3\\lib\\site-packages\\pandas\\core\\frame.py\", line 7631, in groupby\n",
      "    return DataFrameGroupBy(\n",
      "  File \"C:\\Users\\gaert\\anaconda3\\lib\\site-packages\\pandas\\core\\groupby\\groupby.py\", line 889, in __init__\n",
      "    grouper, exclusions, obj = get_grouper(\n",
      "  File \"C:\\Users\\gaert\\anaconda3\\lib\\site-packages\\pandas\\core\\groupby\\grouper.py\", line 862, in get_grouper\n",
      "    raise KeyError(gpr)\n",
      "KeyError: 'result'\n"
     ]
    },
    {
     "name": "stderr",
     "output_type": "stream",
     "text": [
      "127.0.0.1 - - [28/Mar/2022 23:18:45] \"POST /_dash-update-component HTTP/1.1\" 500 -\n",
      "127.0.0.1 - - [28/Mar/2022 23:18:46] \"POST /_dash-update-component HTTP/1.1\" 200 -\n",
      "127.0.0.1 - - [28/Mar/2022 23:18:46] \"GET /_dash-component-suites/dash/dcc/async-graph.js HTTP/1.1\" 304 -\n",
      "127.0.0.1 - - [28/Mar/2022 23:18:46] \"GET /_dash-component-suites/dash/dcc/async-plotlyjs.js HTTP/1.1\" 304 -\n"
     ]
    }
   ],
   "source": [
    "if __name__ == '__main__':\n",
    "    app.run_server(debug=False)\n",
    "    "
   ]
  }
 ],
 "metadata": {
  "kernelspec": {
   "display_name": "Python 3 (ipykernel)",
   "language": "python",
   "name": "python3"
  },
  "language_info": {
   "codemirror_mode": {
    "name": "ipython",
    "version": 3
   },
   "file_extension": ".py",
   "mimetype": "text/x-python",
   "name": "python",
   "nbconvert_exporter": "python",
   "pygments_lexer": "ipython3",
   "version": "3.9.7"
  }
 },
 "nbformat": 4,
 "nbformat_minor": 5
}
