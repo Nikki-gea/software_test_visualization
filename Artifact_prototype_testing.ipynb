{
 "cells": [
  {
   "cell_type": "markdown",
   "id": "fb81f2d6",
   "metadata": {},
   "source": [
    "First we import all necessary libraries"
   ]
  },
  {
   "cell_type": "code",
   "execution_count": 36,
   "id": "cef66f59-d950-41f4-9017-c16b9b41be14",
   "metadata": {},
   "outputs": [],
   "source": [
    "import plotly.express as px\n",
    "import pandas as pd\n",
    "import plotly.graph_objs as go\n",
    "import chart_studio.plotly as py\n",
    "import dash\n",
    "from dash import dcc\n",
    "from dash import html\n",
    "from dash.dependencies import Input, Output\n",
    "from dash import Dash, Input, Output, callback, dash_table\n",
    "from plotly.subplots import make_subplots\n",
    "import dash_bootstrap_components as dbc\n",
    "import seaborn as sns"
   ]
  },
  {
   "cell_type": "markdown",
   "id": "103c7391",
   "metadata": {},
   "source": [
    "# Data preperation and cleaning\n",
    "As a first step the data is read in as a csv file."
   ]
  },
  {
   "cell_type": "code",
   "execution_count": 37,
   "id": "4a3373f9",
   "metadata": {},
   "outputs": [],
   "source": [
    "data = pd.read_csv(\"Testdaten_Generali_all_tested_systems.csv\", sep = \";\")"
   ]
  },
  {
   "cell_type": "code",
   "execution_count": 38,
   "id": "025ce702",
   "metadata": {},
   "outputs": [
    {
     "data": {
      "text/html": [
       "<div>\n",
       "<style scoped>\n",
       "    .dataframe tbody tr th:only-of-type {\n",
       "        vertical-align: middle;\n",
       "    }\n",
       "\n",
       "    .dataframe tbody tr th {\n",
       "        vertical-align: top;\n",
       "    }\n",
       "\n",
       "    .dataframe thead th {\n",
       "        text-align: right;\n",
       "    }\n",
       "</style>\n",
       "<table border=\"1\" class=\"dataframe\">\n",
       "  <thead>\n",
       "    <tr style=\"text-align: right;\">\n",
       "      <th></th>\n",
       "      <th>TESTFALLNAME</th>\n",
       "      <th>RESULTAT</th>\n",
       "      <th>DURCHFÜHRUNGSDAUER</th>\n",
       "      <th>DATUM</th>\n",
       "      <th>ANWENDUNG</th>\n",
       "    </tr>\n",
       "  </thead>\n",
       "  <tbody>\n",
       "    <tr>\n",
       "      <th>0</th>\n",
       "      <td>RRS_VL-Überprüfen(GesperrteAL-WeiterVerteilen)</td>\n",
       "      <td>OK</td>\n",
       "      <td>2022-04-12-00.03.47.000000</td>\n",
       "      <td>2022-04-12-17.13.18.000000</td>\n",
       "      <td>EMA Basis</td>\n",
       "    </tr>\n",
       "    <tr>\n",
       "      <th>1</th>\n",
       "      <td>RRS_VL-Überprüfen(GesperrteAL-NichtVerteilen)</td>\n",
       "      <td>OK</td>\n",
       "      <td>2022-04-12-00.02.45.000000</td>\n",
       "      <td>2022-04-12-17.09.30.000000</td>\n",
       "      <td>EMA Basis</td>\n",
       "    </tr>\n",
       "    <tr>\n",
       "      <th>2</th>\n",
       "      <td>RRS_VL-Überprüfen(GesperrteAL-AnStvVerteilen)</td>\n",
       "      <td>OK</td>\n",
       "      <td>2022-04-12-00.04.14.000000</td>\n",
       "      <td>2022-04-12-17.06.44.000000</td>\n",
       "      <td>EMA Basis</td>\n",
       "    </tr>\n",
       "    <tr>\n",
       "      <th>3</th>\n",
       "      <td>Init FRVIT/VITFRAINT</td>\n",
       "      <td>OK</td>\n",
       "      <td>2022-04-12-00.00.04.000000</td>\n",
       "      <td>2022-04-12-17.02.30.000000</td>\n",
       "      <td>EMA Basis</td>\n",
       "    </tr>\n",
       "    <tr>\n",
       "      <th>4</th>\n",
       "      <td>RRS_AuswertRT-Überprüfen(KMA-oV) [AT,Vitality]</td>\n",
       "      <td>OK</td>\n",
       "      <td>2022-04-12-00.02.11.000000</td>\n",
       "      <td>2022-04-12-17.01.12.000000</td>\n",
       "      <td>EMA Basis</td>\n",
       "    </tr>\n",
       "  </tbody>\n",
       "</table>\n",
       "</div>"
      ],
      "text/plain": [
       "                                     TESTFALLNAME RESULTAT  \\\n",
       "0  RRS_VL-Überprüfen(GesperrteAL-WeiterVerteilen)       OK   \n",
       "1   RRS_VL-Überprüfen(GesperrteAL-NichtVerteilen)       OK   \n",
       "2   RRS_VL-Überprüfen(GesperrteAL-AnStvVerteilen)       OK   \n",
       "3                            Init FRVIT/VITFRAINT       OK   \n",
       "4  RRS_AuswertRT-Überprüfen(KMA-oV) [AT,Vitality]       OK   \n",
       "\n",
       "           DURCHFÜHRUNGSDAUER                       DATUM  ANWENDUNG  \n",
       "0  2022-04-12-00.03.47.000000  2022-04-12-17.13.18.000000  EMA Basis  \n",
       "1  2022-04-12-00.02.45.000000  2022-04-12-17.09.30.000000  EMA Basis  \n",
       "2  2022-04-12-00.04.14.000000  2022-04-12-17.06.44.000000  EMA Basis  \n",
       "3  2022-04-12-00.00.04.000000  2022-04-12-17.02.30.000000  EMA Basis  \n",
       "4  2022-04-12-00.02.11.000000  2022-04-12-17.01.12.000000  EMA Basis  "
      ]
     },
     "execution_count": 38,
     "metadata": {},
     "output_type": "execute_result"
    }
   ],
   "source": [
    "data.head()"
   ]
  },
  {
   "cell_type": "markdown",
   "id": "d01c59a8",
   "metadata": {},
   "source": [
    "As we want to be able to add various different data, we change the column names, so that we can assure they stay the same. The old name of the columns will vary from data to data and will need to be adapted. "
   ]
  },
  {
   "cell_type": "code",
   "execution_count": 39,
   "id": "9487b148",
   "metadata": {},
   "outputs": [
    {
     "data": {
      "text/html": [
       "<div>\n",
       "<style scoped>\n",
       "    .dataframe tbody tr th:only-of-type {\n",
       "        vertical-align: middle;\n",
       "    }\n",
       "\n",
       "    .dataframe tbody tr th {\n",
       "        vertical-align: top;\n",
       "    }\n",
       "\n",
       "    .dataframe thead th {\n",
       "        text-align: right;\n",
       "    }\n",
       "</style>\n",
       "<table border=\"1\" class=\"dataframe\">\n",
       "  <thead>\n",
       "    <tr style=\"text-align: right;\">\n",
       "      <th></th>\n",
       "      <th>testname</th>\n",
       "      <th>result</th>\n",
       "      <th>runtime</th>\n",
       "      <th>date</th>\n",
       "      <th>system</th>\n",
       "    </tr>\n",
       "  </thead>\n",
       "  <tbody>\n",
       "    <tr>\n",
       "      <th>0</th>\n",
       "      <td>RRS_VL-Überprüfen(GesperrteAL-WeiterVerteilen)</td>\n",
       "      <td>OK</td>\n",
       "      <td>2022-04-12-00.03.47.000000</td>\n",
       "      <td>2022-04-12-17.13.18.000000</td>\n",
       "      <td>EMA Basis</td>\n",
       "    </tr>\n",
       "    <tr>\n",
       "      <th>1</th>\n",
       "      <td>RRS_VL-Überprüfen(GesperrteAL-NichtVerteilen)</td>\n",
       "      <td>OK</td>\n",
       "      <td>2022-04-12-00.02.45.000000</td>\n",
       "      <td>2022-04-12-17.09.30.000000</td>\n",
       "      <td>EMA Basis</td>\n",
       "    </tr>\n",
       "    <tr>\n",
       "      <th>2</th>\n",
       "      <td>RRS_VL-Überprüfen(GesperrteAL-AnStvVerteilen)</td>\n",
       "      <td>OK</td>\n",
       "      <td>2022-04-12-00.04.14.000000</td>\n",
       "      <td>2022-04-12-17.06.44.000000</td>\n",
       "      <td>EMA Basis</td>\n",
       "    </tr>\n",
       "    <tr>\n",
       "      <th>3</th>\n",
       "      <td>Init FRVIT/VITFRAINT</td>\n",
       "      <td>OK</td>\n",
       "      <td>2022-04-12-00.00.04.000000</td>\n",
       "      <td>2022-04-12-17.02.30.000000</td>\n",
       "      <td>EMA Basis</td>\n",
       "    </tr>\n",
       "    <tr>\n",
       "      <th>4</th>\n",
       "      <td>RRS_AuswertRT-Überprüfen(KMA-oV) [AT,Vitality]</td>\n",
       "      <td>OK</td>\n",
       "      <td>2022-04-12-00.02.11.000000</td>\n",
       "      <td>2022-04-12-17.01.12.000000</td>\n",
       "      <td>EMA Basis</td>\n",
       "    </tr>\n",
       "  </tbody>\n",
       "</table>\n",
       "</div>"
      ],
      "text/plain": [
       "                                         testname result  \\\n",
       "0  RRS_VL-Überprüfen(GesperrteAL-WeiterVerteilen)     OK   \n",
       "1   RRS_VL-Überprüfen(GesperrteAL-NichtVerteilen)     OK   \n",
       "2   RRS_VL-Überprüfen(GesperrteAL-AnStvVerteilen)     OK   \n",
       "3                            Init FRVIT/VITFRAINT     OK   \n",
       "4  RRS_AuswertRT-Überprüfen(KMA-oV) [AT,Vitality]     OK   \n",
       "\n",
       "                      runtime                        date     system  \n",
       "0  2022-04-12-00.03.47.000000  2022-04-12-17.13.18.000000  EMA Basis  \n",
       "1  2022-04-12-00.02.45.000000  2022-04-12-17.09.30.000000  EMA Basis  \n",
       "2  2022-04-12-00.04.14.000000  2022-04-12-17.06.44.000000  EMA Basis  \n",
       "3  2022-04-12-00.00.04.000000  2022-04-12-17.02.30.000000  EMA Basis  \n",
       "4  2022-04-12-00.02.11.000000  2022-04-12-17.01.12.000000  EMA Basis  "
      ]
     },
     "execution_count": 39,
     "metadata": {},
     "output_type": "execute_result"
    }
   ],
   "source": [
    "data = data.rename(columns={\"ANWENDUNG\":\"system\", \"TESTFALLNAME\":\"testname\", \"RESULTAT\":\"result\", \"DATUM\":\"date\", \"DURCHFÜHRUNGSDAUER\":\"runtime\"})\n",
    "data.head()"
   ]
  },
  {
   "cell_type": "markdown",
   "id": "254f0be5",
   "metadata": {},
   "source": [
    "Next we want to verify, if we have any null values and if so, in which column those null values are, and how many null values we have"
   ]
  },
  {
   "cell_type": "code",
   "execution_count": 40,
   "id": "092b39d7",
   "metadata": {},
   "outputs": [
    {
     "data": {
      "text/plain": [
       "testname    False\n",
       "result      False\n",
       "runtime      True\n",
       "date        False\n",
       "system      False\n",
       "dtype: bool"
      ]
     },
     "execution_count": 40,
     "metadata": {},
     "output_type": "execute_result"
    }
   ],
   "source": [
    "data.isna().any()"
   ]
  },
  {
   "cell_type": "code",
   "execution_count": 41,
   "id": "d6a326e0",
   "metadata": {},
   "outputs": [
    {
     "data": {
      "text/plain": [
       "18107"
      ]
     },
     "execution_count": 41,
     "metadata": {},
     "output_type": "execute_result"
    }
   ],
   "source": [
    "data['runtime'].isnull().sum()"
   ]
  },
  {
   "cell_type": "markdown",
   "id": "d5ddcd89",
   "metadata": {},
   "source": [
    "As a certain amount of data is needed per tested system, we check which tested systems have less then 3000 records. "
   ]
  },
  {
   "cell_type": "code",
   "execution_count": 42,
   "id": "7020979c",
   "metadata": {},
   "outputs": [
    {
     "data": {
      "text/plain": [
       "26"
      ]
     },
     "execution_count": 42,
     "metadata": {},
     "output_type": "execute_result"
    }
   ],
   "source": [
    "len(data['system'].unique())"
   ]
  },
  {
   "cell_type": "code",
   "execution_count": 43,
   "id": "f2b09f96",
   "metadata": {},
   "outputs": [
    {
     "name": "stdout",
     "output_type": "stream",
     "text": [
      "Plattform\n",
      "EVA\n",
      "EMA Cockpit\n",
      "ECM\n",
      "GATE_Paket\n",
      "eVtg Vertrag\n",
      "TZIT Tools\n",
      "Projekt B\n",
      "Projekt A\n",
      "Internet\n",
      "KI Online\n"
     ]
    }
   ],
   "source": [
    "for i in data['system'].unique():\n",
    "    if (len(data.loc[(data['system'] == i)]) < 3000):\n",
    "        print (i)"
   ]
  },
  {
   "cell_type": "code",
   "execution_count": 44,
   "id": "57190905",
   "metadata": {},
   "outputs": [
    {
     "name": "stdout",
     "output_type": "stream",
     "text": [
      "EMA Basis 44458\n",
      "EMA PKA 10032\n",
      "VITALITY 3913\n",
      "EVS 27139\n",
      "Betriebliche Vorsorge 6887\n",
      "VISLife AUT Neu 23676\n",
      "SLS 7061\n",
      "VIS Portal 16714\n",
      "eVtg 48731\n",
      "Plattform 461\n",
      "VISLife CEE 4243\n",
      "PA 5293\n",
      "ERV 12703\n",
      "Kundenportal 5128\n",
      "DM 18568\n",
      "TCM 8741\n",
      "EVA 2505\n",
      "EMA Cockpit 533\n",
      "ECM 838\n",
      "GATE_Paket 7\n",
      "eVtg Vertrag 457\n",
      "TZIT Tools 9\n",
      "Projekt B 3\n",
      "Projekt A 1\n",
      "Internet 51\n",
      "KI Online 97\n"
     ]
    }
   ],
   "source": [
    "for i in data['system'].unique():\n",
    "    print (i , len(data.loc[(data['system'] == i)]))"
   ]
  },
  {
   "cell_type": "markdown",
   "id": "2ff8cb0e",
   "metadata": {},
   "source": [
    "After evaluating tested systems with little records, we can eleiminate those tested systems as well as two tested systems that are not included due to authorizational reasons. "
   ]
  },
  {
   "cell_type": "code",
   "execution_count": 45,
   "id": "359095b9",
   "metadata": {},
   "outputs": [
    {
     "data": {
      "text/plain": [
       "9"
      ]
     },
     "execution_count": 45,
     "metadata": {},
     "output_type": "execute_result"
    }
   ],
   "source": [
    "remove_system = ['DM', 'TCM', 'Kundenportal', 'EMA Basis', 'EMA PKA', 'Betriebliche Vorsorge']\n",
    "\n",
    "for i in data['system'].unique():\n",
    "    if (len(data.loc[(data['system'] == i)]) < 3000):\n",
    "        remove_system.append(i)\n",
    "\n",
    "data = data[data['system'].isin(remove_system) == False]\n",
    "len(data['system'].unique())"
   ]
  },
  {
   "cell_type": "code",
   "execution_count": 46,
   "id": "9a50d0e4",
   "metadata": {},
   "outputs": [
    {
     "data": {
      "text/html": [
       "<div>\n",
       "<style scoped>\n",
       "    .dataframe tbody tr th:only-of-type {\n",
       "        vertical-align: middle;\n",
       "    }\n",
       "\n",
       "    .dataframe tbody tr th {\n",
       "        vertical-align: top;\n",
       "    }\n",
       "\n",
       "    .dataframe thead th {\n",
       "        text-align: right;\n",
       "    }\n",
       "</style>\n",
       "<table border=\"1\" class=\"dataframe\">\n",
       "  <thead>\n",
       "    <tr style=\"text-align: right;\">\n",
       "      <th></th>\n",
       "      <th>testname</th>\n",
       "      <th>result</th>\n",
       "      <th>runtime</th>\n",
       "      <th>date</th>\n",
       "      <th>system</th>\n",
       "    </tr>\n",
       "  </thead>\n",
       "  <tbody>\n",
       "    <tr>\n",
       "      <th>22</th>\n",
       "      <td>03_Bestandspartner_Kundenportal Erstanmeldung</td>\n",
       "      <td>OK</td>\n",
       "      <td>2022-04-12-00.00.35.000000</td>\n",
       "      <td>2022-04-12-16.25.05.000000</td>\n",
       "      <td>VITALITY</td>\n",
       "    </tr>\n",
       "    <tr>\n",
       "      <th>23</th>\n",
       "      <td>02_Bestandspartner_Kundenportal Erstanmeldung</td>\n",
       "      <td>OK</td>\n",
       "      <td>2022-04-12-00.00.35.000000</td>\n",
       "      <td>2022-04-12-16.24.30.000000</td>\n",
       "      <td>VITALITY</td>\n",
       "    </tr>\n",
       "    <tr>\n",
       "      <th>24</th>\n",
       "      <td>01_Bestandspartner_Kundenportal Erstanmeldung</td>\n",
       "      <td>OK</td>\n",
       "      <td>2022-04-12-00.00.45.000000</td>\n",
       "      <td>2022-04-12-16.23.55.000000</td>\n",
       "      <td>VITALITY</td>\n",
       "    </tr>\n",
       "    <tr>\n",
       "      <th>26</th>\n",
       "      <td>!!!MH_07_Kundenportal_Registrierung_manuell</td>\n",
       "      <td>OK</td>\n",
       "      <td>NaN</td>\n",
       "      <td>2022-04-12-16.22.26.719510</td>\n",
       "      <td>EVS</td>\n",
       "    </tr>\n",
       "    <tr>\n",
       "      <th>30</th>\n",
       "      <td>!!!MH_06_Schaden_mit_Status_erledigt_manuell</td>\n",
       "      <td>OK</td>\n",
       "      <td>NaN</td>\n",
       "      <td>2022-04-12-16.18.49.189875</td>\n",
       "      <td>EVS</td>\n",
       "    </tr>\n",
       "  </tbody>\n",
       "</table>\n",
       "</div>"
      ],
      "text/plain": [
       "                                         testname result  \\\n",
       "22  03_Bestandspartner_Kundenportal Erstanmeldung     OK   \n",
       "23  02_Bestandspartner_Kundenportal Erstanmeldung     OK   \n",
       "24  01_Bestandspartner_Kundenportal Erstanmeldung     OK   \n",
       "26    !!!MH_07_Kundenportal_Registrierung_manuell     OK   \n",
       "30   !!!MH_06_Schaden_mit_Status_erledigt_manuell     OK   \n",
       "\n",
       "                       runtime                        date    system  \n",
       "22  2022-04-12-00.00.35.000000  2022-04-12-16.25.05.000000  VITALITY  \n",
       "23  2022-04-12-00.00.35.000000  2022-04-12-16.24.30.000000  VITALITY  \n",
       "24  2022-04-12-00.00.45.000000  2022-04-12-16.23.55.000000  VITALITY  \n",
       "26                         NaN  2022-04-12-16.22.26.719510       EVS  \n",
       "30                         NaN  2022-04-12-16.18.49.189875       EVS  "
      ]
     },
     "execution_count": 46,
     "metadata": {},
     "output_type": "execute_result"
    }
   ],
   "source": [
    "data.head()"
   ]
  },
  {
   "cell_type": "code",
   "execution_count": 47,
   "id": "f5f502b4",
   "metadata": {},
   "outputs": [
    {
     "data": {
      "text/plain": [
       "149473"
      ]
     },
     "execution_count": 47,
     "metadata": {},
     "output_type": "execute_result"
    }
   ],
   "source": [
    "len(data)"
   ]
  },
  {
   "cell_type": "code",
   "execution_count": 48,
   "id": "5cb51401",
   "metadata": {},
   "outputs": [
    {
     "data": {
      "text/plain": [
       "7731"
      ]
     },
     "execution_count": 48,
     "metadata": {},
     "output_type": "execute_result"
    }
   ],
   "source": [
    "data['runtime'].isnull().sum()"
   ]
  },
  {
   "cell_type": "code",
   "execution_count": 49,
   "id": "f8eb88c3",
   "metadata": {},
   "outputs": [
    {
     "data": {
      "text/html": [
       "<div>\n",
       "<style scoped>\n",
       "    .dataframe tbody tr th:only-of-type {\n",
       "        vertical-align: middle;\n",
       "    }\n",
       "\n",
       "    .dataframe tbody tr th {\n",
       "        vertical-align: top;\n",
       "    }\n",
       "\n",
       "    .dataframe thead th {\n",
       "        text-align: right;\n",
       "    }\n",
       "</style>\n",
       "<table border=\"1\" class=\"dataframe\">\n",
       "  <thead>\n",
       "    <tr style=\"text-align: right;\">\n",
       "      <th></th>\n",
       "      <th>testname</th>\n",
       "      <th>result</th>\n",
       "      <th>runtime</th>\n",
       "      <th>date</th>\n",
       "      <th>system</th>\n",
       "    </tr>\n",
       "  </thead>\n",
       "  <tbody>\n",
       "    <tr>\n",
       "      <th>22</th>\n",
       "      <td>03_Bestandspartner_Kundenportal Erstanmeldung</td>\n",
       "      <td>OK</td>\n",
       "      <td>2022-04-12-00.00.35.000000</td>\n",
       "      <td>2022-04-12-16.25.05.000000</td>\n",
       "      <td>VITALITY</td>\n",
       "    </tr>\n",
       "    <tr>\n",
       "      <th>23</th>\n",
       "      <td>02_Bestandspartner_Kundenportal Erstanmeldung</td>\n",
       "      <td>OK</td>\n",
       "      <td>2022-04-12-00.00.35.000000</td>\n",
       "      <td>2022-04-12-16.24.30.000000</td>\n",
       "      <td>VITALITY</td>\n",
       "    </tr>\n",
       "    <tr>\n",
       "      <th>24</th>\n",
       "      <td>01_Bestandspartner_Kundenportal Erstanmeldung</td>\n",
       "      <td>OK</td>\n",
       "      <td>2022-04-12-00.00.45.000000</td>\n",
       "      <td>2022-04-12-16.23.55.000000</td>\n",
       "      <td>VITALITY</td>\n",
       "    </tr>\n",
       "    <tr>\n",
       "      <th>36</th>\n",
       "      <td>!!!DAZ_Vitality_TZIT50_BuF_mit_VersBon_EV</td>\n",
       "      <td>FAILED</td>\n",
       "      <td>2022-04-12-00.04.18.000000</td>\n",
       "      <td>2022-04-12-16.13.40.000000</td>\n",
       "      <td>EVS</td>\n",
       "    </tr>\n",
       "    <tr>\n",
       "      <th>89</th>\n",
       "      <td>10_Bestandspartner_Kundenportal Erstanmeldung</td>\n",
       "      <td>OK</td>\n",
       "      <td>2022-04-12-00.00.40.000000</td>\n",
       "      <td>2022-04-12-15.29.04.000000</td>\n",
       "      <td>VITALITY</td>\n",
       "    </tr>\n",
       "  </tbody>\n",
       "</table>\n",
       "</div>"
      ],
      "text/plain": [
       "                                         testname  result  \\\n",
       "22  03_Bestandspartner_Kundenportal Erstanmeldung      OK   \n",
       "23  02_Bestandspartner_Kundenportal Erstanmeldung      OK   \n",
       "24  01_Bestandspartner_Kundenportal Erstanmeldung      OK   \n",
       "36      !!!DAZ_Vitality_TZIT50_BuF_mit_VersBon_EV  FAILED   \n",
       "89  10_Bestandspartner_Kundenportal Erstanmeldung      OK   \n",
       "\n",
       "                       runtime                        date    system  \n",
       "22  2022-04-12-00.00.35.000000  2022-04-12-16.25.05.000000  VITALITY  \n",
       "23  2022-04-12-00.00.35.000000  2022-04-12-16.24.30.000000  VITALITY  \n",
       "24  2022-04-12-00.00.45.000000  2022-04-12-16.23.55.000000  VITALITY  \n",
       "36  2022-04-12-00.04.18.000000  2022-04-12-16.13.40.000000       EVS  \n",
       "89  2022-04-12-00.00.40.000000  2022-04-12-15.29.04.000000  VITALITY  "
      ]
     },
     "execution_count": 49,
     "metadata": {},
     "output_type": "execute_result"
    }
   ],
   "source": [
    "data = data.dropna()\n",
    "data.head()"
   ]
  },
  {
   "cell_type": "markdown",
   "id": "9687ba89",
   "metadata": {},
   "source": [
    "The columns result and system can be anaylsed based on their frequency"
   ]
  },
  {
   "cell_type": "code",
   "execution_count": 50,
   "id": "45ef2b5e",
   "metadata": {},
   "outputs": [
    {
     "data": {
      "text/plain": [
       "result\n",
       "FAILED           1520\n",
       "FAILED_GATE      5037\n",
       "OK             133893\n",
       "OPEN              528\n",
       "SKIPPED           690\n",
       "TOUCHED            74\n",
       "dtype: int64"
      ]
     },
     "execution_count": 50,
     "metadata": {},
     "output_type": "execute_result"
    }
   ],
   "source": [
    "result_distribution = data.groupby('result').size()\n",
    "result_distribution"
   ]
  },
  {
   "cell_type": "code",
   "execution_count": 51,
   "id": "b8fc482d",
   "metadata": {},
   "outputs": [
    {
     "data": {
      "text/plain": [
       "<AxesSubplot:xlabel='result'>"
      ]
     },
     "execution_count": 51,
     "metadata": {},
     "output_type": "execute_result"
    },
    {
     "data": {
      "image/png": "[encoded data removed]",
      "text/plain": [
       "<Figure size 432x288 with 1 Axes>"
      ]
     },
     "metadata": {
      "needs_background": "light"
     },
     "output_type": "display_data"
    }
   ],
   "source": [
    "result_distribution.plot.bar()"
   ]
  },
  {
   "cell_type": "code",
   "execution_count": 52,
   "id": "87554bd3",
   "metadata": {},
   "outputs": [
    {
     "data": {
      "text/plain": [
       "system\n",
       "ERV                12438\n",
       "EVS                25174\n",
       "PA                  4984\n",
       "SLS                 6022\n",
       "VIS Portal         16663\n",
       "VISLife AUT Neu    21903\n",
       "VISLife CEE         4231\n",
       "VITALITY            1963\n",
       "eVtg               48364\n",
       "dtype: int64"
      ]
     },
     "execution_count": 52,
     "metadata": {},
     "output_type": "execute_result"
    }
   ],
   "source": [
    "system_distribution = data.groupby('system').size()\n",
    "system_distribution"
   ]
  },
  {
   "cell_type": "code",
   "execution_count": 53,
   "id": "cef2715f",
   "metadata": {},
   "outputs": [
    {
     "data": {
      "text/plain": [
       "<AxesSubplot:xlabel='system'>"
      ]
     },
     "execution_count": 53,
     "metadata": {},
     "output_type": "execute_result"
    },
    {
     "data": {
      "image/png": "[encoded data removed]",
      "text/plain": [
       "<Figure size 432x288 with 1 Axes>"
      ]
     },
     "metadata": {
      "needs_background": "light"
     },
     "output_type": "display_data"
    }
   ],
   "source": [
    "system_distribution.plot.bar()"
   ]
  },
  {
   "cell_type": "markdown",
   "id": "37520af3",
   "metadata": {},
   "source": [
    "To look at outliers for the columns date and runtime, the data types of runtime and date need to be adapted"
   ]
  },
  {
   "cell_type": "code",
   "execution_count": 54,
   "id": "e4adca2b",
   "metadata": {},
   "outputs": [
    {
     "data": {
      "text/html": [
       "<div>\n",
       "<style scoped>\n",
       "    .dataframe tbody tr th:only-of-type {\n",
       "        vertical-align: middle;\n",
       "    }\n",
       "\n",
       "    .dataframe tbody tr th {\n",
       "        vertical-align: top;\n",
       "    }\n",
       "\n",
       "    .dataframe thead th {\n",
       "        text-align: right;\n",
       "    }\n",
       "</style>\n",
       "<table border=\"1\" class=\"dataframe\">\n",
       "  <thead>\n",
       "    <tr style=\"text-align: right;\">\n",
       "      <th></th>\n",
       "      <th>testname</th>\n",
       "      <th>result</th>\n",
       "      <th>runtime</th>\n",
       "      <th>date</th>\n",
       "      <th>system</th>\n",
       "    </tr>\n",
       "  </thead>\n",
       "  <tbody>\n",
       "    <tr>\n",
       "      <th>22</th>\n",
       "      <td>03_Bestandspartner_Kundenportal Erstanmeldung</td>\n",
       "      <td>OK</td>\n",
       "      <td>00.00.35.000000</td>\n",
       "      <td>2022-04-12</td>\n",
       "      <td>VITALITY</td>\n",
       "    </tr>\n",
       "    <tr>\n",
       "      <th>23</th>\n",
       "      <td>02_Bestandspartner_Kundenportal Erstanmeldung</td>\n",
       "      <td>OK</td>\n",
       "      <td>00.00.35.000000</td>\n",
       "      <td>2022-04-12</td>\n",
       "      <td>VITALITY</td>\n",
       "    </tr>\n",
       "    <tr>\n",
       "      <th>24</th>\n",
       "      <td>01_Bestandspartner_Kundenportal Erstanmeldung</td>\n",
       "      <td>OK</td>\n",
       "      <td>00.00.45.000000</td>\n",
       "      <td>2022-04-12</td>\n",
       "      <td>VITALITY</td>\n",
       "    </tr>\n",
       "    <tr>\n",
       "      <th>36</th>\n",
       "      <td>!!!DAZ_Vitality_TZIT50_BuF_mit_VersBon_EV</td>\n",
       "      <td>FAILED</td>\n",
       "      <td>00.04.18.000000</td>\n",
       "      <td>2022-04-12</td>\n",
       "      <td>EVS</td>\n",
       "    </tr>\n",
       "    <tr>\n",
       "      <th>89</th>\n",
       "      <td>10_Bestandspartner_Kundenportal Erstanmeldung</td>\n",
       "      <td>OK</td>\n",
       "      <td>00.00.40.000000</td>\n",
       "      <td>2022-04-12</td>\n",
       "      <td>VITALITY</td>\n",
       "    </tr>\n",
       "    <tr>\n",
       "      <th>90</th>\n",
       "      <td>09_Bestandspartner_Kundenportal Erstanmeldung</td>\n",
       "      <td>OK</td>\n",
       "      <td>00.00.38.000000</td>\n",
       "      <td>2022-04-12</td>\n",
       "      <td>VITALITY</td>\n",
       "    </tr>\n",
       "    <tr>\n",
       "      <th>92</th>\n",
       "      <td>08_Bestandspartner_Kundenportal Erstanmeldung</td>\n",
       "      <td>OK</td>\n",
       "      <td>00.00.36.000000</td>\n",
       "      <td>2022-04-12</td>\n",
       "      <td>VITALITY</td>\n",
       "    </tr>\n",
       "    <tr>\n",
       "      <th>95</th>\n",
       "      <td>EVA_GFM_Polizzierung_prüfen [SUB]</td>\n",
       "      <td>OK</td>\n",
       "      <td>00.00.44.000000</td>\n",
       "      <td>2022-04-12</td>\n",
       "      <td>EVS</td>\n",
       "    </tr>\n",
       "    <tr>\n",
       "      <th>96</th>\n",
       "      <td>DAZ_Datenübertragung_KFZ_Testvermittler_UAV_VI...</td>\n",
       "      <td>OK</td>\n",
       "      <td>00.02.22.000000</td>\n",
       "      <td>2022-04-12</td>\n",
       "      <td>EVS</td>\n",
       "    </tr>\n",
       "    <tr>\n",
       "      <th>97</th>\n",
       "      <td>07_Bestandspartner_Kundenportal Erstanmeldung</td>\n",
       "      <td>OK</td>\n",
       "      <td>00.00.37.000000</td>\n",
       "      <td>2022-04-12</td>\n",
       "      <td>VITALITY</td>\n",
       "    </tr>\n",
       "  </tbody>\n",
       "</table>\n",
       "</div>"
      ],
      "text/plain": [
       "                                             testname  result  \\\n",
       "22      03_Bestandspartner_Kundenportal Erstanmeldung      OK   \n",
       "23      02_Bestandspartner_Kundenportal Erstanmeldung      OK   \n",
       "24      01_Bestandspartner_Kundenportal Erstanmeldung      OK   \n",
       "36          !!!DAZ_Vitality_TZIT50_BuF_mit_VersBon_EV  FAILED   \n",
       "89      10_Bestandspartner_Kundenportal Erstanmeldung      OK   \n",
       "90      09_Bestandspartner_Kundenportal Erstanmeldung      OK   \n",
       "92      08_Bestandspartner_Kundenportal Erstanmeldung      OK   \n",
       "95                  EVA_GFM_Polizzierung_prüfen [SUB]      OK   \n",
       "96  DAZ_Datenübertragung_KFZ_Testvermittler_UAV_VI...      OK   \n",
       "97      07_Bestandspartner_Kundenportal Erstanmeldung      OK   \n",
       "\n",
       "            runtime        date    system  \n",
       "22  00.00.35.000000  2022-04-12  VITALITY  \n",
       "23  00.00.35.000000  2022-04-12  VITALITY  \n",
       "24  00.00.45.000000  2022-04-12  VITALITY  \n",
       "36  00.04.18.000000  2022-04-12       EVS  \n",
       "89  00.00.40.000000  2022-04-12  VITALITY  \n",
       "90  00.00.38.000000  2022-04-12  VITALITY  \n",
       "92  00.00.36.000000  2022-04-12  VITALITY  \n",
       "95  00.00.44.000000  2022-04-12       EVS  \n",
       "96  00.02.22.000000  2022-04-12       EVS  \n",
       "97  00.00.37.000000  2022-04-12  VITALITY  "
      ]
     },
     "execution_count": 54,
     "metadata": {},
     "output_type": "execute_result"
    }
   ],
   "source": [
    "count = 0\n",
    "\n",
    "for index, row in data.iterrows():\n",
    "    row['date'] = row['date'][:-16]\n",
    "    row['runtime'] = row ['runtime'][11:]\n",
    "    count += 1\n",
    "\n",
    "data.head(10)"
   ]
  },
  {
   "cell_type": "code",
   "execution_count": 55,
   "id": "eaabb9ab",
   "metadata": {},
   "outputs": [
    {
     "data": {
      "text/html": [
       "<div>\n",
       "<style scoped>\n",
       "    .dataframe tbody tr th:only-of-type {\n",
       "        vertical-align: middle;\n",
       "    }\n",
       "\n",
       "    .dataframe tbody tr th {\n",
       "        vertical-align: top;\n",
       "    }\n",
       "\n",
       "    .dataframe thead th {\n",
       "        text-align: right;\n",
       "    }\n",
       "</style>\n",
       "<table border=\"1\" class=\"dataframe\">\n",
       "  <thead>\n",
       "    <tr style=\"text-align: right;\">\n",
       "      <th></th>\n",
       "      <th>testname</th>\n",
       "      <th>result</th>\n",
       "      <th>runtime</th>\n",
       "      <th>date</th>\n",
       "      <th>system</th>\n",
       "    </tr>\n",
       "  </thead>\n",
       "  <tbody>\n",
       "    <tr>\n",
       "      <th>22</th>\n",
       "      <td>03_Bestandspartner_Kundenportal Erstanmeldung</td>\n",
       "      <td>1</td>\n",
       "      <td>00.00.35.000000</td>\n",
       "      <td>2022-04-12</td>\n",
       "      <td>VITALITY</td>\n",
       "    </tr>\n",
       "    <tr>\n",
       "      <th>23</th>\n",
       "      <td>02_Bestandspartner_Kundenportal Erstanmeldung</td>\n",
       "      <td>1</td>\n",
       "      <td>00.00.35.000000</td>\n",
       "      <td>2022-04-12</td>\n",
       "      <td>VITALITY</td>\n",
       "    </tr>\n",
       "    <tr>\n",
       "      <th>24</th>\n",
       "      <td>01_Bestandspartner_Kundenportal Erstanmeldung</td>\n",
       "      <td>1</td>\n",
       "      <td>00.00.45.000000</td>\n",
       "      <td>2022-04-12</td>\n",
       "      <td>VITALITY</td>\n",
       "    </tr>\n",
       "    <tr>\n",
       "      <th>36</th>\n",
       "      <td>!!!DAZ_Vitality_TZIT50_BuF_mit_VersBon_EV</td>\n",
       "      <td>0</td>\n",
       "      <td>00.04.18.000000</td>\n",
       "      <td>2022-04-12</td>\n",
       "      <td>EVS</td>\n",
       "    </tr>\n",
       "    <tr>\n",
       "      <th>89</th>\n",
       "      <td>10_Bestandspartner_Kundenportal Erstanmeldung</td>\n",
       "      <td>1</td>\n",
       "      <td>00.00.40.000000</td>\n",
       "      <td>2022-04-12</td>\n",
       "      <td>VITALITY</td>\n",
       "    </tr>\n",
       "  </tbody>\n",
       "</table>\n",
       "</div>"
      ],
      "text/plain": [
       "                                         testname result          runtime  \\\n",
       "22  03_Bestandspartner_Kundenportal Erstanmeldung      1  00.00.35.000000   \n",
       "23  02_Bestandspartner_Kundenportal Erstanmeldung      1  00.00.35.000000   \n",
       "24  01_Bestandspartner_Kundenportal Erstanmeldung      1  00.00.45.000000   \n",
       "36      !!!DAZ_Vitality_TZIT50_BuF_mit_VersBon_EV      0  00.04.18.000000   \n",
       "89  10_Bestandspartner_Kundenportal Erstanmeldung      1  00.00.40.000000   \n",
       "\n",
       "          date    system  \n",
       "22  2022-04-12  VITALITY  \n",
       "23  2022-04-12  VITALITY  \n",
       "24  2022-04-12  VITALITY  \n",
       "36  2022-04-12       EVS  \n",
       "89  2022-04-12  VITALITY  "
      ]
     },
     "execution_count": 55,
     "metadata": {},
     "output_type": "execute_result"
    }
   ],
   "source": [
    "data['result'].loc[(data['result'] != 'OK')] = 0\n",
    "data['result'].loc[(data['result'] == 'OK')] = 1\n",
    "data.head()"
   ]
  },
  {
   "cell_type": "code",
   "execution_count": 56,
   "id": "5cd84bc3",
   "metadata": {},
   "outputs": [
    {
     "data": {
      "text/html": [
       "<div>\n",
       "<style scoped>\n",
       "    .dataframe tbody tr th:only-of-type {\n",
       "        vertical-align: middle;\n",
       "    }\n",
       "\n",
       "    .dataframe tbody tr th {\n",
       "        vertical-align: top;\n",
       "    }\n",
       "\n",
       "    .dataframe thead th {\n",
       "        text-align: right;\n",
       "    }\n",
       "</style>\n",
       "<table border=\"1\" class=\"dataframe\">\n",
       "  <thead>\n",
       "    <tr style=\"text-align: right;\">\n",
       "      <th></th>\n",
       "      <th>testname</th>\n",
       "      <th>result</th>\n",
       "      <th>runtime</th>\n",
       "      <th>date</th>\n",
       "      <th>system</th>\n",
       "    </tr>\n",
       "  </thead>\n",
       "  <tbody>\n",
       "    <tr>\n",
       "      <th>22</th>\n",
       "      <td>03_Bestandspartner_Kundenportal Erstanmeldung</td>\n",
       "      <td>True</td>\n",
       "      <td>00:00:35</td>\n",
       "      <td>2022-04-12</td>\n",
       "      <td>VITALITY</td>\n",
       "    </tr>\n",
       "    <tr>\n",
       "      <th>23</th>\n",
       "      <td>02_Bestandspartner_Kundenportal Erstanmeldung</td>\n",
       "      <td>True</td>\n",
       "      <td>00:00:35</td>\n",
       "      <td>2022-04-12</td>\n",
       "      <td>VITALITY</td>\n",
       "    </tr>\n",
       "    <tr>\n",
       "      <th>24</th>\n",
       "      <td>01_Bestandspartner_Kundenportal Erstanmeldung</td>\n",
       "      <td>True</td>\n",
       "      <td>00:00:45</td>\n",
       "      <td>2022-04-12</td>\n",
       "      <td>VITALITY</td>\n",
       "    </tr>\n",
       "    <tr>\n",
       "      <th>36</th>\n",
       "      <td>!!!DAZ_Vitality_TZIT50_BuF_mit_VersBon_EV</td>\n",
       "      <td>False</td>\n",
       "      <td>00:04:18</td>\n",
       "      <td>2022-04-12</td>\n",
       "      <td>EVS</td>\n",
       "    </tr>\n",
       "    <tr>\n",
       "      <th>89</th>\n",
       "      <td>10_Bestandspartner_Kundenportal Erstanmeldung</td>\n",
       "      <td>True</td>\n",
       "      <td>00:00:40</td>\n",
       "      <td>2022-04-12</td>\n",
       "      <td>VITALITY</td>\n",
       "    </tr>\n",
       "  </tbody>\n",
       "</table>\n",
       "</div>"
      ],
      "text/plain": [
       "                                         testname  result   runtime  \\\n",
       "22  03_Bestandspartner_Kundenportal Erstanmeldung    True  00:00:35   \n",
       "23  02_Bestandspartner_Kundenportal Erstanmeldung    True  00:00:35   \n",
       "24  01_Bestandspartner_Kundenportal Erstanmeldung    True  00:00:45   \n",
       "36      !!!DAZ_Vitality_TZIT50_BuF_mit_VersBon_EV   False  00:04:18   \n",
       "89  10_Bestandspartner_Kundenportal Erstanmeldung    True  00:00:40   \n",
       "\n",
       "          date    system  \n",
       "22  2022-04-12  VITALITY  \n",
       "23  2022-04-12  VITALITY  \n",
       "24  2022-04-12  VITALITY  \n",
       "36  2022-04-12       EVS  \n",
       "89  2022-04-12  VITALITY  "
      ]
     },
     "execution_count": 56,
     "metadata": {},
     "output_type": "execute_result"
    }
   ],
   "source": [
    "data = data.astype({\"result\": \"bool\", \"date\":\"datetime64\"})\n",
    "data[\"runtime\"] = pd.to_datetime(data[\"runtime\"], format= \"%H.%M.%S.%f\").dt.time\n",
    "data[\"date\"] = pd.to_datetime(data[\"date\"], format= \"%Y-%M-%D\").dt.date\n",
    "data.head()"
   ]
  },
  {
   "cell_type": "code",
   "execution_count": 57,
   "id": "e36913f7",
   "metadata": {},
   "outputs": [
    {
     "name": "stdout",
     "output_type": "stream",
     "text": [
      "Minimum runtime:  00:00:00 , Maximum runtime:  17:19:58\n"
     ]
    }
   ],
   "source": [
    "min = data['runtime'].min()\n",
    "max = data['runtime'].max()\n",
    "\n",
    "print (\"Minimum runtime: \", min, \", Maximum runtime: \", max)"
   ]
  },
  {
   "cell_type": "code",
   "execution_count": 58,
   "id": "6104f584",
   "metadata": {},
   "outputs": [
    {
     "name": "stdout",
     "output_type": "stream",
     "text": [
      "Earliest date:  2012-07-19 , Last date:  2022-04-12\n"
     ]
    }
   ],
   "source": [
    "min = data['date'].min()\n",
    "max = data['date'].max()\n",
    "\n",
    "print (\"Earliest date: \", min, \", Last date: \", max)"
   ]
  },
  {
   "cell_type": "code",
   "execution_count": 59,
   "id": "4ca04399",
   "metadata": {},
   "outputs": [
    {
     "data": {
      "text/plain": [
       "date\n",
       "2012-07-19      3\n",
       "2012-11-20      1\n",
       "2012-11-21     32\n",
       "2013-09-09     28\n",
       "2013-09-10      5\n",
       "             ... \n",
       "2022-04-07    709\n",
       "2022-04-08    280\n",
       "2022-04-10      6\n",
       "2022-04-11     64\n",
       "2022-04-12     76\n",
       "Length: 444, dtype: int64"
      ]
     },
     "execution_count": 59,
     "metadata": {},
     "output_type": "execute_result"
    }
   ],
   "source": [
    "date_distribution = data.groupby('date').size()\n",
    "date_distribution"
   ]
  },
  {
   "cell_type": "code",
   "execution_count": 60,
   "id": "80b90b88",
   "metadata": {},
   "outputs": [
    {
     "data": {
      "image/png": "[encoded data removed]",
      "text/plain": [
       "<Figure size 432x288 with 1 Axes>"
      ]
     },
     "metadata": {
      "needs_background": "light"
     },
     "output_type": "display_data"
    }
   ],
   "source": [
    "import matplotlib.pyplot as plt\n",
    "\n",
    "plt.plot(date_distribution)\n",
    "plt.xlabel('Date')\n",
    "plt.ylabel('Number of software test data')\n",
    "plt.show()"
   ]
  },
  {
   "cell_type": "code",
   "execution_count": 61,
   "id": "3e96e752",
   "metadata": {},
   "outputs": [
    {
     "data": {
      "text/plain": [
       "runtime\n",
       "00:00:00    4473\n",
       "00:00:01    1590\n",
       "00:00:02     210\n",
       "00:00:03     338\n",
       "00:00:04     428\n",
       "            ... \n",
       "09:16:55       1\n",
       "09:25:30       1\n",
       "11:05:59       1\n",
       "15:11:45       1\n",
       "17:19:58       1\n",
       "Length: 2274, dtype: int64"
      ]
     },
     "execution_count": 61,
     "metadata": {},
     "output_type": "execute_result"
    }
   ],
   "source": [
    "runtime_distribution = data.groupby('runtime').size()\n",
    "runtime_distribution"
   ]
  },
  {
   "cell_type": "code",
   "execution_count": 62,
   "id": "6b88c487",
   "metadata": {},
   "outputs": [
    {
     "data": {
      "text/plain": [
       "(0.0, 1700.0)"
      ]
     },
     "execution_count": 62,
     "metadata": {},
     "output_type": "execute_result"
    },
    {
     "data": {
      "image/png": "[encoded data removed]",
      "text/plain": [
       "<Figure size 1080x720 with 1 Axes>"
      ]
     },
     "metadata": {
      "needs_background": "light"
     },
     "output_type": "display_data"
    }
   ],
   "source": [
    "runtime_distribution.plot.bar(figsize = (15, 10))\n",
    "plt.ylim([0,1700])"
   ]
  },
  {
   "cell_type": "markdown",
   "id": "0e2dbf2a",
   "metadata": {},
   "source": [
    "After the data is read in, we want to check, if all data types are set correct. As this is not the case, we set the correct types"
   ]
  },
  {
   "cell_type": "code",
   "execution_count": 63,
   "id": "8c5a718e",
   "metadata": {},
   "outputs": [
    {
     "data": {
      "text/plain": [
       "testname    object\n",
       "result        bool\n",
       "runtime     object\n",
       "date        object\n",
       "system      object\n",
       "dtype: object"
      ]
     },
     "execution_count": 63,
     "metadata": {},
     "output_type": "execute_result"
    }
   ],
   "source": [
    "data.dtypes"
   ]
  },
  {
   "cell_type": "markdown",
   "id": "c97163dd",
   "metadata": {},
   "source": [
    "Now we check if there are any null values"
   ]
  },
  {
   "cell_type": "code",
   "execution_count": 64,
   "id": "6f6b9463",
   "metadata": {},
   "outputs": [
    {
     "data": {
      "text/plain": [
       "testname    False\n",
       "result      False\n",
       "runtime     False\n",
       "date        False\n",
       "system      False\n",
       "dtype: bool"
      ]
     },
     "execution_count": 64,
     "metadata": {},
     "output_type": "execute_result"
    }
   ],
   "source": [
    "data.isna().any()"
   ]
  },
  {
   "cell_type": "markdown",
   "id": "5ec65677",
   "metadata": {},
   "source": [
    "In order to make the table more readable, we use symbols for passed/failed tests"
   ]
  },
  {
   "cell_type": "code",
   "execution_count": 65,
   "id": "df7b80f1",
   "metadata": {},
   "outputs": [
    {
     "name": "stderr",
     "output_type": "stream",
     "text": [
      "C:\\Users\\gaert\\anaconda3\\lib\\site-packages\\pandas\\core\\indexing.py:1732: SettingWithCopyWarning:\n",
      "\n",
      "\n",
      "A value is trying to be set on a copy of a slice from a DataFrame\n",
      "\n",
      "See the caveats in the documentation: https://pandas.pydata.org/pandas-docs/stable/user_guide/indexing.html#returning-a-view-versus-a-copy\n",
      "\n"
     ]
    },
    {
     "data": {
      "text/html": [
       "<div>\n",
       "<style scoped>\n",
       "    .dataframe tbody tr th:only-of-type {\n",
       "        vertical-align: middle;\n",
       "    }\n",
       "\n",
       "    .dataframe tbody tr th {\n",
       "        vertical-align: top;\n",
       "    }\n",
       "\n",
       "    .dataframe thead th {\n",
       "        text-align: right;\n",
       "    }\n",
       "</style>\n",
       "<table border=\"1\" class=\"dataframe\">\n",
       "  <thead>\n",
       "    <tr style=\"text-align: right;\">\n",
       "      <th></th>\n",
       "      <th>testname</th>\n",
       "      <th>result</th>\n",
       "      <th>runtime</th>\n",
       "      <th>date</th>\n",
       "      <th>system</th>\n",
       "    </tr>\n",
       "  </thead>\n",
       "  <tbody>\n",
       "    <tr>\n",
       "      <th>22</th>\n",
       "      <td>03_Bestandspartner_Kundenportal Erstanmeldung</td>\n",
       "      <td>🔵 Passed</td>\n",
       "      <td>00:00:35</td>\n",
       "      <td>2022-04-12</td>\n",
       "      <td>VITALITY</td>\n",
       "    </tr>\n",
       "    <tr>\n",
       "      <th>23</th>\n",
       "      <td>02_Bestandspartner_Kundenportal Erstanmeldung</td>\n",
       "      <td>🔵 Passed</td>\n",
       "      <td>00:00:35</td>\n",
       "      <td>2022-04-12</td>\n",
       "      <td>VITALITY</td>\n",
       "    </tr>\n",
       "    <tr>\n",
       "      <th>24</th>\n",
       "      <td>01_Bestandspartner_Kundenportal Erstanmeldung</td>\n",
       "      <td>🔵 Passed</td>\n",
       "      <td>00:00:45</td>\n",
       "      <td>2022-04-12</td>\n",
       "      <td>VITALITY</td>\n",
       "    </tr>\n",
       "    <tr>\n",
       "      <th>36</th>\n",
       "      <td>!!!DAZ_Vitality_TZIT50_BuF_mit_VersBon_EV</td>\n",
       "      <td>🔴 Failed</td>\n",
       "      <td>00:04:18</td>\n",
       "      <td>2022-04-12</td>\n",
       "      <td>EVS</td>\n",
       "    </tr>\n",
       "    <tr>\n",
       "      <th>89</th>\n",
       "      <td>10_Bestandspartner_Kundenportal Erstanmeldung</td>\n",
       "      <td>🔵 Passed</td>\n",
       "      <td>00:00:40</td>\n",
       "      <td>2022-04-12</td>\n",
       "      <td>VITALITY</td>\n",
       "    </tr>\n",
       "  </tbody>\n",
       "</table>\n",
       "</div>"
      ],
      "text/plain": [
       "                                         testname    result   runtime  \\\n",
       "22  03_Bestandspartner_Kundenportal Erstanmeldung  🔵 Passed  00:00:35   \n",
       "23  02_Bestandspartner_Kundenportal Erstanmeldung  🔵 Passed  00:00:35   \n",
       "24  01_Bestandspartner_Kundenportal Erstanmeldung  🔵 Passed  00:00:45   \n",
       "36      !!!DAZ_Vitality_TZIT50_BuF_mit_VersBon_EV  🔴 Failed  00:04:18   \n",
       "89  10_Bestandspartner_Kundenportal Erstanmeldung  🔵 Passed  00:00:40   \n",
       "\n",
       "          date    system  \n",
       "22  2022-04-12  VITALITY  \n",
       "23  2022-04-12  VITALITY  \n",
       "24  2022-04-12  VITALITY  \n",
       "36  2022-04-12       EVS  \n",
       "89  2022-04-12  VITALITY  "
      ]
     },
     "execution_count": 65,
     "metadata": {},
     "output_type": "execute_result"
    }
   ],
   "source": [
    "data['result'].loc[(data['result'] == True)] = '🔵 Passed'\n",
    "data['result'].loc[(data['result'] == False)] = '🔴 Failed'\n",
    "data.head()"
   ]
  },
  {
   "cell_type": "code",
   "execution_count": 66,
   "id": "9030bbc7",
   "metadata": {},
   "outputs": [
    {
     "data": {
      "text/html": [
       "<div>\n",
       "<style scoped>\n",
       "    .dataframe tbody tr th:only-of-type {\n",
       "        vertical-align: middle;\n",
       "    }\n",
       "\n",
       "    .dataframe tbody tr th {\n",
       "        vertical-align: top;\n",
       "    }\n",
       "\n",
       "    .dataframe thead th {\n",
       "        text-align: right;\n",
       "    }\n",
       "</style>\n",
       "<table border=\"1\" class=\"dataframe\">\n",
       "  <thead>\n",
       "    <tr style=\"text-align: right;\">\n",
       "      <th></th>\n",
       "      <th>testname</th>\n",
       "      <th>result</th>\n",
       "      <th>date</th>\n",
       "      <th>runtime</th>\n",
       "    </tr>\n",
       "  </thead>\n",
       "  <tbody>\n",
       "    <tr>\n",
       "      <th>22</th>\n",
       "      <td>03_Bestandspartner_Kundenportal Erstanmeldung</td>\n",
       "      <td>🔵 Passed</td>\n",
       "      <td>2022-04-12</td>\n",
       "      <td>00:00:35</td>\n",
       "    </tr>\n",
       "    <tr>\n",
       "      <th>23</th>\n",
       "      <td>02_Bestandspartner_Kundenportal Erstanmeldung</td>\n",
       "      <td>🔵 Passed</td>\n",
       "      <td>2022-04-12</td>\n",
       "      <td>00:00:35</td>\n",
       "    </tr>\n",
       "    <tr>\n",
       "      <th>24</th>\n",
       "      <td>01_Bestandspartner_Kundenportal Erstanmeldung</td>\n",
       "      <td>🔵 Passed</td>\n",
       "      <td>2022-04-12</td>\n",
       "      <td>00:00:45</td>\n",
       "    </tr>\n",
       "    <tr>\n",
       "      <th>36</th>\n",
       "      <td>!!!DAZ_Vitality_TZIT50_BuF_mit_VersBon_EV</td>\n",
       "      <td>🔴 Failed</td>\n",
       "      <td>2022-04-12</td>\n",
       "      <td>00:04:18</td>\n",
       "    </tr>\n",
       "    <tr>\n",
       "      <th>89</th>\n",
       "      <td>10_Bestandspartner_Kundenportal Erstanmeldung</td>\n",
       "      <td>🔵 Passed</td>\n",
       "      <td>2022-04-12</td>\n",
       "      <td>00:00:40</td>\n",
       "    </tr>\n",
       "  </tbody>\n",
       "</table>\n",
       "</div>"
      ],
      "text/plain": [
       "                                         testname    result        date  \\\n",
       "22  03_Bestandspartner_Kundenportal Erstanmeldung  🔵 Passed  2022-04-12   \n",
       "23  02_Bestandspartner_Kundenportal Erstanmeldung  🔵 Passed  2022-04-12   \n",
       "24  01_Bestandspartner_Kundenportal Erstanmeldung  🔵 Passed  2022-04-12   \n",
       "36      !!!DAZ_Vitality_TZIT50_BuF_mit_VersBon_EV  🔴 Failed  2022-04-12   \n",
       "89  10_Bestandspartner_Kundenportal Erstanmeldung  🔵 Passed  2022-04-12   \n",
       "\n",
       "     runtime  \n",
       "22  00:00:35  \n",
       "23  00:00:35  \n",
       "24  00:00:45  \n",
       "36  00:04:18  \n",
       "89  00:00:40  "
      ]
     },
     "execution_count": 66,
     "metadata": {},
     "output_type": "execute_result"
    }
   ],
   "source": [
    "table_data = data[[\"testname\", \"result\", \"date\", \"runtime\"]]\n",
    "table_data.head()"
   ]
  },
  {
   "cell_type": "markdown",
   "id": "5d6d6c03",
   "metadata": {},
   "source": []
  },
  {
   "cell_type": "markdown",
   "id": "a66c7cb4",
   "metadata": {},
   "source": [
    "# Dashboard creation\n",
    "Next we start building the dashboard."
   ]
  },
  {
   "cell_type": "code",
   "execution_count": 67,
   "id": "70361548",
   "metadata": {},
   "outputs": [],
   "source": [
    "app = Dash(__name__)"
   ]
  },
  {
   "cell_type": "code",
   "execution_count": 68,
   "id": "6aed67ac",
   "metadata": {},
   "outputs": [],
   "source": [
    "app.layout = html.Div([\n",
    "\n",
    "    html.Div([\n",
    "        html.H1(\"Software test results\", style={'text-align': 'center'}),\n",
    "    ], style={\n",
    "        'padding-bottom': '1%',\n",
    "        'padding-top': '1%',\n",
    "        #'padding-left' : '3%',\n",
    "        \"background\" : \"#EAEAEA\",\n",
    "        \"box-shadow\": \"0 4px 8px 0 rgba(0, 0, 0, 0.2), 0 6px 20px 0 rgba(0, 0, 0, 0.19)\"\n",
    "        }),\n",
    "    html.Br(),\n",
    "    html.Br(),\n",
    "    html.Div(children=[\n",
    "\n",
    "    # Dropdown menue\n",
    "        html.Div([\n",
    "            html.Br(),\n",
    "            dcc.Dropdown(\n",
    "                id='dropdown', multi=True, clearable=False,\n",
    "                options=[{'label': i, 'value': i} for i in data[\"system\"].unique()],\n",
    "                style = {\n",
    "                    \"width\": \"100%\",\n",
    "                    \"box-shadow\": \"0 4px 8px 0 rgba(0, 0, 0, 0.2), 0 6px 20px 0 rgba(0, 0, 0, 0.19)\"\n",
    "                    },\n",
    "                placeholder=\"Select the systems you want to see details on...\",\n",
    "                #value= data[\"system\"].unique()[0]\n",
    "                        ),\n",
    "        ], style = {\n",
    "            'display': 'inline-block', \n",
    "            'padding-right': '5%',\n",
    "            'padding-bottom' : '5%',\n",
    "            'margin-left': '0',\n",
    "            'margin-right': 'auto',\n",
    "            'width' : '100%',\n",
    "        }),\n",
    "\n",
    "        # Datatable\n",
    "        html.Div([\n",
    "            html.Br(),\n",
    "            html.H3('Details on conducted tests: ' , style = {'text-align': 'center'}),\n",
    "            html.Br(),\n",
    "            dash_table.DataTable(\n",
    "                data.to_dict('records'), \n",
    "                id=\"datatable\",\n",
    "                columns= [\n",
    "                    {\"name\": i, \"id\": i} \n",
    "                    if i == \"testname\" or i == \"result\" or i == \"date\"\n",
    "                    else {\"name\": i, \"id\": i}\n",
    "                    for i in table_data.columns],\n",
    "                style_cell={\n",
    "                    'textAlign': 'left',\n",
    "                    'padding': '5px',\n",
    "                    'font-family': 'Arial, Helvetica, sans-serif',\n",
    "                    },\n",
    "                style_header = {\n",
    "                    'fontWeight': 'bold',\n",
    "                    'border' : '1px solid black',\n",
    "                    'backgroundColor' : 'rgb(224, 224, 224)',\n",
    "                    'font-family': 'Arial, Helvetica, sans-serif',\n",
    "                },\n",
    "                style_data_conditional=[\n",
    "                    {\n",
    "                        'if' : {'row_index' : 'odd'},\n",
    "                        'backgroundColor' : 'rgb(242, 243, 245)'\n",
    "                    }\n",
    "                ],\n",
    "                sort_action=\"native\",\n",
    "                page_action='native',\n",
    "                page_size=20, \n",
    "                style_table={'height': 1500, 'overflowY': 'auto'},\n",
    "                fixed_rows={'headers': True},\n",
    "                filter_action=\"native\",\n",
    "                 ),\n",
    "        ], style = {\n",
    "            'border': 'solid black 1.5px',\n",
    "            'background' : '#5a6c8a',\n",
    "            'display': 'float',\n",
    "            'float' : 'right',\n",
    "            'padding-left' : '7%',\n",
    "            'padding-right' : '2%',\n",
    "            'padding-bottom' :'3%',\n",
    "            \"width\": \"96%\",\n",
    "            \"box-shadow\": \"0 4px 8px 0 rgba(0, 0, 0, 0.2), 0 6px 20px 0 rgba(0, 0, 0, 0.19)\"\n",
    "            }),      \n",
    "        html.Br(),\n",
    "\n",
    "    # Dropdowns for the Boxplots\n",
    "\n",
    "        html.Div([html.P(),\n",
    "            html.H4('Date or Period of time 1'),\n",
    "                dcc.Dropdown(id='boxplot_choice1', multi=False, clearable=False,\n",
    "                        options=[{'label': i, 'value': i} for i in\n",
    "                        data[\"date\"].unique()],\n",
    "                        value= data[\"system\"].unique()[0],\n",
    "                        style = {\"box-shadow\": \"0 4px 8px 0 rgba(0, 0, 0, 0.2), 0 6px 20px 0 rgba(0, 0, 0, 0.19)\"}\n",
    "                                ),\n",
    "        ], style={\n",
    "            \"width\": \"46%\", \n",
    "            'display': 'inline-block',\n",
    "            'padding-bottom' : '5%',\n",
    "            }),\n",
    "\n",
    "        html.Div([html.P(),\n",
    "            html.H4('Date or Period of time 2'),\n",
    "                dcc.Dropdown(id='boxplot_choice2', multi=False, clearable=False,\n",
    "                        options=[{'label': i, 'value': i} for i in\n",
    "                        data[\"date\"].unique()],\n",
    "                        value= data[\"system\"].unique()[0],\n",
    "                        style = {\"box-shadow\": \"0 4px 8px 0 rgba(0, 0, 0, 0.2), 0 6px 20px 0 rgba(0, 0, 0, 0.19)\"}\n",
    "                                ),\n",
    "                            \n",
    "        ], style={\n",
    "            \"width\": \"46%\", \n",
    "            'display': 'inline-block', \n",
    "            'padding-left': '5%',\n",
    "            'padding-bottom' : '3%',\n",
    "            'margin-left': '0',\n",
    "            'margin-right': 'auto',\n",
    "            }),\n",
    "\n",
    "     # Boxplots\n",
    "     html.Div([\n",
    "        html.H3('Runtime per selected data frame ' , style = {'text-align': 'center'}),\n",
    "        dcc.Graph(id='boxplot'),\n",
    "     ], style = {\n",
    "            'border': 'solid black 1.5px',\n",
    "            'background' : '#5a6c8a',\n",
    "            'display': 'float',\n",
    "            'float' : 'right',\n",
    "            'padding-left' : '7%',\n",
    "            'padding-right' : '2%',\n",
    "            'padding-bottom' :'3%',\n",
    "            \"width\": \"96%\",\n",
    "            \"box-shadow\": \"0 4px 8px 0 rgba(0, 0, 0, 0.2), 0 6px 20px 0 rgba(0, 0, 0, 0.19)\"\n",
    "            }\n",
    "        ),\n",
    "\n",
    "    ], style={\n",
    "        \"width\": \"52%\",\n",
    "        'font-family': 'Arial, Helvetica, sans-serif',\n",
    "        'padding-left': '4%', \n",
    "        'display': 'float', \n",
    "        'float' : 'left',\n",
    "        'padding-top': '1%',\n",
    "        'margin-left': '0',\n",
    "        'margin-right': 'auto',\n",
    "        }),\n",
    "\n",
    "   # Visualize number of conducted tests\n",
    "    html.Div(children=[\n",
    "\n",
    "        html.Div([\n",
    "            html.Br(),\n",
    "            html.H3('Number of conducted tests: ' , style = {'text-align': 'center'}),\n",
    "            html.P(\n",
    "            id='test_number',\n",
    "            style = {'text-align': 'center', 'font-size' : '3.5em'},\n",
    "            )\n",
    "        ], style = {\n",
    "            'border': 'solid black 1.5px',\n",
    "            'background' : '#5a6c8a',\n",
    "            \"box-shadow\": \"0 4px 8px 0 rgba(0, 0, 0, 0.2), 0 6px 20px 0 rgba(0, 0, 0, 0.19)\"\n",
    "            }\n",
    "        ),\n",
    "        html.Br(),\n",
    "        html.Br(),\n",
    "    # Piechart\n",
    "        html.Div([\n",
    "            html.Br(),\n",
    "            html.H3('Percentage of passed and failed tests: ' , style = {'text-align': 'center'}),\n",
    "            dcc.Graph(id='piechart', style={\"height\": \"10%\"}),\n",
    "        ], style = {\n",
    "            'border': 'solid black 1.5px',\n",
    "            'background' : '#5a6c8a',\n",
    "            \"box-shadow\": \"0 4px 8px 0 rgba(0, 0, 0, 0.2), 0 6px 20px 0 rgba(0, 0, 0, 0.19)\"\n",
    "            }\n",
    "        ),\n",
    "        html.Br(),\n",
    "        html.Br(),\n",
    "    # Linechart\n",
    "        html.Div([\n",
    "            html.Br(),\n",
    "            html.H3('Passed test rate over time: ' , style = {'text-align': 'center'}),\n",
    "            dcc.Graph(id='linechart')\n",
    "        ], style = {\n",
    "            'border': 'solid black 1.5px',\n",
    "            'background' : '#5a6c8a',\n",
    "            \n",
    "            },\n",
    "        ),\n",
    "\n",
    "    ],style={\n",
    "        \"width\": \"40%\", \n",
    "        'display': 'float',\n",
    "        'float' : 'right',\n",
    "        'font-family': 'Arial, Helvetica, sans-serif',\n",
    "        'padding-top': '1%',\n",
    "        'margin-left': 'auto',\n",
    "        'margin-right': '0',\n",
    "        #\"background\" : \"#5a6c8a\",\n",
    "        #'border' : 'solid black 2px'\n",
    "    }),\n",
    "    \n",
    "], style={\n",
    "    \"padding\": \"10px\",\n",
    "    'font-family': 'Arial, Helvetica, sans-serif',\n",
    "})\n",
    " "
   ]
  },
  {
   "cell_type": "code",
   "execution_count": 69,
   "id": "3562702f",
   "metadata": {},
   "outputs": [],
   "source": [
    "@app.callback(\n",
    "    [Output(component_id='test_number', component_property='children'),\n",
    "    Output(component_id='boxplot', component_property='figure'),\n",
    "    Output(component_id='piechart', component_property='figure'),\n",
    "    Output(component_id='linechart', component_property='figure')],\n",
    "    [Input(component_id='dropdown', component_property='value'),\n",
    "    Input(component_id='boxplot_choice1', component_property='value'),\n",
    "    Input(component_id='boxplot_choice2', component_property='value'),\n",
    "    Input(component_id='datatable', component_property=\"derived_virtual_data\")]\n",
    ")\n",
    "\n",
    "def update_data(option_slctd, date_choice1, date_choice2, all_rows_data):\n",
    "\n",
    "    # Defining the three base data tables on which the graphs are built upon\n",
    "    dff = pd.DataFrame(all_rows_data)\n",
    "    #print('Data across all pages pre or post filtering: {}'.format(option_slctd)),\n",
    "    #print('Data across all pages pre or post filtering: {}'.format(len(option_slctd)))\n",
    "\n",
    "    if option_slctd == None:\n",
    "        data_filtered = dff\n",
    "    else:\n",
    "        if len(option_slctd) != 0:\n",
    "            data_filtered = dff.loc[dff['system'].isin(option_slctd)]\n",
    "        else:\n",
    "            data_filtered = dff\n",
    "    \n",
    "    boxplot_data = data_filtered\n",
    "    boxplot_data['runtime'] = pd.to_datetime(data['runtime'], format= \"%H:%M:%S\", infer_datetime_format=True)\n",
    "\n",
    "    dff_sub= data_filtered.groupby('result').size().reset_index(name='count')\n",
    "\n",
    "    # Calculations for the % of passed tests per day \n",
    "    y = data_filtered.loc[(data_filtered['result'] == '🔵 Passed')]\n",
    "    passed_per_day=[]\n",
    "    grouped_per_day = []\n",
    "    group_size = 2\n",
    "    for i in data_filtered['date'].unique():\n",
    "        passed_per_day.append((len(y.loc[data_filtered['date'] == i]))/len(data_filtered.loc[data_filtered['date'] == i])*100)\n",
    "        passed_per_day.append(str(i))\n",
    "\n",
    "    for i in range (0, len(passed_per_day), group_size):\n",
    "        grouped_per_day.append(passed_per_day[i:i+group_size]) \n",
    "\n",
    "    data_passed_percentage = pd.DataFrame(grouped_per_day, columns = ['passed%', 'date'])\n",
    "    data_passed_percentage\n",
    "\n",
    "    number_of_tests = len(data_filtered)\n",
    "\n",
    "    # Building the boxplots\n",
    "    trace0 = go.Box(\n",
    "        y=boxplot_data.loc[boxplot_data['date'] == str(date_choice1)]['runtime'].sort_values(), \n",
    "        name = date_choice1,\n",
    "        marker = dict(\n",
    "        color = 'rgb(44, 39, 117)'\n",
    "        ),\n",
    "        hoverinfo='none'\n",
    "    )\n",
    "    \n",
    "    trace1 = go.Box(\n",
    "        y= boxplot_data.loc[boxplot_data['date'] == str(date_choice2)]['runtime'].sort_values(),\n",
    "        name = date_choice2,\n",
    "        marker = dict(\n",
    "        color = 'rgb(50, 173, 155)'\n",
    "        ),\n",
    "        hoverinfo='none'\n",
    "    )\n",
    "    data1 = [trace0,trace1]\n",
    "    layout = go.Layout(  \n",
    "        template='ggplot2',\n",
    "        #labels = [date_choice1, date_choice2],\n",
    "        #text = [\"textA\", \"TextB\", \"TextC\", \"TextD\"],\n",
    "        #hovertemplate = \"%{label}: <br>Runtime distribution: %{max}\"\n",
    "    )\n",
    "\n",
    "    box_plot = go.Figure(data=data1,layout=layout)\n",
    "    box_plot.update_layout(paper_bgcolor=\"#5a6c8a\")\n",
    "\n",
    "    # Building the piechart\n",
    "    pie_chart=px.pie(\n",
    "            data_frame=dff_sub,\n",
    "            names='result',\n",
    "            values='count',\n",
    "            hole=.3,\n",
    "            labels={'result':'count'}\n",
    "            )\n",
    "    pie_chart.update_layout(paper_bgcolor=\"#5a6c8a\")\n",
    "    # Building the line chart\n",
    "    line_chart = px.line(\n",
    "            data_frame=data_passed_percentage,\n",
    "            x='date',\n",
    "            y='passed%',\n",
    "            #color= option_slctd\n",
    "            #labels={'countriesAndTerritories':'Countries', 'dateRep':'date'},\n",
    "            )\n",
    "    line_chart.update_layout(hovermode=\"x unified\", paper_bgcolor=\"#5a6c8a\")\n",
    "    line_chart.update_xaxes(rangeslider_visible=True)\n",
    "    line_chart.update_traces(mode=\"markers+lines\")\n",
    "\n",
    "    return (number_of_tests, box_plot, pie_chart, line_chart)"
   ]
  },
  {
   "cell_type": "code",
   "execution_count": 70,
   "id": "0e10a0d0",
   "metadata": {},
   "outputs": [
    {
     "name": "stdout",
     "output_type": "stream",
     "text": [
      "Dash is running on http://127.0.0.1:8050/\n",
      "\n",
      "Dash is running on http://127.0.0.1:8050/\n",
      "\n",
      " * Serving Flask app \"__main__\" (lazy loading)\n",
      " * Environment: production\n",
      "\u001b[31m   WARNING: This is a development server. Do not use it in a production deployment.\u001b[0m\n",
      "\u001b[2m   Use a production WSGI server instead.\u001b[0m\n",
      " * Debug mode: off\n"
     ]
    },
    {
     "name": "stderr",
     "output_type": "stream",
     "text": [
      " * Running on http://127.0.0.1:8050/ (Press CTRL+C to quit)\n",
      "127.0.0.1 - - [19/Apr/2022 10:50:44] \"GET / HTTP/1.1\" 200 -\n",
      "127.0.0.1 - - [19/Apr/2022 10:50:44] \"GET /_dash-component-suites/dash/dash-renderer/build/dash_renderer.v2_3_0m1648480725.min.js HTTP/1.1\" 200 -\n",
      "127.0.0.1 - - [19/Apr/2022 10:50:44] \"GET /_dash-component-suites/dash/deps/react-dom@16.v2_3_0m1648480726.14.0.min.js HTTP/1.1\" 200 -\n",
      "127.0.0.1 - - [19/Apr/2022 10:50:44] \"GET /_dash-component-suites/dash/deps/prop-types@15.v2_3_0m1648480726.7.2.min.js HTTP/1.1\" 200 -\n",
      "127.0.0.1 - - [19/Apr/2022 10:50:44] \"GET /_dash-component-suites/dash/html/dash_html_components.v2_0_2m1648480726.min.js HTTP/1.1\" 200 -\n",
      "127.0.0.1 - - [19/Apr/2022 10:50:44] \"GET /_dash-component-suites/dash/dcc/dash_core_components-shared.v2_3_0m1648480726.js HTTP/1.1\" 200 -\n",
      "127.0.0.1 - - [19/Apr/2022 10:50:44] \"GET /_dash-component-suites/dash_bootstrap_components/_components/dash_bootstrap_components.v1_0_3m1648469654.min.js HTTP/1.1\" 200 -\n",
      "127.0.0.1 - - [19/Apr/2022 10:50:44] \"GET /_dash-component-suites/dash/dcc/dash_core_components.v2_3_0m1648480726.js HTTP/1.1\" 200 -\n",
      "127.0.0.1 - - [19/Apr/2022 10:50:44] \"GET /_dash-component-suites/dash/dash_table/bundle.v5_1_1m1648480725.js HTTP/1.1\" 200 -\n",
      "127.0.0.1 - - [19/Apr/2022 10:50:44] \"GET /_dash-component-suites/dash/deps/polyfill@7.v2_3_0m1648480726.12.1.min.js HTTP/1.1\" 200 -\n",
      "127.0.0.1 - - [19/Apr/2022 10:50:44] \"GET /_dash-component-suites/dash/deps/react@16.v2_3_0m1648480726.14.0.min.js HTTP/1.1\" 200 -\n",
      "127.0.0.1 - - [19/Apr/2022 10:50:45] \"GET /_dash-dependencies HTTP/1.1\" 200 -\n",
      "127.0.0.1 - - [19/Apr/2022 10:50:49] \"GET /_dash-layout HTTP/1.1\" 200 -\n",
      "127.0.0.1 - - [19/Apr/2022 10:50:51] \"GET /_dash-component-suites/dash/dcc/async-dropdown.js HTTP/1.1\" 304 -\n",
      "127.0.0.1 - - [19/Apr/2022 10:50:51] \"GET /_dash-component-suites/dash/dash_table/async-highlight.js HTTP/1.1\" 304 -\n",
      "127.0.0.1 - - [19/Apr/2022 10:50:51] \"GET /_dash-component-suites/dash/dash_table/async-table.js HTTP/1.1\" 304 -\n",
      "127.0.0.1 - - [19/Apr/2022 10:50:51] \"GET /_dash-component-suites/dash/dcc/async-graph.js HTTP/1.1\" 304 -\n",
      "127.0.0.1 - - [19/Apr/2022 10:50:51] \"GET /_dash-component-suites/dash/dcc/async-plotlyjs.js HTTP/1.1\" 304 -\n"
     ]
    },
    {
     "name": "stdout",
     "output_type": "stream",
     "text": [
      "Exception on /_dash-update-component [POST]\n",
      "Traceback (most recent call last):\n",
      "  File \"C:\\Users\\gaert\\anaconda3\\lib\\site-packages\\flask\\app.py\", line 2447, in wsgi_app\n",
      "    response = self.full_dispatch_request()\n",
      "  File \"C:\\Users\\gaert\\anaconda3\\lib\\site-packages\\flask\\app.py\", line 1952, in full_dispatch_request\n",
      "    rv = self.handle_user_exception(e)\n",
      "  File \"C:\\Users\\gaert\\anaconda3\\lib\\site-packages\\flask\\app.py\", line 1821, in handle_user_exception\n",
      "    reraise(exc_type, exc_value, tb)\n",
      "  File \"C:\\Users\\gaert\\anaconda3\\lib\\site-packages\\flask\\_compat.py\", line 39, in reraise\n",
      "    raise value\n",
      "  File \"C:\\Users\\gaert\\anaconda3\\lib\\site-packages\\flask\\app.py\", line 1950, in full_dispatch_request\n",
      "    rv = self.dispatch_request()\n",
      "  File \"C:\\Users\\gaert\\anaconda3\\lib\\site-packages\\flask\\app.py\", line 1936, in dispatch_request\n",
      "    return self.view_functions[rule.endpoint](**req.view_args)\n",
      "  File \"C:\\Users\\gaert\\anaconda3\\lib\\site-packages\\dash\\dash.py\", line 1345, in dispatch\n",
      "    response.set_data(func(*args, outputs_list=outputs_list))\n",
      "  File \"C:\\Users\\gaert\\anaconda3\\lib\\site-packages\\dash\\_callback.py\", line 151, in add_context\n",
      "    output_value = func(*func_args, **func_kwargs)  # %% callback invoked %%\n",
      "  File \"C:\\Users\\gaert\\AppData\\Local\\Temp/ipykernel_26360/1442735652.py\", line 30, in update_data\n",
      "    dff_sub= data_filtered.groupby('result').size().reset_index(name='count')\n",
      "  File \"C:\\Users\\gaert\\anaconda3\\lib\\site-packages\\pandas\\core\\frame.py\", line 7631, in groupby\n",
      "    return DataFrameGroupBy(\n",
      "  File \"C:\\Users\\gaert\\anaconda3\\lib\\site-packages\\pandas\\core\\groupby\\groupby.py\", line 889, in __init__\n",
      "    grouper, exclusions, obj = get_grouper(\n",
      "  File \"C:\\Users\\gaert\\anaconda3\\lib\\site-packages\\pandas\\core\\groupby\\grouper.py\", line 862, in get_grouper\n",
      "    raise KeyError(gpr)\n",
      "KeyError: 'result'\n",
      "Exception on /_dash-update-component [POST]\n",
      "Traceback (most recent call last):\n",
      "  File \"C:\\Users\\gaert\\anaconda3\\lib\\site-packages\\flask\\app.py\", line 2447, in wsgi_app\n",
      "    response = self.full_dispatch_request()\n",
      "  File \"C:\\Users\\gaert\\anaconda3\\lib\\site-packages\\flask\\app.py\", line 1952, in full_dispatch_request\n",
      "    rv = self.handle_user_exception(e)\n",
      "  File \"C:\\Users\\gaert\\anaconda3\\lib\\site-packages\\flask\\app.py\", line 1821, in handle_user_exception\n",
      "    reraise(exc_type, exc_value, tb)\n",
      "  File \"C:\\Users\\gaert\\anaconda3\\lib\\site-packages\\flask\\_compat.py\", line 39, in reraise\n",
      "    raise value\n",
      "  File \"C:\\Users\\gaert\\anaconda3\\lib\\site-packages\\flask\\app.py\", line 1950, in full_dispatch_request\n",
      "    rv = self.dispatch_request()\n",
      "  File \"C:\\Users\\gaert\\anaconda3\\lib\\site-packages\\flask\\app.py\", line 1936, in dispatch_request\n",
      "    return self.view_functions[rule.endpoint](**req.view_args)\n",
      "  File \"C:\\Users\\gaert\\anaconda3\\lib\\site-packages\\dash\\dash.py\", line 1345, in dispatch\n",
      "    response.set_data(func(*args, outputs_list=outputs_list))\n",
      "  File \"C:\\Users\\gaert\\anaconda3\\lib\\site-packages\\dash\\_callback.py\", line 151, in add_context\n",
      "    output_value = func(*func_args, **func_kwargs)  # %% callback invoked %%\n",
      "  File \"C:\\Users\\gaert\\AppData\\Local\\Temp/ipykernel_26360/1442735652.py\", line 30, in update_data\n",
      "    dff_sub= data_filtered.groupby('result').size().reset_index(name='count')\n",
      "  File \"C:\\Users\\gaert\\anaconda3\\lib\\site-packages\\pandas\\core\\frame.py\", line 7631, in groupby\n",
      "    return DataFrameGroupBy(\n",
      "  File \"C:\\Users\\gaert\\anaconda3\\lib\\site-packages\\pandas\\core\\groupby\\groupby.py\", line 889, in __init__\n",
      "    grouper, exclusions, obj = get_grouper(\n",
      "  File \"C:\\Users\\gaert\\anaconda3\\lib\\site-packages\\pandas\\core\\groupby\\grouper.py\", line 862, in get_grouper\n",
      "    raise KeyError(gpr)\n",
      "KeyError: 'result'\n"
     ]
    },
    {
     "name": "stderr",
     "output_type": "stream",
     "text": [
      "127.0.0.1 - - [19/Apr/2022 10:50:51] \"POST /_dash-update-component HTTP/1.1\" 500 -\n",
      "127.0.0.1 - - [19/Apr/2022 10:51:10] \"POST /_dash-update-component HTTP/1.1\" 200 -\n",
      "127.0.0.1 - - [19/Apr/2022 10:51:44] \"POST /_dash-update-component HTTP/1.1\" 200 -\n",
      "127.0.0.1 - - [19/Apr/2022 10:51:45] \"POST /_dash-update-component HTTP/1.1\" 200 -\n",
      "127.0.0.1 - - [19/Apr/2022 10:51:53] \"POST /_dash-update-component HTTP/1.1\" 200 -\n",
      "127.0.0.1 - - [19/Apr/2022 10:52:15] \"POST /_dash-update-component HTTP/1.1\" 200 -\n"
     ]
    }
   ],
   "source": [
    "if __name__ == '__main__':\n",
    "    app.run_server(debug=False)\n",
    "    "
   ]
  }
 ],
 "metadata": {
  "kernelspec": {
   "display_name": "Python 3.9.7 ('base')",
   "language": "python",
   "name": "python3"
  },
  "language_info": {
   "codemirror_mode": {
    "name": "ipython",
    "version": 3
   },
   "file_extension": ".py",
   "mimetype": "text/x-python",
   "name": "python",
   "nbconvert_exporter": "python",
   "pygments_lexer": "ipython3",
   "version": "3.9.7"
  },
  "vscode": {
   "interpreter": {
    "hash": "75de087ae489fc0d45cc8f386afa4894f06b40b82b96747e9c2a63590cd4a338"
   }
  }
 },
 "nbformat": 4,
 "nbformat_minor": 5
}
